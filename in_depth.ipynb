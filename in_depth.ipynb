{
 "cells": [
  {
   "cell_type": "markdown",
   "metadata": {},
   "source": [
    "## C# vs Python programmers in 2018"
   ]
  },
  {
   "cell_type": "markdown",
   "metadata": {},
   "source": [
    "### Overall distribution"
   ]
  },
  {
   "cell_type": "code",
   "execution_count": 1,
   "metadata": {},
   "outputs": [],
   "source": [
    "# Load the usual suspects\n",
    "import pandas as pd\n",
    "import numpy as np\n",
    "import matplotlib.pyplot as plt\n",
    "import locale"
   ]
  },
  {
   "cell_type": "code",
   "execution_count": 2,
   "metadata": {},
   "outputs": [],
   "source": [
    "# Load the data from 2018\n",
    "data2018 = pd.read_csv('data/2018/survey_results_public.csv', low_memory=False)"
   ]
  },
  {
   "cell_type": "code",
   "execution_count": 3,
   "metadata": {},
   "outputs": [],
   "source": [
    "# Separate our two languages in separate columns\n",
    "for language in ['C#', 'Python']:\n",
    "    data2018[language] = data2018['LanguageWorkedWith'].map(lambda c: language in str(c).split(';'))"
   ]
  },
  {
   "cell_type": "code",
   "execution_count": 4,
   "metadata": {},
   "outputs": [],
   "source": [
    "def csharp_or_python(col):\n",
    "    ''' Helper functions for creating unique column'''\n",
    "    if col['C#'] and col['Python']:\n",
    "        return 'Both'\n",
    "    elif col['C#']:\n",
    "        return 'C#'\n",
    "    elif col['Python']:\n",
    "        return 'Python'\n",
    "    return 'Neither'"
   ]
  },
  {
   "cell_type": "code",
   "execution_count": 5,
   "metadata": {},
   "outputs": [
    {
     "data": {
      "text/html": [
       "<div>\n",
       "<style scoped>\n",
       "    .dataframe tbody tr th:only-of-type {\n",
       "        vertical-align: middle;\n",
       "    }\n",
       "\n",
       "    .dataframe tbody tr th {\n",
       "        vertical-align: top;\n",
       "    }\n",
       "\n",
       "    .dataframe thead th {\n",
       "        text-align: right;\n",
       "    }\n",
       "</style>\n",
       "<table border=\"1\" class=\"dataframe\">\n",
       "  <thead>\n",
       "    <tr style=\"text-align: right;\">\n",
       "      <th></th>\n",
       "      <th>C#</th>\n",
       "      <th>Python</th>\n",
       "      <th>csharp_or_python</th>\n",
       "    </tr>\n",
       "  </thead>\n",
       "  <tbody>\n",
       "    <tr>\n",
       "      <th>0</th>\n",
       "      <td>False</td>\n",
       "      <td>True</td>\n",
       "      <td>Python</td>\n",
       "    </tr>\n",
       "    <tr>\n",
       "      <th>1</th>\n",
       "      <td>False</td>\n",
       "      <td>True</td>\n",
       "      <td>Python</td>\n",
       "    </tr>\n",
       "    <tr>\n",
       "      <th>2</th>\n",
       "      <td>False</td>\n",
       "      <td>False</td>\n",
       "      <td>Neither</td>\n",
       "    </tr>\n",
       "    <tr>\n",
       "      <th>3</th>\n",
       "      <td>True</td>\n",
       "      <td>False</td>\n",
       "      <td>C#</td>\n",
       "    </tr>\n",
       "    <tr>\n",
       "      <th>4</th>\n",
       "      <td>False</td>\n",
       "      <td>False</td>\n",
       "      <td>Neither</td>\n",
       "    </tr>\n",
       "    <tr>\n",
       "      <th>5</th>\n",
       "      <td>False</td>\n",
       "      <td>True</td>\n",
       "      <td>Python</td>\n",
       "    </tr>\n",
       "  </tbody>\n",
       "</table>\n",
       "</div>"
      ],
      "text/plain": [
       "      C#  Python csharp_or_python\n",
       "0  False    True           Python\n",
       "1  False    True           Python\n",
       "2  False   False          Neither\n",
       "3   True   False               C#\n",
       "4  False   False          Neither\n",
       "5  False    True           Python"
      ]
     },
     "execution_count": 5,
     "metadata": {},
     "output_type": "execute_result"
    }
   ],
   "source": [
    "combined_column = 'csharp_or_python'\n",
    "data2018[combined_column] = data2018.apply(lambda col: csharp_or_python(col), axis=1)\n",
    "data2018.loc[:5, ['C#', 'Python', combined_column]]"
   ]
  },
  {
   "cell_type": "code",
   "execution_count": 6,
   "metadata": {},
   "outputs": [
    {
     "data": {
      "text/plain": [
       "csharp_or_python\n",
       "Both        8722\n",
       "C#         18232\n",
       "Python     21637\n",
       "Neither    50264\n",
       "dtype: int64"
      ]
     },
     "execution_count": 6,
     "metadata": {},
     "output_type": "execute_result"
    }
   ],
   "source": [
    "group_count = data2018.groupby(combined_column).size()\n",
    "group_count.sort_values()"
   ]
  },
  {
   "cell_type": "code",
   "execution_count": 7,
   "metadata": {},
   "outputs": [
    {
     "data": {
      "image/png": "[encoded data removed]",
      "text/plain": [
       "<Figure size 432x432 with 1 Axes>"
      ]
     },
     "metadata": {},
     "output_type": "display_data"
    }
   ],
   "source": [
    "# Create a pie chart of segments in 2018\n",
    "plt.style.use('ggplot')\n",
    "\n",
    "fig, ax = plt.subplots(1, figsize=(6, 6))\n",
    "wedges, texts, autotexts = ax.pie(group_count.sort_values(), startangle=-20, explode=(0.005,0.005,0.005,0.01),\n",
    "       textprops=dict(color='white'), autopct='%1.1f%%')\n",
    "\n",
    "plt.setp(autotexts, size=11, weight='normal')\n",
    "ax.axis('equal')  \n",
    "plt.legend(group_count.sort_values().index, loc='lower right',\n",
    "          bbox_to_anchor=(1.1, 0, 0, 0))\n",
    "ax.set_title('C# vs Python')\n",
    "plt.show()"
   ]
  },
  {
   "cell_type": "markdown",
   "metadata": {},
   "source": [
    "### Analyzing behaviorial differences between the groups"
   ]
  },
  {
   "cell_type": "code",
   "execution_count": 8,
   "metadata": {},
   "outputs": [
    {
     "data": {
      "text/plain": [
       "Index(['I don't typically exercise', '1 - 2 times per week',\n",
       "       '3 - 4 times per week', 'Daily or almost every day'],\n",
       "      dtype='object')"
      ]
     },
     "execution_count": 8,
     "metadata": {},
     "output_type": "execute_result"
    }
   ],
   "source": [
    "# We start with the analysis of amounts of exercise\n",
    "data2018.loc[:, 'Exercise'].value_counts(normalize=True).index"
   ]
  },
  {
   "cell_type": "code",
   "execution_count": 9,
   "metadata": {},
   "outputs": [
    {
     "data": {
      "image/png": "[encoded data removed]",
      "text/plain": [
       "<Figure size 720x432 with 1 Axes>"
      ]
     },
     "metadata": {},
     "output_type": "display_data"
    }
   ],
   "source": [
    "# Plot the exercise behavior of the different groups\n",
    "fig, ax = plt.subplots(1, figsize=(10, 6))\n",
    "positions = [1,3,5,7] \n",
    "width = .2\n",
    "padding = .03\n",
    "ax.bar(positions, data2018['Exercise'].value_counts(normalize=True), width=width)\n",
    "ax.bar([p+width+padding for p in positions], \n",
    "       data2018.loc[data2018[combined_column] == 'C#', 'Exercise'].value_counts(normalize=True), width=width)\n",
    "ax.bar([p+2*width+2*padding for p in positions],\n",
    "       data2018.loc[data2018[combined_column] == 'Python', 'Exercise'].value_counts(normalize=True), \n",
    "       width=width, label='foo')\n",
    "ax.bar([p+3*width+3*padding for p in positions],\n",
    "       data2018.loc[data2018[combined_column] == 'Both', 'Exercise'].value_counts(normalize=True), \n",
    "       width=width)\n",
    "ax.set_ylabel('proportion')\n",
    "ax.set_xticks([i+0.3 for i in [1,3,5,7]])\n",
    "ax.set_xticklabels(['I don\\'t typically\\nexercise', '1-2 times\\nper week','3-4 times\\nper week','Daily or almost\\nevery day'],\n",
    "                  rotation=45)\n",
    "ax.yaxis.set_major_formatter(plt.FuncFormatter(lambda x, _ : locale.format_string(\"%d%%\", x*100)))\n",
    "plt.title('Exercise Frequency', fontsize=12)\n",
    "plt.legend(['All', 'C#', 'Python', 'Both'])\n",
    "plt.show()"
   ]
  },
  {
   "cell_type": "markdown",
   "metadata": {},
   "source": [
    "### Bootstrap sampling"
   ]
  },
  {
   "cell_type": "markdown",
   "metadata": {},
   "source": [
    "We use bootstrap sampling to analyze the differences in the groups."
   ]
  },
  {
   "cell_type": "code",
   "execution_count": 10,
   "metadata": {},
   "outputs": [
    {
     "data": {
      "text/plain": [
       "I don't typically exercise    0.374369\n",
       "1 - 2 times per week          0.290287\n",
       "3 - 4 times per week          0.198563\n",
       "Daily or almost every day     0.136781\n",
       "Name: Exercise, dtype: float64"
      ]
     },
     "execution_count": 10,
     "metadata": {},
     "output_type": "execute_result"
    }
   ],
   "source": [
    "# Create the base distribution of the groups\n",
    "distribution = data2018['Exercise']\n",
    "distribution.value_counts(normalize=True)"
   ]
  },
  {
   "cell_type": "code",
   "execution_count": 11,
   "metadata": {},
   "outputs": [],
   "source": [
    "# Calculate confidence intervall for python programmers by sampling from the base distribution\n",
    "generated_distributions = [np.random.choice(distribution, sum(data2018[combined_column] == 'Python')) for r in range(1000)]"
   ]
  },
  {
   "cell_type": "code",
   "execution_count": 12,
   "metadata": {},
   "outputs": [],
   "source": [
    "# Converting the sampled distributions into percentages\n",
    "distribution_percentages = [pd.Series(generated_distributions[d]).value_counts(normalize=True).values for d in range(1000)]"
   ]
  },
  {
   "cell_type": "code",
   "execution_count": 13,
   "metadata": {},
   "outputs": [
    {
     "data": {
      "text/plain": [
       "array([[0.38177981, 0.29732612, 0.20455452, 0.14197671],\n",
       "       [0.36716411, 0.28355247, 0.19312207, 0.13134903]])"
      ]
     },
     "execution_count": 13,
     "metadata": {},
     "output_type": "execute_result"
    }
   ],
   "source": [
    "# Plot the conficence intervals\n",
    "percentiles = np.percentile(distribution_percentages, [97.5, 2.5], axis=0)\n",
    "percentiles"
   ]
  },
  {
   "cell_type": "code",
   "execution_count": 14,
   "metadata": {},
   "outputs": [
    {
     "data": {
      "image/png": "[encoded data removed]",
      "text/plain": [
       "<Figure size 720x432 with 1 Axes>"
      ]
     },
     "metadata": {},
     "output_type": "display_data"
    }
   ],
   "source": [
    "# Create a combined plot with the confidence intervalls\n",
    "# Note: This plot has not been optimized for performance and can take a while!\n",
    "\n",
    "fig, ax = plt.subplots(1, figsize=(10, 6))\n",
    "positions = [1,3,5,7] \n",
    "width = .2\n",
    "padding = .03\n",
    "ax.bar(positions, data2018['Exercise'].value_counts(normalize=True), width=width)\n",
    "ax.bar([p+width+padding for p in positions], \n",
    "       data2018.loc[data2018[combined_column] == 'C#', 'Exercise'].value_counts(normalize=True), width=width)\n",
    "ax.bar([p+2*width+2*padding for p in positions],\n",
    "       data2018.loc[data2018[combined_column] == 'Python', 'Exercise'].value_counts(normalize=True), \n",
    "       width=width)\n",
    "\n",
    "ax.set_ylabel('proportion')\n",
    "ax.set_xticks([p+width for p in positions],)\n",
    "ax.set_xticklabels(['I don\\'t typically\\nexercise', '1-2 times\\nper week','3-4 times\\nper week','Daily or almost\\nevery day'],\n",
    "                  rotation=45)\n",
    "ax.yaxis.set_major_formatter(plt.FuncFormatter(lambda x, _ : locale.format_string(\"%d%%\", x*100)))\n",
    "plt.title('Exercise Frequency', fontsize=12)\n",
    "plt.legend(['All', 'C#', 'Python'])\n",
    "\n",
    "thickness = .04\n",
    "number_of_samplings = 10000\n",
    "\n",
    "# Do bootstrap sampling and show confidence intervalls\n",
    "for lang, i in zip(['C#', 'Python'], [1,2]):\n",
    "    generated_distributions = [np.random.choice(distribution, sum(data2018[combined_column] == lang)) \n",
    "                               for r in range(number_of_samplings)]\n",
    "    distribution_percentages = [pd.Series(generated_distributions[r]).value_counts(normalize=True).values \n",
    "                                for r in range(number_of_samplings)]\n",
    "    percentiles = np.percentile(distribution_percentages, [97.5, 2.5], axis=0)\n",
    "\n",
    "    for j in range(4):\n",
    "        offset = i*width+i*.025\n",
    "        plt.hlines(percentiles[0, j], positions[j]-thickness+offset, positions[j]+thickness+offset, \n",
    "                   color='black', linewidth=1)\n",
    "        plt.hlines(percentiles[1, j], positions[j]-thickness+offset, positions[j]+thickness+offset, \n",
    "                   color='black', linewidth=1)\n",
    "plt.show()"
   ]
  },
  {
   "cell_type": "markdown",
   "metadata": {},
   "source": [
    "### Chi-Squared Goodness-Of-Fit Test"
   ]
  },
  {
   "cell_type": "markdown",
   "metadata": {},
   "source": [
    "First we compare the distributions with the groups with the base line distribution"
   ]
  },
  {
   "cell_type": "code",
   "execution_count": 16,
   "metadata": {},
   "outputs": [
    {
     "data": {
      "text/html": [
       "<div>\n",
       "<style scoped>\n",
       "    .dataframe tbody tr th:only-of-type {\n",
       "        vertical-align: middle;\n",
       "    }\n",
       "\n",
       "    .dataframe tbody tr th {\n",
       "        vertical-align: top;\n",
       "    }\n",
       "\n",
       "    .dataframe thead th {\n",
       "        text-align: right;\n",
       "    }\n",
       "</style>\n",
       "<table border=\"1\" class=\"dataframe\">\n",
       "  <thead>\n",
       "    <tr style=\"text-align: right;\">\n",
       "      <th>Exercise</th>\n",
       "      <th>1 - 2 times per week</th>\n",
       "      <th>3 - 4 times per week</th>\n",
       "      <th>Daily or almost every day</th>\n",
       "      <th>I don't typically exercise</th>\n",
       "    </tr>\n",
       "    <tr>\n",
       "      <th>csharp_or_python</th>\n",
       "      <th></th>\n",
       "      <th></th>\n",
       "      <th></th>\n",
       "      <th></th>\n",
       "    </tr>\n",
       "  </thead>\n",
       "  <tbody>\n",
       "    <tr>\n",
       "      <th>Both</th>\n",
       "      <td>0.032451</td>\n",
       "      <td>0.022133</td>\n",
       "      <td>0.014811</td>\n",
       "      <td>0.039219</td>\n",
       "    </tr>\n",
       "    <tr>\n",
       "      <th>C#</th>\n",
       "      <td>0.065527</td>\n",
       "      <td>0.044211</td>\n",
       "      <td>0.027500</td>\n",
       "      <td>0.087397</td>\n",
       "    </tr>\n",
       "    <tr>\n",
       "      <th>Neither</th>\n",
       "      <td>0.113205</td>\n",
       "      <td>0.074749</td>\n",
       "      <td>0.054793</td>\n",
       "      <td>0.153367</td>\n",
       "    </tr>\n",
       "    <tr>\n",
       "      <th>Python</th>\n",
       "      <td>0.079104</td>\n",
       "      <td>0.057469</td>\n",
       "      <td>0.039677</td>\n",
       "      <td>0.094386</td>\n",
       "    </tr>\n",
       "  </tbody>\n",
       "</table>\n",
       "</div>"
      ],
      "text/plain": [
       "Exercise          1 - 2 times per week  3 - 4 times per week  \\\n",
       "csharp_or_python                                               \n",
       "Both                          0.032451              0.022133   \n",
       "C#                            0.065527              0.044211   \n",
       "Neither                       0.113205              0.074749   \n",
       "Python                        0.079104              0.057469   \n",
       "\n",
       "Exercise          Daily or almost every day  I don't typically exercise  \n",
       "csharp_or_python                                                         \n",
       "Both                               0.014811                    0.039219  \n",
       "C#                                 0.027500                    0.087397  \n",
       "Neither                            0.054793                    0.153367  \n",
       "Python                             0.039677                    0.094386  "
      ]
     },
     "execution_count": 16,
     "metadata": {},
     "output_type": "execute_result"
    }
   ],
   "source": [
    "# Plot a frequency table of the distribution\n",
    "pd.crosstab(data2018[combined_column], data2018.Exercise, normalize=True)"
   ]
  },
  {
   "cell_type": "markdown",
   "metadata": {},
   "source": [
    "Now we calculate the chi square with the corresponding formula:"
   ]
  },
  {
   "cell_type": "markdown",
   "metadata": {},
   "source": [
    "$$ \\chi^2 = \\sum_{1}^{z}\\frac{(o_z-e_z)^2}{e^z} $$"
   ]
  },
  {
   "cell_type": "code",
   "execution_count": 17,
   "metadata": {},
   "outputs": [
    {
     "data": {
      "text/plain": [
       "1 - 2 times per week          0.290287\n",
       "3 - 4 times per week          0.198563\n",
       "Daily or almost every day     0.136781\n",
       "I don't typically exercise    0.374369\n",
       "Name: Exercise, dtype: float64"
      ]
     },
     "execution_count": 17,
     "metadata": {},
     "output_type": "execute_result"
    }
   ],
   "source": [
    "# Calculating base line ratio\n",
    "population_ratio = data2018.Exercise.value_counts(dropna=True, sort=True, normalize=True)\n",
    "population_ratio.sort_index()"
   ]
  },
  {
   "cell_type": "code",
   "execution_count": 18,
   "metadata": {},
   "outputs": [
    {
     "data": {
      "text/plain": [
       "1 - 2 times per week           8812.816719\n",
       "3 - 4 times per week           6028.182199\n",
       "Daily or almost every day      4152.532548\n",
       "I don't typically exercise    11365.468533\n",
       "Name: Exercise, dtype: float64"
      ]
     },
     "execution_count": 18,
     "metadata": {},
     "output_type": "execute_result"
    }
   ],
   "source": [
    "# Ratio within the python programmers\n",
    "python_programmers = data2018[data2018['Python'] == True]\n",
    "expected_count = population_ratio * len(python_programmers)\n",
    "expected_count.sort_index()"
   ]
  },
  {
   "cell_type": "code",
   "execution_count": 19,
   "metadata": {},
   "outputs": [
    {
     "data": {
      "text/plain": [
       "1 - 2 times per week          8044\n",
       "3 - 4 times per week          5740\n",
       "Daily or almost every day     3929\n",
       "I don't typically exercise    9634\n",
       "Name: Exercise, dtype: int64"
      ]
     },
     "execution_count": 19,
     "metadata": {},
     "output_type": "execute_result"
    }
   ],
   "source": [
    "# Count the actual numbers\n",
    "actual_count = python_programmers.Exercise.value_counts(dropna=True, sort=True)\n",
    "actual_count.sort_index()"
   ]
  },
  {
   "cell_type": "code",
   "execution_count": 20,
   "metadata": {},
   "outputs": [
    {
     "data": {
      "text/plain": [
       "356.6600362751675"
      ]
     },
     "execution_count": 20,
     "metadata": {},
     "output_type": "execute_result"
    }
   ],
   "source": [
    "# Calculating the chi square statistic\n",
    "chi_squared_stat = (((actual_count.sort_index()-expected_count.sort_index()) ** 2)/expected_count.sort_index()).sum()\n",
    "chi_squared_stat"
   ]
  },
  {
   "cell_type": "code",
   "execution_count": 21,
   "metadata": {},
   "outputs": [
    {
     "data": {
      "text/plain": [
       "7.814727903251179"
      ]
     },
     "execution_count": 21,
     "metadata": {},
     "output_type": "execute_result"
    }
   ],
   "source": [
    "import scipy.stats as stats\n",
    "\n",
    "# Calculate the critical value for .95 confidence\n",
    "# (df = number of groups - 1)\n",
    "critical_value = stats.chi2.ppf(q = 0.95, df = 3)\n",
    "critical_value"
   ]
  },
  {
   "cell_type": "code",
   "execution_count": 22,
   "metadata": {},
   "outputs": [
    {
     "data": {
      "text/plain": [
       "0.0"
      ]
     },
     "execution_count": 22,
     "metadata": {},
     "output_type": "execute_result"
    }
   ],
   "source": [
    "# And now we calcualte the probability\n",
    "p_value = 1 - stats.chi2.cdf(x=chi_squared_stat,  df=3)\n",
    "p_value"
   ]
  },
  {
   "cell_type": "markdown",
   "metadata": {},
   "source": [
    "We know check our results with the stats library"
   ]
  },
  {
   "cell_type": "code",
   "execution_count": 23,
   "metadata": {},
   "outputs": [
    {
     "data": {
      "text/plain": [
       "Power_divergenceResult(statistic=356.66003627516744, pvalue=5.389358103510067e-77)"
      ]
     },
     "execution_count": 23,
     "metadata": {},
     "output_type": "execute_result"
    }
   ],
   "source": [
    "# Perform chi2 test with stats\n",
    "stats.chisquare(f_obs= actual_count,   \n",
    "                f_exp= expected_count)   "
   ]
  },
  {
   "cell_type": "markdown",
   "metadata": {},
   "source": [
    "Since our chi-squared statistic exceeds the critical value, we'd reject the null hypothesis that the two distributions are the same."
   ]
  },
  {
   "cell_type": "markdown",
   "metadata": {},
   "source": [
    "### Chi-Squared Test of Independence"
   ]
  },
  {
   "cell_type": "code",
   "execution_count": 86,
   "metadata": {},
   "outputs": [
    {
     "data": {
      "text/html": [
       "<div>\n",
       "<style scoped>\n",
       "    .dataframe tbody tr th:only-of-type {\n",
       "        vertical-align: middle;\n",
       "    }\n",
       "\n",
       "    .dataframe tbody tr th {\n",
       "        vertical-align: top;\n",
       "    }\n",
       "\n",
       "    .dataframe thead th {\n",
       "        text-align: right;\n",
       "    }\n",
       "</style>\n",
       "<table border=\"1\" class=\"dataframe\">\n",
       "  <thead>\n",
       "    <tr style=\"text-align: right;\">\n",
       "      <th>Exercise</th>\n",
       "      <th>1 - 2 times per week</th>\n",
       "      <th>3 - 4 times per week</th>\n",
       "      <th>Daily or almost every day</th>\n",
       "      <th>I don't typically exercise</th>\n",
       "      <th>All</th>\n",
       "    </tr>\n",
       "    <tr>\n",
       "      <th>C# vs Python</th>\n",
       "      <th></th>\n",
       "      <th></th>\n",
       "      <th></th>\n",
       "      <th></th>\n",
       "      <th></th>\n",
       "    </tr>\n",
       "  </thead>\n",
       "  <tbody>\n",
       "    <tr>\n",
       "      <th>Both</th>\n",
       "      <td>2340</td>\n",
       "      <td>1596</td>\n",
       "      <td>1068</td>\n",
       "      <td>2828</td>\n",
       "      <td>7832</td>\n",
       "    </tr>\n",
       "    <tr>\n",
       "      <th>C#</th>\n",
       "      <td>4725</td>\n",
       "      <td>3188</td>\n",
       "      <td>1983</td>\n",
       "      <td>6302</td>\n",
       "      <td>16198</td>\n",
       "    </tr>\n",
       "    <tr>\n",
       "      <th>None</th>\n",
       "      <td>8163</td>\n",
       "      <td>5390</td>\n",
       "      <td>3951</td>\n",
       "      <td>11059</td>\n",
       "      <td>28563</td>\n",
       "    </tr>\n",
       "    <tr>\n",
       "      <th>Python</th>\n",
       "      <td>5704</td>\n",
       "      <td>4144</td>\n",
       "      <td>2861</td>\n",
       "      <td>6806</td>\n",
       "      <td>19515</td>\n",
       "    </tr>\n",
       "    <tr>\n",
       "      <th>All</th>\n",
       "      <td>20932</td>\n",
       "      <td>14318</td>\n",
       "      <td>9863</td>\n",
       "      <td>26995</td>\n",
       "      <td>72108</td>\n",
       "    </tr>\n",
       "  </tbody>\n",
       "</table>\n",
       "</div>"
      ],
      "text/plain": [
       "Exercise      1 - 2 times per week  3 - 4 times per week  \\\n",
       "C# vs Python                                               \n",
       "Both                          2340                  1596   \n",
       "C#                            4725                  3188   \n",
       "None                          8163                  5390   \n",
       "Python                        5704                  4144   \n",
       "All                          20932                 14318   \n",
       "\n",
       "Exercise      Daily or almost every day  I don't typically exercise    All  \n",
       "C# vs Python                                                                \n",
       "Both                               1068                        2828   7832  \n",
       "C#                                 1983                        6302  16198  \n",
       "None                               3951                       11059  28563  \n",
       "Python                             2861                        6806  19515  \n",
       "All                                9863                       26995  72108  "
      ]
     },
     "execution_count": 86,
     "metadata": {},
     "output_type": "execute_result"
    }
   ],
   "source": [
    "# Plot a contingency table\n",
    "exercise_data_with_margin = pd.crosstab(data2018['C# vs Python'], data2018.Exercise, margins=True)\n",
    "exercise_data_with_margin"
   ]
  },
  {
   "cell_type": "code",
   "execution_count": 89,
   "metadata": {},
   "outputs": [
    {
     "data": {
      "text/html": [
       "<div>\n",
       "<style scoped>\n",
       "    .dataframe tbody tr th:only-of-type {\n",
       "        vertical-align: middle;\n",
       "    }\n",
       "\n",
       "    .dataframe tbody tr th {\n",
       "        vertical-align: top;\n",
       "    }\n",
       "\n",
       "    .dataframe thead th {\n",
       "        text-align: right;\n",
       "    }\n",
       "</style>\n",
       "<table border=\"1\" class=\"dataframe\">\n",
       "  <thead>\n",
       "    <tr style=\"text-align: right;\">\n",
       "      <th>Exercise</th>\n",
       "      <th>1 - 2 times per week</th>\n",
       "      <th>3 - 4 times per week</th>\n",
       "      <th>Daily or almost every day</th>\n",
       "      <th>I don't typically exercise</th>\n",
       "    </tr>\n",
       "    <tr>\n",
       "      <th>C# vs Python</th>\n",
       "      <th></th>\n",
       "      <th></th>\n",
       "      <th></th>\n",
       "      <th></th>\n",
       "    </tr>\n",
       "  </thead>\n",
       "  <tbody>\n",
       "    <tr>\n",
       "      <th>Both</th>\n",
       "      <td>2340</td>\n",
       "      <td>1596</td>\n",
       "      <td>1068</td>\n",
       "      <td>2828</td>\n",
       "    </tr>\n",
       "    <tr>\n",
       "      <th>C#</th>\n",
       "      <td>4725</td>\n",
       "      <td>3188</td>\n",
       "      <td>1983</td>\n",
       "      <td>6302</td>\n",
       "    </tr>\n",
       "    <tr>\n",
       "      <th>None</th>\n",
       "      <td>8163</td>\n",
       "      <td>5390</td>\n",
       "      <td>3951</td>\n",
       "      <td>11059</td>\n",
       "    </tr>\n",
       "    <tr>\n",
       "      <th>Python</th>\n",
       "      <td>5704</td>\n",
       "      <td>4144</td>\n",
       "      <td>2861</td>\n",
       "      <td>6806</td>\n",
       "    </tr>\n",
       "  </tbody>\n",
       "</table>\n",
       "</div>"
      ],
      "text/plain": [
       "Exercise      1 - 2 times per week  3 - 4 times per week  \\\n",
       "C# vs Python                                               \n",
       "Both                          2340                  1596   \n",
       "C#                            4725                  3188   \n",
       "None                          8163                  5390   \n",
       "Python                        5704                  4144   \n",
       "\n",
       "Exercise      Daily or almost every day  I don't typically exercise  \n",
       "C# vs Python                                                         \n",
       "Both                               1068                        2828  \n",
       "C#                                 1983                        6302  \n",
       "None                               3951                       11059  \n",
       "Python                             2861                        6806  "
      ]
     },
     "execution_count": 89,
     "metadata": {},
     "output_type": "execute_result"
    }
   ],
   "source": [
    "# Remove summary column/row\n",
    "exercise_data = exercise_data_with_margin.iloc[0:4, 0:4]\n",
    "exercise_data"
   ]
  },
  {
   "cell_type": "code",
   "execution_count": 90,
   "metadata": {},
   "outputs": [
    {
     "data": {
      "text/plain": [
       "array([[ 2273.52615521,  1555.14750097,  1071.26831974,  2932.05802407],\n",
       "       [ 4702.06545737,  3216.3277861 ,  2215.57766129,  6064.02909525],\n",
       "       [ 8291.46164087,  5671.56257281,  3906.8739807 , 10693.10180562],\n",
       "       [ 5664.94674655,  3874.96214012,  2669.28003828,  7305.81107505]])"
      ]
     },
     "execution_count": 90,
     "metadata": {},
     "output_type": "execute_result"
    }
   ],
   "source": [
    "# Calculate the expected count\n",
    "expected = np.outer(exercise_data_with_margin.iloc[0:4, 4], exercise_data_with_margin.iloc[4, 0:4]) \\\n",
    "    / exercise_data_with_margin.iloc[4,4]\n",
    "expected"
   ]
  },
  {
   "cell_type": "code",
   "execution_count": 91,
   "metadata": {},
   "outputs": [
    {
     "data": {
      "text/plain": [
       "136.73358988551269"
      ]
     },
     "execution_count": 91,
     "metadata": {},
     "output_type": "execute_result"
    }
   ],
   "source": [
    "# Calculate the chi squared statistics with the same formula es above\n",
    "chi_squared_stat = (((exercise_data-expected)**2)/expected).sum().sum()\n",
    "chi_squared_stat"
   ]
  },
  {
   "cell_type": "code",
   "execution_count": 99,
   "metadata": {},
   "outputs": [
    {
     "data": {
      "text/plain": [
       "16.918977604620448"
      ]
     },
     "execution_count": 99,
     "metadata": {},
     "output_type": "execute_result"
    }
   ],
   "source": [
    "# Calculate the critical values\n",
    "critical_value = stats.chi2.ppf(q = 0.95, df = (4-1) * (4-1)) \n",
    "critical_value"
   ]
  },
  {
   "cell_type": "code",
   "execution_count": 101,
   "metadata": {},
   "outputs": [
    {
     "data": {
      "text/plain": [
       "0.0"
      ]
     },
     "execution_count": 101,
     "metadata": {},
     "output_type": "execute_result"
    }
   ],
   "source": [
    "# And we calculate our p value\n",
    "p_value = 1 - stats.chi2.cdf(x=chi_squared_stat, df=(4-1) * (4-1))\n",
    "p_value"
   ]
  },
  {
   "cell_type": "code",
   "execution_count": 118,
   "metadata": {
    "scrolled": true
   },
   "outputs": [
    {
     "data": {
      "image/png": "[encoded data removed]",
      "text/plain": [
       "<Figure size 1008x432 with 1 Axes>"
      ]
     },
     "metadata": {
      "needs_background": "light"
     },
     "output_type": "display_data"
    }
   ],
   "source": [
    "# Visualizing the probability of our chi2 distribution\n",
    "X = np.linspace(0, 150, 1000)\n",
    "fig, ax = plt.subplots(1, figsize=(14, 6))\n",
    "linestyles = [':','--','-.','-']\n",
    "degree_of_freedom = [1, 2, 3, 4]\n",
    "for df, ls in zip(degree_of_freedom, linestyles):\n",
    "    ax.plot(X, stats.chi2.pdf(X, df), linestyle=ls, label=r'$df=%i$' % df)\n",
    "\n",
    "plt.xlim(0, 150)\n",
    "plt.ylim(0, .5)\n",
    "\n",
    "plt.xlabel('$\\chi^2$')\n",
    "plt.ylabel(r'$f(\\chi^2)$')\n",
    "plt.title(r'$\\chi^2\\ \\mathrm{Distribution}$')\n",
    "\n",
    "# Visualize the critical value\n",
    "plt.vlines(chi_squared_stat, 0, .5, linewidth=1, linestyle='--', alpha=.4)\n",
    "plt.text(chi_squared_stat-12, .3, 'observation')\n",
    "\n",
    "plt.legend(loc='upper left')\n",
    "plt.show()"
   ]
  },
  {
   "cell_type": "code",
   "execution_count": null,
   "metadata": {},
   "outputs": [],
   "source": []
  }
 ],
 "metadata": {
  "kernelspec": {
   "display_name": "Python 3",
   "language": "python",
   "name": "python3"
  },
  "language_info": {
   "codemirror_mode": {
    "name": "ipython",
    "version": 3
   },
   "file_extension": ".py",
   "mimetype": "text/x-python",
   "name": "python",
   "nbconvert_exporter": "python",
   "pygments_lexer": "ipython3",
   "version": "3.7.0"
  }
 },
 "nbformat": 4,
 "nbformat_minor": 2
}
