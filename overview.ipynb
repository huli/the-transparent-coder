{
 "cells": [
  {
   "cell_type": "markdown",
   "metadata": {},
   "source": [
    "### Initial exploratory data analysis"
   ]
  },
  {
   "cell_type": "code",
   "execution_count": 1,
   "metadata": {},
   "outputs": [],
   "source": [
    "import pandas as pd\n",
    "import matplotlib.pyplot as plt\n",
    "import numpy as np"
   ]
  },
  {
   "cell_type": "code",
   "execution_count": 2,
   "metadata": {},
   "outputs": [],
   "source": [
    "pd.set_option('display.max_colwidth', 1000)\n",
    "pd.set_option('display.max_rows', 150)"
   ]
  },
  {
   "cell_type": "code",
   "execution_count": 3,
   "metadata": {},
   "outputs": [
    {
     "data": {
      "text/html": [
       "<div>\n",
       "<style scoped>\n",
       "    .dataframe tbody tr th:only-of-type {\n",
       "        vertical-align: middle;\n",
       "    }\n",
       "\n",
       "    .dataframe tbody tr th {\n",
       "        vertical-align: top;\n",
       "    }\n",
       "\n",
       "    .dataframe thead th {\n",
       "        text-align: right;\n",
       "    }\n",
       "</style>\n",
       "<table border=\"1\" class=\"dataframe\">\n",
       "  <thead>\n",
       "    <tr style=\"text-align: right;\">\n",
       "      <th></th>\n",
       "      <th>Column</th>\n",
       "      <th>QuestionText</th>\n",
       "    </tr>\n",
       "  </thead>\n",
       "  <tbody>\n",
       "    <tr>\n",
       "      <th>0</th>\n",
       "      <td>Respondent</td>\n",
       "      <td>Randomized respondent ID number (not in order of survey response time)</td>\n",
       "    </tr>\n",
       "    <tr>\n",
       "      <th>1</th>\n",
       "      <td>Hobby</td>\n",
       "      <td>Do you code as a hobby?</td>\n",
       "    </tr>\n",
       "    <tr>\n",
       "      <th>2</th>\n",
       "      <td>OpenSource</td>\n",
       "      <td>Do you contribute to open source projects?</td>\n",
       "    </tr>\n",
       "    <tr>\n",
       "      <th>3</th>\n",
       "      <td>Country</td>\n",
       "      <td>In which country do you currently reside?</td>\n",
       "    </tr>\n",
       "    <tr>\n",
       "      <th>4</th>\n",
       "      <td>Student</td>\n",
       "      <td>Are you currently enrolled in a formal, degree-granting college or university program?</td>\n",
       "    </tr>\n",
       "    <tr>\n",
       "      <th>5</th>\n",
       "      <td>Employment</td>\n",
       "      <td>Which of the following best describes your current employment status?</td>\n",
       "    </tr>\n",
       "    <tr>\n",
       "      <th>6</th>\n",
       "      <td>FormalEducation</td>\n",
       "      <td>Which of the following best describes the highest level of formal education that you’ve completed?</td>\n",
       "    </tr>\n",
       "    <tr>\n",
       "      <th>7</th>\n",
       "      <td>UndergradMajor</td>\n",
       "      <td>You previously indicated that you went to a college or university. Which of the following best describes your main field of study (aka 'major')</td>\n",
       "    </tr>\n",
       "    <tr>\n",
       "      <th>8</th>\n",
       "      <td>CompanySize</td>\n",
       "      <td>Approximately how many people are employed by the company or organization you work for?</td>\n",
       "    </tr>\n",
       "    <tr>\n",
       "      <th>9</th>\n",
       "      <td>DevType</td>\n",
       "      <td>Which of the following describe you? Please select all that apply.</td>\n",
       "    </tr>\n",
       "  </tbody>\n",
       "</table>\n",
       "</div>"
      ],
      "text/plain": [
       "            Column  \\\n",
       "0       Respondent   \n",
       "1            Hobby   \n",
       "2       OpenSource   \n",
       "3          Country   \n",
       "4          Student   \n",
       "5       Employment   \n",
       "6  FormalEducation   \n",
       "7   UndergradMajor   \n",
       "8      CompanySize   \n",
       "9          DevType   \n",
       "\n",
       "                                                                                                                                      QuestionText  \n",
       "0                                                                           Randomized respondent ID number (not in order of survey response time)  \n",
       "1                                                                                                                          Do you code as a hobby?  \n",
       "2                                                                                                       Do you contribute to open source projects?  \n",
       "3                                                                                                        In which country do you currently reside?  \n",
       "4                                                           Are you currently enrolled in a formal, degree-granting college or university program?  \n",
       "5                                                                            Which of the following best describes your current employment status?  \n",
       "6                                               Which of the following best describes the highest level of formal education that you’ve completed?  \n",
       "7  You previously indicated that you went to a college or university. Which of the following best describes your main field of study (aka 'major')  \n",
       "8                                                          Approximately how many people are employed by the company or organization you work for?  \n",
       "9                                                                               Which of the following describe you? Please select all that apply.  "
      ]
     },
     "execution_count": 3,
     "metadata": {},
     "output_type": "execute_result"
    }
   ],
   "source": [
    "# Inspect the schema\n",
    "schema2018 = pd.read_csv('data/2018/survey_results_schema.csv')\n",
    "schema2018.head(10)"
   ]
  },
  {
   "cell_type": "code",
   "execution_count": 4,
   "metadata": {},
   "outputs": [
    {
     "data": {
      "text/html": [
       "<div>\n",
       "<style scoped>\n",
       "    .dataframe tbody tr th:only-of-type {\n",
       "        vertical-align: middle;\n",
       "    }\n",
       "\n",
       "    .dataframe tbody tr th {\n",
       "        vertical-align: top;\n",
       "    }\n",
       "\n",
       "    .dataframe thead th {\n",
       "        text-align: right;\n",
       "    }\n",
       "</style>\n",
       "<table border=\"1\" class=\"dataframe\">\n",
       "  <thead>\n",
       "    <tr style=\"text-align: right;\">\n",
       "      <th></th>\n",
       "      <th>Respondent</th>\n",
       "      <th>Hobby</th>\n",
       "      <th>OpenSource</th>\n",
       "      <th>Country</th>\n",
       "      <th>Student</th>\n",
       "      <th>Employment</th>\n",
       "      <th>FormalEducation</th>\n",
       "      <th>UndergradMajor</th>\n",
       "      <th>CompanySize</th>\n",
       "      <th>DevType</th>\n",
       "      <th>...</th>\n",
       "      <th>Exercise</th>\n",
       "      <th>Gender</th>\n",
       "      <th>SexualOrientation</th>\n",
       "      <th>EducationParents</th>\n",
       "      <th>RaceEthnicity</th>\n",
       "      <th>Age</th>\n",
       "      <th>Dependents</th>\n",
       "      <th>MilitaryUS</th>\n",
       "      <th>SurveyTooLong</th>\n",
       "      <th>SurveyEasy</th>\n",
       "    </tr>\n",
       "  </thead>\n",
       "  <tbody>\n",
       "    <tr>\n",
       "      <th>0</th>\n",
       "      <td>1</td>\n",
       "      <td>Yes</td>\n",
       "      <td>No</td>\n",
       "      <td>Kenya</td>\n",
       "      <td>No</td>\n",
       "      <td>Employed part-time</td>\n",
       "      <td>Bachelor’s degree (BA, BS, B.Eng., etc.)</td>\n",
       "      <td>Mathematics or statistics</td>\n",
       "      <td>20 to 99 employees</td>\n",
       "      <td>Full-stack developer</td>\n",
       "      <td>...</td>\n",
       "      <td>3 - 4 times per week</td>\n",
       "      <td>Male</td>\n",
       "      <td>Straight or heterosexual</td>\n",
       "      <td>Bachelor’s degree (BA, BS, B.Eng., etc.)</td>\n",
       "      <td>Black or of African descent</td>\n",
       "      <td>25 - 34 years old</td>\n",
       "      <td>Yes</td>\n",
       "      <td>NaN</td>\n",
       "      <td>The survey was an appropriate length</td>\n",
       "      <td>Very easy</td>\n",
       "    </tr>\n",
       "    <tr>\n",
       "      <th>1</th>\n",
       "      <td>3</td>\n",
       "      <td>Yes</td>\n",
       "      <td>Yes</td>\n",
       "      <td>United Kingdom</td>\n",
       "      <td>No</td>\n",
       "      <td>Employed full-time</td>\n",
       "      <td>Bachelor’s degree (BA, BS, B.Eng., etc.)</td>\n",
       "      <td>A natural science (ex. biology, chemistry, physics)</td>\n",
       "      <td>10,000 or more employees</td>\n",
       "      <td>Database administrator;DevOps specialist;Full-stack developer;System administrator</td>\n",
       "      <td>...</td>\n",
       "      <td>Daily or almost every day</td>\n",
       "      <td>Male</td>\n",
       "      <td>Straight or heterosexual</td>\n",
       "      <td>Bachelor’s degree (BA, BS, B.Eng., etc.)</td>\n",
       "      <td>White or of European descent</td>\n",
       "      <td>35 - 44 years old</td>\n",
       "      <td>Yes</td>\n",
       "      <td>NaN</td>\n",
       "      <td>The survey was an appropriate length</td>\n",
       "      <td>Somewhat easy</td>\n",
       "    </tr>\n",
       "    <tr>\n",
       "      <th>2</th>\n",
       "      <td>4</td>\n",
       "      <td>Yes</td>\n",
       "      <td>Yes</td>\n",
       "      <td>United States</td>\n",
       "      <td>No</td>\n",
       "      <td>Employed full-time</td>\n",
       "      <td>Associate degree</td>\n",
       "      <td>Computer science, computer engineering, or software engineering</td>\n",
       "      <td>20 to 99 employees</td>\n",
       "      <td>Engineering manager;Full-stack developer</td>\n",
       "      <td>...</td>\n",
       "      <td>NaN</td>\n",
       "      <td>NaN</td>\n",
       "      <td>NaN</td>\n",
       "      <td>NaN</td>\n",
       "      <td>NaN</td>\n",
       "      <td>NaN</td>\n",
       "      <td>NaN</td>\n",
       "      <td>NaN</td>\n",
       "      <td>NaN</td>\n",
       "      <td>NaN</td>\n",
       "    </tr>\n",
       "  </tbody>\n",
       "</table>\n",
       "<p>3 rows × 129 columns</p>\n",
       "</div>"
      ],
      "text/plain": [
       "   Respondent Hobby OpenSource         Country Student          Employment  \\\n",
       "0           1   Yes         No           Kenya      No  Employed part-time   \n",
       "1           3   Yes        Yes  United Kingdom      No  Employed full-time   \n",
       "2           4   Yes        Yes   United States      No  Employed full-time   \n",
       "\n",
       "                            FormalEducation  \\\n",
       "0  Bachelor’s degree (BA, BS, B.Eng., etc.)   \n",
       "1  Bachelor’s degree (BA, BS, B.Eng., etc.)   \n",
       "2                          Associate degree   \n",
       "\n",
       "                                                    UndergradMajor  \\\n",
       "0                                        Mathematics or statistics   \n",
       "1              A natural science (ex. biology, chemistry, physics)   \n",
       "2  Computer science, computer engineering, or software engineering   \n",
       "\n",
       "                CompanySize  \\\n",
       "0        20 to 99 employees   \n",
       "1  10,000 or more employees   \n",
       "2        20 to 99 employees   \n",
       "\n",
       "                                                                              DevType  \\\n",
       "0                                                                Full-stack developer   \n",
       "1  Database administrator;DevOps specialist;Full-stack developer;System administrator   \n",
       "2                                            Engineering manager;Full-stack developer   \n",
       "\n",
       "       ...                         Exercise Gender         SexualOrientation  \\\n",
       "0      ...             3 - 4 times per week   Male  Straight or heterosexual   \n",
       "1      ...        Daily or almost every day   Male  Straight or heterosexual   \n",
       "2      ...                              NaN    NaN                       NaN   \n",
       "\n",
       "                           EducationParents                 RaceEthnicity  \\\n",
       "0  Bachelor’s degree (BA, BS, B.Eng., etc.)   Black or of African descent   \n",
       "1  Bachelor’s degree (BA, BS, B.Eng., etc.)  White or of European descent   \n",
       "2                                       NaN                           NaN   \n",
       "\n",
       "                 Age Dependents  MilitaryUS  \\\n",
       "0  25 - 34 years old        Yes         NaN   \n",
       "1  35 - 44 years old        Yes         NaN   \n",
       "2                NaN        NaN         NaN   \n",
       "\n",
       "                          SurveyTooLong     SurveyEasy  \n",
       "0  The survey was an appropriate length      Very easy  \n",
       "1  The survey was an appropriate length  Somewhat easy  \n",
       "2                                   NaN            NaN  \n",
       "\n",
       "[3 rows x 129 columns]"
      ]
     },
     "execution_count": 4,
     "metadata": {},
     "output_type": "execute_result"
    }
   ],
   "source": [
    "# An overview of the data\n",
    "data2018 = pd.read_csv('data/2018/survey_results_public.csv', low_memory=False)\n",
    "data2018.head(3)"
   ]
  },
  {
   "cell_type": "code",
   "execution_count": 5,
   "metadata": {},
   "outputs": [
    {
     "name": "stdout",
     "output_type": "stream",
     "text": [
      "<class 'pandas.core.frame.DataFrame'>\n",
      "RangeIndex: 98855 entries, 0 to 98854\n",
      "Columns: 129 entries, Respondent to SurveyEasy\n",
      "dtypes: float64(41), int64(1), object(87)\n",
      "memory usage: 97.3+ MB\n"
     ]
    }
   ],
   "source": [
    "# Print number of observations in 2018\n",
    "data2018.info()"
   ]
  },
  {
   "cell_type": "code",
   "execution_count": 6,
   "metadata": {},
   "outputs": [
    {
     "data": {
      "text/plain": [
       "['Hobby',\n",
       " 'OpenSource',\n",
       " 'DevType',\n",
       " 'YearsCoding',\n",
       " 'YearsCodingProf',\n",
       " 'JobSatisfaction',\n",
       " 'CareerSatisfaction',\n",
       " 'HopeFiveYears',\n",
       " 'JobSearchStatus',\n",
       " 'SalaryType',\n",
       " 'ConvertedSalary',\n",
       " 'CommunicationTools',\n",
       " 'AgreeDisagree1',\n",
       " 'AgreeDisagree2',\n",
       " 'AgreeDisagree3',\n",
       " 'LanguageWorkedWith',\n",
       " 'LanguageDesireNextYear',\n",
       " 'DatabaseWorkedWith',\n",
       " 'DatabaseDesireNextYear',\n",
       " 'PlatformWorkedWith',\n",
       " 'PlatformDesireNextYear',\n",
       " 'FrameworkWorkedWith',\n",
       " 'FrameworkDesireNextYear',\n",
       " 'IDE',\n",
       " 'OperatingSystem',\n",
       " 'AIDangerous',\n",
       " 'AIInteresting',\n",
       " 'AIResponsible',\n",
       " 'AIFuture',\n",
       " 'EthicsChoice',\n",
       " 'EthicsReport',\n",
       " 'EthicsResponsible',\n",
       " 'EthicalImplications',\n",
       " 'WakeTime',\n",
       " 'HoursComputer',\n",
       " 'HoursOutside',\n",
       " 'SkipMeals',\n",
       " 'ErgonomicDevices',\n",
       " 'Exercise',\n",
       " 'SexualOrientation',\n",
       " 'EducationParents',\n",
       " 'RaceEthnicity',\n",
       " 'Age',\n",
       " 'Dependents',\n",
       " 'SurveyTooLong',\n",
       " 'SurveyEasy']"
      ]
     },
     "execution_count": 6,
     "metadata": {},
     "output_type": "execute_result"
    }
   ],
   "source": [
    "# Print the interesting columns\n",
    "[c for c in data2018.iloc[:, [1, 2, 9, 10, 11, 12, 13, 14, 15, 53, 54, 56,62,63,64,\n",
    "                              65,66,67,68,69,70,71,72,73,74,93,94,95,96,97,98,99,100,114,\n",
    "                             115,116,117,118,119,121,122,123,124,125,127,128]].columns]"
   ]
  },
  {
   "cell_type": "code",
   "execution_count": 7,
   "metadata": {},
   "outputs": [
    {
     "data": {
      "text/html": [
       "<div>\n",
       "<style scoped>\n",
       "    .dataframe tbody tr th:only-of-type {\n",
       "        vertical-align: middle;\n",
       "    }\n",
       "\n",
       "    .dataframe tbody tr th {\n",
       "        vertical-align: top;\n",
       "    }\n",
       "\n",
       "    .dataframe thead th {\n",
       "        text-align: right;\n",
       "    }\n",
       "</style>\n",
       "<table border=\"1\" class=\"dataframe\">\n",
       "  <thead>\n",
       "    <tr style=\"text-align: right;\">\n",
       "      <th></th>\n",
       "      <th>LanguageWorkedWith</th>\n",
       "      <th>LanguageDesireNextYear</th>\n",
       "    </tr>\n",
       "  </thead>\n",
       "  <tbody>\n",
       "    <tr>\n",
       "      <th>0</th>\n",
       "      <td>JavaScript;Python;HTML;CSS</td>\n",
       "      <td>JavaScript;Python;HTML;CSS</td>\n",
       "    </tr>\n",
       "    <tr>\n",
       "      <th>1</th>\n",
       "      <td>JavaScript;Python;Bash/Shell</td>\n",
       "      <td>Go;Python</td>\n",
       "    </tr>\n",
       "    <tr>\n",
       "      <th>2</th>\n",
       "      <td>NaN</td>\n",
       "      <td>NaN</td>\n",
       "    </tr>\n",
       "    <tr>\n",
       "      <th>3</th>\n",
       "      <td>C#;JavaScript;SQL;TypeScript;HTML;CSS;Bash/Shell</td>\n",
       "      <td>C#;JavaScript;SQL;TypeScript;HTML;CSS;Bash/Shell</td>\n",
       "    </tr>\n",
       "    <tr>\n",
       "      <th>4</th>\n",
       "      <td>C;C++;Java;Matlab;R;SQL;Bash/Shell</td>\n",
       "      <td>Assembly;C;C++;Matlab;SQL;Bash/Shell</td>\n",
       "    </tr>\n",
       "  </tbody>\n",
       "</table>\n",
       "</div>"
      ],
      "text/plain": [
       "                                 LanguageWorkedWith  \\\n",
       "0                        JavaScript;Python;HTML;CSS   \n",
       "1                      JavaScript;Python;Bash/Shell   \n",
       "2                                               NaN   \n",
       "3  C#;JavaScript;SQL;TypeScript;HTML;CSS;Bash/Shell   \n",
       "4                C;C++;Java;Matlab;R;SQL;Bash/Shell   \n",
       "\n",
       "                             LanguageDesireNextYear  \n",
       "0                        JavaScript;Python;HTML;CSS  \n",
       "1                                         Go;Python  \n",
       "2                                               NaN  \n",
       "3  C#;JavaScript;SQL;TypeScript;HTML;CSS;Bash/Shell  \n",
       "4              Assembly;C;C++;Matlab;SQL;Bash/Shell  "
      ]
     },
     "execution_count": 7,
     "metadata": {},
     "output_type": "execute_result"
    }
   ],
   "source": [
    "# Determine columns concerning language\n",
    "data2018.filter(like='Lang', axis=1).head()"
   ]
  },
  {
   "cell_type": "code",
   "execution_count": 8,
   "metadata": {},
   "outputs": [
    {
     "data": {
      "text/plain": [
       "{'Assembly',\n",
       " 'Bash/Shell',\n",
       " 'C',\n",
       " 'C#',\n",
       " 'C++',\n",
       " 'CSS',\n",
       " 'Clojure',\n",
       " 'Cobol',\n",
       " 'CoffeeScript',\n",
       " 'Delphi/Object Pascal',\n",
       " 'Erlang',\n",
       " 'F#',\n",
       " 'Go',\n",
       " 'Groovy',\n",
       " 'HTML',\n",
       " 'Hack',\n",
       " 'Haskell',\n",
       " 'Java',\n",
       " 'JavaScript',\n",
       " 'Julia',\n",
       " 'Kotlin',\n",
       " 'Lua',\n",
       " 'Matlab',\n",
       " 'Objective-C',\n",
       " 'Ocaml',\n",
       " 'PHP',\n",
       " 'Perl',\n",
       " 'Python',\n",
       " 'R',\n",
       " 'Ruby',\n",
       " 'Rust',\n",
       " 'SQL',\n",
       " 'Scala',\n",
       " 'Swift',\n",
       " 'TypeScript',\n",
       " 'VB.NET',\n",
       " 'VBA',\n",
       " 'Visual Basic 6'}"
      ]
     },
     "execution_count": 8,
     "metadata": {},
     "output_type": "execute_result"
    }
   ],
   "source": [
    "# First we get all the different languages\n",
    "delimiter = ';'\n",
    "all_languages = data2018.LanguageWorkedWith.apply(lambda c: str(c).split(delimiter))\n",
    "\n",
    "# Make a flat list out of the list of lists\n",
    "all_languages = [language for languagelist in all_languages for language in languagelist]\n",
    "\n",
    "# No cleanup the list from nan values and duplicates\n",
    "all_languages = list(filter(lambda l: l != 'nan', all_languages))\n",
    "all_languages = set(all_languages)\n",
    "\n",
    "all_languages"
   ]
  },
  {
   "cell_type": "code",
   "execution_count": 9,
   "metadata": {},
   "outputs": [],
   "source": [
    "# Now we want to make columns out of the languages for better processing\n",
    "for language in all_languages:\n",
    "    data2018[language] = data2018['LanguageWorkedWith'].map(lambda c: language in str(c).split(delimiter))"
   ]
  },
  {
   "cell_type": "code",
   "execution_count": 10,
   "metadata": {},
   "outputs": [
    {
     "data": {
      "text/html": [
       "<div>\n",
       "<style scoped>\n",
       "    .dataframe tbody tr th:only-of-type {\n",
       "        vertical-align: middle;\n",
       "    }\n",
       "\n",
       "    .dataframe tbody tr th {\n",
       "        vertical-align: top;\n",
       "    }\n",
       "\n",
       "    .dataframe thead th {\n",
       "        text-align: right;\n",
       "    }\n",
       "</style>\n",
       "<table border=\"1\" class=\"dataframe\">\n",
       "  <thead>\n",
       "    <tr style=\"text-align: right;\">\n",
       "      <th></th>\n",
       "      <th>C#</th>\n",
       "      <th>VB.NET</th>\n",
       "      <th>Scala</th>\n",
       "      <th>Matlab</th>\n",
       "      <th>Delphi/Object Pascal</th>\n",
       "      <th>F#</th>\n",
       "      <th>Python</th>\n",
       "      <th>Visual Basic 6</th>\n",
       "      <th>R</th>\n",
       "      <th>HTML</th>\n",
       "      <th>...</th>\n",
       "      <th>SQL</th>\n",
       "      <th>TypeScript</th>\n",
       "      <th>Assembly</th>\n",
       "      <th>Lua</th>\n",
       "      <th>PHP</th>\n",
       "      <th>Groovy</th>\n",
       "      <th>Cobol</th>\n",
       "      <th>Java</th>\n",
       "      <th>Ocaml</th>\n",
       "      <th>Go</th>\n",
       "    </tr>\n",
       "  </thead>\n",
       "  <tbody>\n",
       "    <tr>\n",
       "      <th>0</th>\n",
       "      <td>False</td>\n",
       "      <td>False</td>\n",
       "      <td>False</td>\n",
       "      <td>False</td>\n",
       "      <td>False</td>\n",
       "      <td>False</td>\n",
       "      <td>True</td>\n",
       "      <td>False</td>\n",
       "      <td>False</td>\n",
       "      <td>True</td>\n",
       "      <td>...</td>\n",
       "      <td>False</td>\n",
       "      <td>False</td>\n",
       "      <td>False</td>\n",
       "      <td>False</td>\n",
       "      <td>False</td>\n",
       "      <td>False</td>\n",
       "      <td>False</td>\n",
       "      <td>False</td>\n",
       "      <td>False</td>\n",
       "      <td>False</td>\n",
       "    </tr>\n",
       "    <tr>\n",
       "      <th>1</th>\n",
       "      <td>False</td>\n",
       "      <td>False</td>\n",
       "      <td>False</td>\n",
       "      <td>False</td>\n",
       "      <td>False</td>\n",
       "      <td>False</td>\n",
       "      <td>True</td>\n",
       "      <td>False</td>\n",
       "      <td>False</td>\n",
       "      <td>False</td>\n",
       "      <td>...</td>\n",
       "      <td>False</td>\n",
       "      <td>False</td>\n",
       "      <td>False</td>\n",
       "      <td>False</td>\n",
       "      <td>False</td>\n",
       "      <td>False</td>\n",
       "      <td>False</td>\n",
       "      <td>False</td>\n",
       "      <td>False</td>\n",
       "      <td>False</td>\n",
       "    </tr>\n",
       "    <tr>\n",
       "      <th>2</th>\n",
       "      <td>False</td>\n",
       "      <td>False</td>\n",
       "      <td>False</td>\n",
       "      <td>False</td>\n",
       "      <td>False</td>\n",
       "      <td>False</td>\n",
       "      <td>False</td>\n",
       "      <td>False</td>\n",
       "      <td>False</td>\n",
       "      <td>False</td>\n",
       "      <td>...</td>\n",
       "      <td>False</td>\n",
       "      <td>False</td>\n",
       "      <td>False</td>\n",
       "      <td>False</td>\n",
       "      <td>False</td>\n",
       "      <td>False</td>\n",
       "      <td>False</td>\n",
       "      <td>False</td>\n",
       "      <td>False</td>\n",
       "      <td>False</td>\n",
       "    </tr>\n",
       "    <tr>\n",
       "      <th>3</th>\n",
       "      <td>True</td>\n",
       "      <td>False</td>\n",
       "      <td>False</td>\n",
       "      <td>False</td>\n",
       "      <td>False</td>\n",
       "      <td>False</td>\n",
       "      <td>False</td>\n",
       "      <td>False</td>\n",
       "      <td>False</td>\n",
       "      <td>True</td>\n",
       "      <td>...</td>\n",
       "      <td>True</td>\n",
       "      <td>True</td>\n",
       "      <td>False</td>\n",
       "      <td>False</td>\n",
       "      <td>False</td>\n",
       "      <td>False</td>\n",
       "      <td>False</td>\n",
       "      <td>False</td>\n",
       "      <td>False</td>\n",
       "      <td>False</td>\n",
       "    </tr>\n",
       "    <tr>\n",
       "      <th>4</th>\n",
       "      <td>False</td>\n",
       "      <td>False</td>\n",
       "      <td>False</td>\n",
       "      <td>True</td>\n",
       "      <td>False</td>\n",
       "      <td>False</td>\n",
       "      <td>False</td>\n",
       "      <td>False</td>\n",
       "      <td>True</td>\n",
       "      <td>False</td>\n",
       "      <td>...</td>\n",
       "      <td>True</td>\n",
       "      <td>False</td>\n",
       "      <td>False</td>\n",
       "      <td>False</td>\n",
       "      <td>False</td>\n",
       "      <td>False</td>\n",
       "      <td>False</td>\n",
       "      <td>True</td>\n",
       "      <td>False</td>\n",
       "      <td>False</td>\n",
       "    </tr>\n",
       "  </tbody>\n",
       "</table>\n",
       "<p>5 rows × 34 columns</p>\n",
       "</div>"
      ],
      "text/plain": [
       "      C#  VB.NET  Scala  Matlab  Delphi/Object Pascal     F#  Python  \\\n",
       "0  False   False  False   False                 False  False    True   \n",
       "1  False   False  False   False                 False  False    True   \n",
       "2  False   False  False   False                 False  False   False   \n",
       "3   True   False  False   False                 False  False   False   \n",
       "4  False   False  False    True                 False  False   False   \n",
       "\n",
       "   Visual Basic 6      R   HTML  ...      SQL  TypeScript  Assembly    Lua  \\\n",
       "0           False  False   True  ...    False       False     False  False   \n",
       "1           False  False  False  ...    False       False     False  False   \n",
       "2           False  False  False  ...    False       False     False  False   \n",
       "3           False  False   True  ...     True        True     False  False   \n",
       "4           False   True  False  ...     True       False     False  False   \n",
       "\n",
       "     PHP  Groovy  Cobol   Java  Ocaml     Go  \n",
       "0  False   False  False  False  False  False  \n",
       "1  False   False  False  False  False  False  \n",
       "2  False   False  False  False  False  False  \n",
       "3  False   False  False  False  False  False  \n",
       "4  False   False  False   True  False  False  \n",
       "\n",
       "[5 rows x 34 columns]"
      ]
     },
     "execution_count": 10,
     "metadata": {},
     "output_type": "execute_result"
    }
   ],
   "source": [
    "data2018.loc[:, 'C#':].head()"
   ]
  },
  {
   "cell_type": "markdown",
   "metadata": {},
   "source": [
    "### Compare C# to Python"
   ]
  },
  {
   "cell_type": "code",
   "execution_count": 11,
   "metadata": {},
   "outputs": [],
   "source": [
    "def csharp_or_python(col):\n",
    "    ''' Function for making composite column of C# and Python '''\n",
    "    if col['C#'] and col['Python']:\n",
    "        return 'Both'\n",
    "    elif col['C#']:\n",
    "        return 'C#'\n",
    "    elif col['Python']:\n",
    "        return 'Python'\n",
    "    return 'None'"
   ]
  },
  {
   "cell_type": "code",
   "execution_count": 12,
   "metadata": {},
   "outputs": [],
   "source": [
    "# Creating combined column\n",
    "data2018['C# vs Python'] = data2018.apply(lambda col: csharp_or_python(col), axis=1)"
   ]
  },
  {
   "cell_type": "code",
   "execution_count": 16,
   "metadata": {},
   "outputs": [
    {
     "data": {
      "image/png": "[encoded data removed]",
      "text/plain": [
       "<Figure size 432x288 with 1 Axes>"
      ]
     },
     "metadata": {
      "needs_background": "light"
     },
     "output_type": "display_data"
    }
   ],
   "source": [
    "# Inspect some habbits over the different groups\n",
    "data2018.groupby('C# vs Python')['SkipMeals'].value_counts(normalize=True).plot(kind='bar')\n",
    "plt.show()"
   ]
  },
  {
   "cell_type": "code",
   "execution_count": 17,
   "metadata": {},
   "outputs": [
    {
     "data": {
      "image/png": "[encoded data removed]",
      "text/plain": [
       "<Figure size 432x288 with 1 Axes>"
      ]
     },
     "metadata": {
      "needs_background": "light"
     },
     "output_type": "display_data"
    }
   ],
   "source": [
    "# Inspect the age of the groups\n",
    "data2018.groupby('C# vs Python')['Age'].value_counts(normalize=True).plot(kind='bar')\n",
    "plt.show()"
   ]
  },
  {
   "cell_type": "code",
   "execution_count": 21,
   "metadata": {},
   "outputs": [
    {
     "data": {
      "image/png": "[encoded data removed]",
      "text/plain": [
       "<Figure size 1080x360 with 3 Axes>"
      ]
     },
     "metadata": {
      "needs_background": "light"
     },
     "output_type": "display_data"
    }
   ],
   "source": [
    "# Separate the different groups into subplots\n",
    "fig, (ax1, ax2, ax3) = plt.subplots(1,3, figsize=(15,5), sharey=True)\n",
    "data2018[data2018['C#'] == True].Age.value_counts(normalize=True).plot(kind='bar', ax=ax1)\n",
    "ax1.set_title('C#')\n",
    "data2018[data2018['Python'] == True].Age.value_counts(normalize=True).plot(kind='bar', ax=ax2)\n",
    "ax2.set_title('Python')\n",
    "data2018[(data2018['Python'] == True) & (data2018['C#'] == True)].Age.value_counts(normalize=True).plot(kind='bar', ax=ax3)\n",
    "ax3.set_title('Python & C#')\n",
    "ax1.set_ylabel('Density')\n",
    "plt.show()"
   ]
  },
  {
   "cell_type": "markdown",
   "metadata": {},
   "source": [
    "As expected the python programmers are of younger age compared to the c# hackers"
   ]
  },
  {
   "cell_type": "code",
   "execution_count": 23,
   "metadata": {},
   "outputs": [
    {
     "data": {
      "image/png": "[encoded data removed]",
      "text/plain": [
       "<Figure size 1080x360 with 3 Axes>"
      ]
     },
     "metadata": {
      "needs_background": "light"
     },
     "output_type": "display_data"
    }
   ],
   "source": [
    "# How often do the different groups exercise\n",
    "fig, (ax1, ax2, ax3) = plt.subplots(1,3, figsize=(15, 5), sharey=True)\n",
    "data2018[data2018['C#'] == True].Exercise.value_counts(normalize=True).plot(kind='bar', ax=ax1)\n",
    "ax1.set_title('C#')\n",
    "data2018[data2018['Python'] == True].Exercise.value_counts(normalize=True).plot(kind='bar', ax=ax2)\n",
    "ax2.set_title('Python')\n",
    "data2018[(data2018['Python'] == True) & (data2018['C#'] == True)].Exercise.value_counts(normalize=True).plot(kind='bar', ax=ax3)\n",
    "ax3.set_title('Python & C#')\n",
    "ax1.set_ylabel('Density')\n",
    "plt.show()"
   ]
  },
  {
   "cell_type": "code",
   "execution_count": 24,
   "metadata": {},
   "outputs": [
    {
     "data": {
      "text/plain": [
       "I don't typically exercise    0.374369\n",
       "1 - 2 times per week          0.290287\n",
       "3 - 4 times per week          0.198563\n",
       "Daily or almost every day     0.136781\n",
       "Name: Exercise, dtype: float64"
      ]
     },
     "execution_count": 24,
     "metadata": {},
     "output_type": "execute_result"
    }
   ],
   "source": [
    "# Comparing the groups in numbers\n",
    "data2018.Exercise.value_counts(normalize=True)"
   ]
  },
  {
   "cell_type": "code",
   "execution_count": 25,
   "metadata": {},
   "outputs": [
    {
     "data": {
      "text/plain": [
       "C# vs Python  Exercise                  \n",
       "Both          I don't typically exercise    0.361083\n",
       "              1 - 2 times per week          0.298774\n",
       "              3 - 4 times per week          0.203779\n",
       "              Daily or almost every day     0.136364\n",
       "C#            I don't typically exercise    0.389060\n",
       "              1 - 2 times per week          0.291703\n",
       "              3 - 4 times per week          0.196814\n",
       "              Daily or almost every day     0.122423\n",
       "None          I don't typically exercise    0.387179\n",
       "              1 - 2 times per week          0.285789\n",
       "              3 - 4 times per week          0.188706\n",
       "              Daily or almost every day     0.138326\n",
       "Python        I don't typically exercise    0.348757\n",
       "              1 - 2 times per week          0.292288\n",
       "              3 - 4 times per week          0.212349\n",
       "              Daily or almost every day     0.146605\n",
       "Name: Exercise, dtype: float64"
      ]
     },
     "execution_count": 25,
     "metadata": {},
     "output_type": "execute_result"
    }
   ],
   "source": [
    "data2018.groupby('C# vs Python')['Exercise'].value_counts(normalize=True)"
   ]
  },
  {
   "cell_type": "code",
   "execution_count": 30,
   "metadata": {},
   "outputs": [
    {
     "ename": "IndexError",
     "evalue": "index 6 is out of bounds for axis 1 with size 6",
     "output_type": "error",
     "traceback": [
      "\u001b[1;31m---------------------------------------------------------------------------\u001b[0m",
      "\u001b[1;31mIndexError\u001b[0m                                Traceback (most recent call last)",
      "\u001b[1;32m<ipython-input-30-9be1a1971e6f>\u001b[0m in \u001b[0;36m<module>\u001b[1;34m()\u001b[0m\n\u001b[0;32m      1\u001b[0m \u001b[0mfig\u001b[0m\u001b[1;33m,\u001b[0m \u001b[0maxes\u001b[0m \u001b[1;33m=\u001b[0m \u001b[0mplt\u001b[0m\u001b[1;33m.\u001b[0m\u001b[0msubplots\u001b[0m\u001b[1;33m(\u001b[0m\u001b[1;36m7\u001b[0m\u001b[1;33m,\u001b[0m\u001b[1;36m6\u001b[0m\u001b[1;33m,\u001b[0m \u001b[0mfigsize\u001b[0m\u001b[1;33m=\u001b[0m\u001b[1;33m(\u001b[0m\u001b[1;36m14\u001b[0m\u001b[1;33m,\u001b[0m \u001b[1;36m20\u001b[0m\u001b[1;33m)\u001b[0m\u001b[1;33m,\u001b[0m \u001b[0msharey\u001b[0m\u001b[1;33m=\u001b[0m\u001b[1;32mTrue\u001b[0m\u001b[1;33m,\u001b[0m \u001b[0msharex\u001b[0m\u001b[1;33m=\u001b[0m\u001b[1;32mTrue\u001b[0m\u001b[1;33m)\u001b[0m\u001b[1;33m\u001b[0m\u001b[0m\n\u001b[0;32m      2\u001b[0m \u001b[1;32mfor\u001b[0m \u001b[0mi\u001b[0m\u001b[1;33m,\u001b[0m \u001b[0mlang\u001b[0m \u001b[1;32min\u001b[0m \u001b[0mzip\u001b[0m\u001b[1;33m(\u001b[0m\u001b[0mrange\u001b[0m\u001b[1;33m(\u001b[0m\u001b[1;36m38\u001b[0m\u001b[1;33m)\u001b[0m\u001b[1;33m,\u001b[0m \u001b[0mall_languages\u001b[0m\u001b[1;33m)\u001b[0m\u001b[1;33m:\u001b[0m\u001b[1;33m\u001b[0m\u001b[0m\n\u001b[1;32m----> 3\u001b[1;33m     \u001b[0mdata2018\u001b[0m\u001b[1;33m[\u001b[0m\u001b[0mdata2018\u001b[0m\u001b[1;33m[\u001b[0m\u001b[0mlang\u001b[0m\u001b[1;33m]\u001b[0m \u001b[1;33m==\u001b[0m \u001b[1;32mTrue\u001b[0m\u001b[1;33m]\u001b[0m\u001b[1;33m.\u001b[0m\u001b[0mExercise\u001b[0m\u001b[1;33m.\u001b[0m\u001b[0mvalue_counts\u001b[0m\u001b[1;33m(\u001b[0m\u001b[0mnormalize\u001b[0m\u001b[1;33m=\u001b[0m\u001b[1;32mTrue\u001b[0m\u001b[1;33m)\u001b[0m\u001b[1;33m.\u001b[0m\u001b[0mplot\u001b[0m\u001b[1;33m(\u001b[0m\u001b[0mkind\u001b[0m\u001b[1;33m=\u001b[0m\u001b[1;34m'bar'\u001b[0m\u001b[1;33m,\u001b[0m \u001b[0max\u001b[0m\u001b[1;33m=\u001b[0m\u001b[0maxes\u001b[0m\u001b[1;33m[\u001b[0m\u001b[0mint\u001b[0m\u001b[1;33m(\u001b[0m\u001b[0mi\u001b[0m\u001b[1;33m/\u001b[0m\u001b[1;36m6\u001b[0m\u001b[1;33m)\u001b[0m\u001b[1;33m,\u001b[0m \u001b[0mi\u001b[0m\u001b[1;33m%\u001b[0m\u001b[1;36m7\u001b[0m\u001b[1;33m]\u001b[0m\u001b[1;33m)\u001b[0m\u001b[1;33m\u001b[0m\u001b[0m\n\u001b[0m\u001b[0;32m      4\u001b[0m     \u001b[0maxes\u001b[0m\u001b[1;33m[\u001b[0m\u001b[0mint\u001b[0m\u001b[1;33m(\u001b[0m\u001b[0mi\u001b[0m\u001b[1;33m/\u001b[0m\u001b[1;36m5\u001b[0m\u001b[1;33m)\u001b[0m\u001b[1;33m,\u001b[0m \u001b[0mi\u001b[0m\u001b[1;33m%\u001b[0m\u001b[1;36m5\u001b[0m\u001b[1;33m]\u001b[0m\u001b[1;33m.\u001b[0m\u001b[0mset_title\u001b[0m\u001b[1;33m(\u001b[0m\u001b[0mlang\u001b[0m\u001b[1;33m)\u001b[0m\u001b[1;33m\u001b[0m\u001b[0m\n",
      "\u001b[1;31mIndexError\u001b[0m: index 6 is out of bounds for axis 1 with size 6"
     ]
    },
    {
     "data": {
      "image/png": "[encoded data removed]",
      "text/plain": [
       "<Figure size 1008x1440 with 42 Axes>"
      ]
     },
     "metadata": {
      "needs_background": "light"
     },
     "output_type": "display_data"
    }
   ],
   "source": [
    "fig, axes = plt.subplots(7,6, figsize=(14, 20), sharey=True, sharex=True)\n",
    "for i, lang in zip(range(38), all_languages):\n",
    "    data2018[data2018[lang] == True].Exercise.value_counts(normalize=True).plot(kind='bar', ax=axes[int(i/6), i%7])\n",
    "    axes[int(i/5), i%5].set_title(lang)"
   ]
  },
  {
   "cell_type": "code",
   "execution_count": 30,
   "metadata": {},
   "outputs": [
    {
     "data": {
      "text/html": [
       "<div>\n",
       "<style scoped>\n",
       "    .dataframe tbody tr th:only-of-type {\n",
       "        vertical-align: middle;\n",
       "    }\n",
       "\n",
       "    .dataframe tbody tr th {\n",
       "        vertical-align: top;\n",
       "    }\n",
       "\n",
       "    .dataframe thead th {\n",
       "        text-align: right;\n",
       "    }\n",
       "</style>\n",
       "<table border=\"1\" class=\"dataframe\">\n",
       "  <thead>\n",
       "    <tr style=\"text-align: right;\">\n",
       "      <th>Exercise</th>\n",
       "      <th>1 - 2 times per week</th>\n",
       "      <th>3 - 4 times per week</th>\n",
       "      <th>Daily or almost every day</th>\n",
       "      <th>I don't typically exercise</th>\n",
       "    </tr>\n",
       "    <tr>\n",
       "      <th>C# vs Python</th>\n",
       "      <th></th>\n",
       "      <th></th>\n",
       "      <th></th>\n",
       "      <th></th>\n",
       "    </tr>\n",
       "  </thead>\n",
       "  <tbody>\n",
       "    <tr>\n",
       "      <th>Both</th>\n",
       "      <td>0.032451</td>\n",
       "      <td>0.022133</td>\n",
       "      <td>0.014811</td>\n",
       "      <td>0.039219</td>\n",
       "    </tr>\n",
       "    <tr>\n",
       "      <th>C#</th>\n",
       "      <td>0.065527</td>\n",
       "      <td>0.044211</td>\n",
       "      <td>0.027500</td>\n",
       "      <td>0.087397</td>\n",
       "    </tr>\n",
       "    <tr>\n",
       "      <th>None</th>\n",
       "      <td>0.113205</td>\n",
       "      <td>0.074749</td>\n",
       "      <td>0.054793</td>\n",
       "      <td>0.153367</td>\n",
       "    </tr>\n",
       "    <tr>\n",
       "      <th>Python</th>\n",
       "      <td>0.079104</td>\n",
       "      <td>0.057469</td>\n",
       "      <td>0.039677</td>\n",
       "      <td>0.094386</td>\n",
       "    </tr>\n",
       "  </tbody>\n",
       "</table>\n",
       "</div>"
      ],
      "text/plain": [
       "Exercise      1 - 2 times per week  3 - 4 times per week  \\\n",
       "C# vs Python                                               \n",
       "Both                      0.032451              0.022133   \n",
       "C#                        0.065527              0.044211   \n",
       "None                      0.113205              0.074749   \n",
       "Python                    0.079104              0.057469   \n",
       "\n",
       "Exercise      Daily or almost every day  I don't typically exercise  \n",
       "C# vs Python                                                         \n",
       "Both                           0.014811                    0.039219  \n",
       "C#                             0.027500                    0.087397  \n",
       "None                           0.054793                    0.153367  \n",
       "Python                         0.039677                    0.094386  "
      ]
     },
     "execution_count": 30,
     "metadata": {},
     "output_type": "execute_result"
    }
   ],
   "source": [
    "# Chi-Squared Test of Independence\n",
    "pd.crosstab(data2018['C# vs Python'], data2018.Exercise, normalize=True)"
   ]
  },
  {
   "cell_type": "markdown",
   "metadata": {},
   "source": [
    "Try it with the functional programmers!"
   ]
  },
  {
   "cell_type": "markdown",
   "metadata": {},
   "source": [
    "### First we only compare the distributions"
   ]
  },
  {
   "cell_type": "code",
   "execution_count": 31,
   "metadata": {},
   "outputs": [],
   "source": [
    "# Calculate the chi square ourselves with the chi square formular"
   ]
  },
  {
   "cell_type": "markdown",
   "metadata": {},
   "source": [
    "$$ \\chi^2 = \\sum_{1}^{z}\\frac{(o_z-e_z)^2}{e^z} $$"
   ]
  },
  {
   "cell_type": "code",
   "execution_count": 32,
   "metadata": {},
   "outputs": [],
   "source": [
    "import numpy as np"
   ]
  },
  {
   "cell_type": "code",
   "execution_count": 33,
   "metadata": {},
   "outputs": [
    {
     "data": {
      "text/plain": [
       "1 - 2 times per week          0.290287\n",
       "3 - 4 times per week          0.198563\n",
       "Daily or almost every day     0.136781\n",
       "I don't typically exercise    0.374369\n",
       "Name: Exercise, dtype: float64"
      ]
     },
     "execution_count": 33,
     "metadata": {},
     "output_type": "execute_result"
    }
   ],
   "source": [
    "population_ratio = data2018.Exercise.value_counts(dropna=True, sort=True, normalize=True)\n",
    "population_ratio.sort_index()"
   ]
  },
  {
   "cell_type": "code",
   "execution_count": 34,
   "metadata": {},
   "outputs": [
    {
     "data": {
      "text/plain": [
       "1 - 2 times per week           8812.816719\n",
       "3 - 4 times per week           6028.182199\n",
       "Daily or almost every day      4152.532548\n",
       "I don't typically exercise    11365.468533\n",
       "Name: Exercise, dtype: float64"
      ]
     },
     "execution_count": 34,
     "metadata": {},
     "output_type": "execute_result"
    }
   ],
   "source": [
    "python_programmers = data2018[data2018['Python'] == True]\n",
    "expected_count = population_ratio * len(python_programmers)\n",
    "expected_count.sort_index()"
   ]
  },
  {
   "cell_type": "code",
   "execution_count": 35,
   "metadata": {},
   "outputs": [
    {
     "data": {
      "text/plain": [
       "1 - 2 times per week          8044\n",
       "3 - 4 times per week          5740\n",
       "Daily or almost every day     3929\n",
       "I don't typically exercise    9634\n",
       "Name: Exercise, dtype: int64"
      ]
     },
     "execution_count": 35,
     "metadata": {},
     "output_type": "execute_result"
    }
   ],
   "source": [
    "actual_count = python_programmers.Exercise.value_counts(dropna=True, sort=True)\n",
    "actual_count.sort_index()"
   ]
  },
  {
   "cell_type": "code",
   "execution_count": 36,
   "metadata": {},
   "outputs": [
    {
     "data": {
      "text/plain": [
       "356.6600362751675"
      ]
     },
     "execution_count": 36,
     "metadata": {},
     "output_type": "execute_result"
    }
   ],
   "source": [
    "(((actual_count.sort_index()-expected_count.sort_index()) ** 2)/expected_count.sort_index()).sum()"
   ]
  },
  {
   "cell_type": "code",
   "execution_count": 37,
   "metadata": {},
   "outputs": [],
   "source": [
    "# Calculating the chi square statistic\n",
    "chi_squared_stat = (((actual_count.sort_index()-expected_count.sort_index()) ** 2)/expected_count.sort_index()).sum()"
   ]
  },
  {
   "cell_type": "code",
   "execution_count": 38,
   "metadata": {},
   "outputs": [
    {
     "name": "stdout",
     "output_type": "stream",
     "text": [
      "356.6600362751675\n"
     ]
    }
   ],
   "source": [
    "print(chi_squared_stat)"
   ]
  },
  {
   "cell_type": "code",
   "execution_count": 39,
   "metadata": {},
   "outputs": [
    {
     "name": "stdout",
     "output_type": "stream",
     "text": [
      "7.814727903251179\n"
     ]
    }
   ],
   "source": [
    "# First we want to find the critical value for 95% confidence\n",
    "\n",
    "import scipy.stats as stats\n",
    "\n",
    "# Degree of freedom is 5-1 =\n",
    "crit = stats.chi2.ppf(q = 0.95, df = 3)\n",
    "print(crit)"
   ]
  },
  {
   "cell_type": "code",
   "execution_count": 40,
   "metadata": {},
   "outputs": [
    {
     "data": {
      "text/plain": [
       "0.0"
      ]
     },
     "execution_count": 40,
     "metadata": {},
     "output_type": "execute_result"
    }
   ],
   "source": [
    "# And now we calcualte the t-value\n",
    "p_value = 1 - stats.chi2.cdf(x=chi_squared_stat,  df=3)\n",
    "p_value"
   ]
  },
  {
   "cell_type": "code",
   "execution_count": 41,
   "metadata": {},
   "outputs": [
    {
     "data": {
      "text/plain": [
       "Power_divergenceResult(statistic=356.66003627516744, pvalue=5.389358103510067e-77)"
      ]
     },
     "execution_count": 41,
     "metadata": {},
     "output_type": "execute_result"
    }
   ],
   "source": [
    "# Now we calculate all this with scipy\n",
    "stats.chisquare(f_obs= actual_count,   \n",
    "                f_exp= expected_count)   "
   ]
  },
  {
   "cell_type": "code",
   "execution_count": 42,
   "metadata": {},
   "outputs": [
    {
     "data": {
      "text/plain": [
       "I'm excited about the possibilities more than worried about the dangers.        0.728158\n",
       "I'm worried about the dangers more than I'm excited about the possibilities.    0.190297\n",
       "I don't care about it, or I haven't thought about it.                           0.081545\n",
       "Name: AIFuture, dtype: float64"
      ]
     },
     "execution_count": 42,
     "metadata": {},
     "output_type": "execute_result"
    }
   ],
   "source": [
    "# So there is a dependence between the two variables exercise and python or not\n",
    "population_ratio = data2018.AIFuture.value_counts(dropna=True, normalize=True)\n",
    "population_ratio"
   ]
  },
  {
   "cell_type": "code",
   "execution_count": 43,
   "metadata": {},
   "outputs": [
    {
     "data": {
      "text/plain": [
       "I'm excited about the possibilities more than worried about the dangers.        0.765832\n",
       "I'm worried about the dangers more than I'm excited about the possibilities.    0.167864\n",
       "I don't care about it, or I haven't thought about it.                           0.066304\n",
       "Name: AIFuture, dtype: float64"
      ]
     },
     "execution_count": 43,
     "metadata": {},
     "output_type": "execute_result"
    }
   ],
   "source": [
    "python_ratio = python_programmers.AIFuture.value_counts(dropna=True, normalize=True)\n",
    "python_ratio"
   ]
  },
  {
   "cell_type": "code",
   "execution_count": 44,
   "metadata": {},
   "outputs": [
    {
     "data": {
      "text/plain": [
       "Power_divergenceResult(statistic=442.55735100425204, pvalue=7.941312138124615e-97)"
      ]
     },
     "execution_count": 44,
     "metadata": {},
     "output_type": "execute_result"
    }
   ],
   "source": [
    "# Now we calculate all this with scipy\n",
    "stats.chisquare(f_obs= python_programmers.AIFuture.value_counts(dropna=True),   \n",
    "                f_exp= population_ratio * len(python_programmers))  "
   ]
  },
  {
   "cell_type": "markdown",
   "metadata": {},
   "source": [
    "Since our chi-squared statistic exceeds the critical value, we'd reject the null hypothesis that the two distributions are the same."
   ]
  },
  {
   "cell_type": "code",
   "execution_count": 45,
   "metadata": {},
   "outputs": [],
   "source": [
    "# Andere interessante Fragen\n",
    "# Zufriedenheit bei funktionalen und nicht-funktionalen Sprachen\n",
    "# Entwicklung der funktionalen Sprachen -> Time-Serie"
   ]
  },
  {
   "cell_type": "markdown",
   "metadata": {},
   "source": [
    "### Next we check for independence"
   ]
  },
  {
   "cell_type": "code",
   "execution_count": 46,
   "metadata": {},
   "outputs": [],
   "source": [
    "import pandas as pd\n",
    "import numpy as np\n",
    "import matplotlib.pyplot as plt"
   ]
  },
  {
   "cell_type": "code",
   "execution_count": 47,
   "metadata": {},
   "outputs": [
    {
     "data": {
      "text/html": [
       "<div>\n",
       "<style scoped>\n",
       "    .dataframe tbody tr th:only-of-type {\n",
       "        vertical-align: middle;\n",
       "    }\n",
       "\n",
       "    .dataframe tbody tr th {\n",
       "        vertical-align: top;\n",
       "    }\n",
       "\n",
       "    .dataframe thead th {\n",
       "        text-align: right;\n",
       "    }\n",
       "</style>\n",
       "<table border=\"1\" class=\"dataframe\">\n",
       "  <thead>\n",
       "    <tr style=\"text-align: right;\">\n",
       "      <th>Exercise</th>\n",
       "      <th>1 - 2 times per week</th>\n",
       "      <th>3 - 4 times per week</th>\n",
       "      <th>Daily or almost every day</th>\n",
       "      <th>I don't typically exercise</th>\n",
       "      <th>All</th>\n",
       "    </tr>\n",
       "    <tr>\n",
       "      <th>C# vs Python</th>\n",
       "      <th></th>\n",
       "      <th></th>\n",
       "      <th></th>\n",
       "      <th></th>\n",
       "      <th></th>\n",
       "    </tr>\n",
       "  </thead>\n",
       "  <tbody>\n",
       "    <tr>\n",
       "      <th>Both</th>\n",
       "      <td>2340</td>\n",
       "      <td>1596</td>\n",
       "      <td>1068</td>\n",
       "      <td>2828</td>\n",
       "      <td>7832</td>\n",
       "    </tr>\n",
       "    <tr>\n",
       "      <th>C#</th>\n",
       "      <td>4725</td>\n",
       "      <td>3188</td>\n",
       "      <td>1983</td>\n",
       "      <td>6302</td>\n",
       "      <td>16198</td>\n",
       "    </tr>\n",
       "    <tr>\n",
       "      <th>None</th>\n",
       "      <td>8163</td>\n",
       "      <td>5390</td>\n",
       "      <td>3951</td>\n",
       "      <td>11059</td>\n",
       "      <td>28563</td>\n",
       "    </tr>\n",
       "    <tr>\n",
       "      <th>Python</th>\n",
       "      <td>5704</td>\n",
       "      <td>4144</td>\n",
       "      <td>2861</td>\n",
       "      <td>6806</td>\n",
       "      <td>19515</td>\n",
       "    </tr>\n",
       "    <tr>\n",
       "      <th>All</th>\n",
       "      <td>20932</td>\n",
       "      <td>14318</td>\n",
       "      <td>9863</td>\n",
       "      <td>26995</td>\n",
       "      <td>72108</td>\n",
       "    </tr>\n",
       "  </tbody>\n",
       "</table>\n",
       "</div>"
      ],
      "text/plain": [
       "Exercise      1 - 2 times per week  3 - 4 times per week  \\\n",
       "C# vs Python                                               \n",
       "Both                          2340                  1596   \n",
       "C#                            4725                  3188   \n",
       "None                          8163                  5390   \n",
       "Python                        5704                  4144   \n",
       "All                          20932                 14318   \n",
       "\n",
       "Exercise      Daily or almost every day  I don't typically exercise    All  \n",
       "C# vs Python                                                                \n",
       "Both                               1068                        2828   7832  \n",
       "C#                                 1983                        6302  16198  \n",
       "None                               3951                       11059  28563  \n",
       "Python                             2861                        6806  19515  \n",
       "All                                9863                       26995  72108  "
      ]
     },
     "execution_count": 47,
     "metadata": {},
     "output_type": "execute_result"
    }
   ],
   "source": [
    "exercise_data_with_margin = pd.crosstab(data2018['C# vs Python'], data2018.Exercise, margins=True)\n",
    "exercise_data_with_margin"
   ]
  },
  {
   "cell_type": "code",
   "execution_count": 48,
   "metadata": {},
   "outputs": [
    {
     "data": {
      "text/html": [
       "<div>\n",
       "<style scoped>\n",
       "    .dataframe tbody tr th:only-of-type {\n",
       "        vertical-align: middle;\n",
       "    }\n",
       "\n",
       "    .dataframe tbody tr th {\n",
       "        vertical-align: top;\n",
       "    }\n",
       "\n",
       "    .dataframe thead th {\n",
       "        text-align: right;\n",
       "    }\n",
       "</style>\n",
       "<table border=\"1\" class=\"dataframe\">\n",
       "  <thead>\n",
       "    <tr style=\"text-align: right;\">\n",
       "      <th>Exercise</th>\n",
       "      <th>1 - 2 times per week</th>\n",
       "      <th>3 - 4 times per week</th>\n",
       "      <th>Daily or almost every day</th>\n",
       "      <th>I don't typically exercise</th>\n",
       "    </tr>\n",
       "    <tr>\n",
       "      <th>C# vs Python</th>\n",
       "      <th></th>\n",
       "      <th></th>\n",
       "      <th></th>\n",
       "      <th></th>\n",
       "    </tr>\n",
       "  </thead>\n",
       "  <tbody>\n",
       "    <tr>\n",
       "      <th>Both</th>\n",
       "      <td>2340</td>\n",
       "      <td>1596</td>\n",
       "      <td>1068</td>\n",
       "      <td>2828</td>\n",
       "    </tr>\n",
       "    <tr>\n",
       "      <th>C#</th>\n",
       "      <td>4725</td>\n",
       "      <td>3188</td>\n",
       "      <td>1983</td>\n",
       "      <td>6302</td>\n",
       "    </tr>\n",
       "    <tr>\n",
       "      <th>None</th>\n",
       "      <td>8163</td>\n",
       "      <td>5390</td>\n",
       "      <td>3951</td>\n",
       "      <td>11059</td>\n",
       "    </tr>\n",
       "    <tr>\n",
       "      <th>Python</th>\n",
       "      <td>5704</td>\n",
       "      <td>4144</td>\n",
       "      <td>2861</td>\n",
       "      <td>6806</td>\n",
       "    </tr>\n",
       "  </tbody>\n",
       "</table>\n",
       "</div>"
      ],
      "text/plain": [
       "Exercise      1 - 2 times per week  3 - 4 times per week  \\\n",
       "C# vs Python                                               \n",
       "Both                          2340                  1596   \n",
       "C#                            4725                  3188   \n",
       "None                          8163                  5390   \n",
       "Python                        5704                  4144   \n",
       "\n",
       "Exercise      Daily or almost every day  I don't typically exercise  \n",
       "C# vs Python                                                         \n",
       "Both                               1068                        2828  \n",
       "C#                                 1983                        6302  \n",
       "None                               3951                       11059  \n",
       "Python                             2861                        6806  "
      ]
     },
     "execution_count": 48,
     "metadata": {},
     "output_type": "execute_result"
    }
   ],
   "source": [
    "exercise_data = exercise_data_with_margin.iloc[0:4, 0:4]\n",
    "exercise_data"
   ]
  },
  {
   "cell_type": "code",
   "execution_count": 49,
   "metadata": {},
   "outputs": [
    {
     "data": {
      "text/plain": [
       "C# vs Python\n",
       "Both       7832\n",
       "C#        16198\n",
       "None      28563\n",
       "Python    19515\n",
       "Name: All, dtype: int64"
      ]
     },
     "execution_count": 49,
     "metadata": {},
     "output_type": "execute_result"
    }
   ],
   "source": [
    "exercise_data_with_margin.iloc[0:4, 4]"
   ]
  },
  {
   "cell_type": "code",
   "execution_count": 50,
   "metadata": {},
   "outputs": [
    {
     "data": {
      "text/plain": [
       "Exercise\n",
       "1 - 2 times per week          20932\n",
       "3 - 4 times per week          14318\n",
       "Daily or almost every day      9863\n",
       "I don't typically exercise    26995\n",
       "All                           72108\n",
       "Name: All, dtype: int64"
      ]
     },
     "execution_count": 50,
     "metadata": {},
     "output_type": "execute_result"
    }
   ],
   "source": [
    "exercise_data_with_margin.iloc[4, :]"
   ]
  },
  {
   "cell_type": "code",
   "execution_count": 51,
   "metadata": {},
   "outputs": [
    {
     "data": {
      "text/plain": [
       "array([[ 2273.52615521,  1555.14750097,  1071.26831974,  2932.05802407],\n",
       "       [ 4702.06545737,  3216.3277861 ,  2215.57766129,  6064.02909525],\n",
       "       [ 8291.46164087,  5671.56257281,  3906.8739807 , 10693.10180562],\n",
       "       [ 5664.94674655,  3874.96214012,  2669.28003828,  7305.81107505]])"
      ]
     },
     "execution_count": 51,
     "metadata": {},
     "output_type": "execute_result"
    }
   ],
   "source": [
    "# now we calculate the expected count\n",
    "expected = np.outer(exercise_data_with_margin.iloc[0:4, 4], exercise_data_with_margin.iloc[4, 0:4]) \\\n",
    "    / exercise_data_with_margin.iloc[4,4]\n",
    "expected"
   ]
  },
  {
   "cell_type": "code",
   "execution_count": 52,
   "metadata": {},
   "outputs": [
    {
     "data": {
      "text/plain": [
       "136.73358988551269"
      ]
     },
     "execution_count": 52,
     "metadata": {},
     "output_type": "execute_result"
    }
   ],
   "source": [
    "# Again we can calculate the chi squared statistics with the same formula es above\n",
    "chi_squared_stat = (((exercise_data-expected)**2)/expected).sum().sum()\n",
    "chi_squared_stat"
   ]
  },
  {
   "cell_type": "code",
   "execution_count": 53,
   "metadata": {},
   "outputs": [
    {
     "name": "stdout",
     "output_type": "stream",
     "text": [
      "Critical value: 21.02606982\n"
     ]
    }
   ],
   "source": [
    "# Again we calculate the critical values\n",
    "critical = stats.chi2.ppf(q = 0.95, df = (5-1) * (4-1)) \n",
    "\n",
    "print('Critical value: %.8f' % critical)"
   ]
  },
  {
   "cell_type": "code",
   "execution_count": 54,
   "metadata": {},
   "outputs": [
    {
     "name": "stdout",
     "output_type": "stream",
     "text": [
      "P_value: 0.000000\n"
     ]
    }
   ],
   "source": [
    "# And we calculate our p value\n",
    "p_value = 1 - stats.chi2.cdf(x=chi_squared_stat, df=(5-1) * (4-1))\n",
    "print(\"P_value: %.6f\" % p_value)"
   ]
  },
  {
   "cell_type": "markdown",
   "metadata": {},
   "source": [
    "## Lets visualize the probabilities of our $\\chi^2$ distribution"
   ]
  },
  {
   "cell_type": "code",
   "execution_count": 55,
   "metadata": {},
   "outputs": [],
   "source": [
    "X = np.linspace(0, 150, 1000)"
   ]
  },
  {
   "cell_type": "code",
   "execution_count": 56,
   "metadata": {},
   "outputs": [
    {
     "data": {
      "image/png": "[encoded data removed]",
      "text/plain": [
       "<Figure size 1008x432 with 1 Axes>"
      ]
     },
     "metadata": {
      "needs_background": "light"
     },
     "output_type": "display_data"
    }
   ],
   "source": [
    "fig, ax = plt.subplots(1, figsize=(14, 6))\n",
    "linestyles = [':','--','-.','-']\n",
    "degree_of_freedom = [1, 2, 3, 4]\n",
    "for df, ls in zip(degree_of_freedom, linestyles):\n",
    "    ax.plot(X, stats.chi2.pdf(X, df), linestyle=ls, label=r'$df=%i$' % df)\n",
    "\n",
    "plt.xlim(0, 150)\n",
    "plt.ylim(0, .5)\n",
    "\n",
    "plt.xlabel('$\\chi^2$')\n",
    "plt.ylabel(r'$f(\\chi^2)$')\n",
    "plt.title(r'$\\chi^2\\ \\mathrm{Distribution}$')\n",
    "\n",
    "# Visualize our critical value\n",
    "plt.vlines(chi_squared_stat, 0, .5, linewidth=1, linestyle='--', alpha=.4)\n",
    "plt.text(chi_squared_stat-13, .4, 'our observation')\n",
    "\n",
    "plt.legend()\n",
    "plt.show()"
   ]
  },
  {
   "cell_type": "markdown",
   "metadata": {},
   "source": [
    "## Enter the time warp"
   ]
  },
  {
   "cell_type": "code",
   "execution_count": 57,
   "metadata": {},
   "outputs": [
    {
     "name": "stdout",
     "output_type": "stream",
     "text": [
      "2011\n",
      "2012\n",
      "2013\n",
      "2014\n",
      "2015\n",
      "2016\n",
      "2017\n",
      "2018\n"
     ]
    }
   ],
   "source": [
    "#data2018 = pd.read_csv('data/2018/survey_results_public.csv')\n",
    "!ls data"
   ]
  },
  {
   "cell_type": "code",
   "execution_count": 58,
   "metadata": {},
   "outputs": [
    {
     "data": {
      "text/plain": [
       "Index(['What Country or Region do you live in?',\n",
       "       'Which US State or Territory do you live in?', 'How old are you?',\n",
       "       'How many years of IT/Programming experience do you have?',\n",
       "       'How would you best describe the industry you work in?'],\n",
       "      dtype='object')"
      ]
     },
     "execution_count": 58,
     "metadata": {},
     "output_type": "execute_result"
    }
   ],
   "source": [
    "# First we make shure, that the schema looks the same\n",
    "data2011 = pd.read_csv('data/2011/2011 Stack Overflow Survey Results.csv', encoding = 'ISO-8859-1', delimiter=',')\n",
    "data2011.columns[:5]"
   ]
  },
  {
   "cell_type": "code",
   "execution_count": 59,
   "metadata": {},
   "outputs": [
    {
     "data": {
      "text/plain": [
       "Index(['What Country or Region do you live in?',\n",
       "       'Which US State or Territory do you live in?', 'How old are you?',\n",
       "       'How many years of IT/Programming experience do you have?',\n",
       "       'How would you best describe the industry you currently work in?'],\n",
       "      dtype='object')"
      ]
     },
     "execution_count": 59,
     "metadata": {},
     "output_type": "execute_result"
    }
   ],
   "source": [
    "data2012 = pd.read_csv('data/2012/2012 Stack Overflow Survey Results.csv', encoding = 'ISO-8859-1', delimiter=',')\n",
    "data2012.columns[:5]"
   ]
  },
  {
   "cell_type": "markdown",
   "metadata": {},
   "source": [
    "Well, they are not at all the same. Unnamed columns are subcolumns."
   ]
  },
  {
   "cell_type": "markdown",
   "metadata": {},
   "source": [
    "### Make a subset of all the years with only the relevant columns \n",
    "* C# and Python\n",
    "* job satisfaction\n",
    "* age\n",
    "* annual compensation"
   ]
  },
  {
   "cell_type": "markdown",
   "metadata": {},
   "source": [
    "#### 2011"
   ]
  },
  {
   "cell_type": "code",
   "execution_count": 289,
   "metadata": {},
   "outputs": [
    {
     "data": {
      "text/html": [
       "<div>\n",
       "<style scoped>\n",
       "    .dataframe tbody tr th:only-of-type {\n",
       "        vertical-align: middle;\n",
       "    }\n",
       "\n",
       "    .dataframe tbody tr th {\n",
       "        vertical-align: top;\n",
       "    }\n",
       "\n",
       "    .dataframe thead th {\n",
       "        text-align: right;\n",
       "    }\n",
       "</style>\n",
       "<table border=\"1\" class=\"dataframe\">\n",
       "  <thead>\n",
       "    <tr style=\"text-align: right;\">\n",
       "      <th></th>\n",
       "      <th>What Country or Region do you live in?</th>\n",
       "      <th>Which US State or Territory do you live in?</th>\n",
       "      <th>How old are you?</th>\n",
       "      <th>How many years of IT/Programming experience do you have?</th>\n",
       "      <th>How would you best describe the industry you work in?</th>\n",
       "      <th>Which best describes the size of your company?</th>\n",
       "      <th>Which of the following best describes your occupation?</th>\n",
       "      <th>How likely is it that a recommendation you make will be acted upon?</th>\n",
       "      <th>What is your involvement in purchasing? You can choose more than 1.</th>\n",
       "      <th>Unnamed: 9</th>\n",
       "      <th>...</th>\n",
       "      <th>Unnamed: 55</th>\n",
       "      <th>Unnamed: 56</th>\n",
       "      <th>Unnamed: 57</th>\n",
       "      <th>Unnamed: 58</th>\n",
       "      <th>Unnamed: 59</th>\n",
       "      <th>Unnamed: 60</th>\n",
       "      <th>Unnamed: 61</th>\n",
       "      <th>Unnamed: 62</th>\n",
       "      <th>In the last 12 months, how much money have you spent on personal technology-related purchases?</th>\n",
       "      <th>Which of our sites do you frequent most?</th>\n",
       "    </tr>\n",
       "  </thead>\n",
       "  <tbody>\n",
       "    <tr>\n",
       "      <th>0</th>\n",
       "      <td>Response</td>\n",
       "      <td>Response</td>\n",
       "      <td>Response</td>\n",
       "      <td>Response</td>\n",
       "      <td>Response</td>\n",
       "      <td>Response</td>\n",
       "      <td>Response</td>\n",
       "      <td>Response</td>\n",
       "      <td>Influencer</td>\n",
       "      <td>Recommender</td>\n",
       "      <td>...</td>\n",
       "      <td>AppleTV</td>\n",
       "      <td>iPad</td>\n",
       "      <td>Other netbook</td>\n",
       "      <td>PS3</td>\n",
       "      <td>Xbox</td>\n",
       "      <td>Wii</td>\n",
       "      <td>Other gaming system</td>\n",
       "      <td>other (please specify)</td>\n",
       "      <td>Response</td>\n",
       "      <td>Response</td>\n",
       "    </tr>\n",
       "    <tr>\n",
       "      <th>1</th>\n",
       "      <td>Africa</td>\n",
       "      <td>NaN</td>\n",
       "      <td>&lt; 20</td>\n",
       "      <td>&lt;2</td>\n",
       "      <td>Consulting</td>\n",
       "      <td>Start Up (1-25)</td>\n",
       "      <td>Web Application Developer</td>\n",
       "      <td>Not in a million years</td>\n",
       "      <td>NaN</td>\n",
       "      <td>NaN</td>\n",
       "      <td>...</td>\n",
       "      <td>NaN</td>\n",
       "      <td>NaN</td>\n",
       "      <td>NaN</td>\n",
       "      <td>NaN</td>\n",
       "      <td>NaN</td>\n",
       "      <td>NaN</td>\n",
       "      <td>NaN</td>\n",
       "      <td>NaN</td>\n",
       "      <td>&lt;$100</td>\n",
       "      <td>NaN</td>\n",
       "    </tr>\n",
       "    <tr>\n",
       "      <th>2</th>\n",
       "      <td>Other Europe</td>\n",
       "      <td>NaN</td>\n",
       "      <td>25-29</td>\n",
       "      <td>41310</td>\n",
       "      <td>Software Products</td>\n",
       "      <td>Mature Small Business (25-100)</td>\n",
       "      <td>Server Programmer</td>\n",
       "      <td>It's been known to happen</td>\n",
       "      <td>NaN</td>\n",
       "      <td>NaN</td>\n",
       "      <td>...</td>\n",
       "      <td>NaN</td>\n",
       "      <td>NaN</td>\n",
       "      <td>Other netbook</td>\n",
       "      <td>NaN</td>\n",
       "      <td>NaN</td>\n",
       "      <td>NaN</td>\n",
       "      <td>NaN</td>\n",
       "      <td>NaN</td>\n",
       "      <td>$251-$500</td>\n",
       "      <td>Stack Overflow</td>\n",
       "    </tr>\n",
       "    <tr>\n",
       "      <th>3</th>\n",
       "      <td>India</td>\n",
       "      <td>NaN</td>\n",
       "      <td>25-29</td>\n",
       "      <td>41435</td>\n",
       "      <td>Software Products</td>\n",
       "      <td>Mid Sized (100-999)</td>\n",
       "      <td>Server Programmer</td>\n",
       "      <td>Unless it's stoopid it gets done</td>\n",
       "      <td>NaN</td>\n",
       "      <td>NaN</td>\n",
       "      <td>...</td>\n",
       "      <td>NaN</td>\n",
       "      <td>NaN</td>\n",
       "      <td>NaN</td>\n",
       "      <td>NaN</td>\n",
       "      <td>NaN</td>\n",
       "      <td>NaN</td>\n",
       "      <td>NaN</td>\n",
       "      <td>NaN</td>\n",
       "      <td>NaN</td>\n",
       "      <td>NaN</td>\n",
       "    </tr>\n",
       "    <tr>\n",
       "      <th>4</th>\n",
       "      <td>Germany</td>\n",
       "      <td>NaN</td>\n",
       "      <td>&lt; 20</td>\n",
       "      <td>41310</td>\n",
       "      <td>Foundation / Non-Profit</td>\n",
       "      <td>Student</td>\n",
       "      <td>Student</td>\n",
       "      <td>It's been known to happen</td>\n",
       "      <td>NaN</td>\n",
       "      <td>NaN</td>\n",
       "      <td>...</td>\n",
       "      <td>NaN</td>\n",
       "      <td>NaN</td>\n",
       "      <td>NaN</td>\n",
       "      <td>NaN</td>\n",
       "      <td>NaN</td>\n",
       "      <td>Wii</td>\n",
       "      <td>Other gaming system</td>\n",
       "      <td>NaN</td>\n",
       "      <td>$501-$1,000</td>\n",
       "      <td>Stack Overflow</td>\n",
       "    </tr>\n",
       "  </tbody>\n",
       "</table>\n",
       "<p>5 rows × 65 columns</p>\n",
       "</div>"
      ],
      "text/plain": [
       "  What Country or Region do you live in?  \\\n",
       "0                               Response   \n",
       "1                                 Africa   \n",
       "2                           Other Europe   \n",
       "3                                  India   \n",
       "4                                Germany   \n",
       "\n",
       "  Which US State or Territory do you live in? How old are you?  \\\n",
       "0                                    Response         Response   \n",
       "1                                         NaN             < 20   \n",
       "2                                         NaN            25-29   \n",
       "3                                         NaN            25-29   \n",
       "4                                         NaN             < 20   \n",
       "\n",
       "  How many years of IT/Programming experience do you have?  \\\n",
       "0                                                 Response   \n",
       "1                                                       <2   \n",
       "2                                                    41310   \n",
       "3                                                    41435   \n",
       "4                                                    41310   \n",
       "\n",
       "  How would you best describe the industry you work in?  \\\n",
       "0                                              Response   \n",
       "1                                            Consulting   \n",
       "2                                     Software Products   \n",
       "3                                     Software Products   \n",
       "4                               Foundation / Non-Profit   \n",
       "\n",
       "  Which best describes the size of your company?  \\\n",
       "0                                       Response   \n",
       "1                                Start Up (1-25)   \n",
       "2                 Mature Small Business (25-100)   \n",
       "3                            Mid Sized (100-999)   \n",
       "4                                        Student   \n",
       "\n",
       "  Which of the following best describes your occupation?  \\\n",
       "0                                               Response   \n",
       "1                              Web Application Developer   \n",
       "2                                      Server Programmer   \n",
       "3                                      Server Programmer   \n",
       "4                                                Student   \n",
       "\n",
       "  How likely is it that a recommendation you make will be acted upon?  \\\n",
       "0                                                            Response   \n",
       "1                                              Not in a million years   \n",
       "2                                           It's been known to happen   \n",
       "3                                    Unless it's stoopid it gets done   \n",
       "4                                           It's been known to happen   \n",
       "\n",
       "  What is your involvement in purchasing? You can choose more than 1.  \\\n",
       "0                                                          Influencer   \n",
       "1                                                                 NaN   \n",
       "2                                                                 NaN   \n",
       "3                                                                 NaN   \n",
       "4                                                                 NaN   \n",
       "\n",
       "    Unnamed: 9                   ...                    Unnamed: 55  \\\n",
       "0  Recommender                   ...                        AppleTV   \n",
       "1          NaN                   ...                            NaN   \n",
       "2          NaN                   ...                            NaN   \n",
       "3          NaN                   ...                            NaN   \n",
       "4          NaN                   ...                            NaN   \n",
       "\n",
       "  Unnamed: 56    Unnamed: 57 Unnamed: 58 Unnamed: 59 Unnamed: 60  \\\n",
       "0        iPad  Other netbook         PS3        Xbox         Wii   \n",
       "1         NaN            NaN         NaN         NaN         NaN   \n",
       "2         NaN  Other netbook         NaN         NaN         NaN   \n",
       "3         NaN            NaN         NaN         NaN         NaN   \n",
       "4         NaN            NaN         NaN         NaN         Wii   \n",
       "\n",
       "           Unnamed: 61             Unnamed: 62  \\\n",
       "0  Other gaming system  other (please specify)   \n",
       "1                  NaN                     NaN   \n",
       "2                  NaN                     NaN   \n",
       "3                  NaN                     NaN   \n",
       "4  Other gaming system                     NaN   \n",
       "\n",
       "  In the last 12 months, how much money have you spent on personal technology-related purchases?   \\\n",
       "0                                                                                        Response   \n",
       "1                                                                                           <$100   \n",
       "2                                                                                       $251-$500   \n",
       "3                                                                                             NaN   \n",
       "4                                                                                     $501-$1,000   \n",
       "\n",
       "  Which of our sites do you frequent most?  \n",
       "0                                 Response  \n",
       "1                                      NaN  \n",
       "2                           Stack Overflow  \n",
       "3                                      NaN  \n",
       "4                           Stack Overflow  \n",
       "\n",
       "[5 rows x 65 columns]"
      ]
     },
     "execution_count": 289,
     "metadata": {},
     "output_type": "execute_result"
    }
   ],
   "source": [
    "data2011.head()"
   ]
  },
  {
   "cell_type": "code",
   "execution_count": 290,
   "metadata": {},
   "outputs": [
    {
     "data": {
      "text/html": [
       "<div>\n",
       "<style scoped>\n",
       "    .dataframe tbody tr th:only-of-type {\n",
       "        vertical-align: middle;\n",
       "    }\n",
       "\n",
       "    .dataframe tbody tr th {\n",
       "        vertical-align: top;\n",
       "    }\n",
       "\n",
       "    .dataframe thead th {\n",
       "        text-align: right;\n",
       "    }\n",
       "</style>\n",
       "<table border=\"1\" class=\"dataframe\">\n",
       "  <thead>\n",
       "    <tr style=\"text-align: right;\">\n",
       "      <th></th>\n",
       "      <th>How old are you?</th>\n",
       "      <th>Please rate your job/career satisfaction</th>\n",
       "      <th>Including bonus, what is your annual compensation in USD?</th>\n",
       "      <th>Unnamed: 37</th>\n",
       "      <th>Unnamed: 34</th>\n",
       "      <th>year</th>\n",
       "    </tr>\n",
       "  </thead>\n",
       "  <tbody>\n",
       "    <tr>\n",
       "      <th>1</th>\n",
       "      <td>&lt; 20</td>\n",
       "      <td>FML</td>\n",
       "      <td>Student / Unemployed</td>\n",
       "      <td>NaN</td>\n",
       "      <td>NaN</td>\n",
       "      <td>2011</td>\n",
       "    </tr>\n",
       "    <tr>\n",
       "      <th>2</th>\n",
       "      <td>25-29</td>\n",
       "      <td>So happy it hurts</td>\n",
       "      <td>NaN</td>\n",
       "      <td>NaN</td>\n",
       "      <td>NaN</td>\n",
       "      <td>2011</td>\n",
       "    </tr>\n",
       "    <tr>\n",
       "      <th>3</th>\n",
       "      <td>25-29</td>\n",
       "      <td>NaN</td>\n",
       "      <td>NaN</td>\n",
       "      <td>NaN</td>\n",
       "      <td>NaN</td>\n",
       "      <td>2011</td>\n",
       "    </tr>\n",
       "    <tr>\n",
       "      <th>4</th>\n",
       "      <td>&lt; 20</td>\n",
       "      <td>I enjoy going to work</td>\n",
       "      <td>Student / Unemployed</td>\n",
       "      <td>NaN</td>\n",
       "      <td>NaN</td>\n",
       "      <td>2011</td>\n",
       "    </tr>\n",
       "  </tbody>\n",
       "</table>\n",
       "</div>"
      ],
      "text/plain": [
       "  How old are you? Please rate your job/career satisfaction  \\\n",
       "1             < 20                                      FML   \n",
       "2            25-29                        So happy it hurts   \n",
       "3            25-29                                      NaN   \n",
       "4             < 20                    I enjoy going to work   \n",
       "\n",
       "  Including bonus, what is your annual compensation in USD? Unnamed: 37  \\\n",
       "1                                      Student / Unemployed         NaN   \n",
       "2                                                       NaN         NaN   \n",
       "3                                                       NaN         NaN   \n",
       "4                                      Student / Unemployed         NaN   \n",
       "\n",
       "  Unnamed: 34  year  \n",
       "1         NaN  2011  \n",
       "2         NaN  2011  \n",
       "3         NaN  2011  \n",
       "4         NaN  2011  "
      ]
     },
     "execution_count": 290,
     "metadata": {},
     "output_type": "execute_result"
    }
   ],
   "source": [
    "# Remove first row and add column for year\n",
    "subset2011 = data2011.iloc[1:, [2, 44, 45, 37, 34]]\n",
    "subset2011['year'] = 2011\n",
    "subset2011.head(4)"
   ]
  },
  {
   "cell_type": "code",
   "execution_count": 291,
   "metadata": {},
   "outputs": [],
   "source": [
    "subset_columns = ['age', 'job_satisfaction', 'annual_compensation', 'csharp', 'python', 'year'] \n",
    "subset2011.columns = subset_columns"
   ]
  },
  {
   "cell_type": "code",
   "execution_count": 292,
   "metadata": {},
   "outputs": [],
   "source": [
    "# We transform languages in boolean columns\n",
    "subset2011['csharp'] = subset2011['csharp'].apply(lambda c: c == 'C#')\n",
    "subset2011['python'] = subset2011['python'].apply(lambda c: c == 'Python')"
   ]
  },
  {
   "cell_type": "code",
   "execution_count": 293,
   "metadata": {},
   "outputs": [],
   "source": [
    "subset2011['python_and_csharp'] = subset2011['csharp'] & subset2011['python']"
   ]
  },
  {
   "cell_type": "code",
   "execution_count": 294,
   "metadata": {},
   "outputs": [],
   "source": [
    "# reorder columns for sanity\n",
    "subset2011 = subset2011.iloc[:, [5,0, 1,2,3,4,6]]"
   ]
  },
  {
   "cell_type": "code",
   "execution_count": 295,
   "metadata": {},
   "outputs": [
    {
     "data": {
      "text/html": [
       "<div>\n",
       "<style scoped>\n",
       "    .dataframe tbody tr th:only-of-type {\n",
       "        vertical-align: middle;\n",
       "    }\n",
       "\n",
       "    .dataframe tbody tr th {\n",
       "        vertical-align: top;\n",
       "    }\n",
       "\n",
       "    .dataframe thead th {\n",
       "        text-align: right;\n",
       "    }\n",
       "</style>\n",
       "<table border=\"1\" class=\"dataframe\">\n",
       "  <thead>\n",
       "    <tr style=\"text-align: right;\">\n",
       "      <th></th>\n",
       "      <th>year</th>\n",
       "      <th>age</th>\n",
       "      <th>job_satisfaction</th>\n",
       "      <th>annual_compensation</th>\n",
       "      <th>csharp</th>\n",
       "      <th>python</th>\n",
       "      <th>python_and_csharp</th>\n",
       "    </tr>\n",
       "  </thead>\n",
       "  <tbody>\n",
       "    <tr>\n",
       "      <th>1</th>\n",
       "      <td>2011</td>\n",
       "      <td>&lt; 20</td>\n",
       "      <td>FML</td>\n",
       "      <td>Student / Unemployed</td>\n",
       "      <td>False</td>\n",
       "      <td>False</td>\n",
       "      <td>False</td>\n",
       "    </tr>\n",
       "    <tr>\n",
       "      <th>2</th>\n",
       "      <td>2011</td>\n",
       "      <td>25-29</td>\n",
       "      <td>So happy it hurts</td>\n",
       "      <td>NaN</td>\n",
       "      <td>False</td>\n",
       "      <td>False</td>\n",
       "      <td>False</td>\n",
       "    </tr>\n",
       "    <tr>\n",
       "      <th>3</th>\n",
       "      <td>2011</td>\n",
       "      <td>25-29</td>\n",
       "      <td>NaN</td>\n",
       "      <td>NaN</td>\n",
       "      <td>False</td>\n",
       "      <td>False</td>\n",
       "      <td>False</td>\n",
       "    </tr>\n",
       "    <tr>\n",
       "      <th>4</th>\n",
       "      <td>2011</td>\n",
       "      <td>&lt; 20</td>\n",
       "      <td>I enjoy going to work</td>\n",
       "      <td>Student / Unemployed</td>\n",
       "      <td>False</td>\n",
       "      <td>False</td>\n",
       "      <td>False</td>\n",
       "    </tr>\n",
       "    <tr>\n",
       "      <th>5</th>\n",
       "      <td>2011</td>\n",
       "      <td>35-39</td>\n",
       "      <td>It pays the bills</td>\n",
       "      <td>$80,000 - $100,000</td>\n",
       "      <td>False</td>\n",
       "      <td>False</td>\n",
       "      <td>False</td>\n",
       "    </tr>\n",
       "    <tr>\n",
       "      <th>6</th>\n",
       "      <td>2011</td>\n",
       "      <td>35-39</td>\n",
       "      <td>So happy it hurts</td>\n",
       "      <td>NaN</td>\n",
       "      <td>True</td>\n",
       "      <td>False</td>\n",
       "      <td>False</td>\n",
       "    </tr>\n",
       "    <tr>\n",
       "      <th>7</th>\n",
       "      <td>2011</td>\n",
       "      <td>20-24</td>\n",
       "      <td>It pays the bills</td>\n",
       "      <td>$20,000 - $40,000</td>\n",
       "      <td>True</td>\n",
       "      <td>True</td>\n",
       "      <td>True</td>\n",
       "    </tr>\n",
       "    <tr>\n",
       "      <th>8</th>\n",
       "      <td>2011</td>\n",
       "      <td>20-24</td>\n",
       "      <td>I enjoy going to work</td>\n",
       "      <td>$80,000 - $100,000</td>\n",
       "      <td>False</td>\n",
       "      <td>False</td>\n",
       "      <td>False</td>\n",
       "    </tr>\n",
       "    <tr>\n",
       "      <th>9</th>\n",
       "      <td>2011</td>\n",
       "      <td>35-39</td>\n",
       "      <td>I enjoy going to work</td>\n",
       "      <td>$80,000 - $100,000</td>\n",
       "      <td>True</td>\n",
       "      <td>False</td>\n",
       "      <td>False</td>\n",
       "    </tr>\n",
       "    <tr>\n",
       "      <th>10</th>\n",
       "      <td>2011</td>\n",
       "      <td>NaN</td>\n",
       "      <td>NaN</td>\n",
       "      <td>NaN</td>\n",
       "      <td>False</td>\n",
       "      <td>False</td>\n",
       "      <td>False</td>\n",
       "    </tr>\n",
       "  </tbody>\n",
       "</table>\n",
       "</div>"
      ],
      "text/plain": [
       "    year    age       job_satisfaction   annual_compensation  csharp  python  \\\n",
       "1   2011   < 20                    FML  Student / Unemployed   False   False   \n",
       "2   2011  25-29      So happy it hurts                   NaN   False   False   \n",
       "3   2011  25-29                    NaN                   NaN   False   False   \n",
       "4   2011   < 20  I enjoy going to work  Student / Unemployed   False   False   \n",
       "5   2011  35-39      It pays the bills    $80,000 - $100,000   False   False   \n",
       "6   2011  35-39      So happy it hurts                   NaN    True   False   \n",
       "7   2011  20-24      It pays the bills     $20,000 - $40,000    True    True   \n",
       "8   2011  20-24  I enjoy going to work    $80,000 - $100,000   False   False   \n",
       "9   2011  35-39  I enjoy going to work    $80,000 - $100,000    True   False   \n",
       "10  2011    NaN                    NaN                   NaN   False   False   \n",
       "\n",
       "    python_and_csharp  \n",
       "1               False  \n",
       "2               False  \n",
       "3               False  \n",
       "4               False  \n",
       "5               False  \n",
       "6               False  \n",
       "7                True  \n",
       "8               False  \n",
       "9               False  \n",
       "10              False  "
      ]
     },
     "execution_count": 295,
     "metadata": {},
     "output_type": "execute_result"
    }
   ],
   "source": [
    "subset2011.head(10)"
   ]
  },
  {
   "cell_type": "markdown",
   "metadata": {},
   "source": [
    "#### 2012"
   ]
  },
  {
   "cell_type": "code",
   "execution_count": 296,
   "metadata": {},
   "outputs": [
    {
     "data": {
      "text/html": [
       "<div>\n",
       "<style scoped>\n",
       "    .dataframe tbody tr th:only-of-type {\n",
       "        vertical-align: middle;\n",
       "    }\n",
       "\n",
       "    .dataframe tbody tr th {\n",
       "        vertical-align: top;\n",
       "    }\n",
       "\n",
       "    .dataframe thead th {\n",
       "        text-align: right;\n",
       "    }\n",
       "</style>\n",
       "<table border=\"1\" class=\"dataframe\">\n",
       "  <thead>\n",
       "    <tr style=\"text-align: right;\">\n",
       "      <th></th>\n",
       "      <th>age</th>\n",
       "      <th>job_satisfaction</th>\n",
       "      <th>annual_compensation</th>\n",
       "      <th>csharp</th>\n",
       "      <th>python</th>\n",
       "      <th>year</th>\n",
       "    </tr>\n",
       "  </thead>\n",
       "  <tbody>\n",
       "    <tr>\n",
       "      <th>1</th>\n",
       "      <td>20-24</td>\n",
       "      <td>Love my job</td>\n",
       "      <td>&lt;$20,000</td>\n",
       "      <td>NaN</td>\n",
       "      <td>NaN</td>\n",
       "      <td>2012</td>\n",
       "    </tr>\n",
       "    <tr>\n",
       "      <th>2</th>\n",
       "      <td>25-29</td>\n",
       "      <td>I enjoy going to work</td>\n",
       "      <td>$20,000 - $40,000</td>\n",
       "      <td>NaN</td>\n",
       "      <td>NaN</td>\n",
       "      <td>2012</td>\n",
       "    </tr>\n",
       "    <tr>\n",
       "      <th>3</th>\n",
       "      <td>20-24</td>\n",
       "      <td>I enjoy going to work</td>\n",
       "      <td>$20,000 - $40,000</td>\n",
       "      <td>NaN</td>\n",
       "      <td>NaN</td>\n",
       "      <td>2012</td>\n",
       "    </tr>\n",
       "    <tr>\n",
       "      <th>4</th>\n",
       "      <td>20-24</td>\n",
       "      <td>I'm not happy in my job</td>\n",
       "      <td>$20,000 - $40,000</td>\n",
       "      <td>NaN</td>\n",
       "      <td>NaN</td>\n",
       "      <td>2012</td>\n",
       "    </tr>\n",
       "    <tr>\n",
       "      <th>5</th>\n",
       "      <td>&lt; 20</td>\n",
       "      <td>I wish I had a job!</td>\n",
       "      <td>Student / Unemployed</td>\n",
       "      <td>NaN</td>\n",
       "      <td>NaN</td>\n",
       "      <td>2012</td>\n",
       "    </tr>\n",
       "  </tbody>\n",
       "</table>\n",
       "</div>"
      ],
      "text/plain": [
       "     age         job_satisfaction   annual_compensation csharp python  year\n",
       "1  20-24              Love my job              <$20,000    NaN    NaN  2012\n",
       "2  25-29    I enjoy going to work     $20,000 - $40,000    NaN    NaN  2012\n",
       "3  20-24    I enjoy going to work     $20,000 - $40,000    NaN    NaN  2012\n",
       "4  20-24  I'm not happy in my job     $20,000 - $40,000    NaN    NaN  2012\n",
       "5   < 20      I wish I had a job!  Student / Unemployed    NaN    NaN  2012"
      ]
     },
     "execution_count": 296,
     "metadata": {},
     "output_type": "execute_result"
    }
   ],
   "source": [
    "subset2012 = data2012.iloc[1:, [2, 38, 39, 30, 26]]\n",
    "subset2012['year'] = 2012\n",
    "subset2012.columns = subset_columns\n",
    "subset2012.head(5)"
   ]
  },
  {
   "cell_type": "code",
   "execution_count": 297,
   "metadata": {},
   "outputs": [],
   "source": [
    "def cleanup_languages(df):\n",
    "    df['csharp'] = df['csharp'].apply(lambda c: c == 'C#')\n",
    "    df['python'] = df['python'].apply(lambda c: c == 'Python')\n",
    "    df['python_and_csharp'] = df['csharp'] & df['python']"
   ]
  },
  {
   "cell_type": "code",
   "execution_count": 298,
   "metadata": {},
   "outputs": [],
   "source": [
    "cleanup_languages(subset2012)"
   ]
  },
  {
   "cell_type": "code",
   "execution_count": 299,
   "metadata": {},
   "outputs": [],
   "source": [
    "subset2012 = subset2012.loc[:, ['year', 'age', 'job_satisfaction', 'annual_compensation', 'csharp', 'python', 'python_and_csharp']]"
   ]
  },
  {
   "cell_type": "code",
   "execution_count": 300,
   "metadata": {},
   "outputs": [
    {
     "data": {
      "text/html": [
       "<div>\n",
       "<style scoped>\n",
       "    .dataframe tbody tr th:only-of-type {\n",
       "        vertical-align: middle;\n",
       "    }\n",
       "\n",
       "    .dataframe tbody tr th {\n",
       "        vertical-align: top;\n",
       "    }\n",
       "\n",
       "    .dataframe thead th {\n",
       "        text-align: right;\n",
       "    }\n",
       "</style>\n",
       "<table border=\"1\" class=\"dataframe\">\n",
       "  <thead>\n",
       "    <tr style=\"text-align: right;\">\n",
       "      <th></th>\n",
       "      <th>year</th>\n",
       "      <th>age</th>\n",
       "      <th>job_satisfaction</th>\n",
       "      <th>annual_compensation</th>\n",
       "      <th>csharp</th>\n",
       "      <th>python</th>\n",
       "      <th>python_and_csharp</th>\n",
       "    </tr>\n",
       "  </thead>\n",
       "  <tbody>\n",
       "    <tr>\n",
       "      <th>1</th>\n",
       "      <td>2012</td>\n",
       "      <td>20-24</td>\n",
       "      <td>Love my job</td>\n",
       "      <td>&lt;$20,000</td>\n",
       "      <td>False</td>\n",
       "      <td>False</td>\n",
       "      <td>False</td>\n",
       "    </tr>\n",
       "    <tr>\n",
       "      <th>2</th>\n",
       "      <td>2012</td>\n",
       "      <td>25-29</td>\n",
       "      <td>I enjoy going to work</td>\n",
       "      <td>$20,000 - $40,000</td>\n",
       "      <td>False</td>\n",
       "      <td>False</td>\n",
       "      <td>False</td>\n",
       "    </tr>\n",
       "    <tr>\n",
       "      <th>3</th>\n",
       "      <td>2012</td>\n",
       "      <td>20-24</td>\n",
       "      <td>I enjoy going to work</td>\n",
       "      <td>$20,000 - $40,000</td>\n",
       "      <td>False</td>\n",
       "      <td>False</td>\n",
       "      <td>False</td>\n",
       "    </tr>\n",
       "    <tr>\n",
       "      <th>4</th>\n",
       "      <td>2012</td>\n",
       "      <td>20-24</td>\n",
       "      <td>I'm not happy in my job</td>\n",
       "      <td>$20,000 - $40,000</td>\n",
       "      <td>False</td>\n",
       "      <td>False</td>\n",
       "      <td>False</td>\n",
       "    </tr>\n",
       "    <tr>\n",
       "      <th>5</th>\n",
       "      <td>2012</td>\n",
       "      <td>&lt; 20</td>\n",
       "      <td>I wish I had a job!</td>\n",
       "      <td>Student / Unemployed</td>\n",
       "      <td>False</td>\n",
       "      <td>False</td>\n",
       "      <td>False</td>\n",
       "    </tr>\n",
       "  </tbody>\n",
       "</table>\n",
       "</div>"
      ],
      "text/plain": [
       "   year    age         job_satisfaction   annual_compensation  csharp  python  \\\n",
       "1  2012  20-24              Love my job              <$20,000   False   False   \n",
       "2  2012  25-29    I enjoy going to work     $20,000 - $40,000   False   False   \n",
       "3  2012  20-24    I enjoy going to work     $20,000 - $40,000   False   False   \n",
       "4  2012  20-24  I'm not happy in my job     $20,000 - $40,000   False   False   \n",
       "5  2012   < 20      I wish I had a job!  Student / Unemployed   False   False   \n",
       "\n",
       "   python_and_csharp  \n",
       "1              False  \n",
       "2              False  \n",
       "3              False  \n",
       "4              False  \n",
       "5              False  "
      ]
     },
     "execution_count": 300,
     "metadata": {},
     "output_type": "execute_result"
    }
   ],
   "source": [
    "subset2012.head(5)"
   ]
  },
  {
   "cell_type": "code",
   "execution_count": 301,
   "metadata": {},
   "outputs": [
    {
     "data": {
      "text/plain": [
       "True"
      ]
     },
     "execution_count": 301,
     "metadata": {},
     "output_type": "execute_result"
    }
   ],
   "source": [
    "(subset2011.columns == subset2012.columns).all()"
   ]
  },
  {
   "cell_type": "code",
   "execution_count": 302,
   "metadata": {},
   "outputs": [],
   "source": [
    "def print_all(subsets):\n",
    "    for subset in subsets:\n",
    "        print('%s \\t%s (year/observations)' % (subset.iloc[0,0], len(subset)))"
   ]
  },
  {
   "cell_type": "code",
   "execution_count": 303,
   "metadata": {},
   "outputs": [
    {
     "name": "stdout",
     "output_type": "stream",
     "text": [
      "2011 \t2813 (year/observations)\n",
      "2012 \t6243 (year/observations)\n"
     ]
    }
   ],
   "source": [
    "print_all([subset2011, subset2012])"
   ]
  },
  {
   "cell_type": "markdown",
   "metadata": {},
   "source": [
    "#### 2013"
   ]
  },
  {
   "cell_type": "code",
   "execution_count": 304,
   "metadata": {},
   "outputs": [
    {
     "name": "stderr",
     "output_type": "stream",
     "text": [
      "C:\\ProgramData\\Anaconda3\\lib\\site-packages\\IPython\\core\\interactiveshell.py:2785: DtypeWarning: Columns (46,48,62) have mixed types. Specify dtype option on import or set low_memory=False.\n",
      "  interactivity=interactivity, compiler=compiler, result=result)\n"
     ]
    }
   ],
   "source": [
    "data2013 = pd.read_csv('data/2013/2013 Stack Overflow Survey Responses.csv', encoding = 'ISO-8859-1', delimiter=',')"
   ]
  },
  {
   "cell_type": "code",
   "execution_count": 305,
   "metadata": {},
   "outputs": [],
   "source": [
    "import numpy as np"
   ]
  },
  {
   "cell_type": "code",
   "execution_count": 306,
   "metadata": {},
   "outputs": [],
   "source": [
    "keywords = ['compensation','language','satisfaction', 'ow old', 'age', 'c#','python']\n",
    "def find_columns(df):\n",
    "    for c in df.columns.values:\n",
    "        for key in keywords:\n",
    "            if str(c).lower().find(key) >= 0:\n",
    "                print('%s %s' % (np.where(df.columns.values == c)[0], c))\n",
    "                break"
   ]
  },
  {
   "cell_type": "code",
   "execution_count": 307,
   "metadata": {},
   "outputs": [
    {
     "name": "stdout",
     "output_type": "stream",
     "text": [
      "[2] How old are you?\n",
      "[34] In an average week, how do you spend your time?\n",
      "[56] Which of the following languages or technologies have you used significantly in the past year?\n",
      "[99] What best describes your career / job satisfaction?\n",
      "[100] Including bonus, what is your annual compensation in USD?\n"
     ]
    }
   ],
   "source": [
    "find_columns(data2013)"
   ]
  },
  {
   "cell_type": "code",
   "execution_count": 308,
   "metadata": {},
   "outputs": [
    {
     "data": {
      "text/html": [
       "<div>\n",
       "<style scoped>\n",
       "    .dataframe tbody tr th:only-of-type {\n",
       "        vertical-align: middle;\n",
       "    }\n",
       "\n",
       "    .dataframe tbody tr th {\n",
       "        vertical-align: top;\n",
       "    }\n",
       "\n",
       "    .dataframe thead th {\n",
       "        text-align: right;\n",
       "    }\n",
       "</style>\n",
       "<table border=\"1\" class=\"dataframe\">\n",
       "  <thead>\n",
       "    <tr style=\"text-align: right;\">\n",
       "      <th></th>\n",
       "      <th>How old are you?</th>\n",
       "      <th>What best describes your career / job satisfaction?</th>\n",
       "      <th>Including bonus, what is your annual compensation in USD?</th>\n",
       "      <th>Unnamed: 58</th>\n",
       "      <th>Unnamed: 66</th>\n",
       "    </tr>\n",
       "  </thead>\n",
       "  <tbody>\n",
       "    <tr>\n",
       "      <th>1</th>\n",
       "      <td>35-39</td>\n",
       "      <td>It's a paycheck</td>\n",
       "      <td>$80,000 - $100,000</td>\n",
       "      <td>NaN</td>\n",
       "      <td>NaN</td>\n",
       "    </tr>\n",
       "    <tr>\n",
       "      <th>2</th>\n",
       "      <td>25-29</td>\n",
       "      <td>It's a paycheck</td>\n",
       "      <td>$20,000 - $40,000</td>\n",
       "      <td>C#</td>\n",
       "      <td>NaN</td>\n",
       "    </tr>\n",
       "    <tr>\n",
       "      <th>3</th>\n",
       "      <td>51-60</td>\n",
       "      <td>I'm not happy in my job</td>\n",
       "      <td>$120,000 - $140,000</td>\n",
       "      <td>C#</td>\n",
       "      <td>NaN</td>\n",
       "    </tr>\n",
       "    <tr>\n",
       "      <th>4</th>\n",
       "      <td>NaN</td>\n",
       "      <td>NaN</td>\n",
       "      <td>NaN</td>\n",
       "      <td>NaN</td>\n",
       "      <td>NaN</td>\n",
       "    </tr>\n",
       "    <tr>\n",
       "      <th>5</th>\n",
       "      <td>35-39</td>\n",
       "      <td>NaN</td>\n",
       "      <td>NaN</td>\n",
       "      <td>NaN</td>\n",
       "      <td>NaN</td>\n",
       "    </tr>\n",
       "  </tbody>\n",
       "</table>\n",
       "</div>"
      ],
      "text/plain": [
       "  How old are you? What best describes your career / job satisfaction?  \\\n",
       "1            35-39                                     It's a paycheck   \n",
       "2            25-29                                     It's a paycheck   \n",
       "3            51-60                             I'm not happy in my job   \n",
       "4              NaN                                                 NaN   \n",
       "5            35-39                                                 NaN   \n",
       "\n",
       "  Including bonus, what is your annual compensation in USD? Unnamed: 58  \\\n",
       "1                                        $80,000 - $100,000         NaN   \n",
       "2                                         $20,000 - $40,000          C#   \n",
       "3                                       $120,000 - $140,000          C#   \n",
       "4                                                       NaN         NaN   \n",
       "5                                                       NaN         NaN   \n",
       "\n",
       "  Unnamed: 66  \n",
       "1         NaN  \n",
       "2         NaN  \n",
       "3         NaN  \n",
       "4         NaN  \n",
       "5         NaN  "
      ]
     },
     "execution_count": 308,
     "metadata": {},
     "output_type": "execute_result"
    }
   ],
   "source": [
    "data2013.iloc[1:, [2, 99, 100, 58, 66]].head()"
   ]
  },
  {
   "cell_type": "code",
   "execution_count": 309,
   "metadata": {},
   "outputs": [
    {
     "data": {
      "text/html": [
       "<div>\n",
       "<style scoped>\n",
       "    .dataframe tbody tr th:only-of-type {\n",
       "        vertical-align: middle;\n",
       "    }\n",
       "\n",
       "    .dataframe tbody tr th {\n",
       "        vertical-align: top;\n",
       "    }\n",
       "\n",
       "    .dataframe thead th {\n",
       "        text-align: right;\n",
       "    }\n",
       "</style>\n",
       "<table border=\"1\" class=\"dataframe\">\n",
       "  <thead>\n",
       "    <tr style=\"text-align: right;\">\n",
       "      <th></th>\n",
       "      <th>age</th>\n",
       "      <th>job_satisfaction</th>\n",
       "      <th>annual_compensation</th>\n",
       "      <th>csharp</th>\n",
       "      <th>python</th>\n",
       "      <th>year</th>\n",
       "    </tr>\n",
       "  </thead>\n",
       "  <tbody>\n",
       "    <tr>\n",
       "      <th>1</th>\n",
       "      <td>35-39</td>\n",
       "      <td>It's a paycheck</td>\n",
       "      <td>$80,000 - $100,000</td>\n",
       "      <td>NaN</td>\n",
       "      <td>NaN</td>\n",
       "      <td>2013</td>\n",
       "    </tr>\n",
       "    <tr>\n",
       "      <th>2</th>\n",
       "      <td>25-29</td>\n",
       "      <td>It's a paycheck</td>\n",
       "      <td>$20,000 - $40,000</td>\n",
       "      <td>C#</td>\n",
       "      <td>NaN</td>\n",
       "      <td>2013</td>\n",
       "    </tr>\n",
       "    <tr>\n",
       "      <th>3</th>\n",
       "      <td>51-60</td>\n",
       "      <td>I'm not happy in my job</td>\n",
       "      <td>$120,000 - $140,000</td>\n",
       "      <td>C#</td>\n",
       "      <td>NaN</td>\n",
       "      <td>2013</td>\n",
       "    </tr>\n",
       "    <tr>\n",
       "      <th>4</th>\n",
       "      <td>NaN</td>\n",
       "      <td>NaN</td>\n",
       "      <td>NaN</td>\n",
       "      <td>NaN</td>\n",
       "      <td>NaN</td>\n",
       "      <td>2013</td>\n",
       "    </tr>\n",
       "  </tbody>\n",
       "</table>\n",
       "</div>"
      ],
      "text/plain": [
       "     age         job_satisfaction  annual_compensation csharp python  year\n",
       "1  35-39          It's a paycheck   $80,000 - $100,000    NaN    NaN  2013\n",
       "2  25-29          It's a paycheck    $20,000 - $40,000     C#    NaN  2013\n",
       "3  51-60  I'm not happy in my job  $120,000 - $140,000     C#    NaN  2013\n",
       "4    NaN                      NaN                  NaN    NaN    NaN  2013"
      ]
     },
     "execution_count": 309,
     "metadata": {},
     "output_type": "execute_result"
    }
   ],
   "source": [
    "subset2013 = data2013.iloc[1:, [2, 99, 100, 58, 66]]\n",
    "subset2013['year'] = 2013\n",
    "subset2013.columns = subset_columns\n",
    "subset2013.head(4)"
   ]
  },
  {
   "cell_type": "code",
   "execution_count": 310,
   "metadata": {},
   "outputs": [],
   "source": [
    "cleanup_languages(subset2013)"
   ]
  },
  {
   "cell_type": "code",
   "execution_count": 311,
   "metadata": {},
   "outputs": [],
   "source": [
    "def cleanup_order(df):\n",
    "    return df.loc[:, ['year', 'age', 'job_satisfaction', 'annual_compensation', 'csharp', 'python', 'python_and_csharp']]"
   ]
  },
  {
   "cell_type": "code",
   "execution_count": 312,
   "metadata": {},
   "outputs": [],
   "source": [
    "subset2013 = cleanup_order(subset2013)"
   ]
  },
  {
   "cell_type": "code",
   "execution_count": 313,
   "metadata": {},
   "outputs": [
    {
     "data": {
      "text/html": [
       "<div>\n",
       "<style scoped>\n",
       "    .dataframe tbody tr th:only-of-type {\n",
       "        vertical-align: middle;\n",
       "    }\n",
       "\n",
       "    .dataframe tbody tr th {\n",
       "        vertical-align: top;\n",
       "    }\n",
       "\n",
       "    .dataframe thead th {\n",
       "        text-align: right;\n",
       "    }\n",
       "</style>\n",
       "<table border=\"1\" class=\"dataframe\">\n",
       "  <thead>\n",
       "    <tr style=\"text-align: right;\">\n",
       "      <th></th>\n",
       "      <th>year</th>\n",
       "      <th>age</th>\n",
       "      <th>job_satisfaction</th>\n",
       "      <th>annual_compensation</th>\n",
       "      <th>csharp</th>\n",
       "      <th>python</th>\n",
       "      <th>python_and_csharp</th>\n",
       "    </tr>\n",
       "  </thead>\n",
       "  <tbody>\n",
       "    <tr>\n",
       "      <th>1</th>\n",
       "      <td>2013</td>\n",
       "      <td>35-39</td>\n",
       "      <td>It's a paycheck</td>\n",
       "      <td>$80,000 - $100,000</td>\n",
       "      <td>False</td>\n",
       "      <td>False</td>\n",
       "      <td>False</td>\n",
       "    </tr>\n",
       "    <tr>\n",
       "      <th>2</th>\n",
       "      <td>2013</td>\n",
       "      <td>25-29</td>\n",
       "      <td>It's a paycheck</td>\n",
       "      <td>$20,000 - $40,000</td>\n",
       "      <td>True</td>\n",
       "      <td>False</td>\n",
       "      <td>False</td>\n",
       "    </tr>\n",
       "    <tr>\n",
       "      <th>3</th>\n",
       "      <td>2013</td>\n",
       "      <td>51-60</td>\n",
       "      <td>I'm not happy in my job</td>\n",
       "      <td>$120,000 - $140,000</td>\n",
       "      <td>True</td>\n",
       "      <td>False</td>\n",
       "      <td>False</td>\n",
       "    </tr>\n",
       "    <tr>\n",
       "      <th>4</th>\n",
       "      <td>2013</td>\n",
       "      <td>NaN</td>\n",
       "      <td>NaN</td>\n",
       "      <td>NaN</td>\n",
       "      <td>False</td>\n",
       "      <td>False</td>\n",
       "      <td>False</td>\n",
       "    </tr>\n",
       "    <tr>\n",
       "      <th>5</th>\n",
       "      <td>2013</td>\n",
       "      <td>35-39</td>\n",
       "      <td>NaN</td>\n",
       "      <td>NaN</td>\n",
       "      <td>False</td>\n",
       "      <td>False</td>\n",
       "      <td>False</td>\n",
       "    </tr>\n",
       "  </tbody>\n",
       "</table>\n",
       "</div>"
      ],
      "text/plain": [
       "   year    age         job_satisfaction  annual_compensation  csharp  python  \\\n",
       "1  2013  35-39          It's a paycheck   $80,000 - $100,000   False   False   \n",
       "2  2013  25-29          It's a paycheck    $20,000 - $40,000    True   False   \n",
       "3  2013  51-60  I'm not happy in my job  $120,000 - $140,000    True   False   \n",
       "4  2013    NaN                      NaN                  NaN   False   False   \n",
       "5  2013  35-39                      NaN                  NaN   False   False   \n",
       "\n",
       "   python_and_csharp  \n",
       "1              False  \n",
       "2              False  \n",
       "3              False  \n",
       "4              False  \n",
       "5              False  "
      ]
     },
     "execution_count": 313,
     "metadata": {},
     "output_type": "execute_result"
    }
   ],
   "source": [
    "subset2013.head()"
   ]
  },
  {
   "cell_type": "code",
   "execution_count": 314,
   "metadata": {},
   "outputs": [
    {
     "name": "stdout",
     "output_type": "stream",
     "text": [
      "2011 \t2813 (year/observations)\n",
      "2012 \t6243 (year/observations)\n",
      "2013 \t9742 (year/observations)\n"
     ]
    }
   ],
   "source": [
    "print_all([subset2011, subset2012, subset2013])"
   ]
  },
  {
   "cell_type": "code",
   "execution_count": 315,
   "metadata": {},
   "outputs": [],
   "source": [
    "def print_all():\n",
    "    existing_sets = list()\n",
    "    for year in range(2011, 2019):\n",
    "        key = 'subset{0}'.format(year)\n",
    "        if key in globals().keys():\n",
    "            subset = globals()[key]\n",
    "            print('%s \\t%s (year/observations)' % (subset.iloc[0,0], len(subset)))\n",
    "            existing_sets.append(subset)\n",
    "        else:\n",
    "            print('%s\\t not loaded' % year)\n",
    "    schema = existing_sets[0].columns\n",
    "    all_equal = True\n",
    "    for s in existing_sets:\n",
    "        if len(s.columns) != len(schema) or (s.columns != schema).any():\n",
    "            all_equal = False\n",
    "            break\n",
    "    print('%s sets loaded, all columns equal: %s' % (len(existing_sets), all_equal))"
   ]
  },
  {
   "cell_type": "code",
   "execution_count": 316,
   "metadata": {},
   "outputs": [
    {
     "name": "stdout",
     "output_type": "stream",
     "text": [
      "2011 \t2813 (year/observations)\n",
      "2012 \t6243 (year/observations)\n",
      "2013 \t9742 (year/observations)\n",
      "2014 \t7643 (year/observations)\n",
      "2015 \t26086 (year/observations)\n",
      "2016 \t56030 (year/observations)\n",
      "2017 \t51392 (year/observations)\n",
      "2018 \t98855 (year/observations)\n",
      "8 sets loaded, all columns equal: True\n"
     ]
    }
   ],
   "source": [
    "print_all()"
   ]
  },
  {
   "cell_type": "markdown",
   "metadata": {},
   "source": [
    "#### 2014"
   ]
  },
  {
   "cell_type": "code",
   "execution_count": 317,
   "metadata": {},
   "outputs": [],
   "source": [
    "data2014 = pd.read_csv('data/2014/2014 Stack Overflow Survey Responses.csv', encoding = 'ISO-8859-1', delimiter=',')"
   ]
  },
  {
   "cell_type": "code",
   "execution_count": 318,
   "metadata": {},
   "outputs": [
    {
     "name": "stdout",
     "output_type": "stream",
     "text": [
      "[3] How old are you?\n",
      "[7] Including bonus, what is your annual compensation in USD?\n",
      "[20] In an average week, how do you spend your time at work?\n",
      "[42] Which of the following languages or technologies have you used significantly in the past year?\n",
      "[92] In receiving an email about a job opportunity, what attributes of the message would make you more likely to respond?\n"
     ]
    }
   ],
   "source": [
    "find_columns(data2014)"
   ]
  },
  {
   "cell_type": "markdown",
   "metadata": {},
   "source": [
    "Job satisfaction was not measured in 2014!"
   ]
  },
  {
   "cell_type": "code",
   "execution_count": 319,
   "metadata": {},
   "outputs": [],
   "source": [
    "subset2014 = data2014.iloc[1:, [3, 7, 44, 50]]\n",
    "subset2014['job_satisfaction'] = np.nan\n",
    "subset2014['year'] = 2014"
   ]
  },
  {
   "cell_type": "code",
   "execution_count": 320,
   "metadata": {},
   "outputs": [
    {
     "data": {
      "text/html": [
       "<div>\n",
       "<style scoped>\n",
       "    .dataframe tbody tr th:only-of-type {\n",
       "        vertical-align: middle;\n",
       "    }\n",
       "\n",
       "    .dataframe tbody tr th {\n",
       "        vertical-align: top;\n",
       "    }\n",
       "\n",
       "    .dataframe thead th {\n",
       "        text-align: right;\n",
       "    }\n",
       "</style>\n",
       "<table border=\"1\" class=\"dataframe\">\n",
       "  <thead>\n",
       "    <tr style=\"text-align: right;\">\n",
       "      <th></th>\n",
       "      <th>How old are you?</th>\n",
       "      <th>Including bonus, what is your annual compensation in USD?</th>\n",
       "      <th>Unnamed: 44</th>\n",
       "      <th>Unnamed: 50</th>\n",
       "      <th>job_satisfaction</th>\n",
       "      <th>year</th>\n",
       "    </tr>\n",
       "  </thead>\n",
       "  <tbody>\n",
       "    <tr>\n",
       "      <th>1</th>\n",
       "      <td>30-34</td>\n",
       "      <td>$20,000 - $40,000</td>\n",
       "      <td>NaN</td>\n",
       "      <td>Python</td>\n",
       "      <td>NaN</td>\n",
       "      <td>2014</td>\n",
       "    </tr>\n",
       "    <tr>\n",
       "      <th>2</th>\n",
       "      <td>20-24</td>\n",
       "      <td>Student / Unemployed</td>\n",
       "      <td>NaN</td>\n",
       "      <td>NaN</td>\n",
       "      <td>NaN</td>\n",
       "      <td>2014</td>\n",
       "    </tr>\n",
       "    <tr>\n",
       "      <th>3</th>\n",
       "      <td>25-29</td>\n",
       "      <td>&lt;$20,000</td>\n",
       "      <td>C#</td>\n",
       "      <td>NaN</td>\n",
       "      <td>NaN</td>\n",
       "      <td>2014</td>\n",
       "    </tr>\n",
       "    <tr>\n",
       "      <th>4</th>\n",
       "      <td>&lt; 20</td>\n",
       "      <td>Student / Unemployed</td>\n",
       "      <td>NaN</td>\n",
       "      <td>NaN</td>\n",
       "      <td>NaN</td>\n",
       "      <td>2014</td>\n",
       "    </tr>\n",
       "    <tr>\n",
       "      <th>5</th>\n",
       "      <td>25-29</td>\n",
       "      <td>Rather not say</td>\n",
       "      <td>NaN</td>\n",
       "      <td>NaN</td>\n",
       "      <td>NaN</td>\n",
       "      <td>2014</td>\n",
       "    </tr>\n",
       "  </tbody>\n",
       "</table>\n",
       "</div>"
      ],
      "text/plain": [
       "  How old are you? Including bonus, what is your annual compensation in USD?  \\\n",
       "1            30-34                                         $20,000 - $40,000   \n",
       "2            20-24                                      Student / Unemployed   \n",
       "3            25-29                                                  <$20,000   \n",
       "4             < 20                                      Student / Unemployed   \n",
       "5            25-29                                            Rather not say   \n",
       "\n",
       "  Unnamed: 44 Unnamed: 50  job_satisfaction  year  \n",
       "1         NaN      Python               NaN  2014  \n",
       "2         NaN         NaN               NaN  2014  \n",
       "3          C#         NaN               NaN  2014  \n",
       "4         NaN         NaN               NaN  2014  \n",
       "5         NaN         NaN               NaN  2014  "
      ]
     },
     "execution_count": 320,
     "metadata": {},
     "output_type": "execute_result"
    }
   ],
   "source": [
    "subset2014.head()"
   ]
  },
  {
   "cell_type": "code",
   "execution_count": 321,
   "metadata": {},
   "outputs": [
    {
     "data": {
      "text/html": [
       "<div>\n",
       "<style scoped>\n",
       "    .dataframe tbody tr th:only-of-type {\n",
       "        vertical-align: middle;\n",
       "    }\n",
       "\n",
       "    .dataframe tbody tr th {\n",
       "        vertical-align: top;\n",
       "    }\n",
       "\n",
       "    .dataframe thead th {\n",
       "        text-align: right;\n",
       "    }\n",
       "</style>\n",
       "<table border=\"1\" class=\"dataframe\">\n",
       "  <thead>\n",
       "    <tr style=\"text-align: right;\">\n",
       "      <th></th>\n",
       "      <th>age</th>\n",
       "      <th>job_satisfaction</th>\n",
       "      <th>annual_compensation</th>\n",
       "      <th>csharp</th>\n",
       "      <th>python</th>\n",
       "      <th>year</th>\n",
       "    </tr>\n",
       "  </thead>\n",
       "  <tbody>\n",
       "    <tr>\n",
       "      <th>1</th>\n",
       "      <td>30-34</td>\n",
       "      <td>NaN</td>\n",
       "      <td>$20,000 - $40,000</td>\n",
       "      <td>NaN</td>\n",
       "      <td>Python</td>\n",
       "      <td>2014</td>\n",
       "    </tr>\n",
       "    <tr>\n",
       "      <th>2</th>\n",
       "      <td>20-24</td>\n",
       "      <td>NaN</td>\n",
       "      <td>Student / Unemployed</td>\n",
       "      <td>NaN</td>\n",
       "      <td>NaN</td>\n",
       "      <td>2014</td>\n",
       "    </tr>\n",
       "    <tr>\n",
       "      <th>3</th>\n",
       "      <td>25-29</td>\n",
       "      <td>NaN</td>\n",
       "      <td>&lt;$20,000</td>\n",
       "      <td>C#</td>\n",
       "      <td>NaN</td>\n",
       "      <td>2014</td>\n",
       "    </tr>\n",
       "  </tbody>\n",
       "</table>\n",
       "</div>"
      ],
      "text/plain": [
       "     age  job_satisfaction   annual_compensation csharp  python  year\n",
       "1  30-34               NaN     $20,000 - $40,000    NaN  Python  2014\n",
       "2  20-24               NaN  Student / Unemployed    NaN     NaN  2014\n",
       "3  25-29               NaN              <$20,000     C#     NaN  2014"
      ]
     },
     "execution_count": 321,
     "metadata": {},
     "output_type": "execute_result"
    }
   ],
   "source": [
    "subset2014 = subset2014.iloc[:, [0, 4, 1, 2, 3, 5]]\n",
    "subset2014.columns = ['age', 'job_satisfaction', 'annual_compensation', 'csharp', 'python', 'year']\n",
    "subset2014.head(3)"
   ]
  },
  {
   "cell_type": "code",
   "execution_count": 322,
   "metadata": {},
   "outputs": [],
   "source": [
    "cleanup_languages(subset2014)"
   ]
  },
  {
   "cell_type": "code",
   "execution_count": 323,
   "metadata": {},
   "outputs": [
    {
     "data": {
      "text/html": [
       "<div>\n",
       "<style scoped>\n",
       "    .dataframe tbody tr th:only-of-type {\n",
       "        vertical-align: middle;\n",
       "    }\n",
       "\n",
       "    .dataframe tbody tr th {\n",
       "        vertical-align: top;\n",
       "    }\n",
       "\n",
       "    .dataframe thead th {\n",
       "        text-align: right;\n",
       "    }\n",
       "</style>\n",
       "<table border=\"1\" class=\"dataframe\">\n",
       "  <thead>\n",
       "    <tr style=\"text-align: right;\">\n",
       "      <th></th>\n",
       "      <th>year</th>\n",
       "      <th>age</th>\n",
       "      <th>job_satisfaction</th>\n",
       "      <th>annual_compensation</th>\n",
       "      <th>csharp</th>\n",
       "      <th>python</th>\n",
       "      <th>python_and_csharp</th>\n",
       "    </tr>\n",
       "  </thead>\n",
       "  <tbody>\n",
       "    <tr>\n",
       "      <th>1</th>\n",
       "      <td>2014</td>\n",
       "      <td>30-34</td>\n",
       "      <td>NaN</td>\n",
       "      <td>$20,000 - $40,000</td>\n",
       "      <td>False</td>\n",
       "      <td>True</td>\n",
       "      <td>False</td>\n",
       "    </tr>\n",
       "    <tr>\n",
       "      <th>2</th>\n",
       "      <td>2014</td>\n",
       "      <td>20-24</td>\n",
       "      <td>NaN</td>\n",
       "      <td>Student / Unemployed</td>\n",
       "      <td>False</td>\n",
       "      <td>False</td>\n",
       "      <td>False</td>\n",
       "    </tr>\n",
       "    <tr>\n",
       "      <th>3</th>\n",
       "      <td>2014</td>\n",
       "      <td>25-29</td>\n",
       "      <td>NaN</td>\n",
       "      <td>&lt;$20,000</td>\n",
       "      <td>True</td>\n",
       "      <td>False</td>\n",
       "      <td>False</td>\n",
       "    </tr>\n",
       "  </tbody>\n",
       "</table>\n",
       "</div>"
      ],
      "text/plain": [
       "   year    age  job_satisfaction   annual_compensation  csharp  python  \\\n",
       "1  2014  30-34               NaN     $20,000 - $40,000   False    True   \n",
       "2  2014  20-24               NaN  Student / Unemployed   False   False   \n",
       "3  2014  25-29               NaN              <$20,000    True   False   \n",
       "\n",
       "   python_and_csharp  \n",
       "1              False  \n",
       "2              False  \n",
       "3              False  "
      ]
     },
     "execution_count": 323,
     "metadata": {},
     "output_type": "execute_result"
    }
   ],
   "source": [
    "subset2014 = cleanup_order(subset2014)\n",
    "subset2014.head(3)"
   ]
  },
  {
   "cell_type": "code",
   "execution_count": 324,
   "metadata": {},
   "outputs": [
    {
     "name": "stdout",
     "output_type": "stream",
     "text": [
      "2011 \t2813 (year/observations)\n",
      "2012 \t6243 (year/observations)\n",
      "2013 \t9742 (year/observations)\n",
      "2014 \t7643 (year/observations)\n",
      "2015 \t26086 (year/observations)\n",
      "2016 \t56030 (year/observations)\n",
      "2017 \t51392 (year/observations)\n",
      "2018 \t98855 (year/observations)\n",
      "8 sets loaded, all columns equal: True\n"
     ]
    }
   ],
   "source": [
    "print_all()"
   ]
  },
  {
   "cell_type": "markdown",
   "metadata": {},
   "source": [
    "#### 2015"
   ]
  },
  {
   "cell_type": "code",
   "execution_count": 325,
   "metadata": {},
   "outputs": [
    {
     "name": "stderr",
     "output_type": "stream",
     "text": [
      "C:\\ProgramData\\Anaconda3\\lib\\site-packages\\IPython\\core\\interactiveshell.py:2785: DtypeWarning: Columns (5,108,121,196,197,198) have mixed types. Specify dtype option on import or set low_memory=False.\n",
      "  interactivity=interactivity, compiler=compiler, result=result)\n"
     ]
    }
   ],
   "source": [
    "data2015 = pd.read_csv('data/2015/2015 Stack Overflow Developer Survey Responses.csv', encoding = 'ISO-8859-1', \n",
    "                       delimiter=',', header=1)"
   ]
  },
  {
   "cell_type": "code",
   "execution_count": 326,
   "metadata": {},
   "outputs": [
    {
     "data": {
      "text/html": [
       "<div>\n",
       "<style scoped>\n",
       "    .dataframe tbody tr th:only-of-type {\n",
       "        vertical-align: middle;\n",
       "    }\n",
       "\n",
       "    .dataframe tbody tr th {\n",
       "        vertical-align: top;\n",
       "    }\n",
       "\n",
       "    .dataframe thead th {\n",
       "        text-align: right;\n",
       "    }\n",
       "</style>\n",
       "<table border=\"1\" class=\"dataframe\">\n",
       "  <thead>\n",
       "    <tr style=\"text-align: right;\">\n",
       "      <th></th>\n",
       "      <th>Country</th>\n",
       "      <th>Age</th>\n",
       "      <th>Gender</th>\n",
       "      <th>Tabs or Spaces</th>\n",
       "      <th>Years IT / Programming Experience</th>\n",
       "      <th>Occupation</th>\n",
       "      <th>Desktop Operating System</th>\n",
       "      <th>Desktop Operating System: write-in</th>\n",
       "      <th>Current Lang &amp; Tech: Android</th>\n",
       "      <th>Current Lang &amp; Tech: Arduino</th>\n",
       "      <th>...</th>\n",
       "      <th>Why use Stack Overflow: I don't use Stack Overflow</th>\n",
       "      <th>How often are Stack Overflow's answers helpful</th>\n",
       "      <th>Why answer: Help a programmer in need</th>\n",
       "      <th>Why answer: Help future programmers</th>\n",
       "      <th>Why answer: Demonstrate expertise</th>\n",
       "      <th>Why answer: Self promotion</th>\n",
       "      <th>Why answer: Sense of responsibility to developers</th>\n",
       "      <th>Why answer: No idea</th>\n",
       "      <th>Why answer: I don't answer and I don't want to</th>\n",
       "      <th>Why answer: I don't answer but I want to</th>\n",
       "    </tr>\n",
       "  </thead>\n",
       "  <tbody>\n",
       "    <tr>\n",
       "      <th>0</th>\n",
       "      <td>Croatia</td>\n",
       "      <td>25-29</td>\n",
       "      <td>Male</td>\n",
       "      <td>Tabs</td>\n",
       "      <td>2 - 5 years</td>\n",
       "      <td>Back-end web developer</td>\n",
       "      <td>Ubuntu</td>\n",
       "      <td>NaN</td>\n",
       "      <td>NaN</td>\n",
       "      <td>NaN</td>\n",
       "      <td>...</td>\n",
       "      <td>NaN</td>\n",
       "      <td>Usually</td>\n",
       "      <td>NaN</td>\n",
       "      <td>NaN</td>\n",
       "      <td>It feels good to demonstrate my expertise.</td>\n",
       "      <td>Demonstrating my expertise will benefit me</td>\n",
       "      <td>I feel a sense of responsibility to the developer community</td>\n",
       "      <td>NaN</td>\n",
       "      <td>NaN</td>\n",
       "      <td>NaN</td>\n",
       "    </tr>\n",
       "    <tr>\n",
       "      <th>1</th>\n",
       "      <td>France</td>\n",
       "      <td>20-24</td>\n",
       "      <td>Male</td>\n",
       "      <td>Spaces</td>\n",
       "      <td>1 - 2 years</td>\n",
       "      <td>Back-end web developer</td>\n",
       "      <td>Windows 7</td>\n",
       "      <td>NaN</td>\n",
       "      <td>NaN</td>\n",
       "      <td>NaN</td>\n",
       "      <td>...</td>\n",
       "      <td>NaN</td>\n",
       "      <td>Usually</td>\n",
       "      <td>NaN</td>\n",
       "      <td>My answer will help lots of people who have the same problem in the future</td>\n",
       "      <td>It feels good to demonstrate my expertise.</td>\n",
       "      <td>NaN</td>\n",
       "      <td>NaN</td>\n",
       "      <td>NaN</td>\n",
       "      <td>NaN</td>\n",
       "      <td>NaN</td>\n",
       "    </tr>\n",
       "  </tbody>\n",
       "</table>\n",
       "<p>2 rows × 222 columns</p>\n",
       "</div>"
      ],
      "text/plain": [
       "   Country    Age Gender Tabs or Spaces Years IT / Programming Experience  \\\n",
       "0  Croatia  25-29   Male           Tabs                       2 - 5 years   \n",
       "1   France  20-24   Male         Spaces                       1 - 2 years   \n",
       "\n",
       "               Occupation Desktop Operating System  \\\n",
       "0  Back-end web developer                   Ubuntu   \n",
       "1  Back-end web developer                Windows 7   \n",
       "\n",
       "  Desktop Operating System: write-in Current Lang & Tech: Android  \\\n",
       "0                                NaN                          NaN   \n",
       "1                                NaN                          NaN   \n",
       "\n",
       "  Current Lang & Tech: Arduino                   ...                     \\\n",
       "0                          NaN                   ...                      \n",
       "1                          NaN                   ...                      \n",
       "\n",
       "  Why use Stack Overflow: I don't use Stack Overflow  \\\n",
       "0                                                NaN   \n",
       "1                                                NaN   \n",
       "\n",
       "  How often are Stack Overflow's answers helpful  \\\n",
       "0                                        Usually   \n",
       "1                                        Usually   \n",
       "\n",
       "  Why answer: Help a programmer in need  \\\n",
       "0                                   NaN   \n",
       "1                                   NaN   \n",
       "\n",
       "                                          Why answer: Help future programmers  \\\n",
       "0                                                                         NaN   \n",
       "1  My answer will help lots of people who have the same problem in the future   \n",
       "\n",
       "            Why answer: Demonstrate expertise  \\\n",
       "0  It feels good to demonstrate my expertise.   \n",
       "1  It feels good to demonstrate my expertise.   \n",
       "\n",
       "                   Why answer: Self promotion  \\\n",
       "0  Demonstrating my expertise will benefit me   \n",
       "1                                         NaN   \n",
       "\n",
       "             Why answer: Sense of responsibility to developers  \\\n",
       "0  I feel a sense of responsibility to the developer community   \n",
       "1                                                          NaN   \n",
       "\n",
       "  Why answer: No idea Why answer: I don't answer and I don't want to  \\\n",
       "0                 NaN                                            NaN   \n",
       "1                 NaN                                            NaN   \n",
       "\n",
       "  Why answer: I don't answer but I want to  \n",
       "0                                      NaN  \n",
       "1                                      NaN  \n",
       "\n",
       "[2 rows x 222 columns]"
      ]
     },
     "execution_count": 326,
     "metadata": {},
     "output_type": "execute_result"
    }
   ],
   "source": [
    "data2015.head(2)"
   ]
  },
  {
   "cell_type": "code",
   "execution_count": 327,
   "metadata": {},
   "outputs": [
    {
     "name": "stdout",
     "output_type": "stream",
     "text": [
      "[1] Age\n",
      "[14] Current Lang & Tech: C#\n",
      "[35] Current Lang & Tech: Python\n",
      "[57] Future Lang & Tech: C#\n",
      "[78] Future Lang & Tech: Python\n",
      "[105] Compensation\n",
      "[106] Compensation: midpoint\n",
      "[109] Job Satisfaction\n",
      "[121] Most important aspect of new job opportunity: Company stage\n",
      "[149] Appealing message traits: Message is personalized\n",
      "[150] Appealing message traits: Code or projects mentioned\n",
      "[151] Appealing message traits: Stack Overflow activity mentioned\n",
      "[152] Appealing message traits: Team described\n",
      "[153] Appealing message traits: Company culture described\n",
      "[154] Appealing message traits: Salary information\n",
      "[155] Appealing message traits: Benefits & Perks\n",
      "[156] Appealing message traits: Stack Overflow Company Page\n",
      "[168] Who do you want to communicate with about a new job opportunity: Manager\n",
      "[185] How many caffeinated beverages per day?\n"
     ]
    }
   ],
   "source": [
    "find_columns(data2015)"
   ]
  },
  {
   "cell_type": "code",
   "execution_count": 328,
   "metadata": {},
   "outputs": [
    {
     "data": {
      "text/plain": [
       "['age', 'job_satisfaction', 'annual_compensation', 'csharp', 'python', 'year']"
      ]
     },
     "execution_count": 328,
     "metadata": {},
     "output_type": "execute_result"
    }
   ],
   "source": [
    "subset_columns"
   ]
  },
  {
   "cell_type": "code",
   "execution_count": 329,
   "metadata": {},
   "outputs": [
    {
     "name": "stderr",
     "output_type": "stream",
     "text": [
      "C:\\ProgramData\\Anaconda3\\lib\\site-packages\\ipykernel_launcher.py:2: SettingWithCopyWarning: \n",
      "A value is trying to be set on a copy of a slice from a DataFrame.\n",
      "Try using .loc[row_indexer,col_indexer] = value instead\n",
      "\n",
      "See the caveats in the documentation: http://pandas.pydata.org/pandas-docs/stable/indexing.html#indexing-view-versus-copy\n",
      "  \n"
     ]
    },
    {
     "data": {
      "text/html": [
       "<div>\n",
       "<style scoped>\n",
       "    .dataframe tbody tr th:only-of-type {\n",
       "        vertical-align: middle;\n",
       "    }\n",
       "\n",
       "    .dataframe tbody tr th {\n",
       "        vertical-align: top;\n",
       "    }\n",
       "\n",
       "    .dataframe thead th {\n",
       "        text-align: right;\n",
       "    }\n",
       "</style>\n",
       "<table border=\"1\" class=\"dataframe\">\n",
       "  <thead>\n",
       "    <tr style=\"text-align: right;\">\n",
       "      <th></th>\n",
       "      <th>age</th>\n",
       "      <th>job_satisfaction</th>\n",
       "      <th>annual_compensation</th>\n",
       "      <th>csharp</th>\n",
       "      <th>python</th>\n",
       "      <th>year</th>\n",
       "    </tr>\n",
       "  </thead>\n",
       "  <tbody>\n",
       "    <tr>\n",
       "      <th>0</th>\n",
       "      <td>25-29</td>\n",
       "      <td>I'm somewhat satisfied with my job</td>\n",
       "      <td>$20,000 - $40,000</td>\n",
       "      <td>NaN</td>\n",
       "      <td>NaN</td>\n",
       "      <td>2015</td>\n",
       "    </tr>\n",
       "    <tr>\n",
       "      <th>1</th>\n",
       "      <td>20-24</td>\n",
       "      <td>I'm neither satisfied nor dissatisfied with my job</td>\n",
       "      <td>$20,000 - $40,000</td>\n",
       "      <td>C#</td>\n",
       "      <td>NaN</td>\n",
       "      <td>2015</td>\n",
       "    </tr>\n",
       "    <tr>\n",
       "      <th>2</th>\n",
       "      <td>20-24</td>\n",
       "      <td>I'm somewhat satisfied with my job</td>\n",
       "      <td>$80,000 - $100,000</td>\n",
       "      <td>C#</td>\n",
       "      <td>NaN</td>\n",
       "      <td>2015</td>\n",
       "    </tr>\n",
       "  </tbody>\n",
       "</table>\n",
       "</div>"
      ],
      "text/plain": [
       "     age                                    job_satisfaction  \\\n",
       "0  25-29                  I'm somewhat satisfied with my job   \n",
       "1  20-24  I'm neither satisfied nor dissatisfied with my job   \n",
       "2  20-24                  I'm somewhat satisfied with my job   \n",
       "\n",
       "  annual_compensation csharp python  year  \n",
       "0   $20,000 - $40,000    NaN    NaN  2015  \n",
       "1   $20,000 - $40,000     C#    NaN  2015  \n",
       "2  $80,000 - $100,000     C#    NaN  2015  "
      ]
     },
     "execution_count": 329,
     "metadata": {},
     "output_type": "execute_result"
    }
   ],
   "source": [
    "subset2015 = data2015.iloc[:, [1, 109, 105, 14, 35]]\n",
    "subset2015['year'] = 2015\n",
    "subset2015.columns = ['age', 'job_satisfaction', 'annual_compensation', 'csharp', 'python', 'year']\n",
    "subset2015.head(3)"
   ]
  },
  {
   "cell_type": "code",
   "execution_count": 330,
   "metadata": {},
   "outputs": [
    {
     "name": "stderr",
     "output_type": "stream",
     "text": [
      "C:\\ProgramData\\Anaconda3\\lib\\site-packages\\ipykernel_launcher.py:2: SettingWithCopyWarning: \n",
      "A value is trying to be set on a copy of a slice from a DataFrame.\n",
      "Try using .loc[row_indexer,col_indexer] = value instead\n",
      "\n",
      "See the caveats in the documentation: http://pandas.pydata.org/pandas-docs/stable/indexing.html#indexing-view-versus-copy\n",
      "  \n",
      "C:\\ProgramData\\Anaconda3\\lib\\site-packages\\ipykernel_launcher.py:3: SettingWithCopyWarning: \n",
      "A value is trying to be set on a copy of a slice from a DataFrame.\n",
      "Try using .loc[row_indexer,col_indexer] = value instead\n",
      "\n",
      "See the caveats in the documentation: http://pandas.pydata.org/pandas-docs/stable/indexing.html#indexing-view-versus-copy\n",
      "  This is separate from the ipykernel package so we can avoid doing imports until\n",
      "C:\\ProgramData\\Anaconda3\\lib\\site-packages\\ipykernel_launcher.py:4: SettingWithCopyWarning: \n",
      "A value is trying to be set on a copy of a slice from a DataFrame.\n",
      "Try using .loc[row_indexer,col_indexer] = value instead\n",
      "\n",
      "See the caveats in the documentation: http://pandas.pydata.org/pandas-docs/stable/indexing.html#indexing-view-versus-copy\n",
      "  after removing the cwd from sys.path.\n"
     ]
    }
   ],
   "source": [
    "cleanup_languages(subset2015)"
   ]
  },
  {
   "cell_type": "code",
   "execution_count": 331,
   "metadata": {},
   "outputs": [],
   "source": [
    "subset2015 = cleanup_order(subset2015)"
   ]
  },
  {
   "cell_type": "code",
   "execution_count": 332,
   "metadata": {},
   "outputs": [
    {
     "data": {
      "text/html": [
       "<div>\n",
       "<style scoped>\n",
       "    .dataframe tbody tr th:only-of-type {\n",
       "        vertical-align: middle;\n",
       "    }\n",
       "\n",
       "    .dataframe tbody tr th {\n",
       "        vertical-align: top;\n",
       "    }\n",
       "\n",
       "    .dataframe thead th {\n",
       "        text-align: right;\n",
       "    }\n",
       "</style>\n",
       "<table border=\"1\" class=\"dataframe\">\n",
       "  <thead>\n",
       "    <tr style=\"text-align: right;\">\n",
       "      <th></th>\n",
       "      <th>year</th>\n",
       "      <th>age</th>\n",
       "      <th>job_satisfaction</th>\n",
       "      <th>annual_compensation</th>\n",
       "      <th>csharp</th>\n",
       "      <th>python</th>\n",
       "      <th>python_and_csharp</th>\n",
       "    </tr>\n",
       "  </thead>\n",
       "  <tbody>\n",
       "    <tr>\n",
       "      <th>0</th>\n",
       "      <td>2015</td>\n",
       "      <td>25-29</td>\n",
       "      <td>I'm somewhat satisfied with my job</td>\n",
       "      <td>$20,000 - $40,000</td>\n",
       "      <td>False</td>\n",
       "      <td>False</td>\n",
       "      <td>False</td>\n",
       "    </tr>\n",
       "    <tr>\n",
       "      <th>1</th>\n",
       "      <td>2015</td>\n",
       "      <td>20-24</td>\n",
       "      <td>I'm neither satisfied nor dissatisfied with my job</td>\n",
       "      <td>$20,000 - $40,000</td>\n",
       "      <td>True</td>\n",
       "      <td>False</td>\n",
       "      <td>False</td>\n",
       "    </tr>\n",
       "    <tr>\n",
       "      <th>2</th>\n",
       "      <td>2015</td>\n",
       "      <td>20-24</td>\n",
       "      <td>I'm somewhat satisfied with my job</td>\n",
       "      <td>$80,000 - $100,000</td>\n",
       "      <td>True</td>\n",
       "      <td>False</td>\n",
       "      <td>False</td>\n",
       "    </tr>\n",
       "    <tr>\n",
       "      <th>3</th>\n",
       "      <td>2015</td>\n",
       "      <td>25-29</td>\n",
       "      <td>I'm somewhat satisfied with my job</td>\n",
       "      <td>NaN</td>\n",
       "      <td>False</td>\n",
       "      <td>True</td>\n",
       "      <td>False</td>\n",
       "    </tr>\n",
       "    <tr>\n",
       "      <th>4</th>\n",
       "      <td>2015</td>\n",
       "      <td>30-34</td>\n",
       "      <td>I love my job</td>\n",
       "      <td>$60,000 - $80,000</td>\n",
       "      <td>True</td>\n",
       "      <td>False</td>\n",
       "      <td>False</td>\n",
       "    </tr>\n",
       "  </tbody>\n",
       "</table>\n",
       "</div>"
      ],
      "text/plain": [
       "   year    age                                    job_satisfaction  \\\n",
       "0  2015  25-29                  I'm somewhat satisfied with my job   \n",
       "1  2015  20-24  I'm neither satisfied nor dissatisfied with my job   \n",
       "2  2015  20-24                  I'm somewhat satisfied with my job   \n",
       "3  2015  25-29                  I'm somewhat satisfied with my job   \n",
       "4  2015  30-34                                       I love my job   \n",
       "\n",
       "  annual_compensation  csharp  python  python_and_csharp  \n",
       "0   $20,000 - $40,000   False   False              False  \n",
       "1   $20,000 - $40,000    True   False              False  \n",
       "2  $80,000 - $100,000    True   False              False  \n",
       "3                 NaN   False    True              False  \n",
       "4   $60,000 - $80,000    True   False              False  "
      ]
     },
     "execution_count": 332,
     "metadata": {},
     "output_type": "execute_result"
    }
   ],
   "source": [
    "subset2015.head()"
   ]
  },
  {
   "cell_type": "code",
   "execution_count": 333,
   "metadata": {},
   "outputs": [
    {
     "name": "stdout",
     "output_type": "stream",
     "text": [
      "2011 \t2813 (year/observations)\n",
      "2012 \t6243 (year/observations)\n",
      "2013 \t9742 (year/observations)\n",
      "2014 \t7643 (year/observations)\n",
      "2015 \t26086 (year/observations)\n",
      "2016 \t56030 (year/observations)\n",
      "2017 \t51392 (year/observations)\n",
      "2018 \t98855 (year/observations)\n",
      "8 sets loaded, all columns equal: True\n"
     ]
    }
   ],
   "source": [
    "print_all()"
   ]
  },
  {
   "cell_type": "markdown",
   "metadata": {},
   "source": [
    "#### 2016"
   ]
  },
  {
   "cell_type": "code",
   "execution_count": 334,
   "metadata": {},
   "outputs": [],
   "source": [
    "data2016 = pd.read_csv('data/2016/2016 Stack Overflow Survey Responses.csv', encoding = 'ISO-8859-1', \n",
    "                       delimiter=',')"
   ]
  },
  {
   "cell_type": "code",
   "execution_count": 335,
   "metadata": {},
   "outputs": [
    {
     "name": "stdout",
     "output_type": "stream",
     "text": [
      "[5] age_range\n",
      "[6] age_midpoint\n",
      "[26] job_satisfaction\n"
     ]
    }
   ],
   "source": [
    "find_columns(data2016)"
   ]
  },
  {
   "cell_type": "code",
   "execution_count": 336,
   "metadata": {},
   "outputs": [
    {
     "data": {
      "text/html": [
       "<div>\n",
       "<style scoped>\n",
       "    .dataframe tbody tr th:only-of-type {\n",
       "        vertical-align: middle;\n",
       "    }\n",
       "\n",
       "    .dataframe tbody tr th {\n",
       "        vertical-align: top;\n",
       "    }\n",
       "\n",
       "    .dataframe thead th {\n",
       "        text-align: right;\n",
       "    }\n",
       "</style>\n",
       "<table border=\"1\" class=\"dataframe\">\n",
       "  <thead>\n",
       "    <tr style=\"text-align: right;\">\n",
       "      <th></th>\n",
       "      <th>age_range</th>\n",
       "      <th>job_satisfaction</th>\n",
       "      <th>salary_range</th>\n",
       "      <th>tech_do</th>\n",
       "    </tr>\n",
       "  </thead>\n",
       "  <tbody>\n",
       "    <tr>\n",
       "      <th>0</th>\n",
       "      <td>20-24</td>\n",
       "      <td>NaN</td>\n",
       "      <td>NaN</td>\n",
       "      <td>NaN</td>\n",
       "    </tr>\n",
       "    <tr>\n",
       "      <th>1</th>\n",
       "      <td>30-34</td>\n",
       "      <td>I love my job</td>\n",
       "      <td>$40,000 - $50,000</td>\n",
       "      <td>iOS; Objective-C</td>\n",
       "    </tr>\n",
       "    <tr>\n",
       "      <th>2</th>\n",
       "      <td>NaN</td>\n",
       "      <td>NaN</td>\n",
       "      <td>NaN</td>\n",
       "      <td>NaN</td>\n",
       "    </tr>\n",
       "  </tbody>\n",
       "</table>\n",
       "</div>"
      ],
      "text/plain": [
       "  age_range job_satisfaction       salary_range           tech_do\n",
       "0     20-24              NaN                NaN               NaN\n",
       "1     30-34    I love my job  $40,000 - $50,000  iOS; Objective-C\n",
       "2       NaN              NaN                NaN               NaN"
      ]
     },
     "execution_count": 336,
     "metadata": {},
     "output_type": "execute_result"
    }
   ],
   "source": [
    "data2016.iloc[:, [5, 26, 13, 16]].head(3)"
   ]
  },
  {
   "cell_type": "code",
   "execution_count": 337,
   "metadata": {},
   "outputs": [],
   "source": [
    "def languages_to_columns(df, column, delimiter=';'):\n",
    "    for language in ['C#', 'Python']:\n",
    "        df[language] = df[column].map(lambda c: language in [l.strip() for l in str(c).split(';')])"
   ]
  },
  {
   "cell_type": "code",
   "execution_count": 338,
   "metadata": {},
   "outputs": [],
   "source": [
    "languages_to_columns(data2016, 'tech_do')"
   ]
  },
  {
   "cell_type": "code",
   "execution_count": 339,
   "metadata": {},
   "outputs": [
    {
     "data": {
      "text/plain": [
       "tech_do    Android; C++; C#; Cordova; Cloud (AWS, GAE, Azure, etc.); Hadoop; Java; JavaScript; PHP; Python; SQL\n",
       "Name: 198, dtype: object"
      ]
     },
     "execution_count": 339,
     "metadata": {},
     "output_type": "execute_result"
    }
   ],
   "source": [
    "data2016.loc[198, ['tech_do']].map(lambda c: c)"
   ]
  },
  {
   "cell_type": "code",
   "execution_count": 340,
   "metadata": {},
   "outputs": [
    {
     "data": {
      "text/html": [
       "<div>\n",
       "<style scoped>\n",
       "    .dataframe tbody tr th:only-of-type {\n",
       "        vertical-align: middle;\n",
       "    }\n",
       "\n",
       "    .dataframe tbody tr th {\n",
       "        vertical-align: top;\n",
       "    }\n",
       "\n",
       "    .dataframe thead th {\n",
       "        text-align: right;\n",
       "    }\n",
       "</style>\n",
       "<table border=\"1\" class=\"dataframe\">\n",
       "  <thead>\n",
       "    <tr style=\"text-align: right;\">\n",
       "      <th></th>\n",
       "      <th>C#</th>\n",
       "      <th>Python</th>\n",
       "      <th>tech_do</th>\n",
       "    </tr>\n",
       "  </thead>\n",
       "  <tbody>\n",
       "    <tr>\n",
       "      <th>198</th>\n",
       "      <td>True</td>\n",
       "      <td>True</td>\n",
       "      <td>Android; C++; C#; Cordova; Cloud (AWS, GAE, Azure, etc.); Hadoop; Java; JavaScript; PHP; Python; SQL</td>\n",
       "    </tr>\n",
       "    <tr>\n",
       "      <th>199</th>\n",
       "      <td>False</td>\n",
       "      <td>False</td>\n",
       "      <td>AngularJS; C++; JavaScript; MongoDB; Node.js; PHP; SQL; Visual Basic</td>\n",
       "    </tr>\n",
       "  </tbody>\n",
       "</table>\n",
       "</div>"
      ],
      "text/plain": [
       "        C#  Python  \\\n",
       "198   True    True   \n",
       "199  False   False   \n",
       "\n",
       "                                                                                                  tech_do  \n",
       "198  Android; C++; C#; Cordova; Cloud (AWS, GAE, Azure, etc.); Hadoop; Java; JavaScript; PHP; Python; SQL  \n",
       "199                                  AngularJS; C++; JavaScript; MongoDB; Node.js; PHP; SQL; Visual Basic  "
      ]
     },
     "execution_count": 340,
     "metadata": {},
     "output_type": "execute_result"
    }
   ],
   "source": [
    "data2016.loc[198:199, ['C#', 'Python', 'tech_do']].head(4)"
   ]
  },
  {
   "cell_type": "code",
   "execution_count": 341,
   "metadata": {},
   "outputs": [
    {
     "data": {
      "text/html": [
       "<div>\n",
       "<style scoped>\n",
       "    .dataframe tbody tr th:only-of-type {\n",
       "        vertical-align: middle;\n",
       "    }\n",
       "\n",
       "    .dataframe tbody tr th {\n",
       "        vertical-align: top;\n",
       "    }\n",
       "\n",
       "    .dataframe thead th {\n",
       "        text-align: right;\n",
       "    }\n",
       "</style>\n",
       "<table border=\"1\" class=\"dataframe\">\n",
       "  <thead>\n",
       "    <tr style=\"text-align: right;\">\n",
       "      <th></th>\n",
       "      <th>Unnamed: 0</th>\n",
       "      <th>collector</th>\n",
       "      <th>country</th>\n",
       "      <th>un_subregion</th>\n",
       "      <th>so_region</th>\n",
       "      <th>age_range</th>\n",
       "      <th>age_midpoint</th>\n",
       "      <th>gender</th>\n",
       "      <th>self_identification</th>\n",
       "      <th>occupation</th>\n",
       "      <th>...</th>\n",
       "      <th>important_buildnew</th>\n",
       "      <th>important_buildexisting</th>\n",
       "      <th>important_promotion</th>\n",
       "      <th>important_companymission</th>\n",
       "      <th>important_wfh</th>\n",
       "      <th>important_ownoffice</th>\n",
       "      <th>developer_challenges</th>\n",
       "      <th>why_stack_overflow</th>\n",
       "      <th>C#</th>\n",
       "      <th>Python</th>\n",
       "    </tr>\n",
       "  </thead>\n",
       "  <tbody>\n",
       "    <tr>\n",
       "      <th>198</th>\n",
       "      <td>26435</td>\n",
       "      <td>Facebook</td>\n",
       "      <td>Australia</td>\n",
       "      <td>Australia and New Zealand</td>\n",
       "      <td>Oceania</td>\n",
       "      <td>20-24</td>\n",
       "      <td>22.0</td>\n",
       "      <td>Male</td>\n",
       "      <td>Developer; Programmer</td>\n",
       "      <td>Database administrator</td>\n",
       "      <td>...</td>\n",
       "      <td>This is somewhat important</td>\n",
       "      <td>This is somewhat important</td>\n",
       "      <td>This is somewhat important</td>\n",
       "      <td>This is somewhat important</td>\n",
       "      <td>This is somewhat important</td>\n",
       "      <td>This is somewhat important</td>\n",
       "      <td>Fragile code base; Unrealistic expectations; Corporate policies</td>\n",
       "      <td>Beacause I love to learn</td>\n",
       "      <td>True</td>\n",
       "      <td>True</td>\n",
       "    </tr>\n",
       "    <tr>\n",
       "      <th>199</th>\n",
       "      <td>26469</td>\n",
       "      <td>Facebook</td>\n",
       "      <td>Australia</td>\n",
       "      <td>Australia and New Zealand</td>\n",
       "      <td>Oceania</td>\n",
       "      <td>30-34</td>\n",
       "      <td>32.0</td>\n",
       "      <td>Male</td>\n",
       "      <td>Developer; Programmer; Full-stack Developer</td>\n",
       "      <td>Analyst</td>\n",
       "      <td>...</td>\n",
       "      <td>This is very important</td>\n",
       "      <td>This is very important</td>\n",
       "      <td>I don't care about this</td>\n",
       "      <td>This is very important</td>\n",
       "      <td>I don't care about this</td>\n",
       "      <td>I don't care about this</td>\n",
       "      <td>Inefficient development processes; Outdated technologies; Non-technical management</td>\n",
       "      <td>To get help for my job; To give help to others; To receive help on my personal projects; Beacause I love to learn</td>\n",
       "      <td>False</td>\n",
       "      <td>False</td>\n",
       "    </tr>\n",
       "  </tbody>\n",
       "</table>\n",
       "<p>2 rows × 68 columns</p>\n",
       "</div>"
      ],
      "text/plain": [
       "     Unnamed: 0 collector    country               un_subregion so_region  \\\n",
       "198       26435  Facebook  Australia  Australia and New Zealand   Oceania   \n",
       "199       26469  Facebook  Australia  Australia and New Zealand   Oceania   \n",
       "\n",
       "    age_range  age_midpoint gender  \\\n",
       "198     20-24          22.0   Male   \n",
       "199     30-34          32.0   Male   \n",
       "\n",
       "                             self_identification              occupation  \\\n",
       "198                        Developer; Programmer  Database administrator   \n",
       "199  Developer; Programmer; Full-stack Developer                 Analyst   \n",
       "\n",
       "      ...            important_buildnew     important_buildexisting  \\\n",
       "198   ...    This is somewhat important  This is somewhat important   \n",
       "199   ...        This is very important      This is very important   \n",
       "\n",
       "            important_promotion    important_companymission  \\\n",
       "198  This is somewhat important  This is somewhat important   \n",
       "199     I don't care about this      This is very important   \n",
       "\n",
       "                  important_wfh         important_ownoffice  \\\n",
       "198  This is somewhat important  This is somewhat important   \n",
       "199     I don't care about this     I don't care about this   \n",
       "\n",
       "                                                                   developer_challenges  \\\n",
       "198                     Fragile code base; Unrealistic expectations; Corporate policies   \n",
       "199  Inefficient development processes; Outdated technologies; Non-technical management   \n",
       "\n",
       "                                                                                                    why_stack_overflow  \\\n",
       "198                                                                                           Beacause I love to learn   \n",
       "199  To get help for my job; To give help to others; To receive help on my personal projects; Beacause I love to learn   \n",
       "\n",
       "        C#  Python  \n",
       "198   True    True  \n",
       "199  False   False  \n",
       "\n",
       "[2 rows x 68 columns]"
      ]
     },
     "execution_count": 341,
     "metadata": {},
     "output_type": "execute_result"
    }
   ],
   "source": [
    "data2016.iloc[198:200, :]"
   ]
  },
  {
   "cell_type": "code",
   "execution_count": 342,
   "metadata": {},
   "outputs": [
    {
     "name": "stderr",
     "output_type": "stream",
     "text": [
      "C:\\ProgramData\\Anaconda3\\lib\\site-packages\\ipykernel_launcher.py:2: SettingWithCopyWarning: \n",
      "A value is trying to be set on a copy of a slice from a DataFrame.\n",
      "Try using .loc[row_indexer,col_indexer] = value instead\n",
      "\n",
      "See the caveats in the documentation: http://pandas.pydata.org/pandas-docs/stable/indexing.html#indexing-view-versus-copy\n",
      "  \n"
     ]
    },
    {
     "data": {
      "text/html": [
       "<div>\n",
       "<style scoped>\n",
       "    .dataframe tbody tr th:only-of-type {\n",
       "        vertical-align: middle;\n",
       "    }\n",
       "\n",
       "    .dataframe tbody tr th {\n",
       "        vertical-align: top;\n",
       "    }\n",
       "\n",
       "    .dataframe thead th {\n",
       "        text-align: right;\n",
       "    }\n",
       "</style>\n",
       "<table border=\"1\" class=\"dataframe\">\n",
       "  <thead>\n",
       "    <tr style=\"text-align: right;\">\n",
       "      <th></th>\n",
       "      <th>age_range</th>\n",
       "      <th>job_satisfaction</th>\n",
       "      <th>salary_range</th>\n",
       "      <th>C#</th>\n",
       "      <th>Python</th>\n",
       "      <th>year</th>\n",
       "    </tr>\n",
       "  </thead>\n",
       "  <tbody>\n",
       "    <tr>\n",
       "      <th>0</th>\n",
       "      <td>20-24</td>\n",
       "      <td>NaN</td>\n",
       "      <td>NaN</td>\n",
       "      <td>False</td>\n",
       "      <td>False</td>\n",
       "      <td>2016</td>\n",
       "    </tr>\n",
       "    <tr>\n",
       "      <th>1</th>\n",
       "      <td>30-34</td>\n",
       "      <td>I love my job</td>\n",
       "      <td>$40,000 - $50,000</td>\n",
       "      <td>False</td>\n",
       "      <td>False</td>\n",
       "      <td>2016</td>\n",
       "    </tr>\n",
       "    <tr>\n",
       "      <th>2</th>\n",
       "      <td>NaN</td>\n",
       "      <td>NaN</td>\n",
       "      <td>NaN</td>\n",
       "      <td>False</td>\n",
       "      <td>False</td>\n",
       "      <td>2016</td>\n",
       "    </tr>\n",
       "    <tr>\n",
       "      <th>3</th>\n",
       "      <td>NaN</td>\n",
       "      <td>I love my job</td>\n",
       "      <td>Less than $10,000</td>\n",
       "      <td>False</td>\n",
       "      <td>False</td>\n",
       "      <td>2016</td>\n",
       "    </tr>\n",
       "    <tr>\n",
       "      <th>4</th>\n",
       "      <td>&gt; 60</td>\n",
       "      <td>NaN</td>\n",
       "      <td>NaN</td>\n",
       "      <td>False</td>\n",
       "      <td>False</td>\n",
       "      <td>2016</td>\n",
       "    </tr>\n",
       "  </tbody>\n",
       "</table>\n",
       "</div>"
      ],
      "text/plain": [
       "  age_range job_satisfaction       salary_range     C#  Python  year\n",
       "0     20-24              NaN                NaN  False   False  2016\n",
       "1     30-34    I love my job  $40,000 - $50,000  False   False  2016\n",
       "2       NaN              NaN                NaN  False   False  2016\n",
       "3       NaN    I love my job  Less than $10,000  False   False  2016\n",
       "4      > 60              NaN                NaN  False   False  2016"
      ]
     },
     "execution_count": 342,
     "metadata": {},
     "output_type": "execute_result"
    }
   ],
   "source": [
    "subset2016 = data2016.iloc[:, [5, 26, 13, 66, 67]]\n",
    "subset2016['year'] = 2016\n",
    "subset2016.head()"
   ]
  },
  {
   "cell_type": "code",
   "execution_count": 343,
   "metadata": {},
   "outputs": [
    {
     "data": {
      "text/plain": [
       "age_range                   20-24\n",
       "job_satisfaction    I love my job\n",
       "salary_range                  NaN\n",
       "C#                           True\n",
       "Python                       True\n",
       "year                         2016\n",
       "Name: 198, dtype: object"
      ]
     },
     "execution_count": 343,
     "metadata": {},
     "output_type": "execute_result"
    }
   ],
   "source": [
    "subset2016.iloc[198, :]"
   ]
  },
  {
   "cell_type": "code",
   "execution_count": 344,
   "metadata": {},
   "outputs": [],
   "source": [
    "subset2016.columns = subset_columns"
   ]
  },
  {
   "cell_type": "code",
   "execution_count": 345,
   "metadata": {},
   "outputs": [
    {
     "name": "stderr",
     "output_type": "stream",
     "text": [
      "C:\\ProgramData\\Anaconda3\\lib\\site-packages\\ipykernel_launcher.py:1: SettingWithCopyWarning: \n",
      "A value is trying to be set on a copy of a slice from a DataFrame.\n",
      "Try using .loc[row_indexer,col_indexer] = value instead\n",
      "\n",
      "See the caveats in the documentation: http://pandas.pydata.org/pandas-docs/stable/indexing.html#indexing-view-versus-copy\n",
      "  \"\"\"Entry point for launching an IPython kernel.\n"
     ]
    }
   ],
   "source": [
    "subset2016['python_and_csharp'] = subset2016['csharp'] & subset2016['python']"
   ]
  },
  {
   "cell_type": "code",
   "execution_count": 346,
   "metadata": {},
   "outputs": [
    {
     "data": {
      "text/html": [
       "<div>\n",
       "<style scoped>\n",
       "    .dataframe tbody tr th:only-of-type {\n",
       "        vertical-align: middle;\n",
       "    }\n",
       "\n",
       "    .dataframe tbody tr th {\n",
       "        vertical-align: top;\n",
       "    }\n",
       "\n",
       "    .dataframe thead th {\n",
       "        text-align: right;\n",
       "    }\n",
       "</style>\n",
       "<table border=\"1\" class=\"dataframe\">\n",
       "  <thead>\n",
       "    <tr style=\"text-align: right;\">\n",
       "      <th></th>\n",
       "      <th>age</th>\n",
       "      <th>job_satisfaction</th>\n",
       "      <th>annual_compensation</th>\n",
       "      <th>csharp</th>\n",
       "      <th>python</th>\n",
       "      <th>year</th>\n",
       "      <th>python_and_csharp</th>\n",
       "    </tr>\n",
       "  </thead>\n",
       "  <tbody>\n",
       "    <tr>\n",
       "      <th>0</th>\n",
       "      <td>20-24</td>\n",
       "      <td>NaN</td>\n",
       "      <td>NaN</td>\n",
       "      <td>False</td>\n",
       "      <td>False</td>\n",
       "      <td>2016</td>\n",
       "      <td>False</td>\n",
       "    </tr>\n",
       "    <tr>\n",
       "      <th>1</th>\n",
       "      <td>30-34</td>\n",
       "      <td>I love my job</td>\n",
       "      <td>$40,000 - $50,000</td>\n",
       "      <td>False</td>\n",
       "      <td>False</td>\n",
       "      <td>2016</td>\n",
       "      <td>False</td>\n",
       "    </tr>\n",
       "    <tr>\n",
       "      <th>2</th>\n",
       "      <td>NaN</td>\n",
       "      <td>NaN</td>\n",
       "      <td>NaN</td>\n",
       "      <td>False</td>\n",
       "      <td>False</td>\n",
       "      <td>2016</td>\n",
       "      <td>False</td>\n",
       "    </tr>\n",
       "    <tr>\n",
       "      <th>3</th>\n",
       "      <td>NaN</td>\n",
       "      <td>I love my job</td>\n",
       "      <td>Less than $10,000</td>\n",
       "      <td>False</td>\n",
       "      <td>False</td>\n",
       "      <td>2016</td>\n",
       "      <td>False</td>\n",
       "    </tr>\n",
       "    <tr>\n",
       "      <th>4</th>\n",
       "      <td>&gt; 60</td>\n",
       "      <td>NaN</td>\n",
       "      <td>NaN</td>\n",
       "      <td>False</td>\n",
       "      <td>False</td>\n",
       "      <td>2016</td>\n",
       "      <td>False</td>\n",
       "    </tr>\n",
       "  </tbody>\n",
       "</table>\n",
       "</div>"
      ],
      "text/plain": [
       "     age job_satisfaction annual_compensation  csharp  python  year  \\\n",
       "0  20-24              NaN                 NaN   False   False  2016   \n",
       "1  30-34    I love my job   $40,000 - $50,000   False   False  2016   \n",
       "2    NaN              NaN                 NaN   False   False  2016   \n",
       "3    NaN    I love my job   Less than $10,000   False   False  2016   \n",
       "4   > 60              NaN                 NaN   False   False  2016   \n",
       "\n",
       "   python_and_csharp  \n",
       "0              False  \n",
       "1              False  \n",
       "2              False  \n",
       "3              False  \n",
       "4              False  "
      ]
     },
     "execution_count": 346,
     "metadata": {},
     "output_type": "execute_result"
    }
   ],
   "source": [
    "subset2016.head()"
   ]
  },
  {
   "cell_type": "code",
   "execution_count": 347,
   "metadata": {},
   "outputs": [],
   "source": [
    "subset2016 = cleanup_order(subset2016)"
   ]
  },
  {
   "cell_type": "code",
   "execution_count": 348,
   "metadata": {},
   "outputs": [
    {
     "data": {
      "text/plain": [
       "year                            2016\n",
       "age                            20-24\n",
       "job_satisfaction       I love my job\n",
       "annual_compensation              NaN\n",
       "csharp                          True\n",
       "python                          True\n",
       "python_and_csharp               True\n",
       "Name: 198, dtype: object"
      ]
     },
     "execution_count": 348,
     "metadata": {},
     "output_type": "execute_result"
    }
   ],
   "source": [
    "subset2016.iloc[198, :]"
   ]
  },
  {
   "cell_type": "code",
   "execution_count": 349,
   "metadata": {},
   "outputs": [
    {
     "name": "stdout",
     "output_type": "stream",
     "text": [
      "2011 \t2813 (year/observations)\n",
      "2012 \t6243 (year/observations)\n",
      "2013 \t9742 (year/observations)\n",
      "2014 \t7643 (year/observations)\n",
      "2015 \t26086 (year/observations)\n",
      "2016 \t56030 (year/observations)\n",
      "2017 \t51392 (year/observations)\n",
      "2018 \t98855 (year/observations)\n",
      "8 sets loaded, all columns equal: True\n"
     ]
    }
   ],
   "source": [
    "print_all()"
   ]
  },
  {
   "cell_type": "markdown",
   "metadata": {},
   "source": [
    "#### 2017"
   ]
  },
  {
   "cell_type": "code",
   "execution_count": 350,
   "metadata": {},
   "outputs": [],
   "source": [
    "data2017 = pd.read_csv('data/2017/survey_results_public.csv', encoding = 'ISO-8859-1', \n",
    "                       delimiter=',')"
   ]
  },
  {
   "cell_type": "code",
   "execution_count": 351,
   "metadata": {},
   "outputs": [
    {
     "data": {
      "text/html": [
       "<div>\n",
       "<style scoped>\n",
       "    .dataframe tbody tr th:only-of-type {\n",
       "        vertical-align: middle;\n",
       "    }\n",
       "\n",
       "    .dataframe tbody tr th {\n",
       "        vertical-align: top;\n",
       "    }\n",
       "\n",
       "    .dataframe thead th {\n",
       "        text-align: right;\n",
       "    }\n",
       "</style>\n",
       "<table border=\"1\" class=\"dataframe\">\n",
       "  <thead>\n",
       "    <tr style=\"text-align: right;\">\n",
       "      <th></th>\n",
       "      <th>Respondent</th>\n",
       "      <th>Professional</th>\n",
       "      <th>ProgramHobby</th>\n",
       "      <th>Country</th>\n",
       "      <th>University</th>\n",
       "      <th>EmploymentStatus</th>\n",
       "      <th>FormalEducation</th>\n",
       "      <th>MajorUndergrad</th>\n",
       "      <th>HomeRemote</th>\n",
       "      <th>CompanySize</th>\n",
       "      <th>...</th>\n",
       "      <th>StackOverflowMakeMoney</th>\n",
       "      <th>Gender</th>\n",
       "      <th>HighestEducationParents</th>\n",
       "      <th>Race</th>\n",
       "      <th>SurveyLong</th>\n",
       "      <th>QuestionsInteresting</th>\n",
       "      <th>QuestionsConfusing</th>\n",
       "      <th>InterestedAnswers</th>\n",
       "      <th>Salary</th>\n",
       "      <th>ExpectedSalary</th>\n",
       "    </tr>\n",
       "  </thead>\n",
       "  <tbody>\n",
       "    <tr>\n",
       "      <th>0</th>\n",
       "      <td>1</td>\n",
       "      <td>Student</td>\n",
       "      <td>Yes, both</td>\n",
       "      <td>United States</td>\n",
       "      <td>No</td>\n",
       "      <td>Not employed, and not looking for work</td>\n",
       "      <td>Secondary school</td>\n",
       "      <td>NaN</td>\n",
       "      <td>NaN</td>\n",
       "      <td>NaN</td>\n",
       "      <td>...</td>\n",
       "      <td>Strongly disagree</td>\n",
       "      <td>Male</td>\n",
       "      <td>High school</td>\n",
       "      <td>White or of European descent</td>\n",
       "      <td>Strongly disagree</td>\n",
       "      <td>Strongly agree</td>\n",
       "      <td>Disagree</td>\n",
       "      <td>Strongly agree</td>\n",
       "      <td>NaN</td>\n",
       "      <td>NaN</td>\n",
       "    </tr>\n",
       "    <tr>\n",
       "      <th>1</th>\n",
       "      <td>2</td>\n",
       "      <td>Student</td>\n",
       "      <td>Yes, both</td>\n",
       "      <td>United Kingdom</td>\n",
       "      <td>Yes, full-time</td>\n",
       "      <td>Employed part-time</td>\n",
       "      <td>Some college/university study without earning a bachelor's degree</td>\n",
       "      <td>Computer science or software engineering</td>\n",
       "      <td>More than half, but not all, the time</td>\n",
       "      <td>20 to 99 employees</td>\n",
       "      <td>...</td>\n",
       "      <td>Strongly disagree</td>\n",
       "      <td>Male</td>\n",
       "      <td>A master's degree</td>\n",
       "      <td>White or of European descent</td>\n",
       "      <td>Somewhat agree</td>\n",
       "      <td>Somewhat agree</td>\n",
       "      <td>Disagree</td>\n",
       "      <td>Strongly agree</td>\n",
       "      <td>NaN</td>\n",
       "      <td>37500.0</td>\n",
       "    </tr>\n",
       "    <tr>\n",
       "      <th>2</th>\n",
       "      <td>3</td>\n",
       "      <td>Professional developer</td>\n",
       "      <td>Yes, both</td>\n",
       "      <td>United Kingdom</td>\n",
       "      <td>No</td>\n",
       "      <td>Employed full-time</td>\n",
       "      <td>Bachelor's degree</td>\n",
       "      <td>Computer science or software engineering</td>\n",
       "      <td>Less than half the time, but at least one day each week</td>\n",
       "      <td>10,000 or more employees</td>\n",
       "      <td>...</td>\n",
       "      <td>Disagree</td>\n",
       "      <td>Male</td>\n",
       "      <td>A professional degree</td>\n",
       "      <td>White or of European descent</td>\n",
       "      <td>Somewhat agree</td>\n",
       "      <td>Agree</td>\n",
       "      <td>Disagree</td>\n",
       "      <td>Agree</td>\n",
       "      <td>113750.0</td>\n",
       "      <td>NaN</td>\n",
       "    </tr>\n",
       "  </tbody>\n",
       "</table>\n",
       "<p>3 rows × 154 columns</p>\n",
       "</div>"
      ],
      "text/plain": [
       "   Respondent            Professional ProgramHobby         Country  \\\n",
       "0           1                 Student    Yes, both   United States   \n",
       "1           2                 Student    Yes, both  United Kingdom   \n",
       "2           3  Professional developer    Yes, both  United Kingdom   \n",
       "\n",
       "       University                        EmploymentStatus  \\\n",
       "0              No  Not employed, and not looking for work   \n",
       "1  Yes, full-time                      Employed part-time   \n",
       "2              No                      Employed full-time   \n",
       "\n",
       "                                                     FormalEducation  \\\n",
       "0                                                   Secondary school   \n",
       "1  Some college/university study without earning a bachelor's degree   \n",
       "2                                                  Bachelor's degree   \n",
       "\n",
       "                             MajorUndergrad  \\\n",
       "0                                       NaN   \n",
       "1  Computer science or software engineering   \n",
       "2  Computer science or software engineering   \n",
       "\n",
       "                                                HomeRemote  \\\n",
       "0                                                      NaN   \n",
       "1                    More than half, but not all, the time   \n",
       "2  Less than half the time, but at least one day each week   \n",
       "\n",
       "                CompanySize       ...       StackOverflowMakeMoney Gender  \\\n",
       "0                       NaN       ...            Strongly disagree   Male   \n",
       "1        20 to 99 employees       ...            Strongly disagree   Male   \n",
       "2  10,000 or more employees       ...                     Disagree   Male   \n",
       "\n",
       "  HighestEducationParents                          Race         SurveyLong  \\\n",
       "0             High school  White or of European descent  Strongly disagree   \n",
       "1       A master's degree  White or of European descent     Somewhat agree   \n",
       "2   A professional degree  White or of European descent     Somewhat agree   \n",
       "\n",
       "  QuestionsInteresting QuestionsConfusing InterestedAnswers    Salary  \\\n",
       "0       Strongly agree           Disagree    Strongly agree       NaN   \n",
       "1       Somewhat agree           Disagree    Strongly agree       NaN   \n",
       "2                Agree           Disagree             Agree  113750.0   \n",
       "\n",
       "   ExpectedSalary  \n",
       "0             NaN  \n",
       "1         37500.0  \n",
       "2             NaN  \n",
       "\n",
       "[3 rows x 154 columns]"
      ]
     },
     "execution_count": 351,
     "metadata": {},
     "output_type": "execute_result"
    }
   ],
   "source": [
    "data2017.head(3)"
   ]
  },
  {
   "cell_type": "code",
   "execution_count": 352,
   "metadata": {},
   "outputs": [
    {
     "name": "stdout",
     "output_type": "stream",
     "text": [
      "[18] CareerSatisfaction\n",
      "[19] JobSatisfaction\n",
      "[55] AssessJobCompensation\n",
      "[88] HaveWorkedLanguage\n",
      "[89] WantWorkLanguage\n",
      "[103] ProjectManagement\n",
      "[112] EquipmentSatisfiedStorage\n",
      "[127] StackOverflowSatisfaction\n",
      "[132] StackOverflowCompanyPage\n"
     ]
    }
   ],
   "source": [
    "find_columns(data2017)"
   ]
  },
  {
   "cell_type": "code",
   "execution_count": 353,
   "metadata": {},
   "outputs": [],
   "source": [
    "languages_to_columns(data2017, 'HaveWorkedLanguage')"
   ]
  },
  {
   "cell_type": "markdown",
   "metadata": {},
   "source": [
    "No age and salary is no range!"
   ]
  },
  {
   "cell_type": "code",
   "execution_count": 354,
   "metadata": {},
   "outputs": [
    {
     "data": {
      "text/html": [
       "<div>\n",
       "<style scoped>\n",
       "    .dataframe tbody tr th:only-of-type {\n",
       "        vertical-align: middle;\n",
       "    }\n",
       "\n",
       "    .dataframe tbody tr th {\n",
       "        vertical-align: top;\n",
       "    }\n",
       "\n",
       "    .dataframe thead th {\n",
       "        text-align: right;\n",
       "    }\n",
       "</style>\n",
       "<table border=\"1\" class=\"dataframe\">\n",
       "  <thead>\n",
       "    <tr style=\"text-align: right;\">\n",
       "      <th></th>\n",
       "      <th>CareerSatisfaction</th>\n",
       "      <th>HaveWorkedLanguage</th>\n",
       "      <th>Salary</th>\n",
       "    </tr>\n",
       "  </thead>\n",
       "  <tbody>\n",
       "    <tr>\n",
       "      <th>0</th>\n",
       "      <td>NaN</td>\n",
       "      <td>Swift</td>\n",
       "      <td>NaN</td>\n",
       "    </tr>\n",
       "    <tr>\n",
       "      <th>1</th>\n",
       "      <td>NaN</td>\n",
       "      <td>JavaScript; Python; Ruby; SQL</td>\n",
       "      <td>NaN</td>\n",
       "    </tr>\n",
       "    <tr>\n",
       "      <th>2</th>\n",
       "      <td>8.0</td>\n",
       "      <td>Java; PHP; Python</td>\n",
       "      <td>113750.0</td>\n",
       "    </tr>\n",
       "  </tbody>\n",
       "</table>\n",
       "</div>"
      ],
      "text/plain": [
       "   CareerSatisfaction             HaveWorkedLanguage    Salary\n",
       "0                 NaN                          Swift       NaN\n",
       "1                 NaN  JavaScript; Python; Ruby; SQL       NaN\n",
       "2                 8.0              Java; PHP; Python  113750.0"
      ]
     },
     "execution_count": 354,
     "metadata": {},
     "output_type": "execute_result"
    }
   ],
   "source": [
    "data2017.iloc[:, [18, 88, 152]].head(3)"
   ]
  },
  {
   "cell_type": "code",
   "execution_count": 355,
   "metadata": {},
   "outputs": [],
   "source": [
    "languages_to_columns(data2017, 'HaveWorkedLanguage')"
   ]
  },
  {
   "cell_type": "code",
   "execution_count": 356,
   "metadata": {},
   "outputs": [
    {
     "name": "stderr",
     "output_type": "stream",
     "text": [
      "C:\\ProgramData\\Anaconda3\\lib\\site-packages\\ipykernel_launcher.py:2: SettingWithCopyWarning: \n",
      "A value is trying to be set on a copy of a slice from a DataFrame.\n",
      "Try using .loc[row_indexer,col_indexer] = value instead\n",
      "\n",
      "See the caveats in the documentation: http://pandas.pydata.org/pandas-docs/stable/indexing.html#indexing-view-versus-copy\n",
      "  \n",
      "C:\\ProgramData\\Anaconda3\\lib\\site-packages\\ipykernel_launcher.py:3: SettingWithCopyWarning: \n",
      "A value is trying to be set on a copy of a slice from a DataFrame.\n",
      "Try using .loc[row_indexer,col_indexer] = value instead\n",
      "\n",
      "See the caveats in the documentation: http://pandas.pydata.org/pandas-docs/stable/indexing.html#indexing-view-versus-copy\n",
      "  This is separate from the ipykernel package so we can avoid doing imports until\n"
     ]
    }
   ],
   "source": [
    "subset2017 = data2017.iloc[:, [18, 152, 154, 155]]\n",
    "subset2017['year'] = 2017\n",
    "subset2017['age'] = np.nan"
   ]
  },
  {
   "cell_type": "code",
   "execution_count": 357,
   "metadata": {},
   "outputs": [
    {
     "data": {
      "text/html": [
       "<div>\n",
       "<style scoped>\n",
       "    .dataframe tbody tr th:only-of-type {\n",
       "        vertical-align: middle;\n",
       "    }\n",
       "\n",
       "    .dataframe tbody tr th {\n",
       "        vertical-align: top;\n",
       "    }\n",
       "\n",
       "    .dataframe thead th {\n",
       "        text-align: right;\n",
       "    }\n",
       "</style>\n",
       "<table border=\"1\" class=\"dataframe\">\n",
       "  <thead>\n",
       "    <tr style=\"text-align: right;\">\n",
       "      <th></th>\n",
       "      <th>CareerSatisfaction</th>\n",
       "      <th>Salary</th>\n",
       "      <th>C#</th>\n",
       "      <th>Python</th>\n",
       "      <th>year</th>\n",
       "      <th>age</th>\n",
       "    </tr>\n",
       "  </thead>\n",
       "  <tbody>\n",
       "    <tr>\n",
       "      <th>0</th>\n",
       "      <td>NaN</td>\n",
       "      <td>NaN</td>\n",
       "      <td>False</td>\n",
       "      <td>False</td>\n",
       "      <td>2017</td>\n",
       "      <td>NaN</td>\n",
       "    </tr>\n",
       "    <tr>\n",
       "      <th>1</th>\n",
       "      <td>NaN</td>\n",
       "      <td>NaN</td>\n",
       "      <td>False</td>\n",
       "      <td>True</td>\n",
       "      <td>2017</td>\n",
       "      <td>NaN</td>\n",
       "    </tr>\n",
       "    <tr>\n",
       "      <th>2</th>\n",
       "      <td>8.0</td>\n",
       "      <td>113750.0</td>\n",
       "      <td>False</td>\n",
       "      <td>True</td>\n",
       "      <td>2017</td>\n",
       "      <td>NaN</td>\n",
       "    </tr>\n",
       "  </tbody>\n",
       "</table>\n",
       "</div>"
      ],
      "text/plain": [
       "   CareerSatisfaction    Salary     C#  Python  year  age\n",
       "0                 NaN       NaN  False   False  2017  NaN\n",
       "1                 NaN       NaN  False    True  2017  NaN\n",
       "2                 8.0  113750.0  False    True  2017  NaN"
      ]
     },
     "execution_count": 357,
     "metadata": {},
     "output_type": "execute_result"
    }
   ],
   "source": [
    "subset2017.head(3)"
   ]
  },
  {
   "cell_type": "code",
   "execution_count": 358,
   "metadata": {},
   "outputs": [
    {
     "data": {
      "text/plain": [
       "['age', 'job_satisfaction', 'annual_compensation', 'csharp', 'python', 'year']"
      ]
     },
     "execution_count": 358,
     "metadata": {},
     "output_type": "execute_result"
    }
   ],
   "source": [
    "subset_columns"
   ]
  },
  {
   "cell_type": "code",
   "execution_count": 359,
   "metadata": {},
   "outputs": [
    {
     "data": {
      "text/html": [
       "<div>\n",
       "<style scoped>\n",
       "    .dataframe tbody tr th:only-of-type {\n",
       "        vertical-align: middle;\n",
       "    }\n",
       "\n",
       "    .dataframe tbody tr th {\n",
       "        vertical-align: top;\n",
       "    }\n",
       "\n",
       "    .dataframe thead th {\n",
       "        text-align: right;\n",
       "    }\n",
       "</style>\n",
       "<table border=\"1\" class=\"dataframe\">\n",
       "  <thead>\n",
       "    <tr style=\"text-align: right;\">\n",
       "      <th></th>\n",
       "      <th>job_satisfaction</th>\n",
       "      <th>annual_compensation</th>\n",
       "      <th>csharp</th>\n",
       "      <th>python</th>\n",
       "      <th>year</th>\n",
       "      <th>age</th>\n",
       "    </tr>\n",
       "  </thead>\n",
       "  <tbody>\n",
       "    <tr>\n",
       "      <th>0</th>\n",
       "      <td>NaN</td>\n",
       "      <td>NaN</td>\n",
       "      <td>False</td>\n",
       "      <td>False</td>\n",
       "      <td>2017</td>\n",
       "      <td>NaN</td>\n",
       "    </tr>\n",
       "    <tr>\n",
       "      <th>1</th>\n",
       "      <td>NaN</td>\n",
       "      <td>NaN</td>\n",
       "      <td>False</td>\n",
       "      <td>True</td>\n",
       "      <td>2017</td>\n",
       "      <td>NaN</td>\n",
       "    </tr>\n",
       "    <tr>\n",
       "      <th>2</th>\n",
       "      <td>8.0</td>\n",
       "      <td>113750.0</td>\n",
       "      <td>False</td>\n",
       "      <td>True</td>\n",
       "      <td>2017</td>\n",
       "      <td>NaN</td>\n",
       "    </tr>\n",
       "  </tbody>\n",
       "</table>\n",
       "</div>"
      ],
      "text/plain": [
       "   job_satisfaction  annual_compensation  csharp  python  year  age\n",
       "0               NaN                  NaN   False   False  2017  NaN\n",
       "1               NaN                  NaN   False    True  2017  NaN\n",
       "2               8.0             113750.0   False    True  2017  NaN"
      ]
     },
     "execution_count": 359,
     "metadata": {},
     "output_type": "execute_result"
    }
   ],
   "source": [
    "subset2017.columns = ['job_satisfaction', 'annual_compensation', 'csharp', 'python', 'year', 'age']\n",
    "subset2017.head(3)"
   ]
  },
  {
   "cell_type": "code",
   "execution_count": 360,
   "metadata": {},
   "outputs": [
    {
     "name": "stderr",
     "output_type": "stream",
     "text": [
      "C:\\ProgramData\\Anaconda3\\lib\\site-packages\\ipykernel_launcher.py:1: SettingWithCopyWarning: \n",
      "A value is trying to be set on a copy of a slice from a DataFrame.\n",
      "Try using .loc[row_indexer,col_indexer] = value instead\n",
      "\n",
      "See the caveats in the documentation: http://pandas.pydata.org/pandas-docs/stable/indexing.html#indexing-view-versus-copy\n",
      "  \"\"\"Entry point for launching an IPython kernel.\n"
     ]
    }
   ],
   "source": [
    "subset2017['python_and_csharp'] = subset2017['csharp'] & subset2017['python']"
   ]
  },
  {
   "cell_type": "code",
   "execution_count": 361,
   "metadata": {},
   "outputs": [],
   "source": [
    "subset2017 = cleanup_order(subset2017)"
   ]
  },
  {
   "cell_type": "code",
   "execution_count": 362,
   "metadata": {},
   "outputs": [
    {
     "data": {
      "text/html": [
       "<div>\n",
       "<style scoped>\n",
       "    .dataframe tbody tr th:only-of-type {\n",
       "        vertical-align: middle;\n",
       "    }\n",
       "\n",
       "    .dataframe tbody tr th {\n",
       "        vertical-align: top;\n",
       "    }\n",
       "\n",
       "    .dataframe thead th {\n",
       "        text-align: right;\n",
       "    }\n",
       "</style>\n",
       "<table border=\"1\" class=\"dataframe\">\n",
       "  <thead>\n",
       "    <tr style=\"text-align: right;\">\n",
       "      <th></th>\n",
       "      <th>year</th>\n",
       "      <th>age</th>\n",
       "      <th>job_satisfaction</th>\n",
       "      <th>annual_compensation</th>\n",
       "      <th>csharp</th>\n",
       "      <th>python</th>\n",
       "      <th>python_and_csharp</th>\n",
       "    </tr>\n",
       "  </thead>\n",
       "  <tbody>\n",
       "    <tr>\n",
       "      <th>0</th>\n",
       "      <td>2016</td>\n",
       "      <td>20-24</td>\n",
       "      <td>NaN</td>\n",
       "      <td>NaN</td>\n",
       "      <td>False</td>\n",
       "      <td>False</td>\n",
       "      <td>False</td>\n",
       "    </tr>\n",
       "    <tr>\n",
       "      <th>1</th>\n",
       "      <td>2016</td>\n",
       "      <td>30-34</td>\n",
       "      <td>I love my job</td>\n",
       "      <td>$40,000 - $50,000</td>\n",
       "      <td>False</td>\n",
       "      <td>False</td>\n",
       "      <td>False</td>\n",
       "    </tr>\n",
       "  </tbody>\n",
       "</table>\n",
       "</div>"
      ],
      "text/plain": [
       "   year    age job_satisfaction annual_compensation  csharp  python  \\\n",
       "0  2016  20-24              NaN                 NaN   False   False   \n",
       "1  2016  30-34    I love my job   $40,000 - $50,000   False   False   \n",
       "\n",
       "   python_and_csharp  \n",
       "0              False  \n",
       "1              False  "
      ]
     },
     "execution_count": 362,
     "metadata": {},
     "output_type": "execute_result"
    }
   ],
   "source": [
    "subset2016.head(2)"
   ]
  },
  {
   "cell_type": "code",
   "execution_count": 363,
   "metadata": {},
   "outputs": [
    {
     "name": "stdout",
     "output_type": "stream",
     "text": [
      "2011 \t2813 (year/observations)\n",
      "2012 \t6243 (year/observations)\n",
      "2013 \t9742 (year/observations)\n",
      "2014 \t7643 (year/observations)\n",
      "2015 \t26086 (year/observations)\n",
      "2016 \t56030 (year/observations)\n",
      "2017 \t51392 (year/observations)\n",
      "2018 \t98855 (year/observations)\n",
      "8 sets loaded, all columns equal: True\n"
     ]
    }
   ],
   "source": [
    "print_all()"
   ]
  },
  {
   "cell_type": "markdown",
   "metadata": {},
   "source": [
    "####  2018"
   ]
  },
  {
   "cell_type": "code",
   "execution_count": 364,
   "metadata": {},
   "outputs": [
    {
     "name": "stderr",
     "output_type": "stream",
     "text": [
      "C:\\ProgramData\\Anaconda3\\lib\\site-packages\\IPython\\core\\interactiveshell.py:2785: DtypeWarning: Columns (8,12,13,14,15,16,50,51,52,53,55,56,57,58,59,60,61,62,63,64,65,66,67,68,69,70,71,72,73,74,75,76,77,78,79,80,81,82,83,84,85,93,94,95,96,97,98,99,100,101,102,103,104,105,106,107,108,109,110,111,112,113,114,115,116,117,118,119,120,121,122,123,124,125,126,127,128) have mixed types. Specify dtype option on import or set low_memory=False.\n",
      "  interactivity=interactivity, compiler=compiler, result=result)\n"
     ]
    }
   ],
   "source": [
    "data2018 = pd.read_csv('data/2018/survey_results_public.csv', encoding = 'ISO-8859-1', \n",
    "                       delimiter=',')"
   ]
  },
  {
   "cell_type": "code",
   "execution_count": 365,
   "metadata": {},
   "outputs": [
    {
     "name": "stdout",
     "output_type": "stream",
     "text": [
      "[12] JobSatisfaction\n",
      "[13] CareerSatisfaction\n",
      "[65] LanguageWorkedWith\n",
      "[66] LanguageDesireNextYear\n",
      "[124] Age\n"
     ]
    }
   ],
   "source": [
    "find_columns(data2018)"
   ]
  },
  {
   "cell_type": "code",
   "execution_count": 366,
   "metadata": {},
   "outputs": [],
   "source": [
    "languages_to_columns(data2018, 'LanguageWorkedWith')"
   ]
  },
  {
   "cell_type": "code",
   "execution_count": 367,
   "metadata": {},
   "outputs": [
    {
     "data": {
      "text/html": [
       "<div>\n",
       "<style scoped>\n",
       "    .dataframe tbody tr th:only-of-type {\n",
       "        vertical-align: middle;\n",
       "    }\n",
       "\n",
       "    .dataframe tbody tr th {\n",
       "        vertical-align: top;\n",
       "    }\n",
       "\n",
       "    .dataframe thead th {\n",
       "        text-align: right;\n",
       "    }\n",
       "</style>\n",
       "<table border=\"1\" class=\"dataframe\">\n",
       "  <thead>\n",
       "    <tr style=\"text-align: right;\">\n",
       "      <th></th>\n",
       "      <th>Age</th>\n",
       "      <th>JobSatisfaction</th>\n",
       "      <th>ConvertedSalary</th>\n",
       "      <th>C#</th>\n",
       "      <th>Python</th>\n",
       "      <th>year</th>\n",
       "    </tr>\n",
       "  </thead>\n",
       "  <tbody>\n",
       "    <tr>\n",
       "      <th>0</th>\n",
       "      <td>25 - 34 years old</td>\n",
       "      <td>Extremely satisfied</td>\n",
       "      <td>NaN</td>\n",
       "      <td>False</td>\n",
       "      <td>True</td>\n",
       "      <td>2018</td>\n",
       "    </tr>\n",
       "    <tr>\n",
       "      <th>1</th>\n",
       "      <td>35 - 44 years old</td>\n",
       "      <td>Moderately dissatisfied</td>\n",
       "      <td>70841.0</td>\n",
       "      <td>False</td>\n",
       "      <td>True</td>\n",
       "      <td>2018</td>\n",
       "    </tr>\n",
       "    <tr>\n",
       "      <th>2</th>\n",
       "      <td>NaN</td>\n",
       "      <td>Moderately satisfied</td>\n",
       "      <td>NaN</td>\n",
       "      <td>False</td>\n",
       "      <td>False</td>\n",
       "      <td>2018</td>\n",
       "    </tr>\n",
       "    <tr>\n",
       "      <th>3</th>\n",
       "      <td>35 - 44 years old</td>\n",
       "      <td>Neither satisfied nor dissatisfied</td>\n",
       "      <td>NaN</td>\n",
       "      <td>True</td>\n",
       "      <td>False</td>\n",
       "      <td>2018</td>\n",
       "    </tr>\n",
       "    <tr>\n",
       "      <th>4</th>\n",
       "      <td>18 - 24 years old</td>\n",
       "      <td>Slightly satisfied</td>\n",
       "      <td>21426.0</td>\n",
       "      <td>False</td>\n",
       "      <td>False</td>\n",
       "      <td>2018</td>\n",
       "    </tr>\n",
       "  </tbody>\n",
       "</table>\n",
       "</div>"
      ],
      "text/plain": [
       "                 Age                     JobSatisfaction  ConvertedSalary  \\\n",
       "0  25 - 34 years old                 Extremely satisfied              NaN   \n",
       "1  35 - 44 years old             Moderately dissatisfied          70841.0   \n",
       "2                NaN                Moderately satisfied              NaN   \n",
       "3  35 - 44 years old  Neither satisfied nor dissatisfied              NaN   \n",
       "4  18 - 24 years old                  Slightly satisfied          21426.0   \n",
       "\n",
       "      C#  Python  year  \n",
       "0  False    True  2018  \n",
       "1  False    True  2018  \n",
       "2  False   False  2018  \n",
       "3   True   False  2018  \n",
       "4  False   False  2018  "
      ]
     },
     "execution_count": 367,
     "metadata": {},
     "output_type": "execute_result"
    }
   ],
   "source": [
    "data2018['year'] = 2018\n",
    "data2018.iloc[:, [124, 12, 54, 129, 130, 131]].head()"
   ]
  },
  {
   "cell_type": "code",
   "execution_count": 368,
   "metadata": {},
   "outputs": [],
   "source": [
    "subset2018 = data2018.iloc[:, [124, 12, 54, 129, 130, 131]]\n",
    "subset2018.columns = subset_columns"
   ]
  },
  {
   "cell_type": "code",
   "execution_count": 369,
   "metadata": {},
   "outputs": [
    {
     "data": {
      "text/html": [
       "<div>\n",
       "<style scoped>\n",
       "    .dataframe tbody tr th:only-of-type {\n",
       "        vertical-align: middle;\n",
       "    }\n",
       "\n",
       "    .dataframe tbody tr th {\n",
       "        vertical-align: top;\n",
       "    }\n",
       "\n",
       "    .dataframe thead th {\n",
       "        text-align: right;\n",
       "    }\n",
       "</style>\n",
       "<table border=\"1\" class=\"dataframe\">\n",
       "  <thead>\n",
       "    <tr style=\"text-align: right;\">\n",
       "      <th></th>\n",
       "      <th>age</th>\n",
       "      <th>job_satisfaction</th>\n",
       "      <th>annual_compensation</th>\n",
       "      <th>csharp</th>\n",
       "      <th>python</th>\n",
       "      <th>year</th>\n",
       "    </tr>\n",
       "  </thead>\n",
       "  <tbody>\n",
       "    <tr>\n",
       "      <th>0</th>\n",
       "      <td>25 - 34 years old</td>\n",
       "      <td>Extremely satisfied</td>\n",
       "      <td>NaN</td>\n",
       "      <td>False</td>\n",
       "      <td>True</td>\n",
       "      <td>2018</td>\n",
       "    </tr>\n",
       "    <tr>\n",
       "      <th>1</th>\n",
       "      <td>35 - 44 years old</td>\n",
       "      <td>Moderately dissatisfied</td>\n",
       "      <td>70841.0</td>\n",
       "      <td>False</td>\n",
       "      <td>True</td>\n",
       "      <td>2018</td>\n",
       "    </tr>\n",
       "    <tr>\n",
       "      <th>2</th>\n",
       "      <td>NaN</td>\n",
       "      <td>Moderately satisfied</td>\n",
       "      <td>NaN</td>\n",
       "      <td>False</td>\n",
       "      <td>False</td>\n",
       "      <td>2018</td>\n",
       "    </tr>\n",
       "  </tbody>\n",
       "</table>\n",
       "</div>"
      ],
      "text/plain": [
       "                 age         job_satisfaction  annual_compensation  csharp  \\\n",
       "0  25 - 34 years old      Extremely satisfied                  NaN   False   \n",
       "1  35 - 44 years old  Moderately dissatisfied              70841.0   False   \n",
       "2                NaN     Moderately satisfied                  NaN   False   \n",
       "\n",
       "   python  year  \n",
       "0    True  2018  \n",
       "1    True  2018  \n",
       "2   False  2018  "
      ]
     },
     "execution_count": 369,
     "metadata": {},
     "output_type": "execute_result"
    }
   ],
   "source": [
    "subset2018.head(3)"
   ]
  },
  {
   "cell_type": "code",
   "execution_count": 370,
   "metadata": {},
   "outputs": [
    {
     "name": "stderr",
     "output_type": "stream",
     "text": [
      "C:\\ProgramData\\Anaconda3\\lib\\site-packages\\ipykernel_launcher.py:1: SettingWithCopyWarning: \n",
      "A value is trying to be set on a copy of a slice from a DataFrame.\n",
      "Try using .loc[row_indexer,col_indexer] = value instead\n",
      "\n",
      "See the caveats in the documentation: http://pandas.pydata.org/pandas-docs/stable/indexing.html#indexing-view-versus-copy\n",
      "  \"\"\"Entry point for launching an IPython kernel.\n"
     ]
    }
   ],
   "source": [
    "subset2018['python_and_csharp'] = subset2018['csharp'] & subset2018['python']"
   ]
  },
  {
   "cell_type": "code",
   "execution_count": 371,
   "metadata": {},
   "outputs": [],
   "source": [
    "subset2018 = cleanup_order(subset2018)"
   ]
  },
  {
   "cell_type": "code",
   "execution_count": 372,
   "metadata": {},
   "outputs": [
    {
     "name": "stdout",
     "output_type": "stream",
     "text": [
      "2011 \t2813 (year/observations)\n",
      "2012 \t6243 (year/observations)\n",
      "2013 \t9742 (year/observations)\n",
      "2014 \t7643 (year/observations)\n",
      "2015 \t26086 (year/observations)\n",
      "2016 \t56030 (year/observations)\n",
      "2017 \t51392 (year/observations)\n",
      "2018 \t98855 (year/observations)\n",
      "8 sets loaded, all columns equal: True\n"
     ]
    }
   ],
   "source": [
    "print_all()"
   ]
  },
  {
   "cell_type": "markdown",
   "metadata": {},
   "source": [
    "#### Create combined data frame"
   ]
  },
  {
   "cell_type": "code",
   "execution_count": 373,
   "metadata": {},
   "outputs": [],
   "source": [
    "subset_all = pd.concat([subset2011, subset2012, subset2013, subset2014, subset2015, subset2016, subset2017, subset2018])"
   ]
  },
  {
   "cell_type": "code",
   "execution_count": 374,
   "metadata": {},
   "outputs": [],
   "source": [
    "subset_all = subset_all.set_index('year')"
   ]
  },
  {
   "cell_type": "code",
   "execution_count": 375,
   "metadata": {},
   "outputs": [
    {
     "data": {
      "text/html": [
       "<div>\n",
       "<style scoped>\n",
       "    .dataframe tbody tr th:only-of-type {\n",
       "        vertical-align: middle;\n",
       "    }\n",
       "\n",
       "    .dataframe tbody tr th {\n",
       "        vertical-align: top;\n",
       "    }\n",
       "\n",
       "    .dataframe thead th {\n",
       "        text-align: right;\n",
       "    }\n",
       "</style>\n",
       "<table border=\"1\" class=\"dataframe\">\n",
       "  <thead>\n",
       "    <tr style=\"text-align: right;\">\n",
       "      <th></th>\n",
       "      <th>age</th>\n",
       "      <th>job_satisfaction</th>\n",
       "      <th>annual_compensation</th>\n",
       "      <th>csharp</th>\n",
       "      <th>python</th>\n",
       "      <th>python_and_csharp</th>\n",
       "    </tr>\n",
       "    <tr>\n",
       "      <th>year</th>\n",
       "      <th></th>\n",
       "      <th></th>\n",
       "      <th></th>\n",
       "      <th></th>\n",
       "      <th></th>\n",
       "      <th></th>\n",
       "    </tr>\n",
       "  </thead>\n",
       "  <tbody>\n",
       "    <tr>\n",
       "      <th>2011</th>\n",
       "      <td>&lt; 20</td>\n",
       "      <td>FML</td>\n",
       "      <td>Student / Unemployed</td>\n",
       "      <td>False</td>\n",
       "      <td>False</td>\n",
       "      <td>False</td>\n",
       "    </tr>\n",
       "    <tr>\n",
       "      <th>2011</th>\n",
       "      <td>25-29</td>\n",
       "      <td>So happy it hurts</td>\n",
       "      <td>NaN</td>\n",
       "      <td>False</td>\n",
       "      <td>False</td>\n",
       "      <td>False</td>\n",
       "    </tr>\n",
       "    <tr>\n",
       "      <th>2011</th>\n",
       "      <td>25-29</td>\n",
       "      <td>NaN</td>\n",
       "      <td>NaN</td>\n",
       "      <td>False</td>\n",
       "      <td>False</td>\n",
       "      <td>False</td>\n",
       "    </tr>\n",
       "    <tr>\n",
       "      <th>2011</th>\n",
       "      <td>&lt; 20</td>\n",
       "      <td>I enjoy going to work</td>\n",
       "      <td>Student / Unemployed</td>\n",
       "      <td>False</td>\n",
       "      <td>False</td>\n",
       "      <td>False</td>\n",
       "    </tr>\n",
       "    <tr>\n",
       "      <th>2011</th>\n",
       "      <td>35-39</td>\n",
       "      <td>It pays the bills</td>\n",
       "      <td>$80,000 - $100,000</td>\n",
       "      <td>False</td>\n",
       "      <td>False</td>\n",
       "      <td>False</td>\n",
       "    </tr>\n",
       "  </tbody>\n",
       "</table>\n",
       "</div>"
      ],
      "text/plain": [
       "        age       job_satisfaction   annual_compensation  csharp  python  \\\n",
       "year                                                                       \n",
       "2011   < 20                    FML  Student / Unemployed   False   False   \n",
       "2011  25-29      So happy it hurts                   NaN   False   False   \n",
       "2011  25-29                    NaN                   NaN   False   False   \n",
       "2011   < 20  I enjoy going to work  Student / Unemployed   False   False   \n",
       "2011  35-39      It pays the bills    $80,000 - $100,000   False   False   \n",
       "\n",
       "      python_and_csharp  \n",
       "year                     \n",
       "2011              False  \n",
       "2011              False  \n",
       "2011              False  \n",
       "2011              False  \n",
       "2011              False  "
      ]
     },
     "execution_count": 375,
     "metadata": {},
     "output_type": "execute_result"
    }
   ],
   "source": [
    "subset_all.head()"
   ]
  },
  {
   "cell_type": "code",
   "execution_count": 376,
   "metadata": {},
   "outputs": [],
   "source": [
    "subset_all.to_pickle('data/combined_years.pkl')"
   ]
  },
  {
   "cell_type": "code",
   "execution_count": null,
   "metadata": {},
   "outputs": [],
   "source": []
  }
 ],
 "metadata": {
  "kernelspec": {
   "display_name": "Python 3",
   "language": "python",
   "name": "python3"
  },
  "language_info": {
   "codemirror_mode": {
    "name": "ipython",
    "version": 3
   },
   "file_extension": ".py",
   "mimetype": "text/x-python",
   "name": "python",
   "nbconvert_exporter": "python",
   "pygments_lexer": "ipython3",
   "version": "3.7.0"
  }
 },
 "nbformat": 4,
 "nbformat_minor": 2
}
