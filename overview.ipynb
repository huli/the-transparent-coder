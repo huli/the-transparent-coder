{
 "cells": [
  {
   "cell_type": "code",
   "execution_count": 1,
   "metadata": {},
   "outputs": [],
   "source": [
    "import pandas as pd\n",
    "import matplotlib.pyplot as plt\n",
    "import numpy as np"
   ]
  },
  {
   "cell_type": "markdown",
   "metadata": {},
   "source": [
    "CRISP-DM\n",
    "(Cross-Industry Standard of for Data Mining)\n",
    "* Business Understanding\n",
    "* Data Understanding\n",
    "* Data Preparation\n",
    "* Modeling\n",
    "* Evaluation\n",
    "* Deployment"
   ]
  },
  {
   "cell_type": "markdown",
   "metadata": {},
   "source": [
    "**Business Understanding**\n",
    "\n",
    "First we need to understand the business of our analysis. That's the easy part. Computers help us think, and these are the guys helping the computer think. Developers are those people in the office with the sun shades closed the whole day which (since the movie Swordfish) have proven to be not that geeky after all. Yes, thats me."
   ]
  },
  {
   "cell_type": "code",
   "execution_count": 2,
   "metadata": {},
   "outputs": [],
   "source": [
    "pd.set_option('display.max_colwidth', 1000)\n",
    "pd.set_option('display.max_rows', 150)"
   ]
  },
  {
   "cell_type": "code",
   "execution_count": 3,
   "metadata": {},
   "outputs": [],
   "source": [
    "schema2018 = pd.read_csv('data/2018/survey_results_schema.csv')"
   ]
  },
  {
   "cell_type": "code",
   "execution_count": 4,
   "metadata": {},
   "outputs": [
    {
     "data": {
      "text/html": [
       "<div>\n",
       "<style scoped>\n",
       "    .dataframe tbody tr th:only-of-type {\n",
       "        vertical-align: middle;\n",
       "    }\n",
       "\n",
       "    .dataframe tbody tr th {\n",
       "        vertical-align: top;\n",
       "    }\n",
       "\n",
       "    .dataframe thead th {\n",
       "        text-align: right;\n",
       "    }\n",
       "</style>\n",
       "<table border=\"1\" class=\"dataframe\">\n",
       "  <thead>\n",
       "    <tr style=\"text-align: right;\">\n",
       "      <th></th>\n",
       "      <th>Column</th>\n",
       "      <th>QuestionText</th>\n",
       "    </tr>\n",
       "  </thead>\n",
       "  <tbody>\n",
       "    <tr>\n",
       "      <th>0</th>\n",
       "      <td>Respondent</td>\n",
       "      <td>Randomized respondent ID number (not in order of survey response time)</td>\n",
       "    </tr>\n",
       "    <tr>\n",
       "      <th>1</th>\n",
       "      <td>Hobby</td>\n",
       "      <td>Do you code as a hobby?</td>\n",
       "    </tr>\n",
       "    <tr>\n",
       "      <th>2</th>\n",
       "      <td>OpenSource</td>\n",
       "      <td>Do you contribute to open source projects?</td>\n",
       "    </tr>\n",
       "    <tr>\n",
       "      <th>3</th>\n",
       "      <td>Country</td>\n",
       "      <td>In which country do you currently reside?</td>\n",
       "    </tr>\n",
       "    <tr>\n",
       "      <th>4</th>\n",
       "      <td>Student</td>\n",
       "      <td>Are you currently enrolled in a formal, degree-granting college or university program?</td>\n",
       "    </tr>\n",
       "    <tr>\n",
       "      <th>5</th>\n",
       "      <td>Employment</td>\n",
       "      <td>Which of the following best describes your current employment status?</td>\n",
       "    </tr>\n",
       "    <tr>\n",
       "      <th>6</th>\n",
       "      <td>FormalEducation</td>\n",
       "      <td>Which of the following best describes the highest level of formal education that you’ve completed?</td>\n",
       "    </tr>\n",
       "    <tr>\n",
       "      <th>7</th>\n",
       "      <td>UndergradMajor</td>\n",
       "      <td>You previously indicated that you went to a college or university. Which of the following best describes your main field of study (aka 'major')</td>\n",
       "    </tr>\n",
       "    <tr>\n",
       "      <th>8</th>\n",
       "      <td>CompanySize</td>\n",
       "      <td>Approximately how many people are employed by the company or organization you work for?</td>\n",
       "    </tr>\n",
       "    <tr>\n",
       "      <th>9</th>\n",
       "      <td>DevType</td>\n",
       "      <td>Which of the following describe you? Please select all that apply.</td>\n",
       "    </tr>\n",
       "    <tr>\n",
       "      <th>10</th>\n",
       "      <td>YearsCoding</td>\n",
       "      <td>Including any education, for how many years have you been coding?</td>\n",
       "    </tr>\n",
       "    <tr>\n",
       "      <th>11</th>\n",
       "      <td>YearsCodingProf</td>\n",
       "      <td>For how many years have you coded professionally (as a part of your work)?</td>\n",
       "    </tr>\n",
       "    <tr>\n",
       "      <th>12</th>\n",
       "      <td>JobSatisfaction</td>\n",
       "      <td>How satisfied are you with your current job? If you work more than one job, please answer regarding the one you spend the most hours on.</td>\n",
       "    </tr>\n",
       "    <tr>\n",
       "      <th>13</th>\n",
       "      <td>CareerSatisfaction</td>\n",
       "      <td>Overall, how satisfied are you with your career thus far?</td>\n",
       "    </tr>\n",
       "    <tr>\n",
       "      <th>14</th>\n",
       "      <td>HopeFiveYears</td>\n",
       "      <td>Which of the following best describes what you hope to be doing in five years?</td>\n",
       "    </tr>\n",
       "    <tr>\n",
       "      <th>15</th>\n",
       "      <td>JobSearchStatus</td>\n",
       "      <td>Which of the following best describes your current job-seeking status?</td>\n",
       "    </tr>\n",
       "    <tr>\n",
       "      <th>16</th>\n",
       "      <td>LastNewJob</td>\n",
       "      <td>When was the last time that you took a job with a new employer?</td>\n",
       "    </tr>\n",
       "    <tr>\n",
       "      <th>17</th>\n",
       "      <td>AssessJob1</td>\n",
       "      <td>Imagine that you are assessing a potential job opportunity. Please rank the following aspects of the job opportunity in order of importance (by dragging the choices up and down), where 1 is the most important and 10 is the least important. The industry that I'd be working in</td>\n",
       "    </tr>\n",
       "    <tr>\n",
       "      <th>18</th>\n",
       "      <td>AssessJob2</td>\n",
       "      <td>Imagine that you are assessing a potential job opportunity. Please rank the following aspects of the job opportunity in order of importance (by dragging the choices up and down), where 1 is the most important and 10 is the least important. The financial performance or funding status of the company or organization</td>\n",
       "    </tr>\n",
       "    <tr>\n",
       "      <th>19</th>\n",
       "      <td>AssessJob3</td>\n",
       "      <td>Imagine that you are assessing a potential job opportunity. Please rank the following aspects of the job opportunity in order of importance (by dragging the choices up and down), where 1 is the most important and 10 is the least important. The specific department or team I'd be working on</td>\n",
       "    </tr>\n",
       "    <tr>\n",
       "      <th>20</th>\n",
       "      <td>AssessJob4</td>\n",
       "      <td>Imagine that you are assessing a potential job opportunity. Please rank the following aspects of the job opportunity in order of importance (by dragging the choices up and down), where 1 is the most important and 10 is the least important. The languages, frameworks, and other technologies I'd be working with</td>\n",
       "    </tr>\n",
       "    <tr>\n",
       "      <th>21</th>\n",
       "      <td>AssessJob5</td>\n",
       "      <td>Imagine that you are assessing a potential job opportunity. Please rank the following aspects of the job opportunity in order of importance (by dragging the choices up and down), where 1 is the most important and 10 is the least important. The compensation and benefits offered</td>\n",
       "    </tr>\n",
       "    <tr>\n",
       "      <th>22</th>\n",
       "      <td>AssessJob6</td>\n",
       "      <td>Imagine that you are assessing a potential job opportunity. Please rank the following aspects of the job opportunity in order of importance (by dragging the choices up and down), where 1 is the most important and 10 is the least important. The office environment or company culture</td>\n",
       "    </tr>\n",
       "    <tr>\n",
       "      <th>23</th>\n",
       "      <td>AssessJob7</td>\n",
       "      <td>Imagine that you are assessing a potential job opportunity. Please rank the following aspects of the job opportunity in order of importance (by dragging the choices up and down), where 1 is the most important and 10 is the least important. The opportunity to work from home/remotely</td>\n",
       "    </tr>\n",
       "    <tr>\n",
       "      <th>24</th>\n",
       "      <td>AssessJob8</td>\n",
       "      <td>Imagine that you are assessing a potential job opportunity. Please rank the following aspects of the job opportunity in order of importance (by dragging the choices up and down), where 1 is the most important and 10 is the least important. Opportunities for professional development</td>\n",
       "    </tr>\n",
       "    <tr>\n",
       "      <th>25</th>\n",
       "      <td>AssessJob9</td>\n",
       "      <td>Imagine that you are assessing a potential job opportunity. Please rank the following aspects of the job opportunity in order of importance (by dragging the choices up and down), where 1 is the most important and 10 is the least important. The diversity of the company or organization</td>\n",
       "    </tr>\n",
       "    <tr>\n",
       "      <th>26</th>\n",
       "      <td>AssessJob10</td>\n",
       "      <td>Imagine that you are assessing a potential job opportunity. Please rank the following aspects of the job opportunity in order of importance (by dragging the choices up and down), where 1 is the most important and 10 is the least important. How widely used or impactful the product or service I'd be working on is</td>\n",
       "    </tr>\n",
       "    <tr>\n",
       "      <th>27</th>\n",
       "      <td>AssessBenefits1</td>\n",
       "      <td>Now, imagine you are assessing a job's benefits package. Please rank the following aspects of a job's benefits package from most to least important to you (by dragging the choices up and down), where 1 is most important and 11 is least important. Salary and/or bonuses</td>\n",
       "    </tr>\n",
       "    <tr>\n",
       "      <th>28</th>\n",
       "      <td>AssessBenefits2</td>\n",
       "      <td>Now, imagine you are assessing a job's benefits package. Please rank the following aspects of a job's benefits package from most to least important to you (by dragging the choices up and down), where 1 is most important and 11 is least important. Stock options or shares</td>\n",
       "    </tr>\n",
       "    <tr>\n",
       "      <th>29</th>\n",
       "      <td>AssessBenefits3</td>\n",
       "      <td>Now, imagine you are assessing a job's benefits package. Please rank the following aspects of a job's benefits package from most to least important to you (by dragging the choices up and down), where 1 is most important and 11 is least important. Health insurance</td>\n",
       "    </tr>\n",
       "    <tr>\n",
       "      <th>30</th>\n",
       "      <td>AssessBenefits4</td>\n",
       "      <td>Now, imagine you are assessing a job's benefits package. Please rank the following aspects of a job's benefits package from most to least important to you (by dragging the choices up and down), where 1 is most important and 11 is least important. Parental leave</td>\n",
       "    </tr>\n",
       "    <tr>\n",
       "      <th>31</th>\n",
       "      <td>AssessBenefits5</td>\n",
       "      <td>Now, imagine you are assessing a job's benefits package. Please rank the following aspects of a job's benefits package from most to least important to you (by dragging the choices up and down), where 1 is most important and 11 is least important. Fitness or wellness benefit (ex. gym membership, nutritionist)</td>\n",
       "    </tr>\n",
       "    <tr>\n",
       "      <th>32</th>\n",
       "      <td>AssessBenefits6</td>\n",
       "      <td>Now, imagine you are assessing a job's benefits package. Please rank the following aspects of a job's benefits package from most to least important to you (by dragging the choices up and down), where 1 is most important and 11 is least important. Retirement or pension savings matching</td>\n",
       "    </tr>\n",
       "    <tr>\n",
       "      <th>33</th>\n",
       "      <td>AssessBenefits7</td>\n",
       "      <td>Now, imagine you are assessing a job's benefits package. Please rank the following aspects of a job's benefits package from most to least important to you (by dragging the choices up and down), where 1 is most important and 11 is least important. Company-provided meals or snacks</td>\n",
       "    </tr>\n",
       "    <tr>\n",
       "      <th>34</th>\n",
       "      <td>AssessBenefits8</td>\n",
       "      <td>Now, imagine you are assessing a job's benefits package. Please rank the following aspects of a job's benefits package from most to least important to you (by dragging the choices up and down), where 1 is most important and 11 is least important. Computer/office equipment allowance</td>\n",
       "    </tr>\n",
       "    <tr>\n",
       "      <th>35</th>\n",
       "      <td>AssessBenefits9</td>\n",
       "      <td>Now, imagine you are assessing a job's benefits package. Please rank the following aspects of a job's benefits package from most to least important to you (by dragging the choices up and down), where 1 is most important and 11 is least important. Childcare benefit</td>\n",
       "    </tr>\n",
       "    <tr>\n",
       "      <th>36</th>\n",
       "      <td>AssessBenefits10</td>\n",
       "      <td>Now, imagine you are assessing a job's benefits package. Please rank the following aspects of a job's benefits package from most to least important to you (by dragging the choices up and down), where 1 is most important and 11 is least important. Transportation benefit (ex. company-provided transportation, public transit allowance)</td>\n",
       "    </tr>\n",
       "    <tr>\n",
       "      <th>37</th>\n",
       "      <td>AssessBenefits11</td>\n",
       "      <td>Now, imagine you are assessing a job's benefits package. Please rank the following aspects of a job's benefits package from most to least important to you (by dragging the choices up and down), where 1 is most important and 11 is least important. Conference or education budget</td>\n",
       "    </tr>\n",
       "    <tr>\n",
       "      <th>38</th>\n",
       "      <td>JobContactPriorities1</td>\n",
       "      <td>Imagine that a company wanted to contact you about a job that is a good fit for you. Please rank your preference in how you are contacted (by dragging the choices up and down), where 1 is the most preferred and 5 is the least preferred. Telephone call</td>\n",
       "    </tr>\n",
       "    <tr>\n",
       "      <th>39</th>\n",
       "      <td>JobContactPriorities2</td>\n",
       "      <td>Imagine that a company wanted to contact you about a job that is a good fit for you. Please rank your preference in how you are contacted (by dragging the choices up and down), where 1 is the most preferred and 5 is the least preferred. Email to my private address</td>\n",
       "    </tr>\n",
       "    <tr>\n",
       "      <th>40</th>\n",
       "      <td>JobContactPriorities3</td>\n",
       "      <td>Imagine that a company wanted to contact you about a job that is a good fit for you. Please rank your preference in how you are contacted (by dragging the choices up and down), where 1 is the most preferred and 5 is the least preferred. Email to my work address</td>\n",
       "    </tr>\n",
       "    <tr>\n",
       "      <th>41</th>\n",
       "      <td>JobContactPriorities4</td>\n",
       "      <td>Imagine that a company wanted to contact you about a job that is a good fit for you. Please rank your preference in how you are contacted (by dragging the choices up and down), where 1 is the most preferred and 5 is the least preferred. Message on a job site</td>\n",
       "    </tr>\n",
       "    <tr>\n",
       "      <th>42</th>\n",
       "      <td>JobContactPriorities5</td>\n",
       "      <td>Imagine that a company wanted to contact you about a job that is a good fit for you. Please rank your preference in how you are contacted (by dragging the choices up and down), where 1 is the most preferred and 5 is the least preferred. Message on a social media site</td>\n",
       "    </tr>\n",
       "    <tr>\n",
       "      <th>43</th>\n",
       "      <td>JobEmailPriorities1</td>\n",
       "      <td>Imagine that same company decided to contact you through email. Please rank the following items by how important it is to include them in the message (by dragging the choices up and down), where 1 is the most important and 7 is the least important. Details on the company I'd be working for</td>\n",
       "    </tr>\n",
       "    <tr>\n",
       "      <th>44</th>\n",
       "      <td>JobEmailPriorities2</td>\n",
       "      <td>Imagine that same company decided to contact you through email. Please rank the following items by how important it is to include them in the message (by dragging the choices up and down), where 1 is the most important and 7 is the least important. Details on the specific department I'd be working for or product I'd be working on</td>\n",
       "    </tr>\n",
       "    <tr>\n",
       "      <th>45</th>\n",
       "      <td>JobEmailPriorities3</td>\n",
       "      <td>Imagine that same company decided to contact you through email. Please rank the following items by how important it is to include them in the message (by dragging the choices up and down), where 1 is the most important and 7 is the least important. Specifics of why they think I'd be a good fit for the role (ex. my prior work history, projects on GitHub)</td>\n",
       "    </tr>\n",
       "    <tr>\n",
       "      <th>46</th>\n",
       "      <td>JobEmailPriorities4</td>\n",
       "      <td>Imagine that same company decided to contact you through email. Please rank the following items by how important it is to include them in the message (by dragging the choices up and down), where 1 is the most important and 7 is the least important. Details of which technologies I'd be working with</td>\n",
       "    </tr>\n",
       "    <tr>\n",
       "      <th>47</th>\n",
       "      <td>JobEmailPriorities5</td>\n",
       "      <td>Imagine that same company decided to contact you through email. Please rank the following items by how important it is to include them in the message (by dragging the choices up and down), where 1 is the most important and 7 is the least important. An estimate of the compensation range</td>\n",
       "    </tr>\n",
       "    <tr>\n",
       "      <th>48</th>\n",
       "      <td>JobEmailPriorities6</td>\n",
       "      <td>Imagine that same company decided to contact you through email. Please rank the following items by how important it is to include them in the message (by dragging the choices up and down), where 1 is the most important and 7 is the least important. Information on the company's hiring process</td>\n",
       "    </tr>\n",
       "    <tr>\n",
       "      <th>49</th>\n",
       "      <td>JobEmailPriorities7</td>\n",
       "      <td>Imagine that same company decided to contact you through email. Please rank the following items by how important it is to include them in the message (by dragging the choices up and down), where 1 is the most important and 7 is the least important. Details on the company's product development process</td>\n",
       "    </tr>\n",
       "    <tr>\n",
       "      <th>50</th>\n",
       "      <td>UpdateCV</td>\n",
       "      <td>Think back to the last time you updated your resumé, CV, or an online profile on a job site. What is the main reason that you did so?</td>\n",
       "    </tr>\n",
       "    <tr>\n",
       "      <th>51</th>\n",
       "      <td>Currency</td>\n",
       "      <td>Which currency do you use day-to-day? If your answer is complicated, please pick the one you're most comfortable estimating in.</td>\n",
       "    </tr>\n",
       "    <tr>\n",
       "      <th>52</th>\n",
       "      <td>Salary</td>\n",
       "      <td>What is your current gross salary (before taxes and deductions), in ${q://QID50/ChoiceGroup/SelectedChoicesTextEntry}? Please enter a whole number in the box below, without any punctuation. If you are paid hourly, please estimate an equivalent weekly, monthly, or yearly salary. If you prefer not to answer, please leave the box empty.</td>\n",
       "    </tr>\n",
       "    <tr>\n",
       "      <th>53</th>\n",
       "      <td>SalaryType</td>\n",
       "      <td>Is that salary weekly, monthly, or yearly?</td>\n",
       "    </tr>\n",
       "    <tr>\n",
       "      <th>54</th>\n",
       "      <td>ConvertedSalary</td>\n",
       "      <td>Salary converted to annual USD salaries using the exchange rate on 2018-01-18, assuming 12 working months and 50 working weeks.</td>\n",
       "    </tr>\n",
       "    <tr>\n",
       "      <th>55</th>\n",
       "      <td>CurrencySymbol</td>\n",
       "      <td>Three digit currency abbreviation.</td>\n",
       "    </tr>\n",
       "    <tr>\n",
       "      <th>56</th>\n",
       "      <td>CommunicationTools</td>\n",
       "      <td>Which of the following tools do you use to communicate, coordinate, or share knowledge with your coworkers? Please select all that apply.</td>\n",
       "    </tr>\n",
       "    <tr>\n",
       "      <th>57</th>\n",
       "      <td>TimeFullyProductive</td>\n",
       "      <td>Suppose a new developer with four years of experience, including direct experience working with your company's main technical stack, joined your team tomorrow.  All other things being equal, how long would you expect it to take before they were fully productive and contributing at a typical level to your main code base?</td>\n",
       "    </tr>\n",
       "    <tr>\n",
       "      <th>58</th>\n",
       "      <td>EducationTypes</td>\n",
       "      <td>Which of the following types of non-degree education have you used or participated in? Please select all that apply.</td>\n",
       "    </tr>\n",
       "    <tr>\n",
       "      <th>59</th>\n",
       "      <td>SelfTaughtTypes</td>\n",
       "      <td>You indicated that you had taught yourself a programming technology without taking a course. What resources did you use to do that? If you’ve done it more than once, please think about the most recent time you’ve done so. Please select all that apply.</td>\n",
       "    </tr>\n",
       "    <tr>\n",
       "      <th>60</th>\n",
       "      <td>TimeAfterBootcamp</td>\n",
       "      <td>You indicated previously that you went through a developer training program or bootcamp. How long did it take you to get a full-time job as a developer after graduating?</td>\n",
       "    </tr>\n",
       "    <tr>\n",
       "      <th>61</th>\n",
       "      <td>HackathonReasons</td>\n",
       "      <td>You indicated previously that you had participated in an online coding competition or hackathon.  Which of the following best describe your reasons for doing so?</td>\n",
       "    </tr>\n",
       "    <tr>\n",
       "      <th>62</th>\n",
       "      <td>AgreeDisagree1</td>\n",
       "      <td>To what extent do you agree or disagree with each of the following statements? I feel a sense of kinship or connection to other developers</td>\n",
       "    </tr>\n",
       "    <tr>\n",
       "      <th>63</th>\n",
       "      <td>AgreeDisagree2</td>\n",
       "      <td>To what extent do you agree or disagree with each of the following statements? I think of myself as competing with my peers</td>\n",
       "    </tr>\n",
       "    <tr>\n",
       "      <th>64</th>\n",
       "      <td>AgreeDisagree3</td>\n",
       "      <td>To what extent do you agree or disagree with each of the following statements? I'm not as good at programming as most of my peers</td>\n",
       "    </tr>\n",
       "    <tr>\n",
       "      <th>65</th>\n",
       "      <td>LanguageWorkedWith</td>\n",
       "      <td>Which of the following programming, scripting, and markup languages have you done extensive development work in over the past year, and which do you want to work in over the next year?  (If you both worked with the language and want to continue to do so, please check both boxes in that row.)</td>\n",
       "    </tr>\n",
       "    <tr>\n",
       "      <th>66</th>\n",
       "      <td>LanguageDesireNextYear</td>\n",
       "      <td>Which of the following programming, scripting, and markup languages have you done extensive development work in over the past year, and which do you want to work in over the next year?  (If you both worked with the language and want to continue to do so, please check both boxes in that row.)</td>\n",
       "    </tr>\n",
       "    <tr>\n",
       "      <th>67</th>\n",
       "      <td>DatabaseWorkedWith</td>\n",
       "      <td>Which of the following database environments have you done extensive development work in over the past year, and which do you want to work in over the next year?   (If you both worked with the database and want to continue to do so, please check both boxes in that row.)</td>\n",
       "    </tr>\n",
       "    <tr>\n",
       "      <th>68</th>\n",
       "      <td>DatabaseDesireNextYear</td>\n",
       "      <td>Which of the following database environments have you done extensive development work in over the past year, and which do you want to work in over the next year?   (If you both worked with the database and want to continue to do so, please check both boxes in that row.)</td>\n",
       "    </tr>\n",
       "    <tr>\n",
       "      <th>69</th>\n",
       "      <td>PlatformWorkedWith</td>\n",
       "      <td>Which of the following platforms have you done extensive development work for over the past year?   (If you both developed for the platform and want to continue to do so, please check both boxes in that row.)</td>\n",
       "    </tr>\n",
       "    <tr>\n",
       "      <th>70</th>\n",
       "      <td>PlatformDesireNextYear</td>\n",
       "      <td>Which of the following platforms have you done extensive development work for over the past year?   (If you both developed for the platform and want to continue to do so, please check both boxes in that row.)</td>\n",
       "    </tr>\n",
       "    <tr>\n",
       "      <th>71</th>\n",
       "      <td>FrameworkWorkedWith</td>\n",
       "      <td>Which of the following libraries, frameworks, and tools have you done extensive development work in over the past year, and which do you want to work in over the next year?</td>\n",
       "    </tr>\n",
       "    <tr>\n",
       "      <th>72</th>\n",
       "      <td>FrameworkDesireNextYear</td>\n",
       "      <td>Which of the following libraries, frameworks, and tools have you done extensive development work in over the past year, and which do you want to work in over the next year?</td>\n",
       "    </tr>\n",
       "    <tr>\n",
       "      <th>73</th>\n",
       "      <td>IDE</td>\n",
       "      <td>Which development environment(s) do you use regularly?  Please check all that apply.</td>\n",
       "    </tr>\n",
       "    <tr>\n",
       "      <th>74</th>\n",
       "      <td>OperatingSystem</td>\n",
       "      <td>What is the primary operating system in which you work?</td>\n",
       "    </tr>\n",
       "    <tr>\n",
       "      <th>75</th>\n",
       "      <td>NumberMonitors</td>\n",
       "      <td>How many monitors are set up at your workstation?</td>\n",
       "    </tr>\n",
       "    <tr>\n",
       "      <th>76</th>\n",
       "      <td>Methodology</td>\n",
       "      <td>Which of the following methodologies do you have experience working in?</td>\n",
       "    </tr>\n",
       "    <tr>\n",
       "      <th>77</th>\n",
       "      <td>VersionControl</td>\n",
       "      <td>What version control systems do you use regularly? Please select all that apply.</td>\n",
       "    </tr>\n",
       "    <tr>\n",
       "      <th>78</th>\n",
       "      <td>CheckInCode</td>\n",
       "      <td>Over the last year, how often have you checked-in or committed code?</td>\n",
       "    </tr>\n",
       "    <tr>\n",
       "      <th>79</th>\n",
       "      <td>AdBlocker</td>\n",
       "      <td>Do you have ad-blocking software installed on any computers you use regularly?</td>\n",
       "    </tr>\n",
       "    <tr>\n",
       "      <th>80</th>\n",
       "      <td>AdBlockerDisable</td>\n",
       "      <td>In the past month, have you disabled your ad blocker for any reason, even temporarily or for a specific website?</td>\n",
       "    </tr>\n",
       "    <tr>\n",
       "      <th>81</th>\n",
       "      <td>AdBlockerReasons</td>\n",
       "      <td>What are the reasons that you have disabled your ad blocker in the past month? Please select all that apply.</td>\n",
       "    </tr>\n",
       "    <tr>\n",
       "      <th>82</th>\n",
       "      <td>AdsAgreeDisagree1</td>\n",
       "      <td>To what extent do you agree or disagree with the following statements: Online advertising can be valuable when it is relevant to me</td>\n",
       "    </tr>\n",
       "    <tr>\n",
       "      <th>83</th>\n",
       "      <td>AdsAgreeDisagree2</td>\n",
       "      <td>To what extent do you agree or disagree with the following statements: I enjoy seeing online updates from companies that I like</td>\n",
       "    </tr>\n",
       "    <tr>\n",
       "      <th>84</th>\n",
       "      <td>AdsAgreeDisagree3</td>\n",
       "      <td>To what extent do you agree or disagree with the following statements: I fundamentally dislike the concept of advertising</td>\n",
       "    </tr>\n",
       "    <tr>\n",
       "      <th>85</th>\n",
       "      <td>AdsActions</td>\n",
       "      <td>Which of the following actions have you taken in the past month? Please select all that apply.</td>\n",
       "    </tr>\n",
       "    <tr>\n",
       "      <th>86</th>\n",
       "      <td>AdsPriorities1</td>\n",
       "      <td>Please rank the following advertising qualities in order of their importance to you (by dragging the choices up and down), where 1 is the most important, and 7 is the least important. The advertisement is relevant to me</td>\n",
       "    </tr>\n",
       "    <tr>\n",
       "      <th>87</th>\n",
       "      <td>AdsPriorities2</td>\n",
       "      <td>Please rank the following advertising qualities in order of their importance to you (by dragging the choices up and down), where 1 is the most important, and 7 is the least important. The advertisement is honest about its goals</td>\n",
       "    </tr>\n",
       "    <tr>\n",
       "      <th>88</th>\n",
       "      <td>AdsPriorities3</td>\n",
       "      <td>Please rank the following advertising qualities in order of their importance to you (by dragging the choices up and down), where 1 is the most important, and 7 is the least important. The advertisement provides useful information</td>\n",
       "    </tr>\n",
       "    <tr>\n",
       "      <th>89</th>\n",
       "      <td>AdsPriorities4</td>\n",
       "      <td>Please rank the following advertising qualities in order of their importance to you (by dragging the choices up and down), where 1 is the most important, and 7 is the least important. The advertisement seems trustworthy</td>\n",
       "    </tr>\n",
       "    <tr>\n",
       "      <th>90</th>\n",
       "      <td>AdsPriorities5</td>\n",
       "      <td>Please rank the following advertising qualities in order of their importance to you (by dragging the choices up and down), where 1 is the most important, and 7 is the least important. The advertisement is from a company that I like</td>\n",
       "    </tr>\n",
       "    <tr>\n",
       "      <th>91</th>\n",
       "      <td>AdsPriorities6</td>\n",
       "      <td>Please rank the following advertising qualities in order of their importance to you (by dragging the choices up and down), where 1 is the most important, and 7 is the least important. The advertisement offers something of value, like a free trial</td>\n",
       "    </tr>\n",
       "    <tr>\n",
       "      <th>92</th>\n",
       "      <td>AdsPriorities7</td>\n",
       "      <td>Please rank the following advertising qualities in order of their importance to you (by dragging the choices up and down), where 1 is the most important, and 7 is the least important. The advertisement avoids fluffy or vague language</td>\n",
       "    </tr>\n",
       "    <tr>\n",
       "      <th>93</th>\n",
       "      <td>AIDangerous</td>\n",
       "      <td>What do you think is the most dangerous aspect of increasingly advanced AI technology?</td>\n",
       "    </tr>\n",
       "    <tr>\n",
       "      <th>94</th>\n",
       "      <td>AIInteresting</td>\n",
       "      <td>What do you think is the most exciting aspect of increasingly advanced AI technology?</td>\n",
       "    </tr>\n",
       "    <tr>\n",
       "      <th>95</th>\n",
       "      <td>AIResponsible</td>\n",
       "      <td>Whose responsibility is it, &lt;u&gt;primarily&lt;/u&gt;, to consider the ramifications of increasingly advanced AI technology?</td>\n",
       "    </tr>\n",
       "    <tr>\n",
       "      <th>96</th>\n",
       "      <td>AIFuture</td>\n",
       "      <td>Overall, what's your take on the future of artificial intelligence?</td>\n",
       "    </tr>\n",
       "    <tr>\n",
       "      <th>97</th>\n",
       "      <td>EthicsChoice</td>\n",
       "      <td>Imagine that you were asked to write code for a purpose or product that you consider extremely unethical. Do you write the code anyway?</td>\n",
       "    </tr>\n",
       "    <tr>\n",
       "      <th>98</th>\n",
       "      <td>EthicsReport</td>\n",
       "      <td>Do you report or otherwise call out the unethical code in question?</td>\n",
       "    </tr>\n",
       "    <tr>\n",
       "      <th>99</th>\n",
       "      <td>EthicsResponsible</td>\n",
       "      <td>Who do you believe is ultimately most responsible for code that accomplishes something unethical?</td>\n",
       "    </tr>\n",
       "    <tr>\n",
       "      <th>100</th>\n",
       "      <td>EthicalImplications</td>\n",
       "      <td>Do you believe that you have an obligation to consider the ethical implications of the code that you write?</td>\n",
       "    </tr>\n",
       "    <tr>\n",
       "      <th>101</th>\n",
       "      <td>StackOverflowRecommend</td>\n",
       "      <td>How likely is it that you would recommend Stack Overflow overall to a friend or colleague? Where 0 is not likely at all and 10 is very likely.</td>\n",
       "    </tr>\n",
       "    <tr>\n",
       "      <th>102</th>\n",
       "      <td>StackOverflowVisit</td>\n",
       "      <td>How frequently would you say you visit Stack Overflow?</td>\n",
       "    </tr>\n",
       "    <tr>\n",
       "      <th>103</th>\n",
       "      <td>StackOverflowHasAccount</td>\n",
       "      <td>Do you have a Stack Overflow account?</td>\n",
       "    </tr>\n",
       "    <tr>\n",
       "      <th>104</th>\n",
       "      <td>StackOverflowParticipate</td>\n",
       "      <td>How frequently would you say you participate in Q&amp;A on Stack Overflow? By participate we mean ask, answer, vote for, or comment on questions.</td>\n",
       "    </tr>\n",
       "    <tr>\n",
       "      <th>105</th>\n",
       "      <td>StackOverflowJobs</td>\n",
       "      <td>Have you ever used or visited Stack Overflow Jobs?</td>\n",
       "    </tr>\n",
       "    <tr>\n",
       "      <th>106</th>\n",
       "      <td>StackOverflowDevStory</td>\n",
       "      <td>Do you have an up-to-date Developer Story on Stack Overflow?</td>\n",
       "    </tr>\n",
       "    <tr>\n",
       "      <th>107</th>\n",
       "      <td>StackOverflowJobsRecommend</td>\n",
       "      <td>How likely is it that you would recommend Stack Overflow Jobs to a friend or colleague? Where 0 is not likely at all and 10 is very likely.</td>\n",
       "    </tr>\n",
       "    <tr>\n",
       "      <th>108</th>\n",
       "      <td>StackOverflowConsiderMember</td>\n",
       "      <td>Do you consider yourself a member of the Stack Overflow community?</td>\n",
       "    </tr>\n",
       "    <tr>\n",
       "      <th>109</th>\n",
       "      <td>HypotheticalTools1</td>\n",
       "      <td>Please rate your interest in participating in each of the following hypothetical tools on Stack Overflow, where 1 is not at all interested and 5 is extremely interested. A peer mentoring system</td>\n",
       "    </tr>\n",
       "    <tr>\n",
       "      <th>110</th>\n",
       "      <td>HypotheticalTools2</td>\n",
       "      <td>Please rate your interest in participating in each of the following hypothetical tools on Stack Overflow, where 1 is not at all interested and 5 is extremely interested. A private area for people new to programming</td>\n",
       "    </tr>\n",
       "    <tr>\n",
       "      <th>111</th>\n",
       "      <td>HypotheticalTools3</td>\n",
       "      <td>Please rate your interest in participating in each of the following hypothetical tools on Stack Overflow, where 1 is not at all interested and 5 is extremely interested. A programming-oriented blog platform</td>\n",
       "    </tr>\n",
       "    <tr>\n",
       "      <th>112</th>\n",
       "      <td>HypotheticalTools4</td>\n",
       "      <td>Please rate your interest in participating in each of the following hypothetical tools on Stack Overflow, where 1 is not at all interested and 5 is extremely interested. An employer or job review system</td>\n",
       "    </tr>\n",
       "    <tr>\n",
       "      <th>113</th>\n",
       "      <td>HypotheticalTools5</td>\n",
       "      <td>Please rate your interest in participating in each of the following hypothetical tools on Stack Overflow, where 1 is not at all interested and 5 is extremely interested. An area for Q&amp;A related to career growth</td>\n",
       "    </tr>\n",
       "    <tr>\n",
       "      <th>114</th>\n",
       "      <td>WakeTime</td>\n",
       "      <td>On days when you work, what time do you typically wake up?</td>\n",
       "    </tr>\n",
       "    <tr>\n",
       "      <th>115</th>\n",
       "      <td>HoursComputer</td>\n",
       "      <td>On a typical day, how much time do you spend on a desktop or laptop computer?</td>\n",
       "    </tr>\n",
       "    <tr>\n",
       "      <th>116</th>\n",
       "      <td>HoursOutside</td>\n",
       "      <td>On a typical day, how much time do you spend outside?</td>\n",
       "    </tr>\n",
       "    <tr>\n",
       "      <th>117</th>\n",
       "      <td>SkipMeals</td>\n",
       "      <td>In a typical week, how many times do you skip a meal in order to be more productive?</td>\n",
       "    </tr>\n",
       "    <tr>\n",
       "      <th>118</th>\n",
       "      <td>ErgonomicDevices</td>\n",
       "      <td>What ergonomic furniture or devices do you use on a regular basis? Please select all that apply.</td>\n",
       "    </tr>\n",
       "    <tr>\n",
       "      <th>119</th>\n",
       "      <td>Exercise</td>\n",
       "      <td>In a typical week, how many times do you exercise?</td>\n",
       "    </tr>\n",
       "    <tr>\n",
       "      <th>120</th>\n",
       "      <td>Gender</td>\n",
       "      <td>Which of the following do you currently identify as? Please select all that apply. If you prefer not to answer, you may leave this question blank.</td>\n",
       "    </tr>\n",
       "    <tr>\n",
       "      <th>121</th>\n",
       "      <td>SexualOrientation</td>\n",
       "      <td>Which of the following do you currently identify as? Please select all that apply. If you prefer not to answer, you may leave this question blank.</td>\n",
       "    </tr>\n",
       "    <tr>\n",
       "      <th>122</th>\n",
       "      <td>EducationParents</td>\n",
       "      <td>What is the highest level of education received by either of your parents? If you prefer not to answer, you may leave this question blank.</td>\n",
       "    </tr>\n",
       "    <tr>\n",
       "      <th>123</th>\n",
       "      <td>RaceEthnicity</td>\n",
       "      <td>Which of the following do you identify as? Please check all that apply. If you prefer not to answer, you may leave this question blank.</td>\n",
       "    </tr>\n",
       "    <tr>\n",
       "      <th>124</th>\n",
       "      <td>Age</td>\n",
       "      <td>What is your age? If you prefer not to answer, you may leave this question blank.</td>\n",
       "    </tr>\n",
       "    <tr>\n",
       "      <th>125</th>\n",
       "      <td>Dependents</td>\n",
       "      <td>Do you have any children or other dependents that you care for? If you prefer not to answer, you may leave this question blank.</td>\n",
       "    </tr>\n",
       "    <tr>\n",
       "      <th>126</th>\n",
       "      <td>MilitaryUS</td>\n",
       "      <td>Are you currently serving or have you ever served in the U.S. Military?</td>\n",
       "    </tr>\n",
       "    <tr>\n",
       "      <th>127</th>\n",
       "      <td>SurveyTooLong</td>\n",
       "      <td>How do you feel about the length of the survey that you just completed?</td>\n",
       "    </tr>\n",
       "    <tr>\n",
       "      <th>128</th>\n",
       "      <td>SurveyEasy</td>\n",
       "      <td>How easy or difficult was this survey to complete?</td>\n",
       "    </tr>\n",
       "  </tbody>\n",
       "</table>\n",
       "</div>"
      ],
      "text/plain": [
       "                          Column  \\\n",
       "0                     Respondent   \n",
       "1                          Hobby   \n",
       "2                     OpenSource   \n",
       "3                        Country   \n",
       "4                        Student   \n",
       "5                     Employment   \n",
       "6                FormalEducation   \n",
       "7                 UndergradMajor   \n",
       "8                    CompanySize   \n",
       "9                        DevType   \n",
       "10                   YearsCoding   \n",
       "11               YearsCodingProf   \n",
       "12               JobSatisfaction   \n",
       "13            CareerSatisfaction   \n",
       "14                 HopeFiveYears   \n",
       "15               JobSearchStatus   \n",
       "16                    LastNewJob   \n",
       "17                    AssessJob1   \n",
       "18                    AssessJob2   \n",
       "19                    AssessJob3   \n",
       "20                    AssessJob4   \n",
       "21                    AssessJob5   \n",
       "22                    AssessJob6   \n",
       "23                    AssessJob7   \n",
       "24                    AssessJob8   \n",
       "25                    AssessJob9   \n",
       "26                   AssessJob10   \n",
       "27               AssessBenefits1   \n",
       "28               AssessBenefits2   \n",
       "29               AssessBenefits3   \n",
       "30               AssessBenefits4   \n",
       "31               AssessBenefits5   \n",
       "32               AssessBenefits6   \n",
       "33               AssessBenefits7   \n",
       "34               AssessBenefits8   \n",
       "35               AssessBenefits9   \n",
       "36              AssessBenefits10   \n",
       "37              AssessBenefits11   \n",
       "38         JobContactPriorities1   \n",
       "39         JobContactPriorities2   \n",
       "40         JobContactPriorities3   \n",
       "41         JobContactPriorities4   \n",
       "42         JobContactPriorities5   \n",
       "43           JobEmailPriorities1   \n",
       "44           JobEmailPriorities2   \n",
       "45           JobEmailPriorities3   \n",
       "46           JobEmailPriorities4   \n",
       "47           JobEmailPriorities5   \n",
       "48           JobEmailPriorities6   \n",
       "49           JobEmailPriorities7   \n",
       "50                      UpdateCV   \n",
       "51                      Currency   \n",
       "52                        Salary   \n",
       "53                    SalaryType   \n",
       "54               ConvertedSalary   \n",
       "55                CurrencySymbol   \n",
       "56            CommunicationTools   \n",
       "57           TimeFullyProductive   \n",
       "58                EducationTypes   \n",
       "59               SelfTaughtTypes   \n",
       "60             TimeAfterBootcamp   \n",
       "61              HackathonReasons   \n",
       "62                AgreeDisagree1   \n",
       "63                AgreeDisagree2   \n",
       "64                AgreeDisagree3   \n",
       "65            LanguageWorkedWith   \n",
       "66        LanguageDesireNextYear   \n",
       "67            DatabaseWorkedWith   \n",
       "68        DatabaseDesireNextYear   \n",
       "69            PlatformWorkedWith   \n",
       "70        PlatformDesireNextYear   \n",
       "71           FrameworkWorkedWith   \n",
       "72       FrameworkDesireNextYear   \n",
       "73                           IDE   \n",
       "74               OperatingSystem   \n",
       "75                NumberMonitors   \n",
       "76                   Methodology   \n",
       "77                VersionControl   \n",
       "78                   CheckInCode   \n",
       "79                     AdBlocker   \n",
       "80              AdBlockerDisable   \n",
       "81              AdBlockerReasons   \n",
       "82             AdsAgreeDisagree1   \n",
       "83             AdsAgreeDisagree2   \n",
       "84             AdsAgreeDisagree3   \n",
       "85                    AdsActions   \n",
       "86                AdsPriorities1   \n",
       "87                AdsPriorities2   \n",
       "88                AdsPriorities3   \n",
       "89                AdsPriorities4   \n",
       "90                AdsPriorities5   \n",
       "91                AdsPriorities6   \n",
       "92                AdsPriorities7   \n",
       "93                   AIDangerous   \n",
       "94                 AIInteresting   \n",
       "95                 AIResponsible   \n",
       "96                      AIFuture   \n",
       "97                  EthicsChoice   \n",
       "98                  EthicsReport   \n",
       "99             EthicsResponsible   \n",
       "100          EthicalImplications   \n",
       "101       StackOverflowRecommend   \n",
       "102           StackOverflowVisit   \n",
       "103      StackOverflowHasAccount   \n",
       "104     StackOverflowParticipate   \n",
       "105            StackOverflowJobs   \n",
       "106        StackOverflowDevStory   \n",
       "107   StackOverflowJobsRecommend   \n",
       "108  StackOverflowConsiderMember   \n",
       "109           HypotheticalTools1   \n",
       "110           HypotheticalTools2   \n",
       "111           HypotheticalTools3   \n",
       "112           HypotheticalTools4   \n",
       "113           HypotheticalTools5   \n",
       "114                     WakeTime   \n",
       "115                HoursComputer   \n",
       "116                 HoursOutside   \n",
       "117                    SkipMeals   \n",
       "118             ErgonomicDevices   \n",
       "119                     Exercise   \n",
       "120                       Gender   \n",
       "121            SexualOrientation   \n",
       "122             EducationParents   \n",
       "123                RaceEthnicity   \n",
       "124                          Age   \n",
       "125                   Dependents   \n",
       "126                   MilitaryUS   \n",
       "127                SurveyTooLong   \n",
       "128                   SurveyEasy   \n",
       "\n",
       "                                                                                                                                                                                                                                                                                                                                                            QuestionText  \n",
       "0                                                                                                                                                                                                                                                                                                 Randomized respondent ID number (not in order of survey response time)  \n",
       "1                                                                                                                                                                                                                                                                                                                                                Do you code as a hobby?  \n",
       "2                                                                                                                                                                                                                                                                                                                             Do you contribute to open source projects?  \n",
       "3                                                                                                                                                                                                                                                                                                                              In which country do you currently reside?  \n",
       "4                                                                                                                                                                                                                                                                                 Are you currently enrolled in a formal, degree-granting college or university program?  \n",
       "5                                                                                                                                                                                                                                                                                                  Which of the following best describes your current employment status?  \n",
       "6                                                                                                                                                                                                                                                                     Which of the following best describes the highest level of formal education that you’ve completed?  \n",
       "7                                                                                                                                                                                                                        You previously indicated that you went to a college or university. Which of the following best describes your main field of study (aka 'major')  \n",
       "8                                                                                                                                                                                                                                                                                Approximately how many people are employed by the company or organization you work for?  \n",
       "9                                                                                                                                                                                                                                                                                                     Which of the following describe you? Please select all that apply.  \n",
       "10                                                                                                                                                                                                                                                                                                     Including any education, for how many years have you been coding?  \n",
       "11                                                                                                                                                                                                                                                                                            For how many years have you coded professionally (as a part of your work)?  \n",
       "12                                                                                                                                                                                                                              How satisfied are you with your current job? If you work more than one job, please answer regarding the one you spend the most hours on.  \n",
       "13                                                                                                                                                                                                                                                                                                             Overall, how satisfied are you with your career thus far?  \n",
       "14                                                                                                                                                                                                                                                                                        Which of the following best describes what you hope to be doing in five years?  \n",
       "15                                                                                                                                                                                                                                                                                                Which of the following best describes your current job-seeking status?  \n",
       "16                                                                                                                                                                                                                                                                                                       When was the last time that you took a job with a new employer?  \n",
       "17                                                                                   Imagine that you are assessing a potential job opportunity. Please rank the following aspects of the job opportunity in order of importance (by dragging the choices up and down), where 1 is the most important and 10 is the least important. The industry that I'd be working in  \n",
       "18                                            Imagine that you are assessing a potential job opportunity. Please rank the following aspects of the job opportunity in order of importance (by dragging the choices up and down), where 1 is the most important and 10 is the least important. The financial performance or funding status of the company or organization  \n",
       "19                                                                     Imagine that you are assessing a potential job opportunity. Please rank the following aspects of the job opportunity in order of importance (by dragging the choices up and down), where 1 is the most important and 10 is the least important. The specific department or team I'd be working on  \n",
       "20                                                 Imagine that you are assessing a potential job opportunity. Please rank the following aspects of the job opportunity in order of importance (by dragging the choices up and down), where 1 is the most important and 10 is the least important. The languages, frameworks, and other technologies I'd be working with  \n",
       "21                                                                                 Imagine that you are assessing a potential job opportunity. Please rank the following aspects of the job opportunity in order of importance (by dragging the choices up and down), where 1 is the most important and 10 is the least important. The compensation and benefits offered  \n",
       "22                                                                             Imagine that you are assessing a potential job opportunity. Please rank the following aspects of the job opportunity in order of importance (by dragging the choices up and down), where 1 is the most important and 10 is the least important. The office environment or company culture  \n",
       "23                                                                            Imagine that you are assessing a potential job opportunity. Please rank the following aspects of the job opportunity in order of importance (by dragging the choices up and down), where 1 is the most important and 10 is the least important. The opportunity to work from home/remotely  \n",
       "24                                                                            Imagine that you are assessing a potential job opportunity. Please rank the following aspects of the job opportunity in order of importance (by dragging the choices up and down), where 1 is the most important and 10 is the least important. Opportunities for professional development  \n",
       "25                                                                          Imagine that you are assessing a potential job opportunity. Please rank the following aspects of the job opportunity in order of importance (by dragging the choices up and down), where 1 is the most important and 10 is the least important. The diversity of the company or organization  \n",
       "26                                              Imagine that you are assessing a potential job opportunity. Please rank the following aspects of the job opportunity in order of importance (by dragging the choices up and down), where 1 is the most important and 10 is the least important. How widely used or impactful the product or service I'd be working on is  \n",
       "27                                                                                          Now, imagine you are assessing a job's benefits package. Please rank the following aspects of a job's benefits package from most to least important to you (by dragging the choices up and down), where 1 is most important and 11 is least important. Salary and/or bonuses  \n",
       "28                                                                                        Now, imagine you are assessing a job's benefits package. Please rank the following aspects of a job's benefits package from most to least important to you (by dragging the choices up and down), where 1 is most important and 11 is least important. Stock options or shares  \n",
       "29                                                                                               Now, imagine you are assessing a job's benefits package. Please rank the following aspects of a job's benefits package from most to least important to you (by dragging the choices up and down), where 1 is most important and 11 is least important. Health insurance  \n",
       "30                                                                                                 Now, imagine you are assessing a job's benefits package. Please rank the following aspects of a job's benefits package from most to least important to you (by dragging the choices up and down), where 1 is most important and 11 is least important. Parental leave  \n",
       "31                                                 Now, imagine you are assessing a job's benefits package. Please rank the following aspects of a job's benefits package from most to least important to you (by dragging the choices up and down), where 1 is most important and 11 is least important. Fitness or wellness benefit (ex. gym membership, nutritionist)  \n",
       "32                                                                         Now, imagine you are assessing a job's benefits package. Please rank the following aspects of a job's benefits package from most to least important to you (by dragging the choices up and down), where 1 is most important and 11 is least important. Retirement or pension savings matching  \n",
       "33                                                                               Now, imagine you are assessing a job's benefits package. Please rank the following aspects of a job's benefits package from most to least important to you (by dragging the choices up and down), where 1 is most important and 11 is least important. Company-provided meals or snacks  \n",
       "34                                                                            Now, imagine you are assessing a job's benefits package. Please rank the following aspects of a job's benefits package from most to least important to you (by dragging the choices up and down), where 1 is most important and 11 is least important. Computer/office equipment allowance  \n",
       "35                                                                                              Now, imagine you are assessing a job's benefits package. Please rank the following aspects of a job's benefits package from most to least important to you (by dragging the choices up and down), where 1 is most important and 11 is least important. Childcare benefit  \n",
       "36                         Now, imagine you are assessing a job's benefits package. Please rank the following aspects of a job's benefits package from most to least important to you (by dragging the choices up and down), where 1 is most important and 11 is least important. Transportation benefit (ex. company-provided transportation, public transit allowance)  \n",
       "37                                                                                 Now, imagine you are assessing a job's benefits package. Please rank the following aspects of a job's benefits package from most to least important to you (by dragging the choices up and down), where 1 is most important and 11 is least important. Conference or education budget  \n",
       "38                                                                                                           Imagine that a company wanted to contact you about a job that is a good fit for you. Please rank your preference in how you are contacted (by dragging the choices up and down), where 1 is the most preferred and 5 is the least preferred. Telephone call  \n",
       "39                                                                                              Imagine that a company wanted to contact you about a job that is a good fit for you. Please rank your preference in how you are contacted (by dragging the choices up and down), where 1 is the most preferred and 5 is the least preferred. Email to my private address  \n",
       "40                                                                                                 Imagine that a company wanted to contact you about a job that is a good fit for you. Please rank your preference in how you are contacted (by dragging the choices up and down), where 1 is the most preferred and 5 is the least preferred. Email to my work address  \n",
       "41                                                                                                    Imagine that a company wanted to contact you about a job that is a good fit for you. Please rank your preference in how you are contacted (by dragging the choices up and down), where 1 is the most preferred and 5 is the least preferred. Message on a job site  \n",
       "42                                                                                           Imagine that a company wanted to contact you about a job that is a good fit for you. Please rank your preference in how you are contacted (by dragging the choices up and down), where 1 is the most preferred and 5 is the least preferred. Message on a social media site  \n",
       "43                                                                    Imagine that same company decided to contact you through email. Please rank the following items by how important it is to include them in the message (by dragging the choices up and down), where 1 is the most important and 7 is the least important. Details on the company I'd be working for  \n",
       "44                           Imagine that same company decided to contact you through email. Please rank the following items by how important it is to include them in the message (by dragging the choices up and down), where 1 is the most important and 7 is the least important. Details on the specific department I'd be working for or product I'd be working on  \n",
       "45   Imagine that same company decided to contact you through email. Please rank the following items by how important it is to include them in the message (by dragging the choices up and down), where 1 is the most important and 7 is the least important. Specifics of why they think I'd be a good fit for the role (ex. my prior work history, projects on GitHub)  \n",
       "46                                                            Imagine that same company decided to contact you through email. Please rank the following items by how important it is to include them in the message (by dragging the choices up and down), where 1 is the most important and 7 is the least important. Details of which technologies I'd be working with  \n",
       "47                                                                        Imagine that same company decided to contact you through email. Please rank the following items by how important it is to include them in the message (by dragging the choices up and down), where 1 is the most important and 7 is the least important. An estimate of the compensation range  \n",
       "48                                                                  Imagine that same company decided to contact you through email. Please rank the following items by how important it is to include them in the message (by dragging the choices up and down), where 1 is the most important and 7 is the least important. Information on the company's hiring process  \n",
       "49                                                         Imagine that same company decided to contact you through email. Please rank the following items by how important it is to include them in the message (by dragging the choices up and down), where 1 is the most important and 7 is the least important. Details on the company's product development process  \n",
       "50                                                                                                                                                                                                                                 Think back to the last time you updated your resumé, CV, or an online profile on a job site. What is the main reason that you did so?  \n",
       "51                                                                                                                                                                                                                                       Which currency do you use day-to-day? If your answer is complicated, please pick the one you're most comfortable estimating in.  \n",
       "52                       What is your current gross salary (before taxes and deductions), in ${q://QID50/ChoiceGroup/SelectedChoicesTextEntry}? Please enter a whole number in the box below, without any punctuation. If you are paid hourly, please estimate an equivalent weekly, monthly, or yearly salary. If you prefer not to answer, please leave the box empty.  \n",
       "53                                                                                                                                                                                                                                                                                                                            Is that salary weekly, monthly, or yearly?  \n",
       "54                                                                                                                                                                                                                                       Salary converted to annual USD salaries using the exchange rate on 2018-01-18, assuming 12 working months and 50 working weeks.  \n",
       "55                                                                                                                                                                                                                                                                                                                                    Three digit currency abbreviation.  \n",
       "56                                                                                                                                                                                                                             Which of the following tools do you use to communicate, coordinate, or share knowledge with your coworkers? Please select all that apply.  \n",
       "57                                     Suppose a new developer with four years of experience, including direct experience working with your company's main technical stack, joined your team tomorrow.  All other things being equal, how long would you expect it to take before they were fully productive and contributing at a typical level to your main code base?  \n",
       "58                                                                                                                                                                                                                                                  Which of the following types of non-degree education have you used or participated in? Please select all that apply.  \n",
       "59                                                                                                           You indicated that you had taught yourself a programming technology without taking a course. What resources did you use to do that? If you’ve done it more than once, please think about the most recent time you’ve done so. Please select all that apply.  \n",
       "60                                                                                                                                                                                             You indicated previously that you went through a developer training program or bootcamp. How long did it take you to get a full-time job as a developer after graduating?  \n",
       "61                                                                                                                                                                                                     You indicated previously that you had participated in an online coding competition or hackathon.  Which of the following best describe your reasons for doing so?  \n",
       "62                                                                                                                                                                                                                            To what extent do you agree or disagree with each of the following statements? I feel a sense of kinship or connection to other developers  \n",
       "63                                                                                                                                                                                                                                           To what extent do you agree or disagree with each of the following statements? I think of myself as competing with my peers  \n",
       "64                                                                                                                                                                                                                                     To what extent do you agree or disagree with each of the following statements? I'm not as good at programming as most of my peers  \n",
       "65                                                                  Which of the following programming, scripting, and markup languages have you done extensive development work in over the past year, and which do you want to work in over the next year?  (If you both worked with the language and want to continue to do so, please check both boxes in that row.)  \n",
       "66                                                                  Which of the following programming, scripting, and markup languages have you done extensive development work in over the past year, and which do you want to work in over the next year?  (If you both worked with the language and want to continue to do so, please check both boxes in that row.)  \n",
       "67                                                                                        Which of the following database environments have you done extensive development work in over the past year, and which do you want to work in over the next year?   (If you both worked with the database and want to continue to do so, please check both boxes in that row.)  \n",
       "68                                                                                        Which of the following database environments have you done extensive development work in over the past year, and which do you want to work in over the next year?   (If you both worked with the database and want to continue to do so, please check both boxes in that row.)  \n",
       "69                                                                                                                                                      Which of the following platforms have you done extensive development work for over the past year?   (If you both developed for the platform and want to continue to do so, please check both boxes in that row.)  \n",
       "70                                                                                                                                                      Which of the following platforms have you done extensive development work for over the past year?   (If you both developed for the platform and want to continue to do so, please check both boxes in that row.)  \n",
       "71                                                                                                                                                                                          Which of the following libraries, frameworks, and tools have you done extensive development work in over the past year, and which do you want to work in over the next year?  \n",
       "72                                                                                                                                                                                          Which of the following libraries, frameworks, and tools have you done extensive development work in over the past year, and which do you want to work in over the next year?  \n",
       "73                                                                                                                                                                                                                                                                                  Which development environment(s) do you use regularly?  Please check all that apply.  \n",
       "74                                                                                                                                                                                                                                                                                                               What is the primary operating system in which you work?  \n",
       "75                                                                                                                                                                                                                                                                                                                     How many monitors are set up at your workstation?  \n",
       "76                                                                                                                                                                                                                                                                                               Which of the following methodologies do you have experience working in?  \n",
       "77                                                                                                                                                                                                                                                                                      What version control systems do you use regularly? Please select all that apply.  \n",
       "78                                                                                                                                                                                                                                                                                                  Over the last year, how often have you checked-in or committed code?  \n",
       "79                                                                                                                                                                                                                                                                                        Do you have ad-blocking software installed on any computers you use regularly?  \n",
       "80                                                                                                                                                                                                                                                      In the past month, have you disabled your ad blocker for any reason, even temporarily or for a specific website?  \n",
       "81                                                                                                                                                                                                                                                          What are the reasons that you have disabled your ad blocker in the past month? Please select all that apply.  \n",
       "82                                                                                                                                                                                                                                   To what extent do you agree or disagree with the following statements: Online advertising can be valuable when it is relevant to me  \n",
       "83                                                                                                                                                                                                                                       To what extent do you agree or disagree with the following statements: I enjoy seeing online updates from companies that I like  \n",
       "84                                                                                                                                                                                                                                             To what extent do you agree or disagree with the following statements: I fundamentally dislike the concept of advertising  \n",
       "85                                                                                                                                                                                                                                                                        Which of the following actions have you taken in the past month? Please select all that apply.  \n",
       "86                                                                                                                                           Please rank the following advertising qualities in order of their importance to you (by dragging the choices up and down), where 1 is the most important, and 7 is the least important. The advertisement is relevant to me  \n",
       "87                                                                                                                                   Please rank the following advertising qualities in order of their importance to you (by dragging the choices up and down), where 1 is the most important, and 7 is the least important. The advertisement is honest about its goals  \n",
       "88                                                                                                                                 Please rank the following advertising qualities in order of their importance to you (by dragging the choices up and down), where 1 is the most important, and 7 is the least important. The advertisement provides useful information  \n",
       "89                                                                                                                                           Please rank the following advertising qualities in order of their importance to you (by dragging the choices up and down), where 1 is the most important, and 7 is the least important. The advertisement seems trustworthy  \n",
       "90                                                                                                                               Please rank the following advertising qualities in order of their importance to you (by dragging the choices up and down), where 1 is the most important, and 7 is the least important. The advertisement is from a company that I like  \n",
       "91                                                                                                                Please rank the following advertising qualities in order of their importance to you (by dragging the choices up and down), where 1 is the most important, and 7 is the least important. The advertisement offers something of value, like a free trial  \n",
       "92                                                                                                                             Please rank the following advertising qualities in order of their importance to you (by dragging the choices up and down), where 1 is the most important, and 7 is the least important. The advertisement avoids fluffy or vague language  \n",
       "93                                                                                                                                                                                                                                                                                What do you think is the most dangerous aspect of increasingly advanced AI technology?  \n",
       "94                                                                                                                                                                                                                                                                                 What do you think is the most exciting aspect of increasingly advanced AI technology?  \n",
       "95                                                                                                                                                                                                                                                   Whose responsibility is it, <u>primarily</u>, to consider the ramifications of increasingly advanced AI technology?  \n",
       "96                                                                                                                                                                                                                                                                                                   Overall, what's your take on the future of artificial intelligence?  \n",
       "97                                                                                                                                                                                                                               Imagine that you were asked to write code for a purpose or product that you consider extremely unethical. Do you write the code anyway?  \n",
       "98                                                                                                                                                                                                                                                                                                   Do you report or otherwise call out the unethical code in question?  \n",
       "99                                                                                                                                                                                                                                                                     Who do you believe is ultimately most responsible for code that accomplishes something unethical?  \n",
       "100                                                                                                                                                                                                                                                          Do you believe that you have an obligation to consider the ethical implications of the code that you write?  \n",
       "101                                                                                                                                                                                                                       How likely is it that you would recommend Stack Overflow overall to a friend or colleague? Where 0 is not likely at all and 10 is very likely.  \n",
       "102                                                                                                                                                                                                                                                                                                               How frequently would you say you visit Stack Overflow?  \n",
       "103                                                                                                                                                                                                                                                                                                                                Do you have a Stack Overflow account?  \n",
       "104                                                                                                                                                                                                                        How frequently would you say you participate in Q&A on Stack Overflow? By participate we mean ask, answer, vote for, or comment on questions.  \n",
       "105                                                                                                                                                                                                                                                                                                                   Have you ever used or visited Stack Overflow Jobs?  \n",
       "106                                                                                                                                                                                                                                                                                                         Do you have an up-to-date Developer Story on Stack Overflow?  \n",
       "107                                                                                                                                                                                                                          How likely is it that you would recommend Stack Overflow Jobs to a friend or colleague? Where 0 is not likely at all and 10 is very likely.  \n",
       "108                                                                                                                                                                                                                                                                                                   Do you consider yourself a member of the Stack Overflow community?  \n",
       "109                                                                                                                                                                    Please rate your interest in participating in each of the following hypothetical tools on Stack Overflow, where 1 is not at all interested and 5 is extremely interested. A peer mentoring system  \n",
       "110                                                                                                                                               Please rate your interest in participating in each of the following hypothetical tools on Stack Overflow, where 1 is not at all interested and 5 is extremely interested. A private area for people new to programming  \n",
       "111                                                                                                                                                       Please rate your interest in participating in each of the following hypothetical tools on Stack Overflow, where 1 is not at all interested and 5 is extremely interested. A programming-oriented blog platform  \n",
       "112                                                                                                                                                           Please rate your interest in participating in each of the following hypothetical tools on Stack Overflow, where 1 is not at all interested and 5 is extremely interested. An employer or job review system  \n",
       "113                                                                                                                                                   Please rate your interest in participating in each of the following hypothetical tools on Stack Overflow, where 1 is not at all interested and 5 is extremely interested. An area for Q&A related to career growth  \n",
       "114                                                                                                                                                                                                                                                                                                           On days when you work, what time do you typically wake up?  \n",
       "115                                                                                                                                                                                                                                                                                        On a typical day, how much time do you spend on a desktop or laptop computer?  \n",
       "116                                                                                                                                                                                                                                                                                                                On a typical day, how much time do you spend outside?  \n",
       "117                                                                                                                                                                                                                                                                                 In a typical week, how many times do you skip a meal in order to be more productive?  \n",
       "118                                                                                                                                                                                                                                                                     What ergonomic furniture or devices do you use on a regular basis? Please select all that apply.  \n",
       "119                                                                                                                                                                                                                                                                                                                   In a typical week, how many times do you exercise?  \n",
       "120                                                                                                                                                                                                                   Which of the following do you currently identify as? Please select all that apply. If you prefer not to answer, you may leave this question blank.  \n",
       "121                                                                                                                                                                                                                   Which of the following do you currently identify as? Please select all that apply. If you prefer not to answer, you may leave this question blank.  \n",
       "122                                                                                                                                                                                                                           What is the highest level of education received by either of your parents? If you prefer not to answer, you may leave this question blank.  \n",
       "123                                                                                                                                                                                                                              Which of the following do you identify as? Please check all that apply. If you prefer not to answer, you may leave this question blank.  \n",
       "124                                                                                                                                                                                                                                                                                    What is your age? If you prefer not to answer, you may leave this question blank.  \n",
       "125                                                                                                                                                                                                                                      Do you have any children or other dependents that you care for? If you prefer not to answer, you may leave this question blank.  \n",
       "126                                                                                                                                                                                                                                                                                              Are you currently serving or have you ever served in the U.S. Military?  \n",
       "127                                                                                                                                                                                                                                                                                              How do you feel about the length of the survey that you just completed?  \n",
       "128                                                                                                                                                                                                                                                                                                                   How easy or difficult was this survey to complete?  "
      ]
     },
     "execution_count": 4,
     "metadata": {},
     "output_type": "execute_result"
    }
   ],
   "source": [
    "schema2018"
   ]
  },
  {
   "cell_type": "code",
   "execution_count": 5,
   "metadata": {},
   "outputs": [
    {
     "name": "stderr",
     "output_type": "stream",
     "text": [
      "C:\\ProgramData\\Anaconda3\\lib\\site-packages\\IPython\\core\\interactiveshell.py:2785: DtypeWarning: Columns (8,12,13,14,15,16,50,51,52,53,55,56,57,58,59,60,61,62,63,64,65,66,67,68,69,70,71,72,73,74,75,76,77,78,79,80,81,82,83,84,85,93,94,95,96,97,98,99,100,101,102,103,104,105,106,107,108,109,110,111,112,113,114,115,116,117,118,119,120,121,122,123,124,125,126,127,128) have mixed types. Specify dtype option on import or set low_memory=False.\n",
      "  interactivity=interactivity, compiler=compiler, result=result)\n"
     ]
    }
   ],
   "source": [
    "data2018 = pd.read_csv('data/2018/survey_results_public.csv')"
   ]
  },
  {
   "cell_type": "code",
   "execution_count": 6,
   "metadata": {},
   "outputs": [
    {
     "data": {
      "text/plain": [
       "['Hobby',\n",
       " 'OpenSource',\n",
       " 'DevType',\n",
       " 'YearsCoding',\n",
       " 'YearsCodingProf',\n",
       " 'JobSatisfaction',\n",
       " 'CareerSatisfaction',\n",
       " 'HopeFiveYears',\n",
       " 'JobSearchStatus',\n",
       " 'SalaryType',\n",
       " 'ConvertedSalary',\n",
       " 'CommunicationTools',\n",
       " 'AgreeDisagree1',\n",
       " 'AgreeDisagree2',\n",
       " 'AgreeDisagree3',\n",
       " 'LanguageWorkedWith',\n",
       " 'LanguageDesireNextYear',\n",
       " 'DatabaseWorkedWith',\n",
       " 'DatabaseDesireNextYear',\n",
       " 'PlatformWorkedWith',\n",
       " 'PlatformDesireNextYear',\n",
       " 'FrameworkWorkedWith',\n",
       " 'FrameworkDesireNextYear',\n",
       " 'IDE',\n",
       " 'OperatingSystem',\n",
       " 'AIDangerous',\n",
       " 'AIInteresting',\n",
       " 'AIResponsible',\n",
       " 'AIFuture',\n",
       " 'EthicsChoice',\n",
       " 'EthicsReport',\n",
       " 'EthicsResponsible',\n",
       " 'EthicalImplications',\n",
       " 'WakeTime',\n",
       " 'HoursComputer',\n",
       " 'HoursOutside',\n",
       " 'SkipMeals',\n",
       " 'ErgonomicDevices',\n",
       " 'Exercise',\n",
       " 'SexualOrientation',\n",
       " 'EducationParents',\n",
       " 'RaceEthnicity',\n",
       " 'Age',\n",
       " 'Dependents',\n",
       " 'SurveyTooLong',\n",
       " 'SurveyEasy']"
      ]
     },
     "execution_count": 6,
     "metadata": {},
     "output_type": "execute_result"
    }
   ],
   "source": [
    "# Interesting columns\n",
    "[c for c in data2018.iloc[:, [1, 2, 9, 10, 11, 12, 13, 14, 15, 53, 54, 56,62,63,64,65,66,67,68,69,70,71,72,73,74,93,94,95,96,97,98,99,100,114,\n",
    "                 115,116,117,118,119,121,122,123,124,125,127,128]].columns]"
   ]
  },
  {
   "cell_type": "code",
   "execution_count": 7,
   "metadata": {},
   "outputs": [
    {
     "data": {
      "text/html": [
       "<div>\n",
       "<style scoped>\n",
       "    .dataframe tbody tr th:only-of-type {\n",
       "        vertical-align: middle;\n",
       "    }\n",
       "\n",
       "    .dataframe tbody tr th {\n",
       "        vertical-align: top;\n",
       "    }\n",
       "\n",
       "    .dataframe thead th {\n",
       "        text-align: right;\n",
       "    }\n",
       "</style>\n",
       "<table border=\"1\" class=\"dataframe\">\n",
       "  <thead>\n",
       "    <tr style=\"text-align: right;\">\n",
       "      <th></th>\n",
       "      <th>LanguageWorkedWith</th>\n",
       "      <th>LanguageDesireNextYear</th>\n",
       "    </tr>\n",
       "  </thead>\n",
       "  <tbody>\n",
       "    <tr>\n",
       "      <th>0</th>\n",
       "      <td>JavaScript;Python;HTML;CSS</td>\n",
       "      <td>JavaScript;Python;HTML;CSS</td>\n",
       "    </tr>\n",
       "    <tr>\n",
       "      <th>1</th>\n",
       "      <td>JavaScript;Python;Bash/Shell</td>\n",
       "      <td>Go;Python</td>\n",
       "    </tr>\n",
       "    <tr>\n",
       "      <th>2</th>\n",
       "      <td>NaN</td>\n",
       "      <td>NaN</td>\n",
       "    </tr>\n",
       "    <tr>\n",
       "      <th>3</th>\n",
       "      <td>C#;JavaScript;SQL;TypeScript;HTML;CSS;Bash/Shell</td>\n",
       "      <td>C#;JavaScript;SQL;TypeScript;HTML;CSS;Bash/Shell</td>\n",
       "    </tr>\n",
       "    <tr>\n",
       "      <th>4</th>\n",
       "      <td>C;C++;Java;Matlab;R;SQL;Bash/Shell</td>\n",
       "      <td>Assembly;C;C++;Matlab;SQL;Bash/Shell</td>\n",
       "    </tr>\n",
       "  </tbody>\n",
       "</table>\n",
       "</div>"
      ],
      "text/plain": [
       "                                 LanguageWorkedWith  \\\n",
       "0                        JavaScript;Python;HTML;CSS   \n",
       "1                      JavaScript;Python;Bash/Shell   \n",
       "2                                               NaN   \n",
       "3  C#;JavaScript;SQL;TypeScript;HTML;CSS;Bash/Shell   \n",
       "4                C;C++;Java;Matlab;R;SQL;Bash/Shell   \n",
       "\n",
       "                             LanguageDesireNextYear  \n",
       "0                        JavaScript;Python;HTML;CSS  \n",
       "1                                         Go;Python  \n",
       "2                                               NaN  \n",
       "3  C#;JavaScript;SQL;TypeScript;HTML;CSS;Bash/Shell  \n",
       "4              Assembly;C;C++;Matlab;SQL;Bash/Shell  "
      ]
     },
     "execution_count": 7,
     "metadata": {},
     "output_type": "execute_result"
    }
   ],
   "source": [
    "data2018.filter(like='Lang', axis=1).head()"
   ]
  },
  {
   "cell_type": "code",
   "execution_count": 8,
   "metadata": {},
   "outputs": [
    {
     "name": "stdout",
     "output_type": "stream",
     "text": [
      "<class 'pandas.core.frame.DataFrame'>\n",
      "RangeIndex: 98855 entries, 0 to 98854\n",
      "Columns: 129 entries, Respondent to SurveyEasy\n",
      "dtypes: float64(41), int64(1), object(87)\n",
      "memory usage: 97.3+ MB\n"
     ]
    }
   ],
   "source": [
    "data2018.info()"
   ]
  },
  {
   "cell_type": "code",
   "execution_count": 9,
   "metadata": {},
   "outputs": [],
   "source": [
    "# First we get all the different languages\n",
    "delimiter = ';'\n",
    "all_languages = data2018.LanguageWorkedWith.apply(lambda c: str(c).split(delimiter))"
   ]
  },
  {
   "cell_type": "code",
   "execution_count": 10,
   "metadata": {},
   "outputs": [],
   "source": [
    "# Make a flat list out of the list of lists\n",
    "all_languages = [language for languagelist in all_languages for language in languagelist]"
   ]
  },
  {
   "cell_type": "code",
   "execution_count": 11,
   "metadata": {},
   "outputs": [],
   "source": [
    "# No cleanup the list from nan values and duplicates\n",
    "all_languages = list(filter(lambda l: l != 'nan', all_languages))\n",
    "all_languages = set(all_languages)"
   ]
  },
  {
   "cell_type": "code",
   "execution_count": 12,
   "metadata": {},
   "outputs": [
    {
     "data": {
      "text/plain": [
       "{'Assembly',\n",
       " 'Bash/Shell',\n",
       " 'C',\n",
       " 'C#',\n",
       " 'C++',\n",
       " 'CSS',\n",
       " 'Clojure',\n",
       " 'Cobol',\n",
       " 'CoffeeScript',\n",
       " 'Delphi/Object Pascal',\n",
       " 'Erlang',\n",
       " 'F#',\n",
       " 'Go',\n",
       " 'Groovy',\n",
       " 'HTML',\n",
       " 'Hack',\n",
       " 'Haskell',\n",
       " 'Java',\n",
       " 'JavaScript',\n",
       " 'Julia',\n",
       " 'Kotlin',\n",
       " 'Lua',\n",
       " 'Matlab',\n",
       " 'Objective-C',\n",
       " 'Ocaml',\n",
       " 'PHP',\n",
       " 'Perl',\n",
       " 'Python',\n",
       " 'R',\n",
       " 'Ruby',\n",
       " 'Rust',\n",
       " 'SQL',\n",
       " 'Scala',\n",
       " 'Swift',\n",
       " 'TypeScript',\n",
       " 'VB.NET',\n",
       " 'VBA',\n",
       " 'Visual Basic 6'}"
      ]
     },
     "execution_count": 12,
     "metadata": {},
     "output_type": "execute_result"
    }
   ],
   "source": [
    "all_languages"
   ]
  },
  {
   "cell_type": "code",
   "execution_count": 13,
   "metadata": {},
   "outputs": [
    {
     "data": {
      "text/plain": [
       "<re.Match object; span=(8, 12), match='Bash'>"
      ]
     },
     "execution_count": 13,
     "metadata": {},
     "output_type": "execute_result"
    }
   ],
   "source": [
    "# Now we want to make columns out of the languages for better processing\n",
    "import re\n",
    "#result = re.match(\"Bash\", data2018.loc[1,:].LanguageWorkedWith)\n",
    "result = re.search(r'\\bBash\\b', 'FooBash;Bash;Bashi')\n",
    "result"
   ]
  },
  {
   "cell_type": "code",
   "execution_count": 14,
   "metadata": {},
   "outputs": [],
   "source": [
    "for language in all_languages:\n",
    "    data2018[language] = data2018['LanguageWorkedWith'].map(lambda c: language in str(c).split(delimiter))"
   ]
  },
  {
   "cell_type": "code",
   "execution_count": 15,
   "metadata": {},
   "outputs": [
    {
     "data": {
      "text/html": [
       "<div>\n",
       "<style scoped>\n",
       "    .dataframe tbody tr th:only-of-type {\n",
       "        vertical-align: middle;\n",
       "    }\n",
       "\n",
       "    .dataframe tbody tr th {\n",
       "        vertical-align: top;\n",
       "    }\n",
       "\n",
       "    .dataframe thead th {\n",
       "        text-align: right;\n",
       "    }\n",
       "</style>\n",
       "<table border=\"1\" class=\"dataframe\">\n",
       "  <thead>\n",
       "    <tr style=\"text-align: right;\">\n",
       "      <th></th>\n",
       "      <th>LanguageWorkedWith</th>\n",
       "      <th>C#</th>\n",
       "      <th>CSS</th>\n",
       "    </tr>\n",
       "  </thead>\n",
       "  <tbody>\n",
       "    <tr>\n",
       "      <th>0</th>\n",
       "      <td>JavaScript;Python;HTML;CSS</td>\n",
       "      <td>False</td>\n",
       "      <td>True</td>\n",
       "    </tr>\n",
       "    <tr>\n",
       "      <th>1</th>\n",
       "      <td>JavaScript;Python;Bash/Shell</td>\n",
       "      <td>False</td>\n",
       "      <td>False</td>\n",
       "    </tr>\n",
       "    <tr>\n",
       "      <th>2</th>\n",
       "      <td>NaN</td>\n",
       "      <td>False</td>\n",
       "      <td>False</td>\n",
       "    </tr>\n",
       "    <tr>\n",
       "      <th>3</th>\n",
       "      <td>C#;JavaScript;SQL;TypeScript;HTML;CSS;Bash/Shell</td>\n",
       "      <td>True</td>\n",
       "      <td>True</td>\n",
       "    </tr>\n",
       "    <tr>\n",
       "      <th>4</th>\n",
       "      <td>C;C++;Java;Matlab;R;SQL;Bash/Shell</td>\n",
       "      <td>False</td>\n",
       "      <td>False</td>\n",
       "    </tr>\n",
       "  </tbody>\n",
       "</table>\n",
       "</div>"
      ],
      "text/plain": [
       "                                 LanguageWorkedWith     C#    CSS\n",
       "0                        JavaScript;Python;HTML;CSS  False   True\n",
       "1                      JavaScript;Python;Bash/Shell  False  False\n",
       "2                                               NaN  False  False\n",
       "3  C#;JavaScript;SQL;TypeScript;HTML;CSS;Bash/Shell   True   True\n",
       "4                C;C++;Java;Matlab;R;SQL;Bash/Shell  False  False"
      ]
     },
     "execution_count": 15,
     "metadata": {},
     "output_type": "execute_result"
    }
   ],
   "source": [
    "data2018.loc[:, ['LanguageWorkedWith','C#','CSS']].head()"
   ]
  },
  {
   "cell_type": "markdown",
   "metadata": {},
   "source": [
    "#### C# vs Python"
   ]
  },
  {
   "cell_type": "code",
   "execution_count": 16,
   "metadata": {
    "scrolled": true
   },
   "outputs": [
    {
     "data": {
      "text/html": [
       "<div>\n",
       "<style scoped>\n",
       "    .dataframe tbody tr th:only-of-type {\n",
       "        vertical-align: middle;\n",
       "    }\n",
       "\n",
       "    .dataframe tbody tr th {\n",
       "        vertical-align: top;\n",
       "    }\n",
       "\n",
       "    .dataframe thead th {\n",
       "        text-align: right;\n",
       "    }\n",
       "</style>\n",
       "<table border=\"1\" class=\"dataframe\">\n",
       "  <thead>\n",
       "    <tr style=\"text-align: right;\">\n",
       "      <th></th>\n",
       "      <th>Respondent</th>\n",
       "      <th>AssessJob1</th>\n",
       "      <th>AssessJob2</th>\n",
       "      <th>AssessJob3</th>\n",
       "      <th>AssessJob4</th>\n",
       "      <th>AssessJob5</th>\n",
       "      <th>AssessJob6</th>\n",
       "      <th>AssessJob7</th>\n",
       "      <th>AssessJob8</th>\n",
       "      <th>AssessJob9</th>\n",
       "      <th>...</th>\n",
       "      <th>JobEmailPriorities6</th>\n",
       "      <th>JobEmailPriorities7</th>\n",
       "      <th>ConvertedSalary</th>\n",
       "      <th>AdsPriorities1</th>\n",
       "      <th>AdsPriorities2</th>\n",
       "      <th>AdsPriorities3</th>\n",
       "      <th>AdsPriorities4</th>\n",
       "      <th>AdsPriorities5</th>\n",
       "      <th>AdsPriorities6</th>\n",
       "      <th>AdsPriorities7</th>\n",
       "    </tr>\n",
       "  </thead>\n",
       "  <tbody>\n",
       "    <tr>\n",
       "      <th>count</th>\n",
       "      <td>98855.000000</td>\n",
       "      <td>66985.000000</td>\n",
       "      <td>66985.000000</td>\n",
       "      <td>66985.000000</td>\n",
       "      <td>66985.000000</td>\n",
       "      <td>66985.000000</td>\n",
       "      <td>66985.000000</td>\n",
       "      <td>66985.000000</td>\n",
       "      <td>66985.000000</td>\n",
       "      <td>66985.000000</td>\n",
       "      <td>...</td>\n",
       "      <td>46213.00000</td>\n",
       "      <td>46213.000000</td>\n",
       "      <td>4.770200e+04</td>\n",
       "      <td>60479.000000</td>\n",
       "      <td>60479.000000</td>\n",
       "      <td>60479.000000</td>\n",
       "      <td>60479.000000</td>\n",
       "      <td>60479.000000</td>\n",
       "      <td>60479.000000</td>\n",
       "      <td>60479.000000</td>\n",
       "    </tr>\n",
       "    <tr>\n",
       "      <th>mean</th>\n",
       "      <td>50822.971635</td>\n",
       "      <td>6.397089</td>\n",
       "      <td>6.673524</td>\n",
       "      <td>5.906875</td>\n",
       "      <td>4.065791</td>\n",
       "      <td>3.953243</td>\n",
       "      <td>4.407196</td>\n",
       "      <td>5.673181</td>\n",
       "      <td>4.225200</td>\n",
       "      <td>7.640009</td>\n",
       "      <td>...</td>\n",
       "      <td>4.97425</td>\n",
       "      <td>4.836388</td>\n",
       "      <td>9.578086e+04</td>\n",
       "      <td>2.726880</td>\n",
       "      <td>3.805784</td>\n",
       "      <td>3.340945</td>\n",
       "      <td>3.782470</td>\n",
       "      <td>4.383604</td>\n",
       "      <td>5.138809</td>\n",
       "      <td>4.821459</td>\n",
       "    </tr>\n",
       "    <tr>\n",
       "      <th>std</th>\n",
       "      <td>29321.650410</td>\n",
       "      <td>2.788428</td>\n",
       "      <td>2.531202</td>\n",
       "      <td>2.642734</td>\n",
       "      <td>2.541196</td>\n",
       "      <td>2.520499</td>\n",
       "      <td>2.502069</td>\n",
       "      <td>2.923998</td>\n",
       "      <td>2.507411</td>\n",
       "      <td>2.407457</td>\n",
       "      <td>...</td>\n",
       "      <td>1.86063</td>\n",
       "      <td>1.659844</td>\n",
       "      <td>2.023482e+05</td>\n",
       "      <td>1.881078</td>\n",
       "      <td>1.821323</td>\n",
       "      <td>1.673485</td>\n",
       "      <td>1.844864</td>\n",
       "      <td>1.931746</td>\n",
       "      <td>1.853249</td>\n",
       "      <td>1.874895</td>\n",
       "    </tr>\n",
       "    <tr>\n",
       "      <th>min</th>\n",
       "      <td>1.000000</td>\n",
       "      <td>1.000000</td>\n",
       "      <td>1.000000</td>\n",
       "      <td>1.000000</td>\n",
       "      <td>1.000000</td>\n",
       "      <td>1.000000</td>\n",
       "      <td>1.000000</td>\n",
       "      <td>1.000000</td>\n",
       "      <td>1.000000</td>\n",
       "      <td>1.000000</td>\n",
       "      <td>...</td>\n",
       "      <td>1.00000</td>\n",
       "      <td>1.000000</td>\n",
       "      <td>0.000000e+00</td>\n",
       "      <td>1.000000</td>\n",
       "      <td>1.000000</td>\n",
       "      <td>1.000000</td>\n",
       "      <td>1.000000</td>\n",
       "      <td>1.000000</td>\n",
       "      <td>1.000000</td>\n",
       "      <td>1.000000</td>\n",
       "    </tr>\n",
       "    <tr>\n",
       "      <th>25%</th>\n",
       "      <td>25443.500000</td>\n",
       "      <td>4.000000</td>\n",
       "      <td>5.000000</td>\n",
       "      <td>4.000000</td>\n",
       "      <td>2.000000</td>\n",
       "      <td>2.000000</td>\n",
       "      <td>2.000000</td>\n",
       "      <td>3.000000</td>\n",
       "      <td>2.000000</td>\n",
       "      <td>6.000000</td>\n",
       "      <td>...</td>\n",
       "      <td>4.00000</td>\n",
       "      <td>4.000000</td>\n",
       "      <td>2.384400e+04</td>\n",
       "      <td>1.000000</td>\n",
       "      <td>2.000000</td>\n",
       "      <td>2.000000</td>\n",
       "      <td>2.000000</td>\n",
       "      <td>3.000000</td>\n",
       "      <td>4.000000</td>\n",
       "      <td>3.000000</td>\n",
       "    </tr>\n",
       "    <tr>\n",
       "      <th>50%</th>\n",
       "      <td>50823.000000</td>\n",
       "      <td>7.000000</td>\n",
       "      <td>7.000000</td>\n",
       "      <td>6.000000</td>\n",
       "      <td>4.000000</td>\n",
       "      <td>3.000000</td>\n",
       "      <td>4.000000</td>\n",
       "      <td>6.000000</td>\n",
       "      <td>4.000000</td>\n",
       "      <td>8.000000</td>\n",
       "      <td>...</td>\n",
       "      <td>5.00000</td>\n",
       "      <td>5.000000</td>\n",
       "      <td>5.507500e+04</td>\n",
       "      <td>2.000000</td>\n",
       "      <td>4.000000</td>\n",
       "      <td>3.000000</td>\n",
       "      <td>4.000000</td>\n",
       "      <td>5.000000</td>\n",
       "      <td>6.000000</td>\n",
       "      <td>5.000000</td>\n",
       "    </tr>\n",
       "    <tr>\n",
       "      <th>75%</th>\n",
       "      <td>76219.500000</td>\n",
       "      <td>9.000000</td>\n",
       "      <td>9.000000</td>\n",
       "      <td>8.000000</td>\n",
       "      <td>6.000000</td>\n",
       "      <td>6.000000</td>\n",
       "      <td>6.000000</td>\n",
       "      <td>8.000000</td>\n",
       "      <td>6.000000</td>\n",
       "      <td>10.000000</td>\n",
       "      <td>...</td>\n",
       "      <td>7.00000</td>\n",
       "      <td>6.000000</td>\n",
       "      <td>9.300000e+04</td>\n",
       "      <td>4.000000</td>\n",
       "      <td>5.000000</td>\n",
       "      <td>5.000000</td>\n",
       "      <td>5.000000</td>\n",
       "      <td>6.000000</td>\n",
       "      <td>7.000000</td>\n",
       "      <td>7.000000</td>\n",
       "    </tr>\n",
       "    <tr>\n",
       "      <th>max</th>\n",
       "      <td>101592.000000</td>\n",
       "      <td>10.000000</td>\n",
       "      <td>10.000000</td>\n",
       "      <td>10.000000</td>\n",
       "      <td>10.000000</td>\n",
       "      <td>10.000000</td>\n",
       "      <td>10.000000</td>\n",
       "      <td>10.000000</td>\n",
       "      <td>10.000000</td>\n",
       "      <td>10.000000</td>\n",
       "      <td>...</td>\n",
       "      <td>7.00000</td>\n",
       "      <td>7.000000</td>\n",
       "      <td>2.000000e+06</td>\n",
       "      <td>7.000000</td>\n",
       "      <td>7.000000</td>\n",
       "      <td>7.000000</td>\n",
       "      <td>7.000000</td>\n",
       "      <td>7.000000</td>\n",
       "      <td>7.000000</td>\n",
       "      <td>7.000000</td>\n",
       "    </tr>\n",
       "  </tbody>\n",
       "</table>\n",
       "<p>8 rows × 42 columns</p>\n",
       "</div>"
      ],
      "text/plain": [
       "          Respondent    AssessJob1    AssessJob2    AssessJob3    AssessJob4  \\\n",
       "count   98855.000000  66985.000000  66985.000000  66985.000000  66985.000000   \n",
       "mean    50822.971635      6.397089      6.673524      5.906875      4.065791   \n",
       "std     29321.650410      2.788428      2.531202      2.642734      2.541196   \n",
       "min         1.000000      1.000000      1.000000      1.000000      1.000000   \n",
       "25%     25443.500000      4.000000      5.000000      4.000000      2.000000   \n",
       "50%     50823.000000      7.000000      7.000000      6.000000      4.000000   \n",
       "75%     76219.500000      9.000000      9.000000      8.000000      6.000000   \n",
       "max    101592.000000     10.000000     10.000000     10.000000     10.000000   \n",
       "\n",
       "         AssessJob5    AssessJob6    AssessJob7    AssessJob8    AssessJob9  \\\n",
       "count  66985.000000  66985.000000  66985.000000  66985.000000  66985.000000   \n",
       "mean       3.953243      4.407196      5.673181      4.225200      7.640009   \n",
       "std        2.520499      2.502069      2.923998      2.507411      2.407457   \n",
       "min        1.000000      1.000000      1.000000      1.000000      1.000000   \n",
       "25%        2.000000      2.000000      3.000000      2.000000      6.000000   \n",
       "50%        3.000000      4.000000      6.000000      4.000000      8.000000   \n",
       "75%        6.000000      6.000000      8.000000      6.000000     10.000000   \n",
       "max       10.000000     10.000000     10.000000     10.000000     10.000000   \n",
       "\n",
       "            ...        JobEmailPriorities6  JobEmailPriorities7  \\\n",
       "count       ...                46213.00000         46213.000000   \n",
       "mean        ...                    4.97425             4.836388   \n",
       "std         ...                    1.86063             1.659844   \n",
       "min         ...                    1.00000             1.000000   \n",
       "25%         ...                    4.00000             4.000000   \n",
       "50%         ...                    5.00000             5.000000   \n",
       "75%         ...                    7.00000             6.000000   \n",
       "max         ...                    7.00000             7.000000   \n",
       "\n",
       "       ConvertedSalary  AdsPriorities1  AdsPriorities2  AdsPriorities3  \\\n",
       "count     4.770200e+04    60479.000000    60479.000000    60479.000000   \n",
       "mean      9.578086e+04        2.726880        3.805784        3.340945   \n",
       "std       2.023482e+05        1.881078        1.821323        1.673485   \n",
       "min       0.000000e+00        1.000000        1.000000        1.000000   \n",
       "25%       2.384400e+04        1.000000        2.000000        2.000000   \n",
       "50%       5.507500e+04        2.000000        4.000000        3.000000   \n",
       "75%       9.300000e+04        4.000000        5.000000        5.000000   \n",
       "max       2.000000e+06        7.000000        7.000000        7.000000   \n",
       "\n",
       "       AdsPriorities4  AdsPriorities5  AdsPriorities6  AdsPriorities7  \n",
       "count    60479.000000    60479.000000    60479.000000    60479.000000  \n",
       "mean         3.782470        4.383604        5.138809        4.821459  \n",
       "std          1.844864        1.931746        1.853249        1.874895  \n",
       "min          1.000000        1.000000        1.000000        1.000000  \n",
       "25%          2.000000        3.000000        4.000000        3.000000  \n",
       "50%          4.000000        5.000000        6.000000        5.000000  \n",
       "75%          5.000000        6.000000        7.000000        7.000000  \n",
       "max          7.000000        7.000000        7.000000        7.000000  \n",
       "\n",
       "[8 rows x 42 columns]"
      ]
     },
     "execution_count": 16,
     "metadata": {},
     "output_type": "execute_result"
    }
   ],
   "source": [
    "data2018.describe()"
   ]
  },
  {
   "cell_type": "code",
   "execution_count": 17,
   "metadata": {},
   "outputs": [],
   "source": [
    "def csharp_or_python(col):\n",
    "    if col['C#'] and col['Python']:\n",
    "        return 'Both'\n",
    "    elif col['C#']:\n",
    "        return 'C#'\n",
    "    elif col['Python']:\n",
    "        return 'Python'\n",
    "    return 'None'"
   ]
  },
  {
   "cell_type": "code",
   "execution_count": 18,
   "metadata": {},
   "outputs": [],
   "source": [
    "data2018['C# vs Python'] = data2018.apply(lambda col: csharp_or_python(col), axis=1)"
   ]
  },
  {
   "cell_type": "code",
   "execution_count": 19,
   "metadata": {},
   "outputs": [
    {
     "data": {
      "text/plain": [
       "<matplotlib.axes._subplots.AxesSubplot at 0x2684cd10f98>"
      ]
     },
     "execution_count": 19,
     "metadata": {},
     "output_type": "execute_result"
    },
    {
     "data": {
      "image/png": "[encoded data removed]",
      "text/plain": [
       "<Figure size 432x288 with 1 Axes>"
      ]
     },
     "metadata": {
      "needs_background": "light"
     },
     "output_type": "display_data"
    }
   ],
   "source": [
    "data2018.groupby('C# vs Python')['SkipMeals'].value_counts().plot(kind='bar')"
   ]
  },
  {
   "cell_type": "code",
   "execution_count": 20,
   "metadata": {},
   "outputs": [
    {
     "data": {
      "text/plain": [
       "<matplotlib.axes._subplots.AxesSubplot at 0x2686df017b8>"
      ]
     },
     "execution_count": 20,
     "metadata": {},
     "output_type": "execute_result"
    },
    {
     "data": {
      "image/png": "[encoded data removed]",
      "text/plain": [
       "<Figure size 432x288 with 1 Axes>"
      ]
     },
     "metadata": {
      "needs_background": "light"
     },
     "output_type": "display_data"
    }
   ],
   "source": [
    "data2018.groupby('C# vs Python')['Age'].value_counts(normalize=True).plot(kind='bar')"
   ]
  },
  {
   "cell_type": "code",
   "execution_count": 21,
   "metadata": {},
   "outputs": [
    {
     "data": {
      "text/plain": [
       "Text(0.5,1,'Python & C#')"
      ]
     },
     "execution_count": 21,
     "metadata": {},
     "output_type": "execute_result"
    },
    {
     "data": {
      "image/png": "[encoded data removed]",
      "text/plain": [
       "<Figure size 1224x504 with 3 Axes>"
      ]
     },
     "metadata": {
      "needs_background": "light"
     },
     "output_type": "display_data"
    }
   ],
   "source": [
    "fig, (ax1, ax2, ax3) = plt.subplots(1,3, figsize=(17,7))\n",
    "data2018[data2018['C#'] == True].Age.value_counts(normalize=True).plot(kind='bar', ax=ax1)\n",
    "ax1.set_title('C#')\n",
    "data2018[data2018['Python'] == True].Age.value_counts(normalize=True).plot(kind='bar', ax=ax2)\n",
    "ax2.set_title('Python')\n",
    "data2018[(data2018['Python'] == True) & (data2018['C#'] == True)].Age.value_counts(normalize=True).plot(kind='bar', ax=ax3)\n",
    "ax3.set_title('Python & C#')"
   ]
  },
  {
   "cell_type": "code",
   "execution_count": 22,
   "metadata": {},
   "outputs": [],
   "source": [
    "# More young people are coding python and more 35 to 44 year old are coding c#. What about people which code both"
   ]
  },
  {
   "cell_type": "code",
   "execution_count": 23,
   "metadata": {},
   "outputs": [
    {
     "data": {
      "text/plain": [
       "Text(0.5,1,'Python & C#')"
      ]
     },
     "execution_count": 23,
     "metadata": {},
     "output_type": "execute_result"
    },
    {
     "data": {
      "image/png": "[encoded data removed]",
      "text/plain": [
       "<Figure size 1224x504 with 3 Axes>"
      ]
     },
     "metadata": {
      "needs_background": "light"
     },
     "output_type": "display_data"
    }
   ],
   "source": [
    "fig, (ax1, ax2, ax3) = plt.subplots(1,3, figsize=(17,7))\n",
    "data2018[data2018['C#'] == True].SkipMeals.value_counts(normalize=True).plot(kind='bar', ax=ax1)\n",
    "ax1.set_title('C#')\n",
    "data2018[data2018['Python'] == True].SkipMeals.value_counts(normalize=True).plot(kind='bar', ax=ax2)\n",
    "ax2.set_title('Python')\n",
    "data2018[(data2018['Python'] == True) & (data2018['C#'] == True)].SkipMeals.value_counts(normalize=True).plot(kind='bar', ax=ax3)\n",
    "ax3.set_title('Python & C#')"
   ]
  },
  {
   "cell_type": "code",
   "execution_count": 24,
   "metadata": {},
   "outputs": [
    {
     "data": {
      "text/plain": [
       "Text(0.5,1,'Python & C#')"
      ]
     },
     "execution_count": 24,
     "metadata": {},
     "output_type": "execute_result"
    },
    {
     "data": {
      "image/png": "[encoded data removed]",
      "text/plain": [
       "<Figure size 1224x504 with 3 Axes>"
      ]
     },
     "metadata": {
      "needs_background": "light"
     },
     "output_type": "display_data"
    }
   ],
   "source": [
    "fig, (ax1, ax2, ax3) = plt.subplots(1,3, figsize=(17,7))\n",
    "data2018[data2018['C#'] == True].Exercise.value_counts(normalize=True).plot(kind='bar', ax=ax1)\n",
    "ax1.set_title('C#')\n",
    "data2018[data2018['Python'] == True].Exercise.value_counts(normalize=True).plot(kind='bar', ax=ax2)\n",
    "ax2.set_title('Python')\n",
    "data2018[(data2018['Python'] == True) & (data2018['C#'] == True)].Exercise.value_counts(normalize=True).plot(kind='bar', ax=ax3)\n",
    "ax3.set_title('Python & C#')"
   ]
  },
  {
   "cell_type": "code",
   "execution_count": 25,
   "metadata": {},
   "outputs": [
    {
     "data": {
      "text/plain": [
       "I don't typically exercise    0.374369\n",
       "1 - 2 times per week          0.290287\n",
       "3 - 4 times per week          0.198563\n",
       "Daily or almost every day     0.136781\n",
       "Name: Exercise, dtype: float64"
      ]
     },
     "execution_count": 25,
     "metadata": {},
     "output_type": "execute_result"
    }
   ],
   "source": [
    "data2018.Exercise.value_counts(normalize=True)"
   ]
  },
  {
   "cell_type": "code",
   "execution_count": 26,
   "metadata": {},
   "outputs": [
    {
     "data": {
      "text/plain": [
       "C# vs Python  Exercise                  \n",
       "Both          I don't typically exercise    0.361083\n",
       "              1 - 2 times per week          0.298774\n",
       "              3 - 4 times per week          0.203779\n",
       "              Daily or almost every day     0.136364\n",
       "C#            I don't typically exercise    0.389060\n",
       "              1 - 2 times per week          0.291703\n",
       "              3 - 4 times per week          0.196814\n",
       "              Daily or almost every day     0.122423\n",
       "None          I don't typically exercise    0.387179\n",
       "              1 - 2 times per week          0.285789\n",
       "              3 - 4 times per week          0.188706\n",
       "              Daily or almost every day     0.138326\n",
       "Python        I don't typically exercise    0.348757\n",
       "              1 - 2 times per week          0.292288\n",
       "              3 - 4 times per week          0.212349\n",
       "              Daily or almost every day     0.146605\n",
       "Name: Exercise, dtype: float64"
      ]
     },
     "execution_count": 26,
     "metadata": {},
     "output_type": "execute_result"
    }
   ],
   "source": [
    "data2018.groupby('C# vs Python')['Exercise'].value_counts(normalize=True)"
   ]
  },
  {
   "cell_type": "code",
   "execution_count": 27,
   "metadata": {},
   "outputs": [
    {
     "data": {
      "text/plain": [
       "38"
      ]
     },
     "execution_count": 27,
     "metadata": {},
     "output_type": "execute_result"
    }
   ],
   "source": [
    "len(all_languages)"
   ]
  },
  {
   "cell_type": "code",
   "execution_count": null,
   "metadata": {},
   "outputs": [],
   "source": [
    "fig, axes = plt.subplots(8,5, figsize=(14, 20), sharey=True, sharex=True)\n",
    "for i, lang in zip(range(38), all_languages):\n",
    "    data2018[data2018[lang] == True].Exercise.value_counts(normalize=True).plot(kind='bar', ax=axes[int(i/5), i%5])\n",
    "    axes[int(i/5), i%5].set_title(lang)"
   ]
  },
  {
   "cell_type": "code",
   "execution_count": null,
   "metadata": {},
   "outputs": [],
   "source": [
    "# Chi-Squared Test of Independence\n",
    "pd.crosstab(data2018['C# vs Python'], data2018.Exercise, normalize=True)"
   ]
  },
  {
   "cell_type": "markdown",
   "metadata": {},
   "source": [
    "Try it with the functional programmers!"
   ]
  },
  {
   "cell_type": "markdown",
   "metadata": {},
   "source": [
    "### First we only compare the distributions"
   ]
  },
  {
   "cell_type": "code",
   "execution_count": null,
   "metadata": {},
   "outputs": [],
   "source": [
    "# Calculate the chi square ourselves with the chi square formular"
   ]
  },
  {
   "cell_type": "markdown",
   "metadata": {},
   "source": [
    "$$ \\chi^2 = \\sum_{1}^{z}\\frac{(o_z-e_z)^2}{e^z} $$"
   ]
  },
  {
   "cell_type": "code",
   "execution_count": 30,
   "metadata": {},
   "outputs": [],
   "source": [
    "import numpy as np"
   ]
  },
  {
   "cell_type": "code",
   "execution_count": 31,
   "metadata": {},
   "outputs": [
    {
     "data": {
      "text/plain": [
       "1 - 2 times per week          0.290287\n",
       "3 - 4 times per week          0.198563\n",
       "Daily or almost every day     0.136781\n",
       "I don't typically exercise    0.374369\n",
       "Name: Exercise, dtype: float64"
      ]
     },
     "execution_count": 31,
     "metadata": {},
     "output_type": "execute_result"
    }
   ],
   "source": [
    "population_ratio = data2018.Exercise.value_counts(dropna=True, sort=True, normalize=True)\n",
    "population_ratio.sort_index()"
   ]
  },
  {
   "cell_type": "code",
   "execution_count": 32,
   "metadata": {},
   "outputs": [
    {
     "data": {
      "text/plain": [
       "1 - 2 times per week           8812.816719\n",
       "3 - 4 times per week           6028.182199\n",
       "Daily or almost every day      4152.532548\n",
       "I don't typically exercise    11365.468533\n",
       "Name: Exercise, dtype: float64"
      ]
     },
     "execution_count": 32,
     "metadata": {},
     "output_type": "execute_result"
    }
   ],
   "source": [
    "python_programmers = data2018[data2018['Python'] == True]\n",
    "expected_count = population_ratio * len(python_programmers)\n",
    "expected_count.sort_index()"
   ]
  },
  {
   "cell_type": "code",
   "execution_count": 33,
   "metadata": {},
   "outputs": [
    {
     "data": {
      "text/plain": [
       "1 - 2 times per week          8044\n",
       "3 - 4 times per week          5740\n",
       "Daily or almost every day     3929\n",
       "I don't typically exercise    9634\n",
       "Name: Exercise, dtype: int64"
      ]
     },
     "execution_count": 33,
     "metadata": {},
     "output_type": "execute_result"
    }
   ],
   "source": [
    "actual_count = python_programmers.Exercise.value_counts(dropna=True, sort=True)\n",
    "actual_count.sort_index()"
   ]
  },
  {
   "cell_type": "code",
   "execution_count": 34,
   "metadata": {},
   "outputs": [
    {
     "data": {
      "text/plain": [
       "356.6600362751675"
      ]
     },
     "execution_count": 34,
     "metadata": {},
     "output_type": "execute_result"
    }
   ],
   "source": [
    "(((actual_count.sort_index()-expected_count.sort_index()) ** 2)/expected_count.sort_index()).sum()"
   ]
  },
  {
   "cell_type": "code",
   "execution_count": 35,
   "metadata": {},
   "outputs": [],
   "source": [
    "# Calculating the chi square statistic\n",
    "chi_squared_stat = (((actual_count.sort_index()-expected_count.sort_index()) ** 2)/expected_count.sort_index()).sum()"
   ]
  },
  {
   "cell_type": "code",
   "execution_count": 36,
   "metadata": {},
   "outputs": [
    {
     "name": "stdout",
     "output_type": "stream",
     "text": [
      "356.6600362751675\n"
     ]
    }
   ],
   "source": [
    "print(chi_squared_stat)"
   ]
  },
  {
   "cell_type": "code",
   "execution_count": 38,
   "metadata": {},
   "outputs": [
    {
     "name": "stdout",
     "output_type": "stream",
     "text": [
      "7.814727903251179\n"
     ]
    }
   ],
   "source": [
    "# First we want to find the critical value for 95% confidence\n",
    "\n",
    "import scipy.stats as stats\n",
    "\n",
    "# Degree of freedom is 5-1 =\n",
    "crit = stats.chi2.ppf(q = 0.95, df = 3)\n",
    "print(crit)"
   ]
  },
  {
   "cell_type": "code",
   "execution_count": 39,
   "metadata": {},
   "outputs": [
    {
     "data": {
      "text/plain": [
       "0.0"
      ]
     },
     "execution_count": 39,
     "metadata": {},
     "output_type": "execute_result"
    }
   ],
   "source": [
    "# And now we calcualte the t-value\n",
    "p_value = 1 - stats.chi2.cdf(x=chi_squared_stat,  df=3)\n",
    "p_value"
   ]
  },
  {
   "cell_type": "code",
   "execution_count": 41,
   "metadata": {},
   "outputs": [
    {
     "data": {
      "text/plain": [
       "Power_divergenceResult(statistic=356.66003627516744, pvalue=5.389358103510067e-77)"
      ]
     },
     "execution_count": 41,
     "metadata": {},
     "output_type": "execute_result"
    }
   ],
   "source": [
    "# Now we calculate all this with scipy\n",
    "stats.chisquare(f_obs= actual_count,   \n",
    "                f_exp= expected_count)   "
   ]
  },
  {
   "cell_type": "code",
   "execution_count": 44,
   "metadata": {},
   "outputs": [
    {
     "data": {
      "text/plain": [
       "I'm excited about the possibilities more than worried about the dangers.        0.728158\n",
       "I'm worried about the dangers more than I'm excited about the possibilities.    0.190297\n",
       "I don't care about it, or I haven't thought about it.                           0.081545\n",
       "Name: AIFuture, dtype: float64"
      ]
     },
     "execution_count": 44,
     "metadata": {},
     "output_type": "execute_result"
    }
   ],
   "source": [
    "# So there is a dependence between the two variables exercise and python or not\n",
    "population_ratio = data2018.AIFuture.value_counts(dropna=True, normalize=True)\n",
    "population_ratio"
   ]
  },
  {
   "cell_type": "code",
   "execution_count": 45,
   "metadata": {},
   "outputs": [
    {
     "data": {
      "text/plain": [
       "I'm excited about the possibilities more than worried about the dangers.        0.765832\n",
       "I'm worried about the dangers more than I'm excited about the possibilities.    0.167864\n",
       "I don't care about it, or I haven't thought about it.                           0.066304\n",
       "Name: AIFuture, dtype: float64"
      ]
     },
     "execution_count": 45,
     "metadata": {},
     "output_type": "execute_result"
    }
   ],
   "source": [
    "python_ratio = python_programmers.AIFuture.value_counts(dropna=True, normalize=True)\n",
    "python_ratio"
   ]
  },
  {
   "cell_type": "code",
   "execution_count": 49,
   "metadata": {},
   "outputs": [
    {
     "data": {
      "text/plain": [
       "Power_divergenceResult(statistic=442.55735100425204, pvalue=7.941312138124615e-97)"
      ]
     },
     "execution_count": 49,
     "metadata": {},
     "output_type": "execute_result"
    }
   ],
   "source": [
    "# Now we calculate all this with scipy\n",
    "stats.chisquare(f_obs= python_programmers.AIFuture.value_counts(dropna=True),   \n",
    "                f_exp= population_ratio * len(python_programmers))  "
   ]
  },
  {
   "cell_type": "markdown",
   "metadata": {},
   "source": [
    "Since our chi-squared statistic exceeds the critical value, we'd reject the null hypothesis that the two distributions are the same."
   ]
  },
  {
   "cell_type": "code",
   "execution_count": 50,
   "metadata": {},
   "outputs": [],
   "source": [
    "# Andere interessante Fragen\n",
    "# Zufriedenheit bei funktionalen und nicht-funktionalen Sprachen\n",
    "# Entwicklung der funktionalen Sprachen -> Time-Serie"
   ]
  },
  {
   "cell_type": "markdown",
   "metadata": {},
   "source": [
    "### Next we check for independence"
   ]
  },
  {
   "cell_type": "code",
   "execution_count": 51,
   "metadata": {},
   "outputs": [],
   "source": [
    "import pandas as pd\n",
    "import numpy as np\n",
    "import matplotlib.pyplot as plt"
   ]
  },
  {
   "cell_type": "code",
   "execution_count": 58,
   "metadata": {},
   "outputs": [
    {
     "data": {
      "text/html": [
       "<div>\n",
       "<style scoped>\n",
       "    .dataframe tbody tr th:only-of-type {\n",
       "        vertical-align: middle;\n",
       "    }\n",
       "\n",
       "    .dataframe tbody tr th {\n",
       "        vertical-align: top;\n",
       "    }\n",
       "\n",
       "    .dataframe thead th {\n",
       "        text-align: right;\n",
       "    }\n",
       "</style>\n",
       "<table border=\"1\" class=\"dataframe\">\n",
       "  <thead>\n",
       "    <tr style=\"text-align: right;\">\n",
       "      <th>Exercise</th>\n",
       "      <th>1 - 2 times per week</th>\n",
       "      <th>3 - 4 times per week</th>\n",
       "      <th>Daily or almost every day</th>\n",
       "      <th>I don't typically exercise</th>\n",
       "      <th>All</th>\n",
       "    </tr>\n",
       "    <tr>\n",
       "      <th>C# vs Python</th>\n",
       "      <th></th>\n",
       "      <th></th>\n",
       "      <th></th>\n",
       "      <th></th>\n",
       "      <th></th>\n",
       "    </tr>\n",
       "  </thead>\n",
       "  <tbody>\n",
       "    <tr>\n",
       "      <th>Both</th>\n",
       "      <td>2340</td>\n",
       "      <td>1596</td>\n",
       "      <td>1068</td>\n",
       "      <td>2828</td>\n",
       "      <td>7832</td>\n",
       "    </tr>\n",
       "    <tr>\n",
       "      <th>C#</th>\n",
       "      <td>4725</td>\n",
       "      <td>3188</td>\n",
       "      <td>1983</td>\n",
       "      <td>6302</td>\n",
       "      <td>16198</td>\n",
       "    </tr>\n",
       "    <tr>\n",
       "      <th>None</th>\n",
       "      <td>8163</td>\n",
       "      <td>5390</td>\n",
       "      <td>3951</td>\n",
       "      <td>11059</td>\n",
       "      <td>28563</td>\n",
       "    </tr>\n",
       "    <tr>\n",
       "      <th>Python</th>\n",
       "      <td>5704</td>\n",
       "      <td>4144</td>\n",
       "      <td>2861</td>\n",
       "      <td>6806</td>\n",
       "      <td>19515</td>\n",
       "    </tr>\n",
       "    <tr>\n",
       "      <th>All</th>\n",
       "      <td>20932</td>\n",
       "      <td>14318</td>\n",
       "      <td>9863</td>\n",
       "      <td>26995</td>\n",
       "      <td>72108</td>\n",
       "    </tr>\n",
       "  </tbody>\n",
       "</table>\n",
       "</div>"
      ],
      "text/plain": [
       "Exercise      1 - 2 times per week  3 - 4 times per week  \\\n",
       "C# vs Python                                               \n",
       "Both                          2340                  1596   \n",
       "C#                            4725                  3188   \n",
       "None                          8163                  5390   \n",
       "Python                        5704                  4144   \n",
       "All                          20932                 14318   \n",
       "\n",
       "Exercise      Daily or almost every day  I don't typically exercise    All  \n",
       "C# vs Python                                                                \n",
       "Both                               1068                        2828   7832  \n",
       "C#                                 1983                        6302  16198  \n",
       "None                               3951                       11059  28563  \n",
       "Python                             2861                        6806  19515  \n",
       "All                                9863                       26995  72108  "
      ]
     },
     "execution_count": 58,
     "metadata": {},
     "output_type": "execute_result"
    }
   ],
   "source": [
    "exercise_data_with_margin = pd.crosstab(data2018['C# vs Python'], data2018.Exercise, margins=True)\n",
    "exercise_data_with_margin"
   ]
  },
  {
   "cell_type": "code",
   "execution_count": 60,
   "metadata": {},
   "outputs": [
    {
     "data": {
      "text/html": [
       "<div>\n",
       "<style scoped>\n",
       "    .dataframe tbody tr th:only-of-type {\n",
       "        vertical-align: middle;\n",
       "    }\n",
       "\n",
       "    .dataframe tbody tr th {\n",
       "        vertical-align: top;\n",
       "    }\n",
       "\n",
       "    .dataframe thead th {\n",
       "        text-align: right;\n",
       "    }\n",
       "</style>\n",
       "<table border=\"1\" class=\"dataframe\">\n",
       "  <thead>\n",
       "    <tr style=\"text-align: right;\">\n",
       "      <th>Exercise</th>\n",
       "      <th>1 - 2 times per week</th>\n",
       "      <th>3 - 4 times per week</th>\n",
       "      <th>Daily or almost every day</th>\n",
       "      <th>I don't typically exercise</th>\n",
       "    </tr>\n",
       "    <tr>\n",
       "      <th>C# vs Python</th>\n",
       "      <th></th>\n",
       "      <th></th>\n",
       "      <th></th>\n",
       "      <th></th>\n",
       "    </tr>\n",
       "  </thead>\n",
       "  <tbody>\n",
       "    <tr>\n",
       "      <th>Both</th>\n",
       "      <td>2340</td>\n",
       "      <td>1596</td>\n",
       "      <td>1068</td>\n",
       "      <td>2828</td>\n",
       "    </tr>\n",
       "    <tr>\n",
       "      <th>C#</th>\n",
       "      <td>4725</td>\n",
       "      <td>3188</td>\n",
       "      <td>1983</td>\n",
       "      <td>6302</td>\n",
       "    </tr>\n",
       "    <tr>\n",
       "      <th>None</th>\n",
       "      <td>8163</td>\n",
       "      <td>5390</td>\n",
       "      <td>3951</td>\n",
       "      <td>11059</td>\n",
       "    </tr>\n",
       "    <tr>\n",
       "      <th>Python</th>\n",
       "      <td>5704</td>\n",
       "      <td>4144</td>\n",
       "      <td>2861</td>\n",
       "      <td>6806</td>\n",
       "    </tr>\n",
       "  </tbody>\n",
       "</table>\n",
       "</div>"
      ],
      "text/plain": [
       "Exercise      1 - 2 times per week  3 - 4 times per week  \\\n",
       "C# vs Python                                               \n",
       "Both                          2340                  1596   \n",
       "C#                            4725                  3188   \n",
       "None                          8163                  5390   \n",
       "Python                        5704                  4144   \n",
       "\n",
       "Exercise      Daily or almost every day  I don't typically exercise  \n",
       "C# vs Python                                                         \n",
       "Both                               1068                        2828  \n",
       "C#                                 1983                        6302  \n",
       "None                               3951                       11059  \n",
       "Python                             2861                        6806  "
      ]
     },
     "execution_count": 60,
     "metadata": {},
     "output_type": "execute_result"
    }
   ],
   "source": [
    "exercise_data = exercise_data_with_margin.iloc[0:4, 0:4]\n",
    "exercise_data"
   ]
  },
  {
   "cell_type": "code",
   "execution_count": 65,
   "metadata": {},
   "outputs": [
    {
     "data": {
      "text/plain": [
       "C# vs Python\n",
       "Both       7832\n",
       "C#        16198\n",
       "None      28563\n",
       "Python    19515\n",
       "Name: All, dtype: int64"
      ]
     },
     "execution_count": 65,
     "metadata": {},
     "output_type": "execute_result"
    }
   ],
   "source": [
    "exercise_data_with_margin.iloc[0:4, 4]"
   ]
  },
  {
   "cell_type": "code",
   "execution_count": 64,
   "metadata": {},
   "outputs": [
    {
     "data": {
      "text/plain": [
       "Exercise\n",
       "1 - 2 times per week          20932\n",
       "3 - 4 times per week          14318\n",
       "Daily or almost every day      9863\n",
       "I don't typically exercise    26995\n",
       "All                           72108\n",
       "Name: All, dtype: int64"
      ]
     },
     "execution_count": 64,
     "metadata": {},
     "output_type": "execute_result"
    }
   ],
   "source": [
    "exercise_data_with_margin.iloc[4, :]"
   ]
  },
  {
   "cell_type": "code",
   "execution_count": 84,
   "metadata": {},
   "outputs": [
    {
     "data": {
      "text/plain": [
       "array([[ 2273.52615521,  1555.14750097,  1071.26831974,  2932.05802407],\n",
       "       [ 4702.06545737,  3216.3277861 ,  2215.57766129,  6064.02909525],\n",
       "       [ 8291.46164087,  5671.56257281,  3906.8739807 , 10693.10180562],\n",
       "       [ 5664.94674655,  3874.96214012,  2669.28003828,  7305.81107505]])"
      ]
     },
     "execution_count": 84,
     "metadata": {},
     "output_type": "execute_result"
    }
   ],
   "source": [
    "# now we calculate the expected count\n",
    "expected = np.outer(exercise_data_with_margin.iloc[0:4, 4], exercise_data_with_margin.iloc[4, 0:4]) \\\n",
    "    / exercise_data_with_margin.iloc[4,4]\n",
    "expected"
   ]
  },
  {
   "cell_type": "code",
   "execution_count": 87,
   "metadata": {},
   "outputs": [
    {
     "data": {
      "text/plain": [
       "136.73358988551269"
      ]
     },
     "execution_count": 87,
     "metadata": {},
     "output_type": "execute_result"
    }
   ],
   "source": [
    "# Again we can calculate the chi squared statistics with the same formula es above\n",
    "chi_squared_stat = (((exercise_data-expected)**2)/expected).sum().sum()\n",
    "chi_squared_stat"
   ]
  },
  {
   "cell_type": "code",
   "execution_count": 99,
   "metadata": {},
   "outputs": [
    {
     "name": "stdout",
     "output_type": "stream",
     "text": [
      "Critical value: 21.02606982\n"
     ]
    }
   ],
   "source": [
    "# Again we calculate the critical values\n",
    "critical = stats.chi2.ppf(q = 0.95, df = (5-1) * (4-1)) \n",
    "\n",
    "print('Critical value: %.8f' % critical)"
   ]
  },
  {
   "cell_type": "code",
   "execution_count": 109,
   "metadata": {},
   "outputs": [
    {
     "name": "stdout",
     "output_type": "stream",
     "text": [
      "P_value: 0.000000\n"
     ]
    }
   ],
   "source": [
    "# And we calculate our p value\n",
    "p_value = 1 - stats.chi2.cdf(x=chi_squared_stat, df=(5-1) * (4-1))\n",
    "print(\"P_value: %.6f\" % p_value)"
   ]
  },
  {
   "cell_type": "markdown",
   "metadata": {},
   "source": [
    "## Lets visualize the probabilities of our $\\chi^2$ distribution"
   ]
  },
  {
   "cell_type": "code",
   "execution_count": 128,
   "metadata": {},
   "outputs": [],
   "source": [
    "X = np.linspace(0, 150, 1000)"
   ]
  },
  {
   "cell_type": "code",
   "execution_count": 157,
   "metadata": {},
   "outputs": [
    {
     "data": {
      "image/png": "[encoded data removed]",
      "text/plain": [
       "<Figure size 1008x432 with 1 Axes>"
      ]
     },
     "metadata": {
      "needs_background": "light"
     },
     "output_type": "display_data"
    }
   ],
   "source": [
    "fig, ax = plt.subplots(1, figsize=(14, 6))\n",
    "linestyles = [':','--','-.','-']\n",
    "degree_of_freedom = [1, 2, 3, 4]\n",
    "for df, ls in zip(degree_of_freedom, linestyles):\n",
    "    ax.plot(X, stats.chi2.pdf(X, df), linestyle=ls, label=r'$df=%i$' % df)\n",
    "\n",
    "plt.xlim(0, 150)\n",
    "plt.ylim(0, .5)\n",
    "\n",
    "plt.xlabel('$\\chi^2$')\n",
    "plt.ylabel(r'$f(\\chi^2)$')\n",
    "plt.title(r'$\\chi^2\\ \\mathrm{Distribution}$')\n",
    "\n",
    "# Visualize our critical value\n",
    "plt.vlines(chi_squared_stat, 0, .5, linewidth=1, linestyle='--', alpha=.4)\n",
    "plt.text(chi_squared_stat-13, .4, 'our observation')\n",
    "\n",
    "plt.legend()\n",
    "plt.show()"
   ]
  },
  {
   "cell_type": "markdown",
   "metadata": {},
   "source": [
    "## Enter the time warp"
   ]
  },
  {
   "cell_type": "code",
   "execution_count": 159,
   "metadata": {},
   "outputs": [
    {
     "name": "stdout",
     "output_type": "stream",
     "text": [
      "2011\n",
      "2012\n",
      "2013\n",
      "2014\n",
      "2015\n",
      "2016\n",
      "2017\n",
      "2018\n"
     ]
    }
   ],
   "source": [
    "#data2018 = pd.read_csv('data/2018/survey_results_public.csv')\n",
    "!ls data"
   ]
  },
  {
   "cell_type": "code",
   "execution_count": 180,
   "metadata": {},
   "outputs": [
    {
     "data": {
      "text/plain": [
       "Index(['What Country or Region do you live in?',\n",
       "       'Which US State or Territory do you live in?', 'How old are you?',\n",
       "       'How many years of IT/Programming experience do you have?',\n",
       "       'How would you best describe the industry you work in?'],\n",
       "      dtype='object')"
      ]
     },
     "execution_count": 180,
     "metadata": {},
     "output_type": "execute_result"
    }
   ],
   "source": [
    "# First we make shure, that the schema looks the same\n",
    "data2011 = pd.read_csv('data/2011/2011 Stack Overflow Survey Results.csv', encoding = 'ISO-8859-1', delimiter=',')\n",
    "data2011.columns[:5]"
   ]
  },
  {
   "cell_type": "code",
   "execution_count": 181,
   "metadata": {},
   "outputs": [
    {
     "data": {
      "text/plain": [
       "Index(['What Country or Region do you live in?',\n",
       "       'Which US State or Territory do you live in?', 'How old are you?',\n",
       "       'How many years of IT/Programming experience do you have?',\n",
       "       'How would you best describe the industry you currently work in?'],\n",
       "      dtype='object')"
      ]
     },
     "execution_count": 181,
     "metadata": {},
     "output_type": "execute_result"
    }
   ],
   "source": [
    "data2012 = pd.read_csv('data/2012/2012 Stack Overflow Survey Results.csv', encoding = 'ISO-8859-1', delimiter=',')\n",
    "data2012.columns[:5]"
   ]
  },
  {
   "cell_type": "markdown",
   "metadata": {},
   "source": [
    "Well, they are not at all the same. Unnamed columns are subcolumns."
   ]
  },
  {
   "cell_type": "markdown",
   "metadata": {},
   "source": [
    "### Make a subset of all the years with only the relevant columns \n",
    "* C# and Python\n",
    "* job satisfaction\n",
    "* age\n",
    "* annual compensation"
   ]
  },
  {
   "cell_type": "markdown",
   "metadata": {},
   "source": [
    "#### 2011"
   ]
  },
  {
   "cell_type": "code",
   "execution_count": 184,
   "metadata": {},
   "outputs": [
    {
     "data": {
      "text/html": [
       "<div>\n",
       "<style scoped>\n",
       "    .dataframe tbody tr th:only-of-type {\n",
       "        vertical-align: middle;\n",
       "    }\n",
       "\n",
       "    .dataframe tbody tr th {\n",
       "        vertical-align: top;\n",
       "    }\n",
       "\n",
       "    .dataframe thead th {\n",
       "        text-align: right;\n",
       "    }\n",
       "</style>\n",
       "<table border=\"1\" class=\"dataframe\">\n",
       "  <thead>\n",
       "    <tr style=\"text-align: right;\">\n",
       "      <th></th>\n",
       "      <th>What Country or Region do you live in?</th>\n",
       "      <th>Which US State or Territory do you live in?</th>\n",
       "      <th>How old are you?</th>\n",
       "      <th>How many years of IT/Programming experience do you have?</th>\n",
       "      <th>How would you best describe the industry you work in?</th>\n",
       "      <th>Which best describes the size of your company?</th>\n",
       "      <th>Which of the following best describes your occupation?</th>\n",
       "      <th>How likely is it that a recommendation you make will be acted upon?</th>\n",
       "      <th>What is your involvement in purchasing? You can choose more than 1.</th>\n",
       "      <th>Unnamed: 9</th>\n",
       "      <th>...</th>\n",
       "      <th>Unnamed: 55</th>\n",
       "      <th>Unnamed: 56</th>\n",
       "      <th>Unnamed: 57</th>\n",
       "      <th>Unnamed: 58</th>\n",
       "      <th>Unnamed: 59</th>\n",
       "      <th>Unnamed: 60</th>\n",
       "      <th>Unnamed: 61</th>\n",
       "      <th>Unnamed: 62</th>\n",
       "      <th>In the last 12 months, how much money have you spent on personal technology-related purchases?</th>\n",
       "      <th>Which of our sites do you frequent most?</th>\n",
       "    </tr>\n",
       "  </thead>\n",
       "  <tbody>\n",
       "    <tr>\n",
       "      <th>0</th>\n",
       "      <td>Response</td>\n",
       "      <td>Response</td>\n",
       "      <td>Response</td>\n",
       "      <td>Response</td>\n",
       "      <td>Response</td>\n",
       "      <td>Response</td>\n",
       "      <td>Response</td>\n",
       "      <td>Response</td>\n",
       "      <td>Influencer</td>\n",
       "      <td>Recommender</td>\n",
       "      <td>...</td>\n",
       "      <td>AppleTV</td>\n",
       "      <td>iPad</td>\n",
       "      <td>Other netbook</td>\n",
       "      <td>PS3</td>\n",
       "      <td>Xbox</td>\n",
       "      <td>Wii</td>\n",
       "      <td>Other gaming system</td>\n",
       "      <td>other (please specify)</td>\n",
       "      <td>Response</td>\n",
       "      <td>Response</td>\n",
       "    </tr>\n",
       "    <tr>\n",
       "      <th>1</th>\n",
       "      <td>Africa</td>\n",
       "      <td>NaN</td>\n",
       "      <td>&lt; 20</td>\n",
       "      <td>&lt;2</td>\n",
       "      <td>Consulting</td>\n",
       "      <td>Start Up (1-25)</td>\n",
       "      <td>Web Application Developer</td>\n",
       "      <td>Not in a million years</td>\n",
       "      <td>NaN</td>\n",
       "      <td>NaN</td>\n",
       "      <td>...</td>\n",
       "      <td>NaN</td>\n",
       "      <td>NaN</td>\n",
       "      <td>NaN</td>\n",
       "      <td>NaN</td>\n",
       "      <td>NaN</td>\n",
       "      <td>NaN</td>\n",
       "      <td>NaN</td>\n",
       "      <td>NaN</td>\n",
       "      <td>&lt;$100</td>\n",
       "      <td>NaN</td>\n",
       "    </tr>\n",
       "    <tr>\n",
       "      <th>2</th>\n",
       "      <td>Other Europe</td>\n",
       "      <td>NaN</td>\n",
       "      <td>25-29</td>\n",
       "      <td>41310</td>\n",
       "      <td>Software Products</td>\n",
       "      <td>Mature Small Business (25-100)</td>\n",
       "      <td>Server Programmer</td>\n",
       "      <td>It's been known to happen</td>\n",
       "      <td>NaN</td>\n",
       "      <td>NaN</td>\n",
       "      <td>...</td>\n",
       "      <td>NaN</td>\n",
       "      <td>NaN</td>\n",
       "      <td>Other netbook</td>\n",
       "      <td>NaN</td>\n",
       "      <td>NaN</td>\n",
       "      <td>NaN</td>\n",
       "      <td>NaN</td>\n",
       "      <td>NaN</td>\n",
       "      <td>$251-$500</td>\n",
       "      <td>Stack Overflow</td>\n",
       "    </tr>\n",
       "    <tr>\n",
       "      <th>3</th>\n",
       "      <td>India</td>\n",
       "      <td>NaN</td>\n",
       "      <td>25-29</td>\n",
       "      <td>41435</td>\n",
       "      <td>Software Products</td>\n",
       "      <td>Mid Sized (100-999)</td>\n",
       "      <td>Server Programmer</td>\n",
       "      <td>Unless it's stoopid it gets done</td>\n",
       "      <td>NaN</td>\n",
       "      <td>NaN</td>\n",
       "      <td>...</td>\n",
       "      <td>NaN</td>\n",
       "      <td>NaN</td>\n",
       "      <td>NaN</td>\n",
       "      <td>NaN</td>\n",
       "      <td>NaN</td>\n",
       "      <td>NaN</td>\n",
       "      <td>NaN</td>\n",
       "      <td>NaN</td>\n",
       "      <td>NaN</td>\n",
       "      <td>NaN</td>\n",
       "    </tr>\n",
       "    <tr>\n",
       "      <th>4</th>\n",
       "      <td>Germany</td>\n",
       "      <td>NaN</td>\n",
       "      <td>&lt; 20</td>\n",
       "      <td>41310</td>\n",
       "      <td>Foundation / Non-Profit</td>\n",
       "      <td>Student</td>\n",
       "      <td>Student</td>\n",
       "      <td>It's been known to happen</td>\n",
       "      <td>NaN</td>\n",
       "      <td>NaN</td>\n",
       "      <td>...</td>\n",
       "      <td>NaN</td>\n",
       "      <td>NaN</td>\n",
       "      <td>NaN</td>\n",
       "      <td>NaN</td>\n",
       "      <td>NaN</td>\n",
       "      <td>Wii</td>\n",
       "      <td>Other gaming system</td>\n",
       "      <td>NaN</td>\n",
       "      <td>$501-$1,000</td>\n",
       "      <td>Stack Overflow</td>\n",
       "    </tr>\n",
       "  </tbody>\n",
       "</table>\n",
       "<p>5 rows × 65 columns</p>\n",
       "</div>"
      ],
      "text/plain": [
       "  What Country or Region do you live in?  \\\n",
       "0                               Response   \n",
       "1                                 Africa   \n",
       "2                           Other Europe   \n",
       "3                                  India   \n",
       "4                                Germany   \n",
       "\n",
       "  Which US State or Territory do you live in? How old are you?  \\\n",
       "0                                    Response         Response   \n",
       "1                                         NaN             < 20   \n",
       "2                                         NaN            25-29   \n",
       "3                                         NaN            25-29   \n",
       "4                                         NaN             < 20   \n",
       "\n",
       "  How many years of IT/Programming experience do you have?  \\\n",
       "0                                                 Response   \n",
       "1                                                       <2   \n",
       "2                                                    41310   \n",
       "3                                                    41435   \n",
       "4                                                    41310   \n",
       "\n",
       "  How would you best describe the industry you work in?  \\\n",
       "0                                              Response   \n",
       "1                                            Consulting   \n",
       "2                                     Software Products   \n",
       "3                                     Software Products   \n",
       "4                               Foundation / Non-Profit   \n",
       "\n",
       "  Which best describes the size of your company?  \\\n",
       "0                                       Response   \n",
       "1                                Start Up (1-25)   \n",
       "2                 Mature Small Business (25-100)   \n",
       "3                            Mid Sized (100-999)   \n",
       "4                                        Student   \n",
       "\n",
       "  Which of the following best describes your occupation?  \\\n",
       "0                                               Response   \n",
       "1                              Web Application Developer   \n",
       "2                                      Server Programmer   \n",
       "3                                      Server Programmer   \n",
       "4                                                Student   \n",
       "\n",
       "  How likely is it that a recommendation you make will be acted upon?  \\\n",
       "0                                                            Response   \n",
       "1                                              Not in a million years   \n",
       "2                                           It's been known to happen   \n",
       "3                                    Unless it's stoopid it gets done   \n",
       "4                                           It's been known to happen   \n",
       "\n",
       "  What is your involvement in purchasing? You can choose more than 1.  \\\n",
       "0                                                          Influencer   \n",
       "1                                                                 NaN   \n",
       "2                                                                 NaN   \n",
       "3                                                                 NaN   \n",
       "4                                                                 NaN   \n",
       "\n",
       "    Unnamed: 9                   ...                    Unnamed: 55  \\\n",
       "0  Recommender                   ...                        AppleTV   \n",
       "1          NaN                   ...                            NaN   \n",
       "2          NaN                   ...                            NaN   \n",
       "3          NaN                   ...                            NaN   \n",
       "4          NaN                   ...                            NaN   \n",
       "\n",
       "  Unnamed: 56    Unnamed: 57 Unnamed: 58 Unnamed: 59 Unnamed: 60  \\\n",
       "0        iPad  Other netbook         PS3        Xbox         Wii   \n",
       "1         NaN            NaN         NaN         NaN         NaN   \n",
       "2         NaN  Other netbook         NaN         NaN         NaN   \n",
       "3         NaN            NaN         NaN         NaN         NaN   \n",
       "4         NaN            NaN         NaN         NaN         Wii   \n",
       "\n",
       "           Unnamed: 61             Unnamed: 62  \\\n",
       "0  Other gaming system  other (please specify)   \n",
       "1                  NaN                     NaN   \n",
       "2                  NaN                     NaN   \n",
       "3                  NaN                     NaN   \n",
       "4  Other gaming system                     NaN   \n",
       "\n",
       "  In the last 12 months, how much money have you spent on personal technology-related purchases?   \\\n",
       "0                                                                                        Response   \n",
       "1                                                                                           <$100   \n",
       "2                                                                                       $251-$500   \n",
       "3                                                                                             NaN   \n",
       "4                                                                                     $501-$1,000   \n",
       "\n",
       "  Which of our sites do you frequent most?  \n",
       "0                                 Response  \n",
       "1                                      NaN  \n",
       "2                           Stack Overflow  \n",
       "3                                      NaN  \n",
       "4                           Stack Overflow  \n",
       "\n",
       "[5 rows x 65 columns]"
      ]
     },
     "execution_count": 184,
     "metadata": {},
     "output_type": "execute_result"
    }
   ],
   "source": [
    "data2011.head()"
   ]
  },
  {
   "cell_type": "code",
   "execution_count": 206,
   "metadata": {},
   "outputs": [
    {
     "data": {
      "text/html": [
       "<div>\n",
       "<style scoped>\n",
       "    .dataframe tbody tr th:only-of-type {\n",
       "        vertical-align: middle;\n",
       "    }\n",
       "\n",
       "    .dataframe tbody tr th {\n",
       "        vertical-align: top;\n",
       "    }\n",
       "\n",
       "    .dataframe thead th {\n",
       "        text-align: right;\n",
       "    }\n",
       "</style>\n",
       "<table border=\"1\" class=\"dataframe\">\n",
       "  <thead>\n",
       "    <tr style=\"text-align: right;\">\n",
       "      <th></th>\n",
       "      <th>How old are you?</th>\n",
       "      <th>Please rate your job/career satisfaction</th>\n",
       "      <th>Including bonus, what is your annual compensation in USD?</th>\n",
       "      <th>Unnamed: 37</th>\n",
       "      <th>Unnamed: 34</th>\n",
       "    </tr>\n",
       "  </thead>\n",
       "  <tbody>\n",
       "    <tr>\n",
       "      <th>1</th>\n",
       "      <td>&lt; 20</td>\n",
       "      <td>FML</td>\n",
       "      <td>Student / Unemployed</td>\n",
       "      <td>NaN</td>\n",
       "      <td>NaN</td>\n",
       "    </tr>\n",
       "    <tr>\n",
       "      <th>2</th>\n",
       "      <td>25-29</td>\n",
       "      <td>So happy it hurts</td>\n",
       "      <td>NaN</td>\n",
       "      <td>NaN</td>\n",
       "      <td>NaN</td>\n",
       "    </tr>\n",
       "    <tr>\n",
       "      <th>3</th>\n",
       "      <td>25-29</td>\n",
       "      <td>NaN</td>\n",
       "      <td>NaN</td>\n",
       "      <td>NaN</td>\n",
       "      <td>NaN</td>\n",
       "    </tr>\n",
       "    <tr>\n",
       "      <th>4</th>\n",
       "      <td>&lt; 20</td>\n",
       "      <td>I enjoy going to work</td>\n",
       "      <td>Student / Unemployed</td>\n",
       "      <td>NaN</td>\n",
       "      <td>NaN</td>\n",
       "    </tr>\n",
       "  </tbody>\n",
       "</table>\n",
       "</div>"
      ],
      "text/plain": [
       "  How old are you? Please rate your job/career satisfaction  \\\n",
       "1             < 20                                      FML   \n",
       "2            25-29                        So happy it hurts   \n",
       "3            25-29                                      NaN   \n",
       "4             < 20                    I enjoy going to work   \n",
       "\n",
       "  Including bonus, what is your annual compensation in USD? Unnamed: 37  \\\n",
       "1                                      Student / Unemployed         NaN   \n",
       "2                                                       NaN         NaN   \n",
       "3                                                       NaN         NaN   \n",
       "4                                      Student / Unemployed         NaN   \n",
       "\n",
       "  Unnamed: 34  \n",
       "1         NaN  \n",
       "2         NaN  \n",
       "3         NaN  \n",
       "4         NaN  "
      ]
     },
     "execution_count": 206,
     "metadata": {},
     "output_type": "execute_result"
    }
   ],
   "source": [
    "subset2011 = data2011.iloc[1:, [2, 44, 45, 37, 34]]\n",
    "subset2011.head(4)"
   ]
  },
  {
   "cell_type": "code",
   "execution_count": 210,
   "metadata": {},
   "outputs": [],
   "source": [
    "subset_columns = ['age', 'job_satisfaction', 'annual_compensation', 'c_sharp', 'python'] \n",
    "subset2011.columns = subset_columns"
   ]
  },
  {
   "cell_type": "code",
   "execution_count": 215,
   "metadata": {},
   "outputs": [
    {
     "data": {
      "text/html": [
       "<div>\n",
       "<style scoped>\n",
       "    .dataframe tbody tr th:only-of-type {\n",
       "        vertical-align: middle;\n",
       "    }\n",
       "\n",
       "    .dataframe tbody tr th {\n",
       "        vertical-align: top;\n",
       "    }\n",
       "\n",
       "    .dataframe thead th {\n",
       "        text-align: right;\n",
       "    }\n",
       "</style>\n",
       "<table border=\"1\" class=\"dataframe\">\n",
       "  <thead>\n",
       "    <tr style=\"text-align: right;\">\n",
       "      <th></th>\n",
       "      <th>age</th>\n",
       "      <th>job_satisfaction</th>\n",
       "      <th>annual_compensation</th>\n",
       "      <th>c_sharp</th>\n",
       "      <th>python</th>\n",
       "    </tr>\n",
       "  </thead>\n",
       "  <tbody>\n",
       "    <tr>\n",
       "      <th>1</th>\n",
       "      <td>&lt; 20</td>\n",
       "      <td>FML</td>\n",
       "      <td>Student / Unemployed</td>\n",
       "      <td>NaN</td>\n",
       "      <td>NaN</td>\n",
       "    </tr>\n",
       "    <tr>\n",
       "      <th>2</th>\n",
       "      <td>25-29</td>\n",
       "      <td>So happy it hurts</td>\n",
       "      <td>NaN</td>\n",
       "      <td>NaN</td>\n",
       "      <td>NaN</td>\n",
       "    </tr>\n",
       "    <tr>\n",
       "      <th>3</th>\n",
       "      <td>25-29</td>\n",
       "      <td>NaN</td>\n",
       "      <td>NaN</td>\n",
       "      <td>NaN</td>\n",
       "      <td>NaN</td>\n",
       "    </tr>\n",
       "    <tr>\n",
       "      <th>4</th>\n",
       "      <td>&lt; 20</td>\n",
       "      <td>I enjoy going to work</td>\n",
       "      <td>Student / Unemployed</td>\n",
       "      <td>NaN</td>\n",
       "      <td>NaN</td>\n",
       "    </tr>\n",
       "    <tr>\n",
       "      <th>5</th>\n",
       "      <td>35-39</td>\n",
       "      <td>It pays the bills</td>\n",
       "      <td>$80,000 - $100,000</td>\n",
       "      <td>NaN</td>\n",
       "      <td>NaN</td>\n",
       "    </tr>\n",
       "    <tr>\n",
       "      <th>6</th>\n",
       "      <td>35-39</td>\n",
       "      <td>So happy it hurts</td>\n",
       "      <td>NaN</td>\n",
       "      <td>C#</td>\n",
       "      <td>NaN</td>\n",
       "    </tr>\n",
       "    <tr>\n",
       "      <th>7</th>\n",
       "      <td>20-24</td>\n",
       "      <td>It pays the bills</td>\n",
       "      <td>$20,000 - $40,000</td>\n",
       "      <td>C#</td>\n",
       "      <td>Python</td>\n",
       "    </tr>\n",
       "    <tr>\n",
       "      <th>8</th>\n",
       "      <td>20-24</td>\n",
       "      <td>I enjoy going to work</td>\n",
       "      <td>$80,000 - $100,000</td>\n",
       "      <td>NaN</td>\n",
       "      <td>NaN</td>\n",
       "    </tr>\n",
       "    <tr>\n",
       "      <th>9</th>\n",
       "      <td>35-39</td>\n",
       "      <td>I enjoy going to work</td>\n",
       "      <td>$80,000 - $100,000</td>\n",
       "      <td>C#</td>\n",
       "      <td>NaN</td>\n",
       "    </tr>\n",
       "    <tr>\n",
       "      <th>10</th>\n",
       "      <td>NaN</td>\n",
       "      <td>NaN</td>\n",
       "      <td>NaN</td>\n",
       "      <td>NaN</td>\n",
       "      <td>NaN</td>\n",
       "    </tr>\n",
       "  </tbody>\n",
       "</table>\n",
       "</div>"
      ],
      "text/plain": [
       "      age       job_satisfaction   annual_compensation c_sharp  python\n",
       "1    < 20                    FML  Student / Unemployed     NaN     NaN\n",
       "2   25-29      So happy it hurts                   NaN     NaN     NaN\n",
       "3   25-29                    NaN                   NaN     NaN     NaN\n",
       "4    < 20  I enjoy going to work  Student / Unemployed     NaN     NaN\n",
       "5   35-39      It pays the bills    $80,000 - $100,000     NaN     NaN\n",
       "6   35-39      So happy it hurts                   NaN      C#     NaN\n",
       "7   20-24      It pays the bills     $20,000 - $40,000      C#  Python\n",
       "8   20-24  I enjoy going to work    $80,000 - $100,000     NaN     NaN\n",
       "9   35-39  I enjoy going to work    $80,000 - $100,000      C#     NaN\n",
       "10    NaN                    NaN                   NaN     NaN     NaN"
      ]
     },
     "execution_count": 215,
     "metadata": {},
     "output_type": "execute_result"
    }
   ],
   "source": [
    "subset2011.head(10)"
   ]
  },
  {
   "cell_type": "code",
   "execution_count": 218,
   "metadata": {},
   "outputs": [],
   "source": [
    "# We transform languages in boolean columns\n",
    "subset2011['c_sharp'] = subset2011['c_sharp'].apply(lambda c: c == 'C#')\n",
    "subset2011['python'] = subset2011['python'].apply(lambda c: c == 'Python')"
   ]
  },
  {
   "cell_type": "code",
   "execution_count": 219,
   "metadata": {},
   "outputs": [
    {
     "data": {
      "text/html": [
       "<div>\n",
       "<style scoped>\n",
       "    .dataframe tbody tr th:only-of-type {\n",
       "        vertical-align: middle;\n",
       "    }\n",
       "\n",
       "    .dataframe tbody tr th {\n",
       "        vertical-align: top;\n",
       "    }\n",
       "\n",
       "    .dataframe thead th {\n",
       "        text-align: right;\n",
       "    }\n",
       "</style>\n",
       "<table border=\"1\" class=\"dataframe\">\n",
       "  <thead>\n",
       "    <tr style=\"text-align: right;\">\n",
       "      <th></th>\n",
       "      <th>age</th>\n",
       "      <th>job_satisfaction</th>\n",
       "      <th>annual_compensation</th>\n",
       "      <th>c_sharp</th>\n",
       "      <th>python</th>\n",
       "    </tr>\n",
       "  </thead>\n",
       "  <tbody>\n",
       "    <tr>\n",
       "      <th>1</th>\n",
       "      <td>&lt; 20</td>\n",
       "      <td>FML</td>\n",
       "      <td>Student / Unemployed</td>\n",
       "      <td>False</td>\n",
       "      <td>False</td>\n",
       "    </tr>\n",
       "    <tr>\n",
       "      <th>2</th>\n",
       "      <td>25-29</td>\n",
       "      <td>So happy it hurts</td>\n",
       "      <td>NaN</td>\n",
       "      <td>False</td>\n",
       "      <td>False</td>\n",
       "    </tr>\n",
       "    <tr>\n",
       "      <th>3</th>\n",
       "      <td>25-29</td>\n",
       "      <td>NaN</td>\n",
       "      <td>NaN</td>\n",
       "      <td>False</td>\n",
       "      <td>False</td>\n",
       "    </tr>\n",
       "    <tr>\n",
       "      <th>4</th>\n",
       "      <td>&lt; 20</td>\n",
       "      <td>I enjoy going to work</td>\n",
       "      <td>Student / Unemployed</td>\n",
       "      <td>False</td>\n",
       "      <td>False</td>\n",
       "    </tr>\n",
       "    <tr>\n",
       "      <th>5</th>\n",
       "      <td>35-39</td>\n",
       "      <td>It pays the bills</td>\n",
       "      <td>$80,000 - $100,000</td>\n",
       "      <td>False</td>\n",
       "      <td>False</td>\n",
       "    </tr>\n",
       "    <tr>\n",
       "      <th>6</th>\n",
       "      <td>35-39</td>\n",
       "      <td>So happy it hurts</td>\n",
       "      <td>NaN</td>\n",
       "      <td>True</td>\n",
       "      <td>False</td>\n",
       "    </tr>\n",
       "    <tr>\n",
       "      <th>7</th>\n",
       "      <td>20-24</td>\n",
       "      <td>It pays the bills</td>\n",
       "      <td>$20,000 - $40,000</td>\n",
       "      <td>True</td>\n",
       "      <td>True</td>\n",
       "    </tr>\n",
       "    <tr>\n",
       "      <th>8</th>\n",
       "      <td>20-24</td>\n",
       "      <td>I enjoy going to work</td>\n",
       "      <td>$80,000 - $100,000</td>\n",
       "      <td>False</td>\n",
       "      <td>False</td>\n",
       "    </tr>\n",
       "    <tr>\n",
       "      <th>9</th>\n",
       "      <td>35-39</td>\n",
       "      <td>I enjoy going to work</td>\n",
       "      <td>$80,000 - $100,000</td>\n",
       "      <td>True</td>\n",
       "      <td>False</td>\n",
       "    </tr>\n",
       "    <tr>\n",
       "      <th>10</th>\n",
       "      <td>NaN</td>\n",
       "      <td>NaN</td>\n",
       "      <td>NaN</td>\n",
       "      <td>False</td>\n",
       "      <td>False</td>\n",
       "    </tr>\n",
       "  </tbody>\n",
       "</table>\n",
       "</div>"
      ],
      "text/plain": [
       "      age       job_satisfaction   annual_compensation  c_sharp  python\n",
       "1    < 20                    FML  Student / Unemployed    False   False\n",
       "2   25-29      So happy it hurts                   NaN    False   False\n",
       "3   25-29                    NaN                   NaN    False   False\n",
       "4    < 20  I enjoy going to work  Student / Unemployed    False   False\n",
       "5   35-39      It pays the bills    $80,000 - $100,000    False   False\n",
       "6   35-39      So happy it hurts                   NaN     True   False\n",
       "7   20-24      It pays the bills     $20,000 - $40,000     True    True\n",
       "8   20-24  I enjoy going to work    $80,000 - $100,000    False   False\n",
       "9   35-39  I enjoy going to work    $80,000 - $100,000     True   False\n",
       "10    NaN                    NaN                   NaN    False   False"
      ]
     },
     "execution_count": 219,
     "metadata": {},
     "output_type": "execute_result"
    }
   ],
   "source": [
    "subset2011.head(10)"
   ]
  },
  {
   "cell_type": "code",
   "execution_count": null,
   "metadata": {},
   "outputs": [],
   "source": []
  }
 ],
 "metadata": {
  "kernelspec": {
   "display_name": "Python 3",
   "language": "python",
   "name": "python3"
  },
  "language_info": {
   "codemirror_mode": {
    "name": "ipython",
    "version": 3
   },
   "file_extension": ".py",
   "mimetype": "text/x-python",
   "name": "python",
   "nbconvert_exporter": "python",
   "pygments_lexer": "ipython3",
   "version": "3.7.0"
  }
 },
 "nbformat": 4,
 "nbformat_minor": 2
}
