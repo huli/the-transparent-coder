{
 "cells": [
  {
   "cell_type": "markdown",
   "metadata": {},
   "source": [
    "### Initial exploratory data analysis"
   ]
  },
  {
   "cell_type": "code",
   "execution_count": 1,
   "metadata": {},
   "outputs": [],
   "source": [
    "import pandas as pd\n",
    "import matplotlib.pyplot as plt\n",
    "import numpy as np"
   ]
  },
  {
   "cell_type": "code",
   "execution_count": 2,
   "metadata": {},
   "outputs": [],
   "source": [
    "pd.set_option('display.max_colwidth', 1000)\n",
    "pd.set_option('display.max_rows', 150)"
   ]
  },
  {
   "cell_type": "code",
   "execution_count": 3,
   "metadata": {},
   "outputs": [
    {
     "data": {
      "text/html": [
       "<div>\n",
       "<style scoped>\n",
       "    .dataframe tbody tr th:only-of-type {\n",
       "        vertical-align: middle;\n",
       "    }\n",
       "\n",
       "    .dataframe tbody tr th {\n",
       "        vertical-align: top;\n",
       "    }\n",
       "\n",
       "    .dataframe thead th {\n",
       "        text-align: right;\n",
       "    }\n",
       "</style>\n",
       "<table border=\"1\" class=\"dataframe\">\n",
       "  <thead>\n",
       "    <tr style=\"text-align: right;\">\n",
       "      <th></th>\n",
       "      <th>Column</th>\n",
       "      <th>QuestionText</th>\n",
       "    </tr>\n",
       "  </thead>\n",
       "  <tbody>\n",
       "    <tr>\n",
       "      <th>0</th>\n",
       "      <td>Respondent</td>\n",
       "      <td>Randomized respondent ID number (not in order of survey response time)</td>\n",
       "    </tr>\n",
       "    <tr>\n",
       "      <th>1</th>\n",
       "      <td>Hobby</td>\n",
       "      <td>Do you code as a hobby?</td>\n",
       "    </tr>\n",
       "    <tr>\n",
       "      <th>2</th>\n",
       "      <td>OpenSource</td>\n",
       "      <td>Do you contribute to open source projects?</td>\n",
       "    </tr>\n",
       "    <tr>\n",
       "      <th>3</th>\n",
       "      <td>Country</td>\n",
       "      <td>In which country do you currently reside?</td>\n",
       "    </tr>\n",
       "    <tr>\n",
       "      <th>4</th>\n",
       "      <td>Student</td>\n",
       "      <td>Are you currently enrolled in a formal, degree-granting college or university program?</td>\n",
       "    </tr>\n",
       "    <tr>\n",
       "      <th>5</th>\n",
       "      <td>Employment</td>\n",
       "      <td>Which of the following best describes your current employment status?</td>\n",
       "    </tr>\n",
       "    <tr>\n",
       "      <th>6</th>\n",
       "      <td>FormalEducation</td>\n",
       "      <td>Which of the following best describes the highest level of formal education that you’ve completed?</td>\n",
       "    </tr>\n",
       "    <tr>\n",
       "      <th>7</th>\n",
       "      <td>UndergradMajor</td>\n",
       "      <td>You previously indicated that you went to a college or university. Which of the following best describes your main field of study (aka 'major')</td>\n",
       "    </tr>\n",
       "    <tr>\n",
       "      <th>8</th>\n",
       "      <td>CompanySize</td>\n",
       "      <td>Approximately how many people are employed by the company or organization you work for?</td>\n",
       "    </tr>\n",
       "    <tr>\n",
       "      <th>9</th>\n",
       "      <td>DevType</td>\n",
       "      <td>Which of the following describe you? Please select all that apply.</td>\n",
       "    </tr>\n",
       "  </tbody>\n",
       "</table>\n",
       "</div>"
      ],
      "text/plain": [
       "            Column  \\\n",
       "0       Respondent   \n",
       "1            Hobby   \n",
       "2       OpenSource   \n",
       "3          Country   \n",
       "4          Student   \n",
       "5       Employment   \n",
       "6  FormalEducation   \n",
       "7   UndergradMajor   \n",
       "8      CompanySize   \n",
       "9          DevType   \n",
       "\n",
       "                                                                                                                                      QuestionText  \n",
       "0                                                                           Randomized respondent ID number (not in order of survey response time)  \n",
       "1                                                                                                                          Do you code as a hobby?  \n",
       "2                                                                                                       Do you contribute to open source projects?  \n",
       "3                                                                                                        In which country do you currently reside?  \n",
       "4                                                           Are you currently enrolled in a formal, degree-granting college or university program?  \n",
       "5                                                                            Which of the following best describes your current employment status?  \n",
       "6                                               Which of the following best describes the highest level of formal education that you’ve completed?  \n",
       "7  You previously indicated that you went to a college or university. Which of the following best describes your main field of study (aka 'major')  \n",
       "8                                                          Approximately how many people are employed by the company or organization you work for?  \n",
       "9                                                                               Which of the following describe you? Please select all that apply.  "
      ]
     },
     "execution_count": 3,
     "metadata": {},
     "output_type": "execute_result"
    }
   ],
   "source": [
    "# Inspect the schema\n",
    "schema2018 = pd.read_csv('data/2018/survey_results_schema.csv')\n",
    "schema2018.head(10)"
   ]
  },
  {
   "cell_type": "code",
   "execution_count": 4,
   "metadata": {},
   "outputs": [
    {
     "data": {
      "text/html": [
       "<div>\n",
       "<style scoped>\n",
       "    .dataframe tbody tr th:only-of-type {\n",
       "        vertical-align: middle;\n",
       "    }\n",
       "\n",
       "    .dataframe tbody tr th {\n",
       "        vertical-align: top;\n",
       "    }\n",
       "\n",
       "    .dataframe thead th {\n",
       "        text-align: right;\n",
       "    }\n",
       "</style>\n",
       "<table border=\"1\" class=\"dataframe\">\n",
       "  <thead>\n",
       "    <tr style=\"text-align: right;\">\n",
       "      <th></th>\n",
       "      <th>Respondent</th>\n",
       "      <th>Hobby</th>\n",
       "      <th>OpenSource</th>\n",
       "      <th>Country</th>\n",
       "      <th>Student</th>\n",
       "      <th>Employment</th>\n",
       "      <th>FormalEducation</th>\n",
       "      <th>UndergradMajor</th>\n",
       "      <th>CompanySize</th>\n",
       "      <th>DevType</th>\n",
       "      <th>...</th>\n",
       "      <th>Exercise</th>\n",
       "      <th>Gender</th>\n",
       "      <th>SexualOrientation</th>\n",
       "      <th>EducationParents</th>\n",
       "      <th>RaceEthnicity</th>\n",
       "      <th>Age</th>\n",
       "      <th>Dependents</th>\n",
       "      <th>MilitaryUS</th>\n",
       "      <th>SurveyTooLong</th>\n",
       "      <th>SurveyEasy</th>\n",
       "    </tr>\n",
       "  </thead>\n",
       "  <tbody>\n",
       "    <tr>\n",
       "      <th>0</th>\n",
       "      <td>1</td>\n",
       "      <td>Yes</td>\n",
       "      <td>No</td>\n",
       "      <td>Kenya</td>\n",
       "      <td>No</td>\n",
       "      <td>Employed part-time</td>\n",
       "      <td>Bachelor’s degree (BA, BS, B.Eng., etc.)</td>\n",
       "      <td>Mathematics or statistics</td>\n",
       "      <td>20 to 99 employees</td>\n",
       "      <td>Full-stack developer</td>\n",
       "      <td>...</td>\n",
       "      <td>3 - 4 times per week</td>\n",
       "      <td>Male</td>\n",
       "      <td>Straight or heterosexual</td>\n",
       "      <td>Bachelor’s degree (BA, BS, B.Eng., etc.)</td>\n",
       "      <td>Black or of African descent</td>\n",
       "      <td>25 - 34 years old</td>\n",
       "      <td>Yes</td>\n",
       "      <td>NaN</td>\n",
       "      <td>The survey was an appropriate length</td>\n",
       "      <td>Very easy</td>\n",
       "    </tr>\n",
       "    <tr>\n",
       "      <th>1</th>\n",
       "      <td>3</td>\n",
       "      <td>Yes</td>\n",
       "      <td>Yes</td>\n",
       "      <td>United Kingdom</td>\n",
       "      <td>No</td>\n",
       "      <td>Employed full-time</td>\n",
       "      <td>Bachelor’s degree (BA, BS, B.Eng., etc.)</td>\n",
       "      <td>A natural science (ex. biology, chemistry, physics)</td>\n",
       "      <td>10,000 or more employees</td>\n",
       "      <td>Database administrator;DevOps specialist;Full-stack developer;System administrator</td>\n",
       "      <td>...</td>\n",
       "      <td>Daily or almost every day</td>\n",
       "      <td>Male</td>\n",
       "      <td>Straight or heterosexual</td>\n",
       "      <td>Bachelor’s degree (BA, BS, B.Eng., etc.)</td>\n",
       "      <td>White or of European descent</td>\n",
       "      <td>35 - 44 years old</td>\n",
       "      <td>Yes</td>\n",
       "      <td>NaN</td>\n",
       "      <td>The survey was an appropriate length</td>\n",
       "      <td>Somewhat easy</td>\n",
       "    </tr>\n",
       "    <tr>\n",
       "      <th>2</th>\n",
       "      <td>4</td>\n",
       "      <td>Yes</td>\n",
       "      <td>Yes</td>\n",
       "      <td>United States</td>\n",
       "      <td>No</td>\n",
       "      <td>Employed full-time</td>\n",
       "      <td>Associate degree</td>\n",
       "      <td>Computer science, computer engineering, or software engineering</td>\n",
       "      <td>20 to 99 employees</td>\n",
       "      <td>Engineering manager;Full-stack developer</td>\n",
       "      <td>...</td>\n",
       "      <td>NaN</td>\n",
       "      <td>NaN</td>\n",
       "      <td>NaN</td>\n",
       "      <td>NaN</td>\n",
       "      <td>NaN</td>\n",
       "      <td>NaN</td>\n",
       "      <td>NaN</td>\n",
       "      <td>NaN</td>\n",
       "      <td>NaN</td>\n",
       "      <td>NaN</td>\n",
       "    </tr>\n",
       "  </tbody>\n",
       "</table>\n",
       "<p>3 rows × 129 columns</p>\n",
       "</div>"
      ],
      "text/plain": [
       "   Respondent Hobby OpenSource         Country Student          Employment  \\\n",
       "0           1   Yes         No           Kenya      No  Employed part-time   \n",
       "1           3   Yes        Yes  United Kingdom      No  Employed full-time   \n",
       "2           4   Yes        Yes   United States      No  Employed full-time   \n",
       "\n",
       "                            FormalEducation  \\\n",
       "0  Bachelor’s degree (BA, BS, B.Eng., etc.)   \n",
       "1  Bachelor’s degree (BA, BS, B.Eng., etc.)   \n",
       "2                          Associate degree   \n",
       "\n",
       "                                                    UndergradMajor  \\\n",
       "0                                        Mathematics or statistics   \n",
       "1              A natural science (ex. biology, chemistry, physics)   \n",
       "2  Computer science, computer engineering, or software engineering   \n",
       "\n",
       "                CompanySize  \\\n",
       "0        20 to 99 employees   \n",
       "1  10,000 or more employees   \n",
       "2        20 to 99 employees   \n",
       "\n",
       "                                                                              DevType  \\\n",
       "0                                                                Full-stack developer   \n",
       "1  Database administrator;DevOps specialist;Full-stack developer;System administrator   \n",
       "2                                            Engineering manager;Full-stack developer   \n",
       "\n",
       "       ...                         Exercise Gender         SexualOrientation  \\\n",
       "0      ...             3 - 4 times per week   Male  Straight or heterosexual   \n",
       "1      ...        Daily or almost every day   Male  Straight or heterosexual   \n",
       "2      ...                              NaN    NaN                       NaN   \n",
       "\n",
       "                           EducationParents                 RaceEthnicity  \\\n",
       "0  Bachelor’s degree (BA, BS, B.Eng., etc.)   Black or of African descent   \n",
       "1  Bachelor’s degree (BA, BS, B.Eng., etc.)  White or of European descent   \n",
       "2                                       NaN                           NaN   \n",
       "\n",
       "                 Age Dependents  MilitaryUS  \\\n",
       "0  25 - 34 years old        Yes         NaN   \n",
       "1  35 - 44 years old        Yes         NaN   \n",
       "2                NaN        NaN         NaN   \n",
       "\n",
       "                          SurveyTooLong     SurveyEasy  \n",
       "0  The survey was an appropriate length      Very easy  \n",
       "1  The survey was an appropriate length  Somewhat easy  \n",
       "2                                   NaN            NaN  \n",
       "\n",
       "[3 rows x 129 columns]"
      ]
     },
     "execution_count": 4,
     "metadata": {},
     "output_type": "execute_result"
    }
   ],
   "source": [
    "# An overview of the data\n",
    "data2018 = pd.read_csv('data/2018/survey_results_public.csv', low_memory=False)\n",
    "data2018.head(3)"
   ]
  },
  {
   "cell_type": "code",
   "execution_count": 5,
   "metadata": {},
   "outputs": [
    {
     "name": "stdout",
     "output_type": "stream",
     "text": [
      "<class 'pandas.core.frame.DataFrame'>\n",
      "RangeIndex: 98855 entries, 0 to 98854\n",
      "Columns: 129 entries, Respondent to SurveyEasy\n",
      "dtypes: float64(41), int64(1), object(87)\n",
      "memory usage: 97.3+ MB\n"
     ]
    }
   ],
   "source": [
    "# Print number of observations in 2018\n",
    "data2018.info()"
   ]
  },
  {
   "cell_type": "code",
   "execution_count": 6,
   "metadata": {},
   "outputs": [
    {
     "data": {
      "text/plain": [
       "['Hobby',\n",
       " 'OpenSource',\n",
       " 'DevType',\n",
       " 'YearsCoding',\n",
       " 'YearsCodingProf',\n",
       " 'JobSatisfaction',\n",
       " 'CareerSatisfaction',\n",
       " 'HopeFiveYears',\n",
       " 'JobSearchStatus',\n",
       " 'SalaryType',\n",
       " 'ConvertedSalary',\n",
       " 'CommunicationTools',\n",
       " 'AgreeDisagree1',\n",
       " 'AgreeDisagree2',\n",
       " 'AgreeDisagree3',\n",
       " 'LanguageWorkedWith',\n",
       " 'LanguageDesireNextYear',\n",
       " 'DatabaseWorkedWith',\n",
       " 'DatabaseDesireNextYear',\n",
       " 'PlatformWorkedWith',\n",
       " 'PlatformDesireNextYear',\n",
       " 'FrameworkWorkedWith',\n",
       " 'FrameworkDesireNextYear',\n",
       " 'IDE',\n",
       " 'OperatingSystem',\n",
       " 'AIDangerous',\n",
       " 'AIInteresting',\n",
       " 'AIResponsible',\n",
       " 'AIFuture',\n",
       " 'EthicsChoice',\n",
       " 'EthicsReport',\n",
       " 'EthicsResponsible',\n",
       " 'EthicalImplications',\n",
       " 'WakeTime',\n",
       " 'HoursComputer',\n",
       " 'HoursOutside',\n",
       " 'SkipMeals',\n",
       " 'ErgonomicDevices',\n",
       " 'Exercise',\n",
       " 'SexualOrientation',\n",
       " 'EducationParents',\n",
       " 'RaceEthnicity',\n",
       " 'Age',\n",
       " 'Dependents',\n",
       " 'SurveyTooLong',\n",
       " 'SurveyEasy']"
      ]
     },
     "execution_count": 6,
     "metadata": {},
     "output_type": "execute_result"
    }
   ],
   "source": [
    "# Print the interesting columns\n",
    "[c for c in data2018.iloc[:, [1, 2, 9, 10, 11, 12, 13, 14, 15, 53, 54, 56,62,63,64,\n",
    "                              65,66,67,68,69,70,71,72,73,74,93,94,95,96,97,98,99,100,114,\n",
    "                             115,116,117,118,119,121,122,123,124,125,127,128]].columns]"
   ]
  },
  {
   "cell_type": "code",
   "execution_count": 7,
   "metadata": {},
   "outputs": [
    {
     "data": {
      "text/html": [
       "<div>\n",
       "<style scoped>\n",
       "    .dataframe tbody tr th:only-of-type {\n",
       "        vertical-align: middle;\n",
       "    }\n",
       "\n",
       "    .dataframe tbody tr th {\n",
       "        vertical-align: top;\n",
       "    }\n",
       "\n",
       "    .dataframe thead th {\n",
       "        text-align: right;\n",
       "    }\n",
       "</style>\n",
       "<table border=\"1\" class=\"dataframe\">\n",
       "  <thead>\n",
       "    <tr style=\"text-align: right;\">\n",
       "      <th></th>\n",
       "      <th>LanguageWorkedWith</th>\n",
       "      <th>LanguageDesireNextYear</th>\n",
       "    </tr>\n",
       "  </thead>\n",
       "  <tbody>\n",
       "    <tr>\n",
       "      <th>0</th>\n",
       "      <td>JavaScript;Python;HTML;CSS</td>\n",
       "      <td>JavaScript;Python;HTML;CSS</td>\n",
       "    </tr>\n",
       "    <tr>\n",
       "      <th>1</th>\n",
       "      <td>JavaScript;Python;Bash/Shell</td>\n",
       "      <td>Go;Python</td>\n",
       "    </tr>\n",
       "    <tr>\n",
       "      <th>2</th>\n",
       "      <td>NaN</td>\n",
       "      <td>NaN</td>\n",
       "    </tr>\n",
       "    <tr>\n",
       "      <th>3</th>\n",
       "      <td>C#;JavaScript;SQL;TypeScript;HTML;CSS;Bash/Shell</td>\n",
       "      <td>C#;JavaScript;SQL;TypeScript;HTML;CSS;Bash/Shell</td>\n",
       "    </tr>\n",
       "    <tr>\n",
       "      <th>4</th>\n",
       "      <td>C;C++;Java;Matlab;R;SQL;Bash/Shell</td>\n",
       "      <td>Assembly;C;C++;Matlab;SQL;Bash/Shell</td>\n",
       "    </tr>\n",
       "  </tbody>\n",
       "</table>\n",
       "</div>"
      ],
      "text/plain": [
       "                                 LanguageWorkedWith  \\\n",
       "0                        JavaScript;Python;HTML;CSS   \n",
       "1                      JavaScript;Python;Bash/Shell   \n",
       "2                                               NaN   \n",
       "3  C#;JavaScript;SQL;TypeScript;HTML;CSS;Bash/Shell   \n",
       "4                C;C++;Java;Matlab;R;SQL;Bash/Shell   \n",
       "\n",
       "                             LanguageDesireNextYear  \n",
       "0                        JavaScript;Python;HTML;CSS  \n",
       "1                                         Go;Python  \n",
       "2                                               NaN  \n",
       "3  C#;JavaScript;SQL;TypeScript;HTML;CSS;Bash/Shell  \n",
       "4              Assembly;C;C++;Matlab;SQL;Bash/Shell  "
      ]
     },
     "execution_count": 7,
     "metadata": {},
     "output_type": "execute_result"
    }
   ],
   "source": [
    "# Determine columns concerning language\n",
    "data2018.filter(like='Lang', axis=1).head()"
   ]
  },
  {
   "cell_type": "code",
   "execution_count": 8,
   "metadata": {},
   "outputs": [
    {
     "data": {
      "text/plain": [
       "{'Assembly',\n",
       " 'Bash/Shell',\n",
       " 'C',\n",
       " 'C#',\n",
       " 'C++',\n",
       " 'CSS',\n",
       " 'Clojure',\n",
       " 'Cobol',\n",
       " 'CoffeeScript',\n",
       " 'Delphi/Object Pascal',\n",
       " 'Erlang',\n",
       " 'F#',\n",
       " 'Go',\n",
       " 'Groovy',\n",
       " 'HTML',\n",
       " 'Hack',\n",
       " 'Haskell',\n",
       " 'Java',\n",
       " 'JavaScript',\n",
       " 'Julia',\n",
       " 'Kotlin',\n",
       " 'Lua',\n",
       " 'Matlab',\n",
       " 'Objective-C',\n",
       " 'Ocaml',\n",
       " 'PHP',\n",
       " 'Perl',\n",
       " 'Python',\n",
       " 'R',\n",
       " 'Ruby',\n",
       " 'Rust',\n",
       " 'SQL',\n",
       " 'Scala',\n",
       " 'Swift',\n",
       " 'TypeScript',\n",
       " 'VB.NET',\n",
       " 'VBA',\n",
       " 'Visual Basic 6'}"
      ]
     },
     "execution_count": 8,
     "metadata": {},
     "output_type": "execute_result"
    }
   ],
   "source": [
    "# First we get all the different languages\n",
    "delimiter = ';'\n",
    "all_languages = data2018.LanguageWorkedWith.apply(lambda c: str(c).split(delimiter))\n",
    "\n",
    "# Make a flat list out of the list of lists\n",
    "all_languages = [language for languagelist in all_languages for language in languagelist]\n",
    "\n",
    "# No cleanup the list from nan values and duplicates\n",
    "all_languages = list(filter(lambda l: l != 'nan', all_languages))\n",
    "all_languages = set(all_languages)\n",
    "\n",
    "all_languages"
   ]
  },
  {
   "cell_type": "code",
   "execution_count": 9,
   "metadata": {},
   "outputs": [],
   "source": [
    "# Now we want to make columns out of the languages for better processing\n",
    "for language in all_languages:\n",
    "    data2018[language] = data2018['LanguageWorkedWith'].map(lambda c: language in str(c).split(delimiter))"
   ]
  },
  {
   "cell_type": "code",
   "execution_count": 10,
   "metadata": {},
   "outputs": [
    {
     "data": {
      "text/html": [
       "<div>\n",
       "<style scoped>\n",
       "    .dataframe tbody tr th:only-of-type {\n",
       "        vertical-align: middle;\n",
       "    }\n",
       "\n",
       "    .dataframe tbody tr th {\n",
       "        vertical-align: top;\n",
       "    }\n",
       "\n",
       "    .dataframe thead th {\n",
       "        text-align: right;\n",
       "    }\n",
       "</style>\n",
       "<table border=\"1\" class=\"dataframe\">\n",
       "  <thead>\n",
       "    <tr style=\"text-align: right;\">\n",
       "      <th></th>\n",
       "      <th>C#</th>\n",
       "      <th>VB.NET</th>\n",
       "      <th>Scala</th>\n",
       "      <th>Matlab</th>\n",
       "      <th>Delphi/Object Pascal</th>\n",
       "      <th>F#</th>\n",
       "      <th>Python</th>\n",
       "      <th>Visual Basic 6</th>\n",
       "      <th>R</th>\n",
       "      <th>HTML</th>\n",
       "      <th>...</th>\n",
       "      <th>SQL</th>\n",
       "      <th>TypeScript</th>\n",
       "      <th>Assembly</th>\n",
       "      <th>Lua</th>\n",
       "      <th>PHP</th>\n",
       "      <th>Groovy</th>\n",
       "      <th>Cobol</th>\n",
       "      <th>Java</th>\n",
       "      <th>Ocaml</th>\n",
       "      <th>Go</th>\n",
       "    </tr>\n",
       "  </thead>\n",
       "  <tbody>\n",
       "    <tr>\n",
       "      <th>0</th>\n",
       "      <td>False</td>\n",
       "      <td>False</td>\n",
       "      <td>False</td>\n",
       "      <td>False</td>\n",
       "      <td>False</td>\n",
       "      <td>False</td>\n",
       "      <td>True</td>\n",
       "      <td>False</td>\n",
       "      <td>False</td>\n",
       "      <td>True</td>\n",
       "      <td>...</td>\n",
       "      <td>False</td>\n",
       "      <td>False</td>\n",
       "      <td>False</td>\n",
       "      <td>False</td>\n",
       "      <td>False</td>\n",
       "      <td>False</td>\n",
       "      <td>False</td>\n",
       "      <td>False</td>\n",
       "      <td>False</td>\n",
       "      <td>False</td>\n",
       "    </tr>\n",
       "    <tr>\n",
       "      <th>1</th>\n",
       "      <td>False</td>\n",
       "      <td>False</td>\n",
       "      <td>False</td>\n",
       "      <td>False</td>\n",
       "      <td>False</td>\n",
       "      <td>False</td>\n",
       "      <td>True</td>\n",
       "      <td>False</td>\n",
       "      <td>False</td>\n",
       "      <td>False</td>\n",
       "      <td>...</td>\n",
       "      <td>False</td>\n",
       "      <td>False</td>\n",
       "      <td>False</td>\n",
       "      <td>False</td>\n",
       "      <td>False</td>\n",
       "      <td>False</td>\n",
       "      <td>False</td>\n",
       "      <td>False</td>\n",
       "      <td>False</td>\n",
       "      <td>False</td>\n",
       "    </tr>\n",
       "    <tr>\n",
       "      <th>2</th>\n",
       "      <td>False</td>\n",
       "      <td>False</td>\n",
       "      <td>False</td>\n",
       "      <td>False</td>\n",
       "      <td>False</td>\n",
       "      <td>False</td>\n",
       "      <td>False</td>\n",
       "      <td>False</td>\n",
       "      <td>False</td>\n",
       "      <td>False</td>\n",
       "      <td>...</td>\n",
       "      <td>False</td>\n",
       "      <td>False</td>\n",
       "      <td>False</td>\n",
       "      <td>False</td>\n",
       "      <td>False</td>\n",
       "      <td>False</td>\n",
       "      <td>False</td>\n",
       "      <td>False</td>\n",
       "      <td>False</td>\n",
       "      <td>False</td>\n",
       "    </tr>\n",
       "    <tr>\n",
       "      <th>3</th>\n",
       "      <td>True</td>\n",
       "      <td>False</td>\n",
       "      <td>False</td>\n",
       "      <td>False</td>\n",
       "      <td>False</td>\n",
       "      <td>False</td>\n",
       "      <td>False</td>\n",
       "      <td>False</td>\n",
       "      <td>False</td>\n",
       "      <td>True</td>\n",
       "      <td>...</td>\n",
       "      <td>True</td>\n",
       "      <td>True</td>\n",
       "      <td>False</td>\n",
       "      <td>False</td>\n",
       "      <td>False</td>\n",
       "      <td>False</td>\n",
       "      <td>False</td>\n",
       "      <td>False</td>\n",
       "      <td>False</td>\n",
       "      <td>False</td>\n",
       "    </tr>\n",
       "    <tr>\n",
       "      <th>4</th>\n",
       "      <td>False</td>\n",
       "      <td>False</td>\n",
       "      <td>False</td>\n",
       "      <td>True</td>\n",
       "      <td>False</td>\n",
       "      <td>False</td>\n",
       "      <td>False</td>\n",
       "      <td>False</td>\n",
       "      <td>True</td>\n",
       "      <td>False</td>\n",
       "      <td>...</td>\n",
       "      <td>True</td>\n",
       "      <td>False</td>\n",
       "      <td>False</td>\n",
       "      <td>False</td>\n",
       "      <td>False</td>\n",
       "      <td>False</td>\n",
       "      <td>False</td>\n",
       "      <td>True</td>\n",
       "      <td>False</td>\n",
       "      <td>False</td>\n",
       "    </tr>\n",
       "  </tbody>\n",
       "</table>\n",
       "<p>5 rows × 34 columns</p>\n",
       "</div>"
      ],
      "text/plain": [
       "      C#  VB.NET  Scala  Matlab  Delphi/Object Pascal     F#  Python  \\\n",
       "0  False   False  False   False                 False  False    True   \n",
       "1  False   False  False   False                 False  False    True   \n",
       "2  False   False  False   False                 False  False   False   \n",
       "3   True   False  False   False                 False  False   False   \n",
       "4  False   False  False    True                 False  False   False   \n",
       "\n",
       "   Visual Basic 6      R   HTML  ...      SQL  TypeScript  Assembly    Lua  \\\n",
       "0           False  False   True  ...    False       False     False  False   \n",
       "1           False  False  False  ...    False       False     False  False   \n",
       "2           False  False  False  ...    False       False     False  False   \n",
       "3           False  False   True  ...     True        True     False  False   \n",
       "4           False   True  False  ...     True       False     False  False   \n",
       "\n",
       "     PHP  Groovy  Cobol   Java  Ocaml     Go  \n",
       "0  False   False  False  False  False  False  \n",
       "1  False   False  False  False  False  False  \n",
       "2  False   False  False  False  False  False  \n",
       "3  False   False  False  False  False  False  \n",
       "4  False   False  False   True  False  False  \n",
       "\n",
       "[5 rows x 34 columns]"
      ]
     },
     "execution_count": 10,
     "metadata": {},
     "output_type": "execute_result"
    }
   ],
   "source": [
    "data2018.loc[:, 'C#':].head()"
   ]
  },
  {
   "cell_type": "markdown",
   "metadata": {},
   "source": [
    "### Compare C# to Python"
   ]
  },
  {
   "cell_type": "code",
   "execution_count": 11,
   "metadata": {},
   "outputs": [],
   "source": [
    "def csharp_or_python(col):\n",
    "    ''' Function for making composite column of C# and Python '''\n",
    "    if col['C#'] and col['Python']:\n",
    "        return 'Both'\n",
    "    elif col['C#']:\n",
    "        return 'C#'\n",
    "    elif col['Python']:\n",
    "        return 'Python'\n",
    "    return 'None'"
   ]
  },
  {
   "cell_type": "code",
   "execution_count": 12,
   "metadata": {},
   "outputs": [],
   "source": [
    "# Creating combined column\n",
    "data2018['C# vs Python'] = data2018.apply(lambda col: csharp_or_python(col), axis=1)"
   ]
  },
  {
   "cell_type": "code",
   "execution_count": 16,
   "metadata": {},
   "outputs": [
    {
     "data": {
      "image/png": "[encoded data removed]",
      "text/plain": [
       "<Figure size 432x288 with 1 Axes>"
      ]
     },
     "metadata": {
      "needs_background": "light"
     },
     "output_type": "display_data"
    }
   ],
   "source": [
    "# Inspect some habbits over the different groups\n",
    "data2018.groupby('C# vs Python')['SkipMeals'].value_counts(normalize=True).plot(kind='bar')\n",
    "plt.show()"
   ]
  },
  {
   "cell_type": "code",
   "execution_count": 17,
   "metadata": {},
   "outputs": [
    {
     "data": {
      "image/png": "[encoded data removed]",
      "text/plain": [
       "<Figure size 432x288 with 1 Axes>"
      ]
     },
     "metadata": {
      "needs_background": "light"
     },
     "output_type": "display_data"
    }
   ],
   "source": [
    "# Inspect the age of the groups\n",
    "data2018.groupby('C# vs Python')['Age'].value_counts(normalize=True).plot(kind='bar')\n",
    "plt.show()"
   ]
  },
  {
   "cell_type": "code",
   "execution_count": 21,
   "metadata": {},
   "outputs": [
    {
     "data": {
      "image/png": "[encoded data removed]",
      "text/plain": [
       "<Figure size 1080x360 with 3 Axes>"
      ]
     },
     "metadata": {
      "needs_background": "light"
     },
     "output_type": "display_data"
    }
   ],
   "source": [
    "# Separate the different groups into subplots\n",
    "fig, (ax1, ax2, ax3) = plt.subplots(1,3, figsize=(15,5), sharey=True)\n",
    "data2018[data2018['C#'] == True].Age.value_counts(normalize=True).plot(kind='bar', ax=ax1)\n",
    "ax1.set_title('C#')\n",
    "data2018[data2018['Python'] == True].Age.value_counts(normalize=True).plot(kind='bar', ax=ax2)\n",
    "ax2.set_title('Python')\n",
    "data2018[(data2018['Python'] == True) & (data2018['C#'] == True)].Age.value_counts(normalize=True).plot(kind='bar', ax=ax3)\n",
    "ax3.set_title('Python & C#')\n",
    "ax1.set_ylabel('Density')\n",
    "plt.show()"
   ]
  },
  {
   "cell_type": "markdown",
   "metadata": {},
   "source": [
    "As expected the python programmers are of younger age compared to the c# hackers"
   ]
  },
  {
   "cell_type": "code",
   "execution_count": 23,
   "metadata": {},
   "outputs": [
    {
     "data": {
      "image/png": "[encoded data removed]",
      "text/plain": [
       "<Figure size 1080x360 with 3 Axes>"
      ]
     },
     "metadata": {
      "needs_background": "light"
     },
     "output_type": "display_data"
    }
   ],
   "source": [
    "# How often do the different groups exercise\n",
    "fig, (ax1, ax2, ax3) = plt.subplots(1,3, figsize=(15, 5), sharey=True)\n",
    "data2018[data2018['C#'] == True].Exercise.value_counts(normalize=True).plot(kind='bar', ax=ax1)\n",
    "ax1.set_title('C#')\n",
    "data2018[data2018['Python'] == True].Exercise.value_counts(normalize=True).plot(kind='bar', ax=ax2)\n",
    "ax2.set_title('Python')\n",
    "data2018[(data2018['Python'] == True) & (data2018['C#'] == True)].Exercise.value_counts(normalize=True).plot(kind='bar', ax=ax3)\n",
    "ax3.set_title('Python & C#')\n",
    "ax1.set_ylabel('Density')\n",
    "plt.show()"
   ]
  },
  {
   "cell_type": "code",
   "execution_count": 24,
   "metadata": {},
   "outputs": [
    {
     "data": {
      "text/plain": [
       "I don't typically exercise    0.374369\n",
       "1 - 2 times per week          0.290287\n",
       "3 - 4 times per week          0.198563\n",
       "Daily or almost every day     0.136781\n",
       "Name: Exercise, dtype: float64"
      ]
     },
     "execution_count": 24,
     "metadata": {},
     "output_type": "execute_result"
    }
   ],
   "source": [
    "# Comparing the groups in numbers\n",
    "data2018.Exercise.value_counts(normalize=True)"
   ]
  },
  {
   "cell_type": "code",
   "execution_count": 25,
   "metadata": {},
   "outputs": [
    {
     "data": {
      "text/plain": [
       "C# vs Python  Exercise                  \n",
       "Both          I don't typically exercise    0.361083\n",
       "              1 - 2 times per week          0.298774\n",
       "              3 - 4 times per week          0.203779\n",
       "              Daily or almost every day     0.136364\n",
       "C#            I don't typically exercise    0.389060\n",
       "              1 - 2 times per week          0.291703\n",
       "              3 - 4 times per week          0.196814\n",
       "              Daily or almost every day     0.122423\n",
       "None          I don't typically exercise    0.387179\n",
       "              1 - 2 times per week          0.285789\n",
       "              3 - 4 times per week          0.188706\n",
       "              Daily or almost every day     0.138326\n",
       "Python        I don't typically exercise    0.348757\n",
       "              1 - 2 times per week          0.292288\n",
       "              3 - 4 times per week          0.212349\n",
       "              Daily or almost every day     0.146605\n",
       "Name: Exercise, dtype: float64"
      ]
     },
     "execution_count": 25,
     "metadata": {},
     "output_type": "execute_result"
    }
   ],
   "source": [
    "data2018.groupby('C# vs Python')['Exercise'].value_counts(normalize=True)"
   ]
  },
  {
   "cell_type": "code",
   "execution_count": 70,
   "metadata": {},
   "outputs": [
    {
     "data": {
      "image/png": "[encoded data removed]",
      "text/plain": [
       "<Figure size 1008x648 with 40 Axes>"
      ]
     },
     "metadata": {
      "needs_background": "light"
     },
     "output_type": "display_data"
    }
   ],
   "source": [
    "# Render small multiples of the distribution for comparision\n",
    "number_of_columns = 8\n",
    "fig, axes = plt.subplots(int(38/number_of_columns)+1, number_of_columns, figsize=(14, 9), sharey=True)\n",
    "for i, lang in zip(range(38), all_languages):\n",
    "    position = axes[int(i/number_of_columns), i%number_of_columns]\n",
    "    data2018[data2018[lang] == True].Exercise.value_counts(normalize=True).plot(kind='bar', ax=position)\n",
    "    position.set_title(lang, fontsize=10)\n",
    "for i in range(40):\n",
    "    position = axes[int(i/number_of_columns), i%number_of_columns]\n",
    "    position.set_xticklabels([])\n",
    "    position.set_yticklabels([])\n",
    "    position.set_xticks([])"
   ]
  }
 ],
 "metadata": {
  "kernelspec": {
   "display_name": "Python 3",
   "language": "python",
   "name": "python3"
  },
  "language_info": {
   "codemirror_mode": {
    "name": "ipython",
    "version": 3
   },
   "file_extension": ".py",
   "mimetype": "text/x-python",
   "name": "python",
   "nbconvert_exporter": "python",
   "pygments_lexer": "ipython3",
   "version": "3.7.0"
  }
 },
 "nbformat": 4,
 "nbformat_minor": 2
}
