{
 "cells": [
  {
   "cell_type": "markdown",
   "metadata": {},
   "source": [
    "## Build combined data set from the years 2011 to 2018"
   ]
  },
  {
   "cell_type": "markdown",
   "metadata": {},
   "source": [
    "We first compare the schema of the first two years."
   ]
  },
  {
   "cell_type": "code",
   "execution_count": 2,
   "metadata": {},
   "outputs": [],
   "source": [
    "# Import the necessary packages\n",
    "import pandas as pd\n",
    "import numpy as np\n",
    "import matplotlib.pyplot as plt"
   ]
  },
  {
   "cell_type": "code",
   "execution_count": 4,
   "metadata": {},
   "outputs": [
    {
     "data": {
      "text/html": [
       "<div>\n",
       "<style scoped>\n",
       "    .dataframe tbody tr th:only-of-type {\n",
       "        vertical-align: middle;\n",
       "    }\n",
       "\n",
       "    .dataframe tbody tr th {\n",
       "        vertical-align: top;\n",
       "    }\n",
       "\n",
       "    .dataframe thead th {\n",
       "        text-align: right;\n",
       "    }\n",
       "</style>\n",
       "<table border=\"1\" class=\"dataframe\">\n",
       "  <thead>\n",
       "    <tr style=\"text-align: right;\">\n",
       "      <th></th>\n",
       "      <th>What Country or Region do you live in?</th>\n",
       "      <th>Which US State or Territory do you live in?</th>\n",
       "      <th>How old are you?</th>\n",
       "      <th>How many years of IT/Programming experience do you have?</th>\n",
       "      <th>How would you best describe the industry you work in?</th>\n",
       "      <th>Which best describes the size of your company?</th>\n",
       "      <th>Which of the following best describes your occupation?</th>\n",
       "      <th>How likely is it that a recommendation you make will be acted upon?</th>\n",
       "      <th>What is your involvement in purchasing? You can choose more than 1.</th>\n",
       "      <th>Unnamed: 9</th>\n",
       "      <th>...</th>\n",
       "      <th>Unnamed: 55</th>\n",
       "      <th>Unnamed: 56</th>\n",
       "      <th>Unnamed: 57</th>\n",
       "      <th>Unnamed: 58</th>\n",
       "      <th>Unnamed: 59</th>\n",
       "      <th>Unnamed: 60</th>\n",
       "      <th>Unnamed: 61</th>\n",
       "      <th>Unnamed: 62</th>\n",
       "      <th>In the last 12 months, how much money have you spent on personal technology-related purchases?</th>\n",
       "      <th>Which of our sites do you frequent most?</th>\n",
       "    </tr>\n",
       "  </thead>\n",
       "  <tbody>\n",
       "    <tr>\n",
       "      <th>0</th>\n",
       "      <td>Response</td>\n",
       "      <td>Response</td>\n",
       "      <td>Response</td>\n",
       "      <td>Response</td>\n",
       "      <td>Response</td>\n",
       "      <td>Response</td>\n",
       "      <td>Response</td>\n",
       "      <td>Response</td>\n",
       "      <td>Influencer</td>\n",
       "      <td>Recommender</td>\n",
       "      <td>...</td>\n",
       "      <td>AppleTV</td>\n",
       "      <td>iPad</td>\n",
       "      <td>Other netbook</td>\n",
       "      <td>PS3</td>\n",
       "      <td>Xbox</td>\n",
       "      <td>Wii</td>\n",
       "      <td>Other gaming system</td>\n",
       "      <td>other (please specify)</td>\n",
       "      <td>Response</td>\n",
       "      <td>Response</td>\n",
       "    </tr>\n",
       "    <tr>\n",
       "      <th>1</th>\n",
       "      <td>Africa</td>\n",
       "      <td>NaN</td>\n",
       "      <td>&lt; 20</td>\n",
       "      <td>&lt;2</td>\n",
       "      <td>Consulting</td>\n",
       "      <td>Start Up (1-25)</td>\n",
       "      <td>Web Application Developer</td>\n",
       "      <td>Not in a million years</td>\n",
       "      <td>NaN</td>\n",
       "      <td>NaN</td>\n",
       "      <td>...</td>\n",
       "      <td>NaN</td>\n",
       "      <td>NaN</td>\n",
       "      <td>NaN</td>\n",
       "      <td>NaN</td>\n",
       "      <td>NaN</td>\n",
       "      <td>NaN</td>\n",
       "      <td>NaN</td>\n",
       "      <td>NaN</td>\n",
       "      <td>&lt;$100</td>\n",
       "      <td>NaN</td>\n",
       "    </tr>\n",
       "    <tr>\n",
       "      <th>2</th>\n",
       "      <td>Other Europe</td>\n",
       "      <td>NaN</td>\n",
       "      <td>25-29</td>\n",
       "      <td>41310</td>\n",
       "      <td>Software Products</td>\n",
       "      <td>Mature Small Business (25-100)</td>\n",
       "      <td>Server Programmer</td>\n",
       "      <td>It's been known to happen</td>\n",
       "      <td>NaN</td>\n",
       "      <td>NaN</td>\n",
       "      <td>...</td>\n",
       "      <td>NaN</td>\n",
       "      <td>NaN</td>\n",
       "      <td>Other netbook</td>\n",
       "      <td>NaN</td>\n",
       "      <td>NaN</td>\n",
       "      <td>NaN</td>\n",
       "      <td>NaN</td>\n",
       "      <td>NaN</td>\n",
       "      <td>$251-$500</td>\n",
       "      <td>Stack Overflow</td>\n",
       "    </tr>\n",
       "  </tbody>\n",
       "</table>\n",
       "<p>3 rows × 65 columns</p>\n",
       "</div>"
      ],
      "text/plain": [
       "  What Country or Region do you live in?  \\\n",
       "0                               Response   \n",
       "1                                 Africa   \n",
       "2                           Other Europe   \n",
       "\n",
       "  Which US State or Territory do you live in? How old are you?  \\\n",
       "0                                    Response         Response   \n",
       "1                                         NaN             < 20   \n",
       "2                                         NaN            25-29   \n",
       "\n",
       "  How many years of IT/Programming experience do you have?  \\\n",
       "0                                           Response         \n",
       "1                                                 <2         \n",
       "2                                              41310         \n",
       "\n",
       "  How would you best describe the industry you work in?  \\\n",
       "0                                           Response      \n",
       "1                                         Consulting      \n",
       "2                                  Software Products      \n",
       "\n",
       "  Which best describes the size of your company?  \\\n",
       "0                                       Response   \n",
       "1                                Start Up (1-25)   \n",
       "2                 Mature Small Business (25-100)   \n",
       "\n",
       "  Which of the following best describes your occupation?  \\\n",
       "0                                           Response       \n",
       "1                          Web Application Developer       \n",
       "2                                  Server Programmer       \n",
       "\n",
       "  How likely is it that a recommendation you make will be acted upon?  \\\n",
       "0                                           Response                    \n",
       "1                             Not in a million years                    \n",
       "2                          It's been known to happen                    \n",
       "\n",
       "  What is your involvement in purchasing? You can choose more than 1.  \\\n",
       "0                                         Influencer                    \n",
       "1                                                NaN                    \n",
       "2                                                NaN                    \n",
       "\n",
       "    Unnamed: 9                   ...                    Unnamed: 55  \\\n",
       "0  Recommender                   ...                        AppleTV   \n",
       "1          NaN                   ...                            NaN   \n",
       "2          NaN                   ...                            NaN   \n",
       "\n",
       "  Unnamed: 56    Unnamed: 57 Unnamed: 58 Unnamed: 59 Unnamed: 60  \\\n",
       "0        iPad  Other netbook         PS3        Xbox         Wii   \n",
       "1         NaN            NaN         NaN         NaN         NaN   \n",
       "2         NaN  Other netbook         NaN         NaN         NaN   \n",
       "\n",
       "           Unnamed: 61             Unnamed: 62  \\\n",
       "0  Other gaming system  other (please specify)   \n",
       "1                  NaN                     NaN   \n",
       "2                  NaN                     NaN   \n",
       "\n",
       "  In the last 12 months, how much money have you spent on personal technology-related purchases?   \\\n",
       "0                                           Response                                                \n",
       "1                                              <$100                                                \n",
       "2                                          $251-$500                                                \n",
       "\n",
       "  Which of our sites do you frequent most?  \n",
       "0                                 Response  \n",
       "1                                      NaN  \n",
       "2                           Stack Overflow  \n",
       "\n",
       "[3 rows x 65 columns]"
      ]
     },
     "execution_count": 4,
     "metadata": {},
     "output_type": "execute_result"
    }
   ],
   "source": [
    "# Load the data from 2011\n",
    "data2011 = pd.read_csv('data/2011/2011 Stack Overflow Survey Results.csv', encoding = 'ISO-8859-1', delimiter=',')\n",
    "data2011.head(3)"
   ]
  },
  {
   "cell_type": "code",
   "execution_count": 5,
   "metadata": {},
   "outputs": [
    {
     "data": {
      "text/html": [
       "<div>\n",
       "<style scoped>\n",
       "    .dataframe tbody tr th:only-of-type {\n",
       "        vertical-align: middle;\n",
       "    }\n",
       "\n",
       "    .dataframe tbody tr th {\n",
       "        vertical-align: top;\n",
       "    }\n",
       "\n",
       "    .dataframe thead th {\n",
       "        text-align: right;\n",
       "    }\n",
       "</style>\n",
       "<table border=\"1\" class=\"dataframe\">\n",
       "  <thead>\n",
       "    <tr style=\"text-align: right;\">\n",
       "      <th></th>\n",
       "      <th>What Country or Region do you live in?</th>\n",
       "      <th>Which US State or Territory do you live in?</th>\n",
       "      <th>How old are you?</th>\n",
       "      <th>How many years of IT/Programming experience do you have?</th>\n",
       "      <th>How would you best describe the industry you currently work in?</th>\n",
       "      <th>Which best describes the size of your company?</th>\n",
       "      <th>Which of the following best describes your occupation?</th>\n",
       "      <th>What is your involvement in purchasing products or services for the company you work for? (You can choose more than one)</th>\n",
       "      <th>Unnamed: 8</th>\n",
       "      <th>Unnamed: 9</th>\n",
       "      <th>...</th>\n",
       "      <th>Please rate the advertising you've seen on Stack Overflow</th>\n",
       "      <th>Unnamed: 66</th>\n",
       "      <th>Unnamed: 67</th>\n",
       "      <th>Unnamed: 68</th>\n",
       "      <th>Unnamed: 69</th>\n",
       "      <th>Unnamed: 70</th>\n",
       "      <th>What advertisers do you remember seeing on Stack Overflow?</th>\n",
       "      <th>What is your current Stack Overflow reputation?</th>\n",
       "      <th>Which of our sites do you frequent most?</th>\n",
       "      <th>Unnamed: 74</th>\n",
       "    </tr>\n",
       "  </thead>\n",
       "  <tbody>\n",
       "    <tr>\n",
       "      <th>0</th>\n",
       "      <td>Response</td>\n",
       "      <td>Response</td>\n",
       "      <td>Response</td>\n",
       "      <td>Response</td>\n",
       "      <td>Response</td>\n",
       "      <td>Response</td>\n",
       "      <td>Response</td>\n",
       "      <td>Influencer</td>\n",
       "      <td>Recommender</td>\n",
       "      <td>Approver</td>\n",
       "      <td>...</td>\n",
       "      <td>The ads are relevant</td>\n",
       "      <td>The ads are entertaining</td>\n",
       "      <td>The ads are Informative</td>\n",
       "      <td>I click on ads that interest me</td>\n",
       "      <td>I've taken a trial/purchased a product from ads</td>\n",
       "      <td>What ads? I use an ad blocker</td>\n",
       "      <td>Open-Ended Response</td>\n",
       "      <td>Response</td>\n",
       "      <td>Response</td>\n",
       "      <td>Other Stack Exchange (please specify)</td>\n",
       "    </tr>\n",
       "    <tr>\n",
       "      <th>1</th>\n",
       "      <td>India</td>\n",
       "      <td>NaN</td>\n",
       "      <td>20-24</td>\n",
       "      <td>&lt;2</td>\n",
       "      <td>Consulting</td>\n",
       "      <td>Fortune 1000 (1,000+)</td>\n",
       "      <td>Server Programmer</td>\n",
       "      <td>Influencer</td>\n",
       "      <td>Recommender</td>\n",
       "      <td>NaN</td>\n",
       "      <td>...</td>\n",
       "      <td>NaN</td>\n",
       "      <td>NaN</td>\n",
       "      <td>NaN</td>\n",
       "      <td>NaN</td>\n",
       "      <td>NaN</td>\n",
       "      <td>NaN</td>\n",
       "      <td>NaN</td>\n",
       "      <td>NaN</td>\n",
       "      <td>NaN</td>\n",
       "      <td>NaN</td>\n",
       "    </tr>\n",
       "    <tr>\n",
       "      <th>2</th>\n",
       "      <td>Germany</td>\n",
       "      <td>NaN</td>\n",
       "      <td>25-29</td>\n",
       "      <td>&lt;2</td>\n",
       "      <td>Other</td>\n",
       "      <td>Mature Small Business (25-100)</td>\n",
       "      <td>Embedded Application Developer</td>\n",
       "      <td>NaN</td>\n",
       "      <td>Recommender</td>\n",
       "      <td>NaN</td>\n",
       "      <td>...</td>\n",
       "      <td>Neutral</td>\n",
       "      <td>Agree</td>\n",
       "      <td>Agree</td>\n",
       "      <td>Strongly Disagree</td>\n",
       "      <td>Strongly Disagree</td>\n",
       "      <td>Disagree</td>\n",
       "      <td>NaN</td>\n",
       "      <td>Don't have an account</td>\n",
       "      <td>Stack Overflow</td>\n",
       "      <td>NaN</td>\n",
       "    </tr>\n",
       "  </tbody>\n",
       "</table>\n",
       "<p>3 rows × 75 columns</p>\n",
       "</div>"
      ],
      "text/plain": [
       "  What Country or Region do you live in?  \\\n",
       "0                               Response   \n",
       "1                                  India   \n",
       "2                                Germany   \n",
       "\n",
       "  Which US State or Territory do you live in? How old are you?  \\\n",
       "0                                    Response         Response   \n",
       "1                                         NaN            20-24   \n",
       "2                                         NaN            25-29   \n",
       "\n",
       "  How many years of IT/Programming experience do you have?  \\\n",
       "0                                           Response         \n",
       "1                                                 <2         \n",
       "2                                                 <2         \n",
       "\n",
       "  How would you best describe the industry you currently work in?  \\\n",
       "0                                           Response                \n",
       "1                                         Consulting                \n",
       "2                                              Other                \n",
       "\n",
       "  Which best describes the size of your company?  \\\n",
       "0                                       Response   \n",
       "1                          Fortune 1000 (1,000+)   \n",
       "2                 Mature Small Business (25-100)   \n",
       "\n",
       "  Which of the following best describes your occupation?  \\\n",
       "0                                           Response       \n",
       "1                                  Server Programmer       \n",
       "2                     Embedded Application Developer       \n",
       "\n",
       "  What is your involvement in purchasing products or services for the company you work for? (You can choose more than one)  \\\n",
       "0                                         Influencer                                                                         \n",
       "1                                         Influencer                                                                         \n",
       "2                                                NaN                                                                         \n",
       "\n",
       "    Unnamed: 8 Unnamed: 9                  ...                    \\\n",
       "0  Recommender   Approver                  ...                     \n",
       "1  Recommender        NaN                  ...                     \n",
       "2  Recommender        NaN                  ...                     \n",
       "\n",
       "  Please rate the advertising you've seen on Stack Overflow  \\\n",
       "0                               The ads are relevant          \n",
       "1                                                NaN          \n",
       "2                                            Neutral          \n",
       "\n",
       "                Unnamed: 66              Unnamed: 67  \\\n",
       "0  The ads are entertaining  The ads are Informative   \n",
       "1                       NaN                      NaN   \n",
       "2                     Agree                    Agree   \n",
       "\n",
       "                       Unnamed: 68  \\\n",
       "0  I click on ads that interest me   \n",
       "1                              NaN   \n",
       "2                Strongly Disagree   \n",
       "\n",
       "                                       Unnamed: 69  \\\n",
       "0  I've taken a trial/purchased a product from ads   \n",
       "1                                              NaN   \n",
       "2                                Strongly Disagree   \n",
       "\n",
       "                     Unnamed: 70  \\\n",
       "0  What ads? I use an ad blocker   \n",
       "1                            NaN   \n",
       "2                       Disagree   \n",
       "\n",
       "  What advertisers do you remember seeing on Stack Overflow?  \\\n",
       "0                                Open-Ended Response           \n",
       "1                                                NaN           \n",
       "2                                                NaN           \n",
       "\n",
       "  What is your current Stack Overflow reputation?  \\\n",
       "0                                        Response   \n",
       "1                                             NaN   \n",
       "2                           Don't have an account   \n",
       "\n",
       "  Which of our sites do you frequent most?  \\\n",
       "0                                 Response   \n",
       "1                                      NaN   \n",
       "2                           Stack Overflow   \n",
       "\n",
       "                             Unnamed: 74  \n",
       "0  Other Stack Exchange (please specify)  \n",
       "1                                    NaN  \n",
       "2                                    NaN  \n",
       "\n",
       "[3 rows x 75 columns]"
      ]
     },
     "execution_count": 5,
     "metadata": {},
     "output_type": "execute_result"
    }
   ],
   "source": [
    "# Load the data from 2012\n",
    "data2012 = pd.read_csv('data/2012/2012 Stack Overflow Survey Results.csv', encoding = 'ISO-8859-1', delimiter=',')\n",
    "data2012.head(3)"
   ]
  },
  {
   "cell_type": "markdown",
   "metadata": {},
   "source": [
    "The schema differs between the first two years already and we need to clean this up."
   ]
  },
  {
   "cell_type": "markdown",
   "metadata": {},
   "source": [
    "### Building subsets with the relevant columns of the data"
   ]
  },
  {
   "cell_type": "markdown",
   "metadata": {},
   "source": [
    "### 2011"
   ]
  },
  {
   "cell_type": "code",
   "execution_count": 130,
   "metadata": {},
   "outputs": [
    {
     "data": {
      "text/html": [
       "<div>\n",
       "<style scoped>\n",
       "    .dataframe tbody tr th:only-of-type {\n",
       "        vertical-align: middle;\n",
       "    }\n",
       "\n",
       "    .dataframe tbody tr th {\n",
       "        vertical-align: top;\n",
       "    }\n",
       "\n",
       "    .dataframe thead th {\n",
       "        text-align: right;\n",
       "    }\n",
       "</style>\n",
       "<table border=\"1\" class=\"dataframe\">\n",
       "  <thead>\n",
       "    <tr style=\"text-align: right;\">\n",
       "      <th></th>\n",
       "      <th>What Country or Region do you live in?</th>\n",
       "      <th>Which US State or Territory do you live in?</th>\n",
       "      <th>How old are you?</th>\n",
       "      <th>How many years of IT/Programming experience do you have?</th>\n",
       "      <th>How would you best describe the industry you work in?</th>\n",
       "      <th>Which best describes the size of your company?</th>\n",
       "      <th>Which of the following best describes your occupation?</th>\n",
       "      <th>How likely is it that a recommendation you make will be acted upon?</th>\n",
       "      <th>What is your involvement in purchasing? You can choose more than 1.</th>\n",
       "      <th>Unnamed: 9</th>\n",
       "      <th>...</th>\n",
       "      <th>Unnamed: 55</th>\n",
       "      <th>Unnamed: 56</th>\n",
       "      <th>Unnamed: 57</th>\n",
       "      <th>Unnamed: 58</th>\n",
       "      <th>Unnamed: 59</th>\n",
       "      <th>Unnamed: 60</th>\n",
       "      <th>Unnamed: 61</th>\n",
       "      <th>Unnamed: 62</th>\n",
       "      <th>In the last 12 months, how much money have you spent on personal technology-related purchases?</th>\n",
       "      <th>Which of our sites do you frequent most?</th>\n",
       "    </tr>\n",
       "  </thead>\n",
       "  <tbody>\n",
       "    <tr>\n",
       "      <th>0</th>\n",
       "      <td>Response</td>\n",
       "      <td>Response</td>\n",
       "      <td>Response</td>\n",
       "      <td>Response</td>\n",
       "      <td>Response</td>\n",
       "      <td>Response</td>\n",
       "      <td>Response</td>\n",
       "      <td>Response</td>\n",
       "      <td>Influencer</td>\n",
       "      <td>Recommender</td>\n",
       "      <td>...</td>\n",
       "      <td>AppleTV</td>\n",
       "      <td>iPad</td>\n",
       "      <td>Other netbook</td>\n",
       "      <td>PS3</td>\n",
       "      <td>Xbox</td>\n",
       "      <td>Wii</td>\n",
       "      <td>Other gaming system</td>\n",
       "      <td>other (please specify)</td>\n",
       "      <td>Response</td>\n",
       "      <td>Response</td>\n",
       "    </tr>\n",
       "    <tr>\n",
       "      <th>1</th>\n",
       "      <td>Africa</td>\n",
       "      <td>NaN</td>\n",
       "      <td>&lt; 20</td>\n",
       "      <td>&lt;2</td>\n",
       "      <td>Consulting</td>\n",
       "      <td>Start Up (1-25)</td>\n",
       "      <td>Web Application Developer</td>\n",
       "      <td>Not in a million years</td>\n",
       "      <td>NaN</td>\n",
       "      <td>NaN</td>\n",
       "      <td>...</td>\n",
       "      <td>NaN</td>\n",
       "      <td>NaN</td>\n",
       "      <td>NaN</td>\n",
       "      <td>NaN</td>\n",
       "      <td>NaN</td>\n",
       "      <td>NaN</td>\n",
       "      <td>NaN</td>\n",
       "      <td>NaN</td>\n",
       "      <td>&lt;$100</td>\n",
       "      <td>NaN</td>\n",
       "    </tr>\n",
       "  </tbody>\n",
       "</table>\n",
       "<p>2 rows × 65 columns</p>\n",
       "</div>"
      ],
      "text/plain": [
       "  What Country or Region do you live in?  \\\n",
       "0                               Response   \n",
       "1                                 Africa   \n",
       "\n",
       "  Which US State or Territory do you live in? How old are you?  \\\n",
       "0                                    Response         Response   \n",
       "1                                         NaN             < 20   \n",
       "\n",
       "  How many years of IT/Programming experience do you have?  \\\n",
       "0                                           Response         \n",
       "1                                                 <2         \n",
       "\n",
       "  How would you best describe the industry you work in?  \\\n",
       "0                                           Response      \n",
       "1                                         Consulting      \n",
       "\n",
       "  Which best describes the size of your company?  \\\n",
       "0                                       Response   \n",
       "1                                Start Up (1-25)   \n",
       "\n",
       "  Which of the following best describes your occupation?  \\\n",
       "0                                           Response       \n",
       "1                          Web Application Developer       \n",
       "\n",
       "  How likely is it that a recommendation you make will be acted upon?  \\\n",
       "0                                           Response                    \n",
       "1                             Not in a million years                    \n",
       "\n",
       "  What is your involvement in purchasing? You can choose more than 1.  \\\n",
       "0                                         Influencer                    \n",
       "1                                                NaN                    \n",
       "\n",
       "    Unnamed: 9                   ...                    Unnamed: 55  \\\n",
       "0  Recommender                   ...                        AppleTV   \n",
       "1          NaN                   ...                            NaN   \n",
       "\n",
       "  Unnamed: 56    Unnamed: 57 Unnamed: 58 Unnamed: 59 Unnamed: 60  \\\n",
       "0        iPad  Other netbook         PS3        Xbox         Wii   \n",
       "1         NaN            NaN         NaN         NaN         NaN   \n",
       "\n",
       "           Unnamed: 61             Unnamed: 62  \\\n",
       "0  Other gaming system  other (please specify)   \n",
       "1                  NaN                     NaN   \n",
       "\n",
       "  In the last 12 months, how much money have you spent on personal technology-related purchases?   \\\n",
       "0                                           Response                                                \n",
       "1                                              <$100                                                \n",
       "\n",
       "  Which of our sites do you frequent most?  \n",
       "0                                 Response  \n",
       "1                                      NaN  \n",
       "\n",
       "[2 rows x 65 columns]"
      ]
     },
     "execution_count": 130,
     "metadata": {},
     "output_type": "execute_result"
    }
   ],
   "source": [
    "data2011.head(2)"
   ]
  },
  {
   "cell_type": "code",
   "execution_count": 131,
   "metadata": {},
   "outputs": [],
   "source": [
    "# Remove first row and add column for year\n",
    "subset2011 = data2011.iloc[1:, [2, 44, 45, 37, 34, 31]]\n",
    "subset2011['year'] = 2011"
   ]
  },
  {
   "cell_type": "code",
   "execution_count": 132,
   "metadata": {},
   "outputs": [],
   "source": [
    "subset_columns = ['age', 'job_satisfaction', 'annual_compensation', 'csharp', 'python', 'javascript', 'year'] \n",
    "subset2011.columns = subset_columns"
   ]
  },
  {
   "cell_type": "code",
   "execution_count": 133,
   "metadata": {},
   "outputs": [],
   "source": [
    "# We transform languages in boolean columns\n",
    "subset2011['csharp'] = subset2011['csharp'].apply(lambda c: str(c) == 'C#')\n",
    "subset2011['python'] = subset2011['python'].apply(lambda c: str(c) == 'Python')\n",
    "subset2011['javascript'] = subset2011['javascript'].apply(lambda c: str(c) == 'JavaScript')"
   ]
  },
  {
   "cell_type": "code",
   "execution_count": 134,
   "metadata": {},
   "outputs": [],
   "source": [
    "# Special treatment for f# - not that popular back then\n",
    "subset2011['fsharp'] = data2011.iloc[1:, 42].apply(lambda col: 'f#' in str(col).lower())"
   ]
  },
  {
   "cell_type": "code",
   "execution_count": 135,
   "metadata": {},
   "outputs": [
    {
     "data": {
      "text/plain": [
       "15"
      ]
     },
     "execution_count": 135,
     "metadata": {},
     "output_type": "execute_result"
    }
   ],
   "source": [
    "# Number of f# developers then\n",
    "len(subset2011[subset2011['fsharp'] == True])"
   ]
  },
  {
   "cell_type": "code",
   "execution_count": 136,
   "metadata": {},
   "outputs": [],
   "source": [
    "# Reorder columns for sanity\n",
    "subset2011 = subset2011.iloc[:, [6,0,1,2,3,4,5,7]]"
   ]
  },
  {
   "cell_type": "code",
   "execution_count": 137,
   "metadata": {},
   "outputs": [
    {
     "data": {
      "text/html": [
       "<div>\n",
       "<style scoped>\n",
       "    .dataframe tbody tr th:only-of-type {\n",
       "        vertical-align: middle;\n",
       "    }\n",
       "\n",
       "    .dataframe tbody tr th {\n",
       "        vertical-align: top;\n",
       "    }\n",
       "\n",
       "    .dataframe thead th {\n",
       "        text-align: right;\n",
       "    }\n",
       "</style>\n",
       "<table border=\"1\" class=\"dataframe\">\n",
       "  <thead>\n",
       "    <tr style=\"text-align: right;\">\n",
       "      <th></th>\n",
       "      <th>year</th>\n",
       "      <th>age</th>\n",
       "      <th>job_satisfaction</th>\n",
       "      <th>annual_compensation</th>\n",
       "      <th>csharp</th>\n",
       "      <th>python</th>\n",
       "      <th>javascript</th>\n",
       "      <th>fsharp</th>\n",
       "    </tr>\n",
       "  </thead>\n",
       "  <tbody>\n",
       "    <tr>\n",
       "      <th>1</th>\n",
       "      <td>2011</td>\n",
       "      <td>&lt; 20</td>\n",
       "      <td>FML</td>\n",
       "      <td>Student / Unemployed</td>\n",
       "      <td>False</td>\n",
       "      <td>False</td>\n",
       "      <td>True</td>\n",
       "      <td>False</td>\n",
       "    </tr>\n",
       "    <tr>\n",
       "      <th>2</th>\n",
       "      <td>2011</td>\n",
       "      <td>25-29</td>\n",
       "      <td>So happy it hurts</td>\n",
       "      <td>NaN</td>\n",
       "      <td>False</td>\n",
       "      <td>False</td>\n",
       "      <td>False</td>\n",
       "      <td>False</td>\n",
       "    </tr>\n",
       "    <tr>\n",
       "      <th>3</th>\n",
       "      <td>2011</td>\n",
       "      <td>25-29</td>\n",
       "      <td>NaN</td>\n",
       "      <td>NaN</td>\n",
       "      <td>False</td>\n",
       "      <td>False</td>\n",
       "      <td>True</td>\n",
       "      <td>False</td>\n",
       "    </tr>\n",
       "    <tr>\n",
       "      <th>4</th>\n",
       "      <td>2011</td>\n",
       "      <td>&lt; 20</td>\n",
       "      <td>I enjoy going to work</td>\n",
       "      <td>Student / Unemployed</td>\n",
       "      <td>False</td>\n",
       "      <td>False</td>\n",
       "      <td>False</td>\n",
       "      <td>False</td>\n",
       "    </tr>\n",
       "    <tr>\n",
       "      <th>5</th>\n",
       "      <td>2011</td>\n",
       "      <td>35-39</td>\n",
       "      <td>It pays the bills</td>\n",
       "      <td>$80,000 - $100,000</td>\n",
       "      <td>False</td>\n",
       "      <td>False</td>\n",
       "      <td>True</td>\n",
       "      <td>False</td>\n",
       "    </tr>\n",
       "    <tr>\n",
       "      <th>6</th>\n",
       "      <td>2011</td>\n",
       "      <td>35-39</td>\n",
       "      <td>So happy it hurts</td>\n",
       "      <td>NaN</td>\n",
       "      <td>True</td>\n",
       "      <td>False</td>\n",
       "      <td>True</td>\n",
       "      <td>False</td>\n",
       "    </tr>\n",
       "    <tr>\n",
       "      <th>7</th>\n",
       "      <td>2011</td>\n",
       "      <td>20-24</td>\n",
       "      <td>It pays the bills</td>\n",
       "      <td>$20,000 - $40,000</td>\n",
       "      <td>True</td>\n",
       "      <td>True</td>\n",
       "      <td>True</td>\n",
       "      <td>False</td>\n",
       "    </tr>\n",
       "    <tr>\n",
       "      <th>8</th>\n",
       "      <td>2011</td>\n",
       "      <td>20-24</td>\n",
       "      <td>I enjoy going to work</td>\n",
       "      <td>$80,000 - $100,000</td>\n",
       "      <td>False</td>\n",
       "      <td>False</td>\n",
       "      <td>True</td>\n",
       "      <td>False</td>\n",
       "    </tr>\n",
       "    <tr>\n",
       "      <th>9</th>\n",
       "      <td>2011</td>\n",
       "      <td>35-39</td>\n",
       "      <td>I enjoy going to work</td>\n",
       "      <td>$80,000 - $100,000</td>\n",
       "      <td>True</td>\n",
       "      <td>False</td>\n",
       "      <td>False</td>\n",
       "      <td>False</td>\n",
       "    </tr>\n",
       "    <tr>\n",
       "      <th>10</th>\n",
       "      <td>2011</td>\n",
       "      <td>NaN</td>\n",
       "      <td>NaN</td>\n",
       "      <td>NaN</td>\n",
       "      <td>False</td>\n",
       "      <td>False</td>\n",
       "      <td>False</td>\n",
       "      <td>False</td>\n",
       "    </tr>\n",
       "  </tbody>\n",
       "</table>\n",
       "</div>"
      ],
      "text/plain": [
       "    year    age       job_satisfaction   annual_compensation  csharp  python  \\\n",
       "1   2011   < 20                    FML  Student / Unemployed   False   False   \n",
       "2   2011  25-29      So happy it hurts                   NaN   False   False   \n",
       "3   2011  25-29                    NaN                   NaN   False   False   \n",
       "4   2011   < 20  I enjoy going to work  Student / Unemployed   False   False   \n",
       "5   2011  35-39      It pays the bills    $80,000 - $100,000   False   False   \n",
       "6   2011  35-39      So happy it hurts                   NaN    True   False   \n",
       "7   2011  20-24      It pays the bills     $20,000 - $40,000    True    True   \n",
       "8   2011  20-24  I enjoy going to work    $80,000 - $100,000   False   False   \n",
       "9   2011  35-39  I enjoy going to work    $80,000 - $100,000    True   False   \n",
       "10  2011    NaN                    NaN                   NaN   False   False   \n",
       "\n",
       "    javascript  fsharp  \n",
       "1         True   False  \n",
       "2        False   False  \n",
       "3         True   False  \n",
       "4        False   False  \n",
       "5         True   False  \n",
       "6         True   False  \n",
       "7         True   False  \n",
       "8         True   False  \n",
       "9        False   False  \n",
       "10       False   False  "
      ]
     },
     "execution_count": 137,
     "metadata": {},
     "output_type": "execute_result"
    }
   ],
   "source": [
    "# Visualize relevant subset\n",
    "subset2011.head(10)"
   ]
  },
  {
   "cell_type": "code",
   "execution_count": 140,
   "metadata": {},
   "outputs": [
    {
     "data": {
      "text/plain": [
       "year          5656943\n",
       "csharp           1352\n",
       "python            575\n",
       "javascript       1419\n",
       "fsharp             15\n",
       "dtype: int64"
      ]
     },
     "execution_count": 140,
     "metadata": {},
     "output_type": "execute_result"
    }
   ],
   "source": [
    "# Check conversion\n",
    "subset2011.sum()"
   ]
  },
  {
   "cell_type": "markdown",
   "metadata": {},
   "source": [
    "### 2012"
   ]
  },
  {
   "cell_type": "code",
   "execution_count": 166,
   "metadata": {},
   "outputs": [
    {
     "data": {
      "text/html": [
       "<div>\n",
       "<style scoped>\n",
       "    .dataframe tbody tr th:only-of-type {\n",
       "        vertical-align: middle;\n",
       "    }\n",
       "\n",
       "    .dataframe tbody tr th {\n",
       "        vertical-align: top;\n",
       "    }\n",
       "\n",
       "    .dataframe thead th {\n",
       "        text-align: right;\n",
       "    }\n",
       "</style>\n",
       "<table border=\"1\" class=\"dataframe\">\n",
       "  <thead>\n",
       "    <tr style=\"text-align: right;\">\n",
       "      <th></th>\n",
       "      <th>age</th>\n",
       "      <th>job_satisfaction</th>\n",
       "      <th>annual_compensation</th>\n",
       "      <th>csharp</th>\n",
       "      <th>python</th>\n",
       "      <th>javascript</th>\n",
       "      <th>year</th>\n",
       "    </tr>\n",
       "  </thead>\n",
       "  <tbody>\n",
       "    <tr>\n",
       "      <th>1</th>\n",
       "      <td>20-24</td>\n",
       "      <td>Love my job</td>\n",
       "      <td>&lt;$20,000</td>\n",
       "      <td>NaN</td>\n",
       "      <td>NaN</td>\n",
       "      <td>JavaScript</td>\n",
       "      <td>2012</td>\n",
       "    </tr>\n",
       "    <tr>\n",
       "      <th>2</th>\n",
       "      <td>25-29</td>\n",
       "      <td>I enjoy going to work</td>\n",
       "      <td>$20,000 - $40,000</td>\n",
       "      <td>NaN</td>\n",
       "      <td>NaN</td>\n",
       "      <td>JavaScript</td>\n",
       "      <td>2012</td>\n",
       "    </tr>\n",
       "    <tr>\n",
       "      <th>3</th>\n",
       "      <td>20-24</td>\n",
       "      <td>I enjoy going to work</td>\n",
       "      <td>$20,000 - $40,000</td>\n",
       "      <td>NaN</td>\n",
       "      <td>NaN</td>\n",
       "      <td>NaN</td>\n",
       "      <td>2012</td>\n",
       "    </tr>\n",
       "  </tbody>\n",
       "</table>\n",
       "</div>"
      ],
      "text/plain": [
       "     age       job_satisfaction annual_compensation csharp python  javascript  \\\n",
       "1  20-24            Love my job            <$20,000    NaN    NaN  JavaScript   \n",
       "2  25-29  I enjoy going to work   $20,000 - $40,000    NaN    NaN  JavaScript   \n",
       "3  20-24  I enjoy going to work   $20,000 - $40,000    NaN    NaN         NaN   \n",
       "\n",
       "   year  \n",
       "1  2012  \n",
       "2  2012  \n",
       "3  2012  "
      ]
     },
     "execution_count": 166,
     "metadata": {},
     "output_type": "execute_result"
    }
   ],
   "source": [
    "# Define subset from relevant columns\n",
    "subset2012 = data2012.iloc[1:, [2, 38, 39, 30, 26, 23]]\n",
    "subset2012['year'] = 2012\n",
    "subset2012.columns = subset_columns\n",
    "subset2012.head(3)"
   ]
  },
  {
   "cell_type": "code",
   "execution_count": 167,
   "metadata": {},
   "outputs": [],
   "source": [
    "def cleanup_languages(df):\n",
    "    ''' Convert language columns to booleans'''\n",
    "    df['csharp'] = df['csharp'].apply(lambda c: c == 'C#')\n",
    "    df['python'] = df['python'].apply(lambda c: c == 'Python')\n",
    "    df['javascript'] = df['javascript'].apply(lambda c: c == 'JavaScript')"
   ]
  },
  {
   "cell_type": "code",
   "execution_count": 168,
   "metadata": {},
   "outputs": [],
   "source": [
    "# Cleanup python and c# column\n",
    "cleanup_languages(subset2012)"
   ]
  },
  {
   "cell_type": "code",
   "execution_count": 169,
   "metadata": {},
   "outputs": [],
   "source": [
    "# Convert f# to individual column\n",
    "subset2012['fsharp'] = data2012.iloc[1:, 36].apply(lambda col: 'f#' in str(col).lower())"
   ]
  },
  {
   "cell_type": "code",
   "execution_count": 170,
   "metadata": {},
   "outputs": [
    {
     "data": {
      "text/plain": [
       "18"
      ]
     },
     "execution_count": 170,
     "metadata": {},
     "output_type": "execute_result"
    }
   ],
   "source": [
    "# Number of f# developers in 2012 (two more :))\n",
    "len(subset2012[subset2012['fsharp'] == True])"
   ]
  },
  {
   "cell_type": "code",
   "execution_count": 171,
   "metadata": {},
   "outputs": [],
   "source": [
    "# Reorder columns to complete subset structure\n",
    "subset2012 = subset2012.loc[:, \n",
    "                            ['year', 'age', 'job_satisfaction', 'annual_compensation', \n",
    "                             'csharp', 'python', 'javascript','fsharp']]"
   ]
  },
  {
   "cell_type": "code",
   "execution_count": 172,
   "metadata": {},
   "outputs": [
    {
     "data": {
      "text/html": [
       "<div>\n",
       "<style scoped>\n",
       "    .dataframe tbody tr th:only-of-type {\n",
       "        vertical-align: middle;\n",
       "    }\n",
       "\n",
       "    .dataframe tbody tr th {\n",
       "        vertical-align: top;\n",
       "    }\n",
       "\n",
       "    .dataframe thead th {\n",
       "        text-align: right;\n",
       "    }\n",
       "</style>\n",
       "<table border=\"1\" class=\"dataframe\">\n",
       "  <thead>\n",
       "    <tr style=\"text-align: right;\">\n",
       "      <th></th>\n",
       "      <th>year</th>\n",
       "      <th>age</th>\n",
       "      <th>job_satisfaction</th>\n",
       "      <th>annual_compensation</th>\n",
       "      <th>csharp</th>\n",
       "      <th>python</th>\n",
       "      <th>javascript</th>\n",
       "      <th>fsharp</th>\n",
       "    </tr>\n",
       "  </thead>\n",
       "  <tbody>\n",
       "    <tr>\n",
       "      <th>1</th>\n",
       "      <td>2012</td>\n",
       "      <td>20-24</td>\n",
       "      <td>Love my job</td>\n",
       "      <td>&lt;$20,000</td>\n",
       "      <td>False</td>\n",
       "      <td>False</td>\n",
       "      <td>True</td>\n",
       "      <td>False</td>\n",
       "    </tr>\n",
       "    <tr>\n",
       "      <th>2</th>\n",
       "      <td>2012</td>\n",
       "      <td>25-29</td>\n",
       "      <td>I enjoy going to work</td>\n",
       "      <td>$20,000 - $40,000</td>\n",
       "      <td>False</td>\n",
       "      <td>False</td>\n",
       "      <td>True</td>\n",
       "      <td>False</td>\n",
       "    </tr>\n",
       "    <tr>\n",
       "      <th>3</th>\n",
       "      <td>2012</td>\n",
       "      <td>20-24</td>\n",
       "      <td>I enjoy going to work</td>\n",
       "      <td>$20,000 - $40,000</td>\n",
       "      <td>False</td>\n",
       "      <td>False</td>\n",
       "      <td>False</td>\n",
       "      <td>False</td>\n",
       "    </tr>\n",
       "    <tr>\n",
       "      <th>4</th>\n",
       "      <td>2012</td>\n",
       "      <td>20-24</td>\n",
       "      <td>I'm not happy in my job</td>\n",
       "      <td>$20,000 - $40,000</td>\n",
       "      <td>False</td>\n",
       "      <td>False</td>\n",
       "      <td>False</td>\n",
       "      <td>False</td>\n",
       "    </tr>\n",
       "    <tr>\n",
       "      <th>5</th>\n",
       "      <td>2012</td>\n",
       "      <td>&lt; 20</td>\n",
       "      <td>I wish I had a job!</td>\n",
       "      <td>Student / Unemployed</td>\n",
       "      <td>False</td>\n",
       "      <td>False</td>\n",
       "      <td>False</td>\n",
       "      <td>False</td>\n",
       "    </tr>\n",
       "  </tbody>\n",
       "</table>\n",
       "</div>"
      ],
      "text/plain": [
       "   year    age         job_satisfaction   annual_compensation  csharp  python  \\\n",
       "1  2012  20-24              Love my job              <$20,000   False   False   \n",
       "2  2012  25-29    I enjoy going to work     $20,000 - $40,000   False   False   \n",
       "3  2012  20-24    I enjoy going to work     $20,000 - $40,000   False   False   \n",
       "4  2012  20-24  I'm not happy in my job     $20,000 - $40,000   False   False   \n",
       "5  2012   < 20      I wish I had a job!  Student / Unemployed   False   False   \n",
       "\n",
       "   javascript  fsharp  \n",
       "1        True   False  \n",
       "2        True   False  \n",
       "3       False   False  \n",
       "4       False   False  \n",
       "5       False   False  "
      ]
     },
     "execution_count": 172,
     "metadata": {},
     "output_type": "execute_result"
    }
   ],
   "source": [
    "subset2012.head(5)"
   ]
  },
  {
   "cell_type": "code",
   "execution_count": 173,
   "metadata": {},
   "outputs": [],
   "source": [
    "def print_all():\n",
    "    ''' Compares all subsets in memory and their structure '''\n",
    "    existing_sets = list()\n",
    "    for year in range(2011, 2019):\n",
    "        key = 'subset{0}'.format(year)\n",
    "        if key in globals().keys():\n",
    "            subset = globals()[key]\n",
    "            print('%s \\t%s (year/observations)' % (subset.iloc[0,0], len(subset)))\n",
    "            existing_sets.append(subset)\n",
    "        else:\n",
    "            print('%s\\t not loaded' % year)\n",
    "    schema = existing_sets[0].columns\n",
    "    all_equal = True\n",
    "    for s in existing_sets:\n",
    "        if len(s.columns) != len(schema) or (s.columns != schema).any():\n",
    "            all_equal = False\n",
    "            break\n",
    "    print('%s sets loaded, all columns equal: %s' % (len(existing_sets), all_equal))"
   ]
  },
  {
   "cell_type": "code",
   "execution_count": 174,
   "metadata": {},
   "outputs": [
    {
     "name": "stdout",
     "output_type": "stream",
     "text": [
      "2011 \t2813 (year/observations)\n",
      "2012 \t6243 (year/observations)\n",
      "35-39 \t9742 (year/observations)\n",
      "2014\t not loaded\n",
      "2015\t not loaded\n",
      "2016\t not loaded\n",
      "2017\t not loaded\n",
      "2018\t not loaded\n",
      "3 sets loaded, all columns equal: False\n"
     ]
    }
   ],
   "source": [
    "print_all()"
   ]
  },
  {
   "cell_type": "markdown",
   "metadata": {},
   "source": [
    "### 2013"
   ]
  },
  {
   "cell_type": "code",
   "execution_count": 175,
   "metadata": {},
   "outputs": [],
   "source": [
    "# Load the data from 2013\n",
    "data2013 = pd.read_csv('data/2013/2013 Stack Overflow Survey Responses.csv', \n",
    "                       encoding = 'ISO-8859-1', delimiter=',', low_memory=False)"
   ]
  },
  {
   "cell_type": "code",
   "execution_count": 176,
   "metadata": {},
   "outputs": [],
   "source": [
    "# Simplify the process for finding the columns\n",
    "keywords = ['compensation','language','satisfaction', 'ow old', 'age', 'c#', 'python', 'f#', 'javascript']\n",
    "def find_columns(df):\n",
    "    ''' Helper functions to find the relevant columns of a set'''\n",
    "    for c in df.columns.values:\n",
    "        for key in keywords:\n",
    "            if str(c).lower().find(key) >= 0:\n",
    "                print('%s %s' % (np.where(df.columns.values == c)[0], c))\n",
    "                break"
   ]
  },
  {
   "cell_type": "code",
   "execution_count": 177,
   "metadata": {},
   "outputs": [
    {
     "name": "stdout",
     "output_type": "stream",
     "text": [
      "[2] How old are you?\n",
      "[34] In an average week, how do you spend your time?\n",
      "[56] Which of the following languages or technologies have you used significantly in the past year?\n",
      "[99] What best describes your career / job satisfaction?\n",
      "[100] Including bonus, what is your annual compensation in USD?\n"
     ]
    }
   ],
   "source": [
    "find_columns(data2013)"
   ]
  },
  {
   "cell_type": "code",
   "execution_count": 178,
   "metadata": {},
   "outputs": [
    {
     "data": {
      "text/html": [
       "<div>\n",
       "<style scoped>\n",
       "    .dataframe tbody tr th:only-of-type {\n",
       "        vertical-align: middle;\n",
       "    }\n",
       "\n",
       "    .dataframe tbody tr th {\n",
       "        vertical-align: top;\n",
       "    }\n",
       "\n",
       "    .dataframe thead th {\n",
       "        text-align: right;\n",
       "    }\n",
       "</style>\n",
       "<table border=\"1\" class=\"dataframe\">\n",
       "  <thead>\n",
       "    <tr style=\"text-align: right;\">\n",
       "      <th></th>\n",
       "      <th>age</th>\n",
       "      <th>job_satisfaction</th>\n",
       "      <th>annual_compensation</th>\n",
       "      <th>csharp</th>\n",
       "      <th>python</th>\n",
       "      <th>javascript</th>\n",
       "      <th>year</th>\n",
       "    </tr>\n",
       "  </thead>\n",
       "  <tbody>\n",
       "    <tr>\n",
       "      <th>1</th>\n",
       "      <td>35-39</td>\n",
       "      <td>It's a paycheck</td>\n",
       "      <td>$80,000 - $100,000</td>\n",
       "      <td>NaN</td>\n",
       "      <td>NaN</td>\n",
       "      <td>NaN</td>\n",
       "      <td>2013</td>\n",
       "    </tr>\n",
       "    <tr>\n",
       "      <th>2</th>\n",
       "      <td>25-29</td>\n",
       "      <td>It's a paycheck</td>\n",
       "      <td>$20,000 - $40,000</td>\n",
       "      <td>C#</td>\n",
       "      <td>NaN</td>\n",
       "      <td>JavaScript</td>\n",
       "      <td>2013</td>\n",
       "    </tr>\n",
       "    <tr>\n",
       "      <th>3</th>\n",
       "      <td>51-60</td>\n",
       "      <td>I'm not happy in my job</td>\n",
       "      <td>$120,000 - $140,000</td>\n",
       "      <td>C#</td>\n",
       "      <td>NaN</td>\n",
       "      <td>JavaScript</td>\n",
       "      <td>2013</td>\n",
       "    </tr>\n",
       "  </tbody>\n",
       "</table>\n",
       "</div>"
      ],
      "text/plain": [
       "     age         job_satisfaction  annual_compensation csharp python  \\\n",
       "1  35-39          It's a paycheck   $80,000 - $100,000    NaN    NaN   \n",
       "2  25-29          It's a paycheck    $20,000 - $40,000     C#    NaN   \n",
       "3  51-60  I'm not happy in my job  $120,000 - $140,000     C#    NaN   \n",
       "\n",
       "   javascript  year  \n",
       "1         NaN  2013  \n",
       "2  JavaScript  2013  \n",
       "3  JavaScript  2013  "
      ]
     },
     "execution_count": 178,
     "metadata": {},
     "output_type": "execute_result"
    }
   ],
   "source": [
    "# Define subset with relevant columns\n",
    "subset2013 = data2013.iloc[1:, [2, 99, 100, 58, 66, 60]]\n",
    "subset2013['year'] = 2013\n",
    "subset2013.columns = subset_columns\n",
    "subset2013.head(3)"
   ]
  },
  {
   "cell_type": "code",
   "execution_count": 179,
   "metadata": {},
   "outputs": [],
   "source": [
    "# Cleaning the languages as before\n",
    "cleanup_languages(subset2013)"
   ]
  },
  {
   "cell_type": "code",
   "execution_count": 182,
   "metadata": {},
   "outputs": [
    {
     "data": {
      "text/plain": [
       "24"
      ]
     },
     "execution_count": 182,
     "metadata": {},
     "output_type": "execute_result"
    }
   ],
   "source": [
    "# Convert f# to individual column\n",
    "subset2013['fsharp'] = data2013.iloc[1:, 69].apply(lambda col: 'f#' in str(col).lower())\n",
    "\n",
    "# Number of f# developers in 2013 - again 6 more)\n",
    "len(subset2013[subset2013['fsharp'] == True])"
   ]
  },
  {
   "cell_type": "code",
   "execution_count": 183,
   "metadata": {},
   "outputs": [],
   "source": [
    "def cleanup_order(df):\n",
    "    ''' Function for re-ordering the columns to our schema '''\n",
    "    return df.loc[:, ['year', 'age', 'job_satisfaction', 'annual_compensation', 'csharp', 'python', 'javascript', 'fsharp']]"
   ]
  },
  {
   "cell_type": "code",
   "execution_count": 186,
   "metadata": {},
   "outputs": [
    {
     "data": {
      "text/html": [
       "<div>\n",
       "<style scoped>\n",
       "    .dataframe tbody tr th:only-of-type {\n",
       "        vertical-align: middle;\n",
       "    }\n",
       "\n",
       "    .dataframe tbody tr th {\n",
       "        vertical-align: top;\n",
       "    }\n",
       "\n",
       "    .dataframe thead th {\n",
       "        text-align: right;\n",
       "    }\n",
       "</style>\n",
       "<table border=\"1\" class=\"dataframe\">\n",
       "  <thead>\n",
       "    <tr style=\"text-align: right;\">\n",
       "      <th></th>\n",
       "      <th>year</th>\n",
       "      <th>age</th>\n",
       "      <th>job_satisfaction</th>\n",
       "      <th>annual_compensation</th>\n",
       "      <th>csharp</th>\n",
       "      <th>python</th>\n",
       "      <th>javascript</th>\n",
       "      <th>fsharp</th>\n",
       "    </tr>\n",
       "  </thead>\n",
       "  <tbody>\n",
       "    <tr>\n",
       "      <th>1</th>\n",
       "      <td>2013</td>\n",
       "      <td>35-39</td>\n",
       "      <td>It's a paycheck</td>\n",
       "      <td>$80,000 - $100,000</td>\n",
       "      <td>False</td>\n",
       "      <td>False</td>\n",
       "      <td>False</td>\n",
       "      <td>False</td>\n",
       "    </tr>\n",
       "    <tr>\n",
       "      <th>2</th>\n",
       "      <td>2013</td>\n",
       "      <td>25-29</td>\n",
       "      <td>It's a paycheck</td>\n",
       "      <td>$20,000 - $40,000</td>\n",
       "      <td>True</td>\n",
       "      <td>False</td>\n",
       "      <td>True</td>\n",
       "      <td>False</td>\n",
       "    </tr>\n",
       "    <tr>\n",
       "      <th>3</th>\n",
       "      <td>2013</td>\n",
       "      <td>51-60</td>\n",
       "      <td>I'm not happy in my job</td>\n",
       "      <td>$120,000 - $140,000</td>\n",
       "      <td>True</td>\n",
       "      <td>False</td>\n",
       "      <td>True</td>\n",
       "      <td>False</td>\n",
       "    </tr>\n",
       "    <tr>\n",
       "      <th>4</th>\n",
       "      <td>2013</td>\n",
       "      <td>NaN</td>\n",
       "      <td>NaN</td>\n",
       "      <td>NaN</td>\n",
       "      <td>False</td>\n",
       "      <td>False</td>\n",
       "      <td>False</td>\n",
       "      <td>False</td>\n",
       "    </tr>\n",
       "    <tr>\n",
       "      <th>5</th>\n",
       "      <td>2013</td>\n",
       "      <td>35-39</td>\n",
       "      <td>NaN</td>\n",
       "      <td>NaN</td>\n",
       "      <td>False</td>\n",
       "      <td>False</td>\n",
       "      <td>False</td>\n",
       "      <td>False</td>\n",
       "    </tr>\n",
       "  </tbody>\n",
       "</table>\n",
       "</div>"
      ],
      "text/plain": [
       "   year    age         job_satisfaction  annual_compensation  csharp  python  \\\n",
       "1  2013  35-39          It's a paycheck   $80,000 - $100,000   False   False   \n",
       "2  2013  25-29          It's a paycheck    $20,000 - $40,000    True   False   \n",
       "3  2013  51-60  I'm not happy in my job  $120,000 - $140,000    True   False   \n",
       "4  2013    NaN                      NaN                  NaN   False   False   \n",
       "5  2013  35-39                      NaN                  NaN   False   False   \n",
       "\n",
       "   javascript  fsharp  \n",
       "1       False   False  \n",
       "2        True   False  \n",
       "3        True   False  \n",
       "4       False   False  \n",
       "5       False   False  "
      ]
     },
     "execution_count": 186,
     "metadata": {},
     "output_type": "execute_result"
    }
   ],
   "source": [
    "# Cleaning the order and visualize result\n",
    "subset2013 = cleanup_order(subset2013)\n",
    "subset2013.head()"
   ]
  },
  {
   "cell_type": "code",
   "execution_count": 187,
   "metadata": {},
   "outputs": [
    {
     "name": "stdout",
     "output_type": "stream",
     "text": [
      "2011 \t2813 (year/observations)\n",
      "2012 \t6243 (year/observations)\n",
      "2013 \t9742 (year/observations)\n",
      "2014\t not loaded\n",
      "2015\t not loaded\n",
      "2016\t not loaded\n",
      "2017\t not loaded\n",
      "2018\t not loaded\n",
      "3 sets loaded, all columns equal: True\n"
     ]
    }
   ],
   "source": [
    "# Print our current working progress\n",
    "print_all()"
   ]
  },
  {
   "cell_type": "markdown",
   "metadata": {},
   "source": [
    "### 2014"
   ]
  },
  {
   "cell_type": "code",
   "execution_count": 213,
   "metadata": {},
   "outputs": [],
   "source": [
    "# Load the data of 2014\n",
    "data2014 = pd.read_csv('data/2014/2014 Stack Overflow Survey Responses.csv', encoding = 'ISO-8859-1', delimiter=',')"
   ]
  },
  {
   "cell_type": "code",
   "execution_count": 214,
   "metadata": {},
   "outputs": [
    {
     "name": "stdout",
     "output_type": "stream",
     "text": [
      "[3] How old are you?\n",
      "[7] Including bonus, what is your annual compensation in USD?\n",
      "[20] In an average week, how do you spend your time at work?\n",
      "[42] Which of the following languages or technologies have you used significantly in the past year?\n",
      "[92] In receiving an email about a job opportunity, what attributes of the message would make you more likely to respond?\n"
     ]
    }
   ],
   "source": [
    "find_columns(data2014)"
   ]
  },
  {
   "cell_type": "markdown",
   "metadata": {},
   "source": [
    "Inspection of the data set confirms initial suspicion: job satisfaction was not measured in 2014. The language columns however are still in the same format as the years before."
   ]
  },
  {
   "cell_type": "code",
   "execution_count": 215,
   "metadata": {},
   "outputs": [],
   "source": [
    "subset2014 = data2014.iloc[1:, [3, 7, 44, 50, 46]]\n",
    "subset2014['job_satisfaction'] = np.nan\n",
    "subset2014['year'] = 2014"
   ]
  },
  {
   "cell_type": "code",
   "execution_count": 216,
   "metadata": {},
   "outputs": [
    {
     "data": {
      "text/html": [
       "<div>\n",
       "<style scoped>\n",
       "    .dataframe tbody tr th:only-of-type {\n",
       "        vertical-align: middle;\n",
       "    }\n",
       "\n",
       "    .dataframe tbody tr th {\n",
       "        vertical-align: top;\n",
       "    }\n",
       "\n",
       "    .dataframe thead th {\n",
       "        text-align: right;\n",
       "    }\n",
       "</style>\n",
       "<table border=\"1\" class=\"dataframe\">\n",
       "  <thead>\n",
       "    <tr style=\"text-align: right;\">\n",
       "      <th></th>\n",
       "      <th>How old are you?</th>\n",
       "      <th>Including bonus, what is your annual compensation in USD?</th>\n",
       "      <th>Unnamed: 44</th>\n",
       "      <th>Unnamed: 50</th>\n",
       "      <th>Unnamed: 46</th>\n",
       "      <th>job_satisfaction</th>\n",
       "      <th>year</th>\n",
       "    </tr>\n",
       "  </thead>\n",
       "  <tbody>\n",
       "    <tr>\n",
       "      <th>1</th>\n",
       "      <td>30-34</td>\n",
       "      <td>$20,000 - $40,000</td>\n",
       "      <td>NaN</td>\n",
       "      <td>Python</td>\n",
       "      <td>JavaScript</td>\n",
       "      <td>NaN</td>\n",
       "      <td>2014</td>\n",
       "    </tr>\n",
       "    <tr>\n",
       "      <th>2</th>\n",
       "      <td>20-24</td>\n",
       "      <td>Student / Unemployed</td>\n",
       "      <td>NaN</td>\n",
       "      <td>NaN</td>\n",
       "      <td>NaN</td>\n",
       "      <td>NaN</td>\n",
       "      <td>2014</td>\n",
       "    </tr>\n",
       "    <tr>\n",
       "      <th>3</th>\n",
       "      <td>25-29</td>\n",
       "      <td>&lt;$20,000</td>\n",
       "      <td>C#</td>\n",
       "      <td>NaN</td>\n",
       "      <td>JavaScript</td>\n",
       "      <td>NaN</td>\n",
       "      <td>2014</td>\n",
       "    </tr>\n",
       "  </tbody>\n",
       "</table>\n",
       "</div>"
      ],
      "text/plain": [
       "  How old are you? Including bonus, what is your annual compensation in USD?  \\\n",
       "1            30-34                                  $20,000 - $40,000          \n",
       "2            20-24                               Student / Unemployed          \n",
       "3            25-29                                           <$20,000          \n",
       "\n",
       "  Unnamed: 44 Unnamed: 50 Unnamed: 46  job_satisfaction  year  \n",
       "1         NaN      Python  JavaScript               NaN  2014  \n",
       "2         NaN         NaN         NaN               NaN  2014  \n",
       "3          C#         NaN  JavaScript               NaN  2014  "
      ]
     },
     "execution_count": 216,
     "metadata": {},
     "output_type": "execute_result"
    }
   ],
   "source": [
    "subset2014.head(3)"
   ]
  },
  {
   "cell_type": "code",
   "execution_count": 217,
   "metadata": {},
   "outputs": [
    {
     "data": {
      "text/html": [
       "<div>\n",
       "<style scoped>\n",
       "    .dataframe tbody tr th:only-of-type {\n",
       "        vertical-align: middle;\n",
       "    }\n",
       "\n",
       "    .dataframe tbody tr th {\n",
       "        vertical-align: top;\n",
       "    }\n",
       "\n",
       "    .dataframe thead th {\n",
       "        text-align: right;\n",
       "    }\n",
       "</style>\n",
       "<table border=\"1\" class=\"dataframe\">\n",
       "  <thead>\n",
       "    <tr style=\"text-align: right;\">\n",
       "      <th></th>\n",
       "      <th>age</th>\n",
       "      <th>job_satisfaction</th>\n",
       "      <th>annual_compensation</th>\n",
       "      <th>csharp</th>\n",
       "      <th>python</th>\n",
       "      <th>javascript</th>\n",
       "      <th>year</th>\n",
       "    </tr>\n",
       "  </thead>\n",
       "  <tbody>\n",
       "    <tr>\n",
       "      <th>1</th>\n",
       "      <td>30-34</td>\n",
       "      <td>NaN</td>\n",
       "      <td>$20,000 - $40,000</td>\n",
       "      <td>NaN</td>\n",
       "      <td>Python</td>\n",
       "      <td>JavaScript</td>\n",
       "      <td>2014</td>\n",
       "    </tr>\n",
       "    <tr>\n",
       "      <th>2</th>\n",
       "      <td>20-24</td>\n",
       "      <td>NaN</td>\n",
       "      <td>Student / Unemployed</td>\n",
       "      <td>NaN</td>\n",
       "      <td>NaN</td>\n",
       "      <td>NaN</td>\n",
       "      <td>2014</td>\n",
       "    </tr>\n",
       "    <tr>\n",
       "      <th>3</th>\n",
       "      <td>25-29</td>\n",
       "      <td>NaN</td>\n",
       "      <td>&lt;$20,000</td>\n",
       "      <td>C#</td>\n",
       "      <td>NaN</td>\n",
       "      <td>JavaScript</td>\n",
       "      <td>2014</td>\n",
       "    </tr>\n",
       "  </tbody>\n",
       "</table>\n",
       "</div>"
      ],
      "text/plain": [
       "     age  job_satisfaction   annual_compensation csharp  python  javascript  \\\n",
       "1  30-34               NaN     $20,000 - $40,000    NaN  Python  JavaScript   \n",
       "2  20-24               NaN  Student / Unemployed    NaN     NaN         NaN   \n",
       "3  25-29               NaN              <$20,000     C#     NaN  JavaScript   \n",
       "\n",
       "   year  \n",
       "1  2014  \n",
       "2  2014  \n",
       "3  2014  "
      ]
     },
     "execution_count": 217,
     "metadata": {},
     "output_type": "execute_result"
    }
   ],
   "source": [
    "# Create relevant columns\n",
    "subset2014 = subset2014.iloc[:, [0, 5, 1, 2, 3, 4, 6]]\n",
    "subset2014.columns = ['age', 'job_satisfaction', 'annual_compensation', 'csharp', 'python', 'javascript', 'year']\n",
    "subset2014.head(3)"
   ]
  },
  {
   "cell_type": "code",
   "execution_count": 219,
   "metadata": {},
   "outputs": [
    {
     "data": {
      "text/plain": [
       "20"
      ]
     },
     "execution_count": 219,
     "metadata": {},
     "output_type": "execute_result"
    }
   ],
   "source": [
    "# Convert f# to individual column\n",
    "subset2014['fsharp'] = data2014.iloc[1:, 53].apply(lambda col: 'f#' in str(col).lower())\n",
    "\n",
    "# Number of f# developers in 2014 - 4 people lost track)\n",
    "len(subset2014[subset2014['fsharp'] == True])"
   ]
  },
  {
   "cell_type": "code",
   "execution_count": 221,
   "metadata": {},
   "outputs": [],
   "source": [
    "# Convert language columns to booleans\n",
    "cleanup_languages(subset2014)"
   ]
  },
  {
   "cell_type": "code",
   "execution_count": 222,
   "metadata": {},
   "outputs": [
    {
     "data": {
      "text/html": [
       "<div>\n",
       "<style scoped>\n",
       "    .dataframe tbody tr th:only-of-type {\n",
       "        vertical-align: middle;\n",
       "    }\n",
       "\n",
       "    .dataframe tbody tr th {\n",
       "        vertical-align: top;\n",
       "    }\n",
       "\n",
       "    .dataframe thead th {\n",
       "        text-align: right;\n",
       "    }\n",
       "</style>\n",
       "<table border=\"1\" class=\"dataframe\">\n",
       "  <thead>\n",
       "    <tr style=\"text-align: right;\">\n",
       "      <th></th>\n",
       "      <th>year</th>\n",
       "      <th>age</th>\n",
       "      <th>job_satisfaction</th>\n",
       "      <th>annual_compensation</th>\n",
       "      <th>csharp</th>\n",
       "      <th>python</th>\n",
       "      <th>javascript</th>\n",
       "      <th>fsharp</th>\n",
       "    </tr>\n",
       "  </thead>\n",
       "  <tbody>\n",
       "    <tr>\n",
       "      <th>1</th>\n",
       "      <td>2014</td>\n",
       "      <td>30-34</td>\n",
       "      <td>NaN</td>\n",
       "      <td>$20,000 - $40,000</td>\n",
       "      <td>False</td>\n",
       "      <td>True</td>\n",
       "      <td>True</td>\n",
       "      <td>False</td>\n",
       "    </tr>\n",
       "    <tr>\n",
       "      <th>2</th>\n",
       "      <td>2014</td>\n",
       "      <td>20-24</td>\n",
       "      <td>NaN</td>\n",
       "      <td>Student / Unemployed</td>\n",
       "      <td>False</td>\n",
       "      <td>False</td>\n",
       "      <td>False</td>\n",
       "      <td>False</td>\n",
       "    </tr>\n",
       "    <tr>\n",
       "      <th>3</th>\n",
       "      <td>2014</td>\n",
       "      <td>25-29</td>\n",
       "      <td>NaN</td>\n",
       "      <td>&lt;$20,000</td>\n",
       "      <td>True</td>\n",
       "      <td>False</td>\n",
       "      <td>True</td>\n",
       "      <td>False</td>\n",
       "    </tr>\n",
       "  </tbody>\n",
       "</table>\n",
       "</div>"
      ],
      "text/plain": [
       "   year    age  job_satisfaction   annual_compensation  csharp  python  \\\n",
       "1  2014  30-34               NaN     $20,000 - $40,000   False    True   \n",
       "2  2014  20-24               NaN  Student / Unemployed   False   False   \n",
       "3  2014  25-29               NaN              <$20,000    True   False   \n",
       "\n",
       "   javascript  fsharp  \n",
       "1        True   False  \n",
       "2       False   False  \n",
       "3        True   False  "
      ]
     },
     "execution_count": 222,
     "metadata": {},
     "output_type": "execute_result"
    }
   ],
   "source": [
    "# Rearrange the order\n",
    "subset2014 = cleanup_order(subset2014)\n",
    "subset2014.head(3)"
   ]
  },
  {
   "cell_type": "code",
   "execution_count": 225,
   "metadata": {},
   "outputs": [
    {
     "name": "stdout",
     "output_type": "stream",
     "text": [
      "2011 \t2813 (year/observations)\n",
      "2012 \t6243 (year/observations)\n",
      "2013 \t9742 (year/observations)\n",
      "2014 \t7643 (year/observations)\n",
      "2015\t not loaded\n",
      "2016\t not loaded\n",
      "2017\t not loaded\n",
      "2018\t not loaded\n",
      "4 sets loaded, all columns equal: True\n"
     ]
    }
   ],
   "source": [
    "# Print current working progress\n",
    "print_all()"
   ]
  },
  {
   "cell_type": "markdown",
   "metadata": {},
   "source": [
    "#### 2015"
   ]
  },
  {
   "cell_type": "code",
   "execution_count": 325,
   "metadata": {},
   "outputs": [
    {
     "name": "stderr",
     "output_type": "stream",
     "text": [
      "C:\\ProgramData\\Anaconda3\\lib\\site-packages\\IPython\\core\\interactiveshell.py:2785: DtypeWarning: Columns (5,108,121,196,197,198) have mixed types. Specify dtype option on import or set low_memory=False.\n",
      "  interactivity=interactivity, compiler=compiler, result=result)\n"
     ]
    }
   ],
   "source": [
    "data2015 = pd.read_csv('data/2015/2015 Stack Overflow Developer Survey Responses.csv', encoding = 'ISO-8859-1', \n",
    "                       delimiter=',', header=1)"
   ]
  },
  {
   "cell_type": "code",
   "execution_count": 326,
   "metadata": {},
   "outputs": [
    {
     "data": {
      "text/html": [
       "<div>\n",
       "<style scoped>\n",
       "    .dataframe tbody tr th:only-of-type {\n",
       "        vertical-align: middle;\n",
       "    }\n",
       "\n",
       "    .dataframe tbody tr th {\n",
       "        vertical-align: top;\n",
       "    }\n",
       "\n",
       "    .dataframe thead th {\n",
       "        text-align: right;\n",
       "    }\n",
       "</style>\n",
       "<table border=\"1\" class=\"dataframe\">\n",
       "  <thead>\n",
       "    <tr style=\"text-align: right;\">\n",
       "      <th></th>\n",
       "      <th>Country</th>\n",
       "      <th>Age</th>\n",
       "      <th>Gender</th>\n",
       "      <th>Tabs or Spaces</th>\n",
       "      <th>Years IT / Programming Experience</th>\n",
       "      <th>Occupation</th>\n",
       "      <th>Desktop Operating System</th>\n",
       "      <th>Desktop Operating System: write-in</th>\n",
       "      <th>Current Lang &amp; Tech: Android</th>\n",
       "      <th>Current Lang &amp; Tech: Arduino</th>\n",
       "      <th>...</th>\n",
       "      <th>Why use Stack Overflow: I don't use Stack Overflow</th>\n",
       "      <th>How often are Stack Overflow's answers helpful</th>\n",
       "      <th>Why answer: Help a programmer in need</th>\n",
       "      <th>Why answer: Help future programmers</th>\n",
       "      <th>Why answer: Demonstrate expertise</th>\n",
       "      <th>Why answer: Self promotion</th>\n",
       "      <th>Why answer: Sense of responsibility to developers</th>\n",
       "      <th>Why answer: No idea</th>\n",
       "      <th>Why answer: I don't answer and I don't want to</th>\n",
       "      <th>Why answer: I don't answer but I want to</th>\n",
       "    </tr>\n",
       "  </thead>\n",
       "  <tbody>\n",
       "    <tr>\n",
       "      <th>0</th>\n",
       "      <td>Croatia</td>\n",
       "      <td>25-29</td>\n",
       "      <td>Male</td>\n",
       "      <td>Tabs</td>\n",
       "      <td>2 - 5 years</td>\n",
       "      <td>Back-end web developer</td>\n",
       "      <td>Ubuntu</td>\n",
       "      <td>NaN</td>\n",
       "      <td>NaN</td>\n",
       "      <td>NaN</td>\n",
       "      <td>...</td>\n",
       "      <td>NaN</td>\n",
       "      <td>Usually</td>\n",
       "      <td>NaN</td>\n",
       "      <td>NaN</td>\n",
       "      <td>It feels good to demonstrate my expertise.</td>\n",
       "      <td>Demonstrating my expertise will benefit me</td>\n",
       "      <td>I feel a sense of responsibility to the developer community</td>\n",
       "      <td>NaN</td>\n",
       "      <td>NaN</td>\n",
       "      <td>NaN</td>\n",
       "    </tr>\n",
       "    <tr>\n",
       "      <th>1</th>\n",
       "      <td>France</td>\n",
       "      <td>20-24</td>\n",
       "      <td>Male</td>\n",
       "      <td>Spaces</td>\n",
       "      <td>1 - 2 years</td>\n",
       "      <td>Back-end web developer</td>\n",
       "      <td>Windows 7</td>\n",
       "      <td>NaN</td>\n",
       "      <td>NaN</td>\n",
       "      <td>NaN</td>\n",
       "      <td>...</td>\n",
       "      <td>NaN</td>\n",
       "      <td>Usually</td>\n",
       "      <td>NaN</td>\n",
       "      <td>My answer will help lots of people who have the same problem in the future</td>\n",
       "      <td>It feels good to demonstrate my expertise.</td>\n",
       "      <td>NaN</td>\n",
       "      <td>NaN</td>\n",
       "      <td>NaN</td>\n",
       "      <td>NaN</td>\n",
       "      <td>NaN</td>\n",
       "    </tr>\n",
       "  </tbody>\n",
       "</table>\n",
       "<p>2 rows × 222 columns</p>\n",
       "</div>"
      ],
      "text/plain": [
       "   Country    Age Gender Tabs or Spaces Years IT / Programming Experience  \\\n",
       "0  Croatia  25-29   Male           Tabs                       2 - 5 years   \n",
       "1   France  20-24   Male         Spaces                       1 - 2 years   \n",
       "\n",
       "               Occupation Desktop Operating System  \\\n",
       "0  Back-end web developer                   Ubuntu   \n",
       "1  Back-end web developer                Windows 7   \n",
       "\n",
       "  Desktop Operating System: write-in Current Lang & Tech: Android  \\\n",
       "0                                NaN                          NaN   \n",
       "1                                NaN                          NaN   \n",
       "\n",
       "  Current Lang & Tech: Arduino                   ...                     \\\n",
       "0                          NaN                   ...                      \n",
       "1                          NaN                   ...                      \n",
       "\n",
       "  Why use Stack Overflow: I don't use Stack Overflow  \\\n",
       "0                                                NaN   \n",
       "1                                                NaN   \n",
       "\n",
       "  How often are Stack Overflow's answers helpful  \\\n",
       "0                                        Usually   \n",
       "1                                        Usually   \n",
       "\n",
       "  Why answer: Help a programmer in need  \\\n",
       "0                                   NaN   \n",
       "1                                   NaN   \n",
       "\n",
       "                                          Why answer: Help future programmers  \\\n",
       "0                                                                         NaN   \n",
       "1  My answer will help lots of people who have the same problem in the future   \n",
       "\n",
       "            Why answer: Demonstrate expertise  \\\n",
       "0  It feels good to demonstrate my expertise.   \n",
       "1  It feels good to demonstrate my expertise.   \n",
       "\n",
       "                   Why answer: Self promotion  \\\n",
       "0  Demonstrating my expertise will benefit me   \n",
       "1                                         NaN   \n",
       "\n",
       "             Why answer: Sense of responsibility to developers  \\\n",
       "0  I feel a sense of responsibility to the developer community   \n",
       "1                                                          NaN   \n",
       "\n",
       "  Why answer: No idea Why answer: I don't answer and I don't want to  \\\n",
       "0                 NaN                                            NaN   \n",
       "1                 NaN                                            NaN   \n",
       "\n",
       "  Why answer: I don't answer but I want to  \n",
       "0                                      NaN  \n",
       "1                                      NaN  \n",
       "\n",
       "[2 rows x 222 columns]"
      ]
     },
     "execution_count": 326,
     "metadata": {},
     "output_type": "execute_result"
    }
   ],
   "source": [
    "data2015.head(2)"
   ]
  },
  {
   "cell_type": "code",
   "execution_count": 327,
   "metadata": {},
   "outputs": [
    {
     "name": "stdout",
     "output_type": "stream",
     "text": [
      "[1] Age\n",
      "[14] Current Lang & Tech: C#\n",
      "[35] Current Lang & Tech: Python\n",
      "[57] Future Lang & Tech: C#\n",
      "[78] Future Lang & Tech: Python\n",
      "[105] Compensation\n",
      "[106] Compensation: midpoint\n",
      "[109] Job Satisfaction\n",
      "[121] Most important aspect of new job opportunity: Company stage\n",
      "[149] Appealing message traits: Message is personalized\n",
      "[150] Appealing message traits: Code or projects mentioned\n",
      "[151] Appealing message traits: Stack Overflow activity mentioned\n",
      "[152] Appealing message traits: Team described\n",
      "[153] Appealing message traits: Company culture described\n",
      "[154] Appealing message traits: Salary information\n",
      "[155] Appealing message traits: Benefits & Perks\n",
      "[156] Appealing message traits: Stack Overflow Company Page\n",
      "[168] Who do you want to communicate with about a new job opportunity: Manager\n",
      "[185] How many caffeinated beverages per day?\n"
     ]
    }
   ],
   "source": [
    "find_columns(data2015)"
   ]
  },
  {
   "cell_type": "code",
   "execution_count": 328,
   "metadata": {},
   "outputs": [
    {
     "data": {
      "text/plain": [
       "['age', 'job_satisfaction', 'annual_compensation', 'csharp', 'python', 'year']"
      ]
     },
     "execution_count": 328,
     "metadata": {},
     "output_type": "execute_result"
    }
   ],
   "source": [
    "subset_columns"
   ]
  },
  {
   "cell_type": "code",
   "execution_count": 329,
   "metadata": {},
   "outputs": [
    {
     "name": "stderr",
     "output_type": "stream",
     "text": [
      "C:\\ProgramData\\Anaconda3\\lib\\site-packages\\ipykernel_launcher.py:2: SettingWithCopyWarning: \n",
      "A value is trying to be set on a copy of a slice from a DataFrame.\n",
      "Try using .loc[row_indexer,col_indexer] = value instead\n",
      "\n",
      "See the caveats in the documentation: http://pandas.pydata.org/pandas-docs/stable/indexing.html#indexing-view-versus-copy\n",
      "  \n"
     ]
    },
    {
     "data": {
      "text/html": [
       "<div>\n",
       "<style scoped>\n",
       "    .dataframe tbody tr th:only-of-type {\n",
       "        vertical-align: middle;\n",
       "    }\n",
       "\n",
       "    .dataframe tbody tr th {\n",
       "        vertical-align: top;\n",
       "    }\n",
       "\n",
       "    .dataframe thead th {\n",
       "        text-align: right;\n",
       "    }\n",
       "</style>\n",
       "<table border=\"1\" class=\"dataframe\">\n",
       "  <thead>\n",
       "    <tr style=\"text-align: right;\">\n",
       "      <th></th>\n",
       "      <th>age</th>\n",
       "      <th>job_satisfaction</th>\n",
       "      <th>annual_compensation</th>\n",
       "      <th>csharp</th>\n",
       "      <th>python</th>\n",
       "      <th>year</th>\n",
       "    </tr>\n",
       "  </thead>\n",
       "  <tbody>\n",
       "    <tr>\n",
       "      <th>0</th>\n",
       "      <td>25-29</td>\n",
       "      <td>I'm somewhat satisfied with my job</td>\n",
       "      <td>$20,000 - $40,000</td>\n",
       "      <td>NaN</td>\n",
       "      <td>NaN</td>\n",
       "      <td>2015</td>\n",
       "    </tr>\n",
       "    <tr>\n",
       "      <th>1</th>\n",
       "      <td>20-24</td>\n",
       "      <td>I'm neither satisfied nor dissatisfied with my job</td>\n",
       "      <td>$20,000 - $40,000</td>\n",
       "      <td>C#</td>\n",
       "      <td>NaN</td>\n",
       "      <td>2015</td>\n",
       "    </tr>\n",
       "    <tr>\n",
       "      <th>2</th>\n",
       "      <td>20-24</td>\n",
       "      <td>I'm somewhat satisfied with my job</td>\n",
       "      <td>$80,000 - $100,000</td>\n",
       "      <td>C#</td>\n",
       "      <td>NaN</td>\n",
       "      <td>2015</td>\n",
       "    </tr>\n",
       "  </tbody>\n",
       "</table>\n",
       "</div>"
      ],
      "text/plain": [
       "     age                                    job_satisfaction  \\\n",
       "0  25-29                  I'm somewhat satisfied with my job   \n",
       "1  20-24  I'm neither satisfied nor dissatisfied with my job   \n",
       "2  20-24                  I'm somewhat satisfied with my job   \n",
       "\n",
       "  annual_compensation csharp python  year  \n",
       "0   $20,000 - $40,000    NaN    NaN  2015  \n",
       "1   $20,000 - $40,000     C#    NaN  2015  \n",
       "2  $80,000 - $100,000     C#    NaN  2015  "
      ]
     },
     "execution_count": 329,
     "metadata": {},
     "output_type": "execute_result"
    }
   ],
   "source": [
    "subset2015 = data2015.iloc[:, [1, 109, 105, 14, 35]]\n",
    "subset2015['year'] = 2015\n",
    "subset2015.columns = ['age', 'job_satisfaction', 'annual_compensation', 'csharp', 'python', 'year']\n",
    "subset2015.head(3)"
   ]
  },
  {
   "cell_type": "code",
   "execution_count": 330,
   "metadata": {},
   "outputs": [
    {
     "name": "stderr",
     "output_type": "stream",
     "text": [
      "C:\\ProgramData\\Anaconda3\\lib\\site-packages\\ipykernel_launcher.py:2: SettingWithCopyWarning: \n",
      "A value is trying to be set on a copy of a slice from a DataFrame.\n",
      "Try using .loc[row_indexer,col_indexer] = value instead\n",
      "\n",
      "See the caveats in the documentation: http://pandas.pydata.org/pandas-docs/stable/indexing.html#indexing-view-versus-copy\n",
      "  \n",
      "C:\\ProgramData\\Anaconda3\\lib\\site-packages\\ipykernel_launcher.py:3: SettingWithCopyWarning: \n",
      "A value is trying to be set on a copy of a slice from a DataFrame.\n",
      "Try using .loc[row_indexer,col_indexer] = value instead\n",
      "\n",
      "See the caveats in the documentation: http://pandas.pydata.org/pandas-docs/stable/indexing.html#indexing-view-versus-copy\n",
      "  This is separate from the ipykernel package so we can avoid doing imports until\n",
      "C:\\ProgramData\\Anaconda3\\lib\\site-packages\\ipykernel_launcher.py:4: SettingWithCopyWarning: \n",
      "A value is trying to be set on a copy of a slice from a DataFrame.\n",
      "Try using .loc[row_indexer,col_indexer] = value instead\n",
      "\n",
      "See the caveats in the documentation: http://pandas.pydata.org/pandas-docs/stable/indexing.html#indexing-view-versus-copy\n",
      "  after removing the cwd from sys.path.\n"
     ]
    }
   ],
   "source": [
    "cleanup_languages(subset2015)"
   ]
  },
  {
   "cell_type": "code",
   "execution_count": 331,
   "metadata": {},
   "outputs": [],
   "source": [
    "subset2015 = cleanup_order(subset2015)"
   ]
  },
  {
   "cell_type": "code",
   "execution_count": 332,
   "metadata": {},
   "outputs": [
    {
     "data": {
      "text/html": [
       "<div>\n",
       "<style scoped>\n",
       "    .dataframe tbody tr th:only-of-type {\n",
       "        vertical-align: middle;\n",
       "    }\n",
       "\n",
       "    .dataframe tbody tr th {\n",
       "        vertical-align: top;\n",
       "    }\n",
       "\n",
       "    .dataframe thead th {\n",
       "        text-align: right;\n",
       "    }\n",
       "</style>\n",
       "<table border=\"1\" class=\"dataframe\">\n",
       "  <thead>\n",
       "    <tr style=\"text-align: right;\">\n",
       "      <th></th>\n",
       "      <th>year</th>\n",
       "      <th>age</th>\n",
       "      <th>job_satisfaction</th>\n",
       "      <th>annual_compensation</th>\n",
       "      <th>csharp</th>\n",
       "      <th>python</th>\n",
       "      <th>python_and_csharp</th>\n",
       "    </tr>\n",
       "  </thead>\n",
       "  <tbody>\n",
       "    <tr>\n",
       "      <th>0</th>\n",
       "      <td>2015</td>\n",
       "      <td>25-29</td>\n",
       "      <td>I'm somewhat satisfied with my job</td>\n",
       "      <td>$20,000 - $40,000</td>\n",
       "      <td>False</td>\n",
       "      <td>False</td>\n",
       "      <td>False</td>\n",
       "    </tr>\n",
       "    <tr>\n",
       "      <th>1</th>\n",
       "      <td>2015</td>\n",
       "      <td>20-24</td>\n",
       "      <td>I'm neither satisfied nor dissatisfied with my job</td>\n",
       "      <td>$20,000 - $40,000</td>\n",
       "      <td>True</td>\n",
       "      <td>False</td>\n",
       "      <td>False</td>\n",
       "    </tr>\n",
       "    <tr>\n",
       "      <th>2</th>\n",
       "      <td>2015</td>\n",
       "      <td>20-24</td>\n",
       "      <td>I'm somewhat satisfied with my job</td>\n",
       "      <td>$80,000 - $100,000</td>\n",
       "      <td>True</td>\n",
       "      <td>False</td>\n",
       "      <td>False</td>\n",
       "    </tr>\n",
       "    <tr>\n",
       "      <th>3</th>\n",
       "      <td>2015</td>\n",
       "      <td>25-29</td>\n",
       "      <td>I'm somewhat satisfied with my job</td>\n",
       "      <td>NaN</td>\n",
       "      <td>False</td>\n",
       "      <td>True</td>\n",
       "      <td>False</td>\n",
       "    </tr>\n",
       "    <tr>\n",
       "      <th>4</th>\n",
       "      <td>2015</td>\n",
       "      <td>30-34</td>\n",
       "      <td>I love my job</td>\n",
       "      <td>$60,000 - $80,000</td>\n",
       "      <td>True</td>\n",
       "      <td>False</td>\n",
       "      <td>False</td>\n",
       "    </tr>\n",
       "  </tbody>\n",
       "</table>\n",
       "</div>"
      ],
      "text/plain": [
       "   year    age                                    job_satisfaction  \\\n",
       "0  2015  25-29                  I'm somewhat satisfied with my job   \n",
       "1  2015  20-24  I'm neither satisfied nor dissatisfied with my job   \n",
       "2  2015  20-24                  I'm somewhat satisfied with my job   \n",
       "3  2015  25-29                  I'm somewhat satisfied with my job   \n",
       "4  2015  30-34                                       I love my job   \n",
       "\n",
       "  annual_compensation  csharp  python  python_and_csharp  \n",
       "0   $20,000 - $40,000   False   False              False  \n",
       "1   $20,000 - $40,000    True   False              False  \n",
       "2  $80,000 - $100,000    True   False              False  \n",
       "3                 NaN   False    True              False  \n",
       "4   $60,000 - $80,000    True   False              False  "
      ]
     },
     "execution_count": 332,
     "metadata": {},
     "output_type": "execute_result"
    }
   ],
   "source": [
    "subset2015.head()"
   ]
  },
  {
   "cell_type": "code",
   "execution_count": 333,
   "metadata": {},
   "outputs": [
    {
     "name": "stdout",
     "output_type": "stream",
     "text": [
      "2011 \t2813 (year/observations)\n",
      "2012 \t6243 (year/observations)\n",
      "2013 \t9742 (year/observations)\n",
      "2014 \t7643 (year/observations)\n",
      "2015 \t26086 (year/observations)\n",
      "2016 \t56030 (year/observations)\n",
      "2017 \t51392 (year/observations)\n",
      "2018 \t98855 (year/observations)\n",
      "8 sets loaded, all columns equal: True\n"
     ]
    }
   ],
   "source": [
    "print_all()"
   ]
  },
  {
   "cell_type": "markdown",
   "metadata": {},
   "source": [
    "#### 2016"
   ]
  },
  {
   "cell_type": "code",
   "execution_count": 334,
   "metadata": {},
   "outputs": [],
   "source": [
    "data2016 = pd.read_csv('data/2016/2016 Stack Overflow Survey Responses.csv', encoding = 'ISO-8859-1', \n",
    "                       delimiter=',')"
   ]
  },
  {
   "cell_type": "code",
   "execution_count": 335,
   "metadata": {},
   "outputs": [
    {
     "name": "stdout",
     "output_type": "stream",
     "text": [
      "[5] age_range\n",
      "[6] age_midpoint\n",
      "[26] job_satisfaction\n"
     ]
    }
   ],
   "source": [
    "find_columns(data2016)"
   ]
  },
  {
   "cell_type": "code",
   "execution_count": 336,
   "metadata": {},
   "outputs": [
    {
     "data": {
      "text/html": [
       "<div>\n",
       "<style scoped>\n",
       "    .dataframe tbody tr th:only-of-type {\n",
       "        vertical-align: middle;\n",
       "    }\n",
       "\n",
       "    .dataframe tbody tr th {\n",
       "        vertical-align: top;\n",
       "    }\n",
       "\n",
       "    .dataframe thead th {\n",
       "        text-align: right;\n",
       "    }\n",
       "</style>\n",
       "<table border=\"1\" class=\"dataframe\">\n",
       "  <thead>\n",
       "    <tr style=\"text-align: right;\">\n",
       "      <th></th>\n",
       "      <th>age_range</th>\n",
       "      <th>job_satisfaction</th>\n",
       "      <th>salary_range</th>\n",
       "      <th>tech_do</th>\n",
       "    </tr>\n",
       "  </thead>\n",
       "  <tbody>\n",
       "    <tr>\n",
       "      <th>0</th>\n",
       "      <td>20-24</td>\n",
       "      <td>NaN</td>\n",
       "      <td>NaN</td>\n",
       "      <td>NaN</td>\n",
       "    </tr>\n",
       "    <tr>\n",
       "      <th>1</th>\n",
       "      <td>30-34</td>\n",
       "      <td>I love my job</td>\n",
       "      <td>$40,000 - $50,000</td>\n",
       "      <td>iOS; Objective-C</td>\n",
       "    </tr>\n",
       "    <tr>\n",
       "      <th>2</th>\n",
       "      <td>NaN</td>\n",
       "      <td>NaN</td>\n",
       "      <td>NaN</td>\n",
       "      <td>NaN</td>\n",
       "    </tr>\n",
       "  </tbody>\n",
       "</table>\n",
       "</div>"
      ],
      "text/plain": [
       "  age_range job_satisfaction       salary_range           tech_do\n",
       "0     20-24              NaN                NaN               NaN\n",
       "1     30-34    I love my job  $40,000 - $50,000  iOS; Objective-C\n",
       "2       NaN              NaN                NaN               NaN"
      ]
     },
     "execution_count": 336,
     "metadata": {},
     "output_type": "execute_result"
    }
   ],
   "source": [
    "data2016.iloc[:, [5, 26, 13, 16]].head(3)"
   ]
  },
  {
   "cell_type": "code",
   "execution_count": 337,
   "metadata": {},
   "outputs": [],
   "source": [
    "def languages_to_columns(df, column, delimiter=';'):\n",
    "    for language in ['C#', 'Python']:\n",
    "        df[language] = df[column].map(lambda c: language in [l.strip() for l in str(c).split(';')])"
   ]
  },
  {
   "cell_type": "code",
   "execution_count": 338,
   "metadata": {},
   "outputs": [],
   "source": [
    "languages_to_columns(data2016, 'tech_do')"
   ]
  },
  {
   "cell_type": "code",
   "execution_count": 339,
   "metadata": {},
   "outputs": [
    {
     "data": {
      "text/plain": [
       "tech_do    Android; C++; C#; Cordova; Cloud (AWS, GAE, Azure, etc.); Hadoop; Java; JavaScript; PHP; Python; SQL\n",
       "Name: 198, dtype: object"
      ]
     },
     "execution_count": 339,
     "metadata": {},
     "output_type": "execute_result"
    }
   ],
   "source": [
    "data2016.loc[198, ['tech_do']].map(lambda c: c)"
   ]
  },
  {
   "cell_type": "code",
   "execution_count": 340,
   "metadata": {},
   "outputs": [
    {
     "data": {
      "text/html": [
       "<div>\n",
       "<style scoped>\n",
       "    .dataframe tbody tr th:only-of-type {\n",
       "        vertical-align: middle;\n",
       "    }\n",
       "\n",
       "    .dataframe tbody tr th {\n",
       "        vertical-align: top;\n",
       "    }\n",
       "\n",
       "    .dataframe thead th {\n",
       "        text-align: right;\n",
       "    }\n",
       "</style>\n",
       "<table border=\"1\" class=\"dataframe\">\n",
       "  <thead>\n",
       "    <tr style=\"text-align: right;\">\n",
       "      <th></th>\n",
       "      <th>C#</th>\n",
       "      <th>Python</th>\n",
       "      <th>tech_do</th>\n",
       "    </tr>\n",
       "  </thead>\n",
       "  <tbody>\n",
       "    <tr>\n",
       "      <th>198</th>\n",
       "      <td>True</td>\n",
       "      <td>True</td>\n",
       "      <td>Android; C++; C#; Cordova; Cloud (AWS, GAE, Azure, etc.); Hadoop; Java; JavaScript; PHP; Python; SQL</td>\n",
       "    </tr>\n",
       "    <tr>\n",
       "      <th>199</th>\n",
       "      <td>False</td>\n",
       "      <td>False</td>\n",
       "      <td>AngularJS; C++; JavaScript; MongoDB; Node.js; PHP; SQL; Visual Basic</td>\n",
       "    </tr>\n",
       "  </tbody>\n",
       "</table>\n",
       "</div>"
      ],
      "text/plain": [
       "        C#  Python  \\\n",
       "198   True    True   \n",
       "199  False   False   \n",
       "\n",
       "                                                                                                  tech_do  \n",
       "198  Android; C++; C#; Cordova; Cloud (AWS, GAE, Azure, etc.); Hadoop; Java; JavaScript; PHP; Python; SQL  \n",
       "199                                  AngularJS; C++; JavaScript; MongoDB; Node.js; PHP; SQL; Visual Basic  "
      ]
     },
     "execution_count": 340,
     "metadata": {},
     "output_type": "execute_result"
    }
   ],
   "source": [
    "data2016.loc[198:199, ['C#', 'Python', 'tech_do']].head(4)"
   ]
  },
  {
   "cell_type": "code",
   "execution_count": 341,
   "metadata": {},
   "outputs": [
    {
     "data": {
      "text/html": [
       "<div>\n",
       "<style scoped>\n",
       "    .dataframe tbody tr th:only-of-type {\n",
       "        vertical-align: middle;\n",
       "    }\n",
       "\n",
       "    .dataframe tbody tr th {\n",
       "        vertical-align: top;\n",
       "    }\n",
       "\n",
       "    .dataframe thead th {\n",
       "        text-align: right;\n",
       "    }\n",
       "</style>\n",
       "<table border=\"1\" class=\"dataframe\">\n",
       "  <thead>\n",
       "    <tr style=\"text-align: right;\">\n",
       "      <th></th>\n",
       "      <th>Unnamed: 0</th>\n",
       "      <th>collector</th>\n",
       "      <th>country</th>\n",
       "      <th>un_subregion</th>\n",
       "      <th>so_region</th>\n",
       "      <th>age_range</th>\n",
       "      <th>age_midpoint</th>\n",
       "      <th>gender</th>\n",
       "      <th>self_identification</th>\n",
       "      <th>occupation</th>\n",
       "      <th>...</th>\n",
       "      <th>important_buildnew</th>\n",
       "      <th>important_buildexisting</th>\n",
       "      <th>important_promotion</th>\n",
       "      <th>important_companymission</th>\n",
       "      <th>important_wfh</th>\n",
       "      <th>important_ownoffice</th>\n",
       "      <th>developer_challenges</th>\n",
       "      <th>why_stack_overflow</th>\n",
       "      <th>C#</th>\n",
       "      <th>Python</th>\n",
       "    </tr>\n",
       "  </thead>\n",
       "  <tbody>\n",
       "    <tr>\n",
       "      <th>198</th>\n",
       "      <td>26435</td>\n",
       "      <td>Facebook</td>\n",
       "      <td>Australia</td>\n",
       "      <td>Australia and New Zealand</td>\n",
       "      <td>Oceania</td>\n",
       "      <td>20-24</td>\n",
       "      <td>22.0</td>\n",
       "      <td>Male</td>\n",
       "      <td>Developer; Programmer</td>\n",
       "      <td>Database administrator</td>\n",
       "      <td>...</td>\n",
       "      <td>This is somewhat important</td>\n",
       "      <td>This is somewhat important</td>\n",
       "      <td>This is somewhat important</td>\n",
       "      <td>This is somewhat important</td>\n",
       "      <td>This is somewhat important</td>\n",
       "      <td>This is somewhat important</td>\n",
       "      <td>Fragile code base; Unrealistic expectations; Corporate policies</td>\n",
       "      <td>Beacause I love to learn</td>\n",
       "      <td>True</td>\n",
       "      <td>True</td>\n",
       "    </tr>\n",
       "    <tr>\n",
       "      <th>199</th>\n",
       "      <td>26469</td>\n",
       "      <td>Facebook</td>\n",
       "      <td>Australia</td>\n",
       "      <td>Australia and New Zealand</td>\n",
       "      <td>Oceania</td>\n",
       "      <td>30-34</td>\n",
       "      <td>32.0</td>\n",
       "      <td>Male</td>\n",
       "      <td>Developer; Programmer; Full-stack Developer</td>\n",
       "      <td>Analyst</td>\n",
       "      <td>...</td>\n",
       "      <td>This is very important</td>\n",
       "      <td>This is very important</td>\n",
       "      <td>I don't care about this</td>\n",
       "      <td>This is very important</td>\n",
       "      <td>I don't care about this</td>\n",
       "      <td>I don't care about this</td>\n",
       "      <td>Inefficient development processes; Outdated technologies; Non-technical management</td>\n",
       "      <td>To get help for my job; To give help to others; To receive help on my personal projects; Beacause I love to learn</td>\n",
       "      <td>False</td>\n",
       "      <td>False</td>\n",
       "    </tr>\n",
       "  </tbody>\n",
       "</table>\n",
       "<p>2 rows × 68 columns</p>\n",
       "</div>"
      ],
      "text/plain": [
       "     Unnamed: 0 collector    country               un_subregion so_region  \\\n",
       "198       26435  Facebook  Australia  Australia and New Zealand   Oceania   \n",
       "199       26469  Facebook  Australia  Australia and New Zealand   Oceania   \n",
       "\n",
       "    age_range  age_midpoint gender  \\\n",
       "198     20-24          22.0   Male   \n",
       "199     30-34          32.0   Male   \n",
       "\n",
       "                             self_identification              occupation  \\\n",
       "198                        Developer; Programmer  Database administrator   \n",
       "199  Developer; Programmer; Full-stack Developer                 Analyst   \n",
       "\n",
       "      ...            important_buildnew     important_buildexisting  \\\n",
       "198   ...    This is somewhat important  This is somewhat important   \n",
       "199   ...        This is very important      This is very important   \n",
       "\n",
       "            important_promotion    important_companymission  \\\n",
       "198  This is somewhat important  This is somewhat important   \n",
       "199     I don't care about this      This is very important   \n",
       "\n",
       "                  important_wfh         important_ownoffice  \\\n",
       "198  This is somewhat important  This is somewhat important   \n",
       "199     I don't care about this     I don't care about this   \n",
       "\n",
       "                                                                   developer_challenges  \\\n",
       "198                     Fragile code base; Unrealistic expectations; Corporate policies   \n",
       "199  Inefficient development processes; Outdated technologies; Non-technical management   \n",
       "\n",
       "                                                                                                    why_stack_overflow  \\\n",
       "198                                                                                           Beacause I love to learn   \n",
       "199  To get help for my job; To give help to others; To receive help on my personal projects; Beacause I love to learn   \n",
       "\n",
       "        C#  Python  \n",
       "198   True    True  \n",
       "199  False   False  \n",
       "\n",
       "[2 rows x 68 columns]"
      ]
     },
     "execution_count": 341,
     "metadata": {},
     "output_type": "execute_result"
    }
   ],
   "source": [
    "data2016.iloc[198:200, :]"
   ]
  },
  {
   "cell_type": "code",
   "execution_count": 342,
   "metadata": {},
   "outputs": [
    {
     "name": "stderr",
     "output_type": "stream",
     "text": [
      "C:\\ProgramData\\Anaconda3\\lib\\site-packages\\ipykernel_launcher.py:2: SettingWithCopyWarning: \n",
      "A value is trying to be set on a copy of a slice from a DataFrame.\n",
      "Try using .loc[row_indexer,col_indexer] = value instead\n",
      "\n",
      "See the caveats in the documentation: http://pandas.pydata.org/pandas-docs/stable/indexing.html#indexing-view-versus-copy\n",
      "  \n"
     ]
    },
    {
     "data": {
      "text/html": [
       "<div>\n",
       "<style scoped>\n",
       "    .dataframe tbody tr th:only-of-type {\n",
       "        vertical-align: middle;\n",
       "    }\n",
       "\n",
       "    .dataframe tbody tr th {\n",
       "        vertical-align: top;\n",
       "    }\n",
       "\n",
       "    .dataframe thead th {\n",
       "        text-align: right;\n",
       "    }\n",
       "</style>\n",
       "<table border=\"1\" class=\"dataframe\">\n",
       "  <thead>\n",
       "    <tr style=\"text-align: right;\">\n",
       "      <th></th>\n",
       "      <th>age_range</th>\n",
       "      <th>job_satisfaction</th>\n",
       "      <th>salary_range</th>\n",
       "      <th>C#</th>\n",
       "      <th>Python</th>\n",
       "      <th>year</th>\n",
       "    </tr>\n",
       "  </thead>\n",
       "  <tbody>\n",
       "    <tr>\n",
       "      <th>0</th>\n",
       "      <td>20-24</td>\n",
       "      <td>NaN</td>\n",
       "      <td>NaN</td>\n",
       "      <td>False</td>\n",
       "      <td>False</td>\n",
       "      <td>2016</td>\n",
       "    </tr>\n",
       "    <tr>\n",
       "      <th>1</th>\n",
       "      <td>30-34</td>\n",
       "      <td>I love my job</td>\n",
       "      <td>$40,000 - $50,000</td>\n",
       "      <td>False</td>\n",
       "      <td>False</td>\n",
       "      <td>2016</td>\n",
       "    </tr>\n",
       "    <tr>\n",
       "      <th>2</th>\n",
       "      <td>NaN</td>\n",
       "      <td>NaN</td>\n",
       "      <td>NaN</td>\n",
       "      <td>False</td>\n",
       "      <td>False</td>\n",
       "      <td>2016</td>\n",
       "    </tr>\n",
       "    <tr>\n",
       "      <th>3</th>\n",
       "      <td>NaN</td>\n",
       "      <td>I love my job</td>\n",
       "      <td>Less than $10,000</td>\n",
       "      <td>False</td>\n",
       "      <td>False</td>\n",
       "      <td>2016</td>\n",
       "    </tr>\n",
       "    <tr>\n",
       "      <th>4</th>\n",
       "      <td>&gt; 60</td>\n",
       "      <td>NaN</td>\n",
       "      <td>NaN</td>\n",
       "      <td>False</td>\n",
       "      <td>False</td>\n",
       "      <td>2016</td>\n",
       "    </tr>\n",
       "  </tbody>\n",
       "</table>\n",
       "</div>"
      ],
      "text/plain": [
       "  age_range job_satisfaction       salary_range     C#  Python  year\n",
       "0     20-24              NaN                NaN  False   False  2016\n",
       "1     30-34    I love my job  $40,000 - $50,000  False   False  2016\n",
       "2       NaN              NaN                NaN  False   False  2016\n",
       "3       NaN    I love my job  Less than $10,000  False   False  2016\n",
       "4      > 60              NaN                NaN  False   False  2016"
      ]
     },
     "execution_count": 342,
     "metadata": {},
     "output_type": "execute_result"
    }
   ],
   "source": [
    "subset2016 = data2016.iloc[:, [5, 26, 13, 66, 67]]\n",
    "subset2016['year'] = 2016\n",
    "subset2016.head()"
   ]
  },
  {
   "cell_type": "code",
   "execution_count": 343,
   "metadata": {},
   "outputs": [
    {
     "data": {
      "text/plain": [
       "age_range                   20-24\n",
       "job_satisfaction    I love my job\n",
       "salary_range                  NaN\n",
       "C#                           True\n",
       "Python                       True\n",
       "year                         2016\n",
       "Name: 198, dtype: object"
      ]
     },
     "execution_count": 343,
     "metadata": {},
     "output_type": "execute_result"
    }
   ],
   "source": [
    "subset2016.iloc[198, :]"
   ]
  },
  {
   "cell_type": "code",
   "execution_count": 344,
   "metadata": {},
   "outputs": [],
   "source": [
    "subset2016.columns = subset_columns"
   ]
  },
  {
   "cell_type": "code",
   "execution_count": 345,
   "metadata": {},
   "outputs": [
    {
     "name": "stderr",
     "output_type": "stream",
     "text": [
      "C:\\ProgramData\\Anaconda3\\lib\\site-packages\\ipykernel_launcher.py:1: SettingWithCopyWarning: \n",
      "A value is trying to be set on a copy of a slice from a DataFrame.\n",
      "Try using .loc[row_indexer,col_indexer] = value instead\n",
      "\n",
      "See the caveats in the documentation: http://pandas.pydata.org/pandas-docs/stable/indexing.html#indexing-view-versus-copy\n",
      "  \"\"\"Entry point for launching an IPython kernel.\n"
     ]
    }
   ],
   "source": [
    "subset2016['python_and_csharp'] = subset2016['csharp'] & subset2016['python']"
   ]
  },
  {
   "cell_type": "code",
   "execution_count": 346,
   "metadata": {},
   "outputs": [
    {
     "data": {
      "text/html": [
       "<div>\n",
       "<style scoped>\n",
       "    .dataframe tbody tr th:only-of-type {\n",
       "        vertical-align: middle;\n",
       "    }\n",
       "\n",
       "    .dataframe tbody tr th {\n",
       "        vertical-align: top;\n",
       "    }\n",
       "\n",
       "    .dataframe thead th {\n",
       "        text-align: right;\n",
       "    }\n",
       "</style>\n",
       "<table border=\"1\" class=\"dataframe\">\n",
       "  <thead>\n",
       "    <tr style=\"text-align: right;\">\n",
       "      <th></th>\n",
       "      <th>age</th>\n",
       "      <th>job_satisfaction</th>\n",
       "      <th>annual_compensation</th>\n",
       "      <th>csharp</th>\n",
       "      <th>python</th>\n",
       "      <th>year</th>\n",
       "      <th>python_and_csharp</th>\n",
       "    </tr>\n",
       "  </thead>\n",
       "  <tbody>\n",
       "    <tr>\n",
       "      <th>0</th>\n",
       "      <td>20-24</td>\n",
       "      <td>NaN</td>\n",
       "      <td>NaN</td>\n",
       "      <td>False</td>\n",
       "      <td>False</td>\n",
       "      <td>2016</td>\n",
       "      <td>False</td>\n",
       "    </tr>\n",
       "    <tr>\n",
       "      <th>1</th>\n",
       "      <td>30-34</td>\n",
       "      <td>I love my job</td>\n",
       "      <td>$40,000 - $50,000</td>\n",
       "      <td>False</td>\n",
       "      <td>False</td>\n",
       "      <td>2016</td>\n",
       "      <td>False</td>\n",
       "    </tr>\n",
       "    <tr>\n",
       "      <th>2</th>\n",
       "      <td>NaN</td>\n",
       "      <td>NaN</td>\n",
       "      <td>NaN</td>\n",
       "      <td>False</td>\n",
       "      <td>False</td>\n",
       "      <td>2016</td>\n",
       "      <td>False</td>\n",
       "    </tr>\n",
       "    <tr>\n",
       "      <th>3</th>\n",
       "      <td>NaN</td>\n",
       "      <td>I love my job</td>\n",
       "      <td>Less than $10,000</td>\n",
       "      <td>False</td>\n",
       "      <td>False</td>\n",
       "      <td>2016</td>\n",
       "      <td>False</td>\n",
       "    </tr>\n",
       "    <tr>\n",
       "      <th>4</th>\n",
       "      <td>&gt; 60</td>\n",
       "      <td>NaN</td>\n",
       "      <td>NaN</td>\n",
       "      <td>False</td>\n",
       "      <td>False</td>\n",
       "      <td>2016</td>\n",
       "      <td>False</td>\n",
       "    </tr>\n",
       "  </tbody>\n",
       "</table>\n",
       "</div>"
      ],
      "text/plain": [
       "     age job_satisfaction annual_compensation  csharp  python  year  \\\n",
       "0  20-24              NaN                 NaN   False   False  2016   \n",
       "1  30-34    I love my job   $40,000 - $50,000   False   False  2016   \n",
       "2    NaN              NaN                 NaN   False   False  2016   \n",
       "3    NaN    I love my job   Less than $10,000   False   False  2016   \n",
       "4   > 60              NaN                 NaN   False   False  2016   \n",
       "\n",
       "   python_and_csharp  \n",
       "0              False  \n",
       "1              False  \n",
       "2              False  \n",
       "3              False  \n",
       "4              False  "
      ]
     },
     "execution_count": 346,
     "metadata": {},
     "output_type": "execute_result"
    }
   ],
   "source": [
    "subset2016.head()"
   ]
  },
  {
   "cell_type": "code",
   "execution_count": 347,
   "metadata": {},
   "outputs": [],
   "source": [
    "subset2016 = cleanup_order(subset2016)"
   ]
  },
  {
   "cell_type": "code",
   "execution_count": 348,
   "metadata": {},
   "outputs": [
    {
     "data": {
      "text/plain": [
       "year                            2016\n",
       "age                            20-24\n",
       "job_satisfaction       I love my job\n",
       "annual_compensation              NaN\n",
       "csharp                          True\n",
       "python                          True\n",
       "python_and_csharp               True\n",
       "Name: 198, dtype: object"
      ]
     },
     "execution_count": 348,
     "metadata": {},
     "output_type": "execute_result"
    }
   ],
   "source": [
    "subset2016.iloc[198, :]"
   ]
  },
  {
   "cell_type": "code",
   "execution_count": 349,
   "metadata": {},
   "outputs": [
    {
     "name": "stdout",
     "output_type": "stream",
     "text": [
      "2011 \t2813 (year/observations)\n",
      "2012 \t6243 (year/observations)\n",
      "2013 \t9742 (year/observations)\n",
      "2014 \t7643 (year/observations)\n",
      "2015 \t26086 (year/observations)\n",
      "2016 \t56030 (year/observations)\n",
      "2017 \t51392 (year/observations)\n",
      "2018 \t98855 (year/observations)\n",
      "8 sets loaded, all columns equal: True\n"
     ]
    }
   ],
   "source": [
    "print_all()"
   ]
  },
  {
   "cell_type": "markdown",
   "metadata": {},
   "source": [
    "#### 2017"
   ]
  },
  {
   "cell_type": "code",
   "execution_count": 350,
   "metadata": {},
   "outputs": [],
   "source": [
    "data2017 = pd.read_csv('data/2017/survey_results_public.csv', encoding = 'ISO-8859-1', \n",
    "                       delimiter=',')"
   ]
  },
  {
   "cell_type": "code",
   "execution_count": 351,
   "metadata": {},
   "outputs": [
    {
     "data": {
      "text/html": [
       "<div>\n",
       "<style scoped>\n",
       "    .dataframe tbody tr th:only-of-type {\n",
       "        vertical-align: middle;\n",
       "    }\n",
       "\n",
       "    .dataframe tbody tr th {\n",
       "        vertical-align: top;\n",
       "    }\n",
       "\n",
       "    .dataframe thead th {\n",
       "        text-align: right;\n",
       "    }\n",
       "</style>\n",
       "<table border=\"1\" class=\"dataframe\">\n",
       "  <thead>\n",
       "    <tr style=\"text-align: right;\">\n",
       "      <th></th>\n",
       "      <th>Respondent</th>\n",
       "      <th>Professional</th>\n",
       "      <th>ProgramHobby</th>\n",
       "      <th>Country</th>\n",
       "      <th>University</th>\n",
       "      <th>EmploymentStatus</th>\n",
       "      <th>FormalEducation</th>\n",
       "      <th>MajorUndergrad</th>\n",
       "      <th>HomeRemote</th>\n",
       "      <th>CompanySize</th>\n",
       "      <th>...</th>\n",
       "      <th>StackOverflowMakeMoney</th>\n",
       "      <th>Gender</th>\n",
       "      <th>HighestEducationParents</th>\n",
       "      <th>Race</th>\n",
       "      <th>SurveyLong</th>\n",
       "      <th>QuestionsInteresting</th>\n",
       "      <th>QuestionsConfusing</th>\n",
       "      <th>InterestedAnswers</th>\n",
       "      <th>Salary</th>\n",
       "      <th>ExpectedSalary</th>\n",
       "    </tr>\n",
       "  </thead>\n",
       "  <tbody>\n",
       "    <tr>\n",
       "      <th>0</th>\n",
       "      <td>1</td>\n",
       "      <td>Student</td>\n",
       "      <td>Yes, both</td>\n",
       "      <td>United States</td>\n",
       "      <td>No</td>\n",
       "      <td>Not employed, and not looking for work</td>\n",
       "      <td>Secondary school</td>\n",
       "      <td>NaN</td>\n",
       "      <td>NaN</td>\n",
       "      <td>NaN</td>\n",
       "      <td>...</td>\n",
       "      <td>Strongly disagree</td>\n",
       "      <td>Male</td>\n",
       "      <td>High school</td>\n",
       "      <td>White or of European descent</td>\n",
       "      <td>Strongly disagree</td>\n",
       "      <td>Strongly agree</td>\n",
       "      <td>Disagree</td>\n",
       "      <td>Strongly agree</td>\n",
       "      <td>NaN</td>\n",
       "      <td>NaN</td>\n",
       "    </tr>\n",
       "    <tr>\n",
       "      <th>1</th>\n",
       "      <td>2</td>\n",
       "      <td>Student</td>\n",
       "      <td>Yes, both</td>\n",
       "      <td>United Kingdom</td>\n",
       "      <td>Yes, full-time</td>\n",
       "      <td>Employed part-time</td>\n",
       "      <td>Some college/university study without earning a bachelor's degree</td>\n",
       "      <td>Computer science or software engineering</td>\n",
       "      <td>More than half, but not all, the time</td>\n",
       "      <td>20 to 99 employees</td>\n",
       "      <td>...</td>\n",
       "      <td>Strongly disagree</td>\n",
       "      <td>Male</td>\n",
       "      <td>A master's degree</td>\n",
       "      <td>White or of European descent</td>\n",
       "      <td>Somewhat agree</td>\n",
       "      <td>Somewhat agree</td>\n",
       "      <td>Disagree</td>\n",
       "      <td>Strongly agree</td>\n",
       "      <td>NaN</td>\n",
       "      <td>37500.0</td>\n",
       "    </tr>\n",
       "    <tr>\n",
       "      <th>2</th>\n",
       "      <td>3</td>\n",
       "      <td>Professional developer</td>\n",
       "      <td>Yes, both</td>\n",
       "      <td>United Kingdom</td>\n",
       "      <td>No</td>\n",
       "      <td>Employed full-time</td>\n",
       "      <td>Bachelor's degree</td>\n",
       "      <td>Computer science or software engineering</td>\n",
       "      <td>Less than half the time, but at least one day each week</td>\n",
       "      <td>10,000 or more employees</td>\n",
       "      <td>...</td>\n",
       "      <td>Disagree</td>\n",
       "      <td>Male</td>\n",
       "      <td>A professional degree</td>\n",
       "      <td>White or of European descent</td>\n",
       "      <td>Somewhat agree</td>\n",
       "      <td>Agree</td>\n",
       "      <td>Disagree</td>\n",
       "      <td>Agree</td>\n",
       "      <td>113750.0</td>\n",
       "      <td>NaN</td>\n",
       "    </tr>\n",
       "  </tbody>\n",
       "</table>\n",
       "<p>3 rows × 154 columns</p>\n",
       "</div>"
      ],
      "text/plain": [
       "   Respondent            Professional ProgramHobby         Country  \\\n",
       "0           1                 Student    Yes, both   United States   \n",
       "1           2                 Student    Yes, both  United Kingdom   \n",
       "2           3  Professional developer    Yes, both  United Kingdom   \n",
       "\n",
       "       University                        EmploymentStatus  \\\n",
       "0              No  Not employed, and not looking for work   \n",
       "1  Yes, full-time                      Employed part-time   \n",
       "2              No                      Employed full-time   \n",
       "\n",
       "                                                     FormalEducation  \\\n",
       "0                                                   Secondary school   \n",
       "1  Some college/university study without earning a bachelor's degree   \n",
       "2                                                  Bachelor's degree   \n",
       "\n",
       "                             MajorUndergrad  \\\n",
       "0                                       NaN   \n",
       "1  Computer science or software engineering   \n",
       "2  Computer science or software engineering   \n",
       "\n",
       "                                                HomeRemote  \\\n",
       "0                                                      NaN   \n",
       "1                    More than half, but not all, the time   \n",
       "2  Less than half the time, but at least one day each week   \n",
       "\n",
       "                CompanySize       ...       StackOverflowMakeMoney Gender  \\\n",
       "0                       NaN       ...            Strongly disagree   Male   \n",
       "1        20 to 99 employees       ...            Strongly disagree   Male   \n",
       "2  10,000 or more employees       ...                     Disagree   Male   \n",
       "\n",
       "  HighestEducationParents                          Race         SurveyLong  \\\n",
       "0             High school  White or of European descent  Strongly disagree   \n",
       "1       A master's degree  White or of European descent     Somewhat agree   \n",
       "2   A professional degree  White or of European descent     Somewhat agree   \n",
       "\n",
       "  QuestionsInteresting QuestionsConfusing InterestedAnswers    Salary  \\\n",
       "0       Strongly agree           Disagree    Strongly agree       NaN   \n",
       "1       Somewhat agree           Disagree    Strongly agree       NaN   \n",
       "2                Agree           Disagree             Agree  113750.0   \n",
       "\n",
       "   ExpectedSalary  \n",
       "0             NaN  \n",
       "1         37500.0  \n",
       "2             NaN  \n",
       "\n",
       "[3 rows x 154 columns]"
      ]
     },
     "execution_count": 351,
     "metadata": {},
     "output_type": "execute_result"
    }
   ],
   "source": [
    "data2017.head(3)"
   ]
  },
  {
   "cell_type": "code",
   "execution_count": 352,
   "metadata": {},
   "outputs": [
    {
     "name": "stdout",
     "output_type": "stream",
     "text": [
      "[18] CareerSatisfaction\n",
      "[19] JobSatisfaction\n",
      "[55] AssessJobCompensation\n",
      "[88] HaveWorkedLanguage\n",
      "[89] WantWorkLanguage\n",
      "[103] ProjectManagement\n",
      "[112] EquipmentSatisfiedStorage\n",
      "[127] StackOverflowSatisfaction\n",
      "[132] StackOverflowCompanyPage\n"
     ]
    }
   ],
   "source": [
    "find_columns(data2017)"
   ]
  },
  {
   "cell_type": "code",
   "execution_count": 353,
   "metadata": {},
   "outputs": [],
   "source": [
    "languages_to_columns(data2017, 'HaveWorkedLanguage')"
   ]
  },
  {
   "cell_type": "markdown",
   "metadata": {},
   "source": [
    "No age and salary is no range!"
   ]
  },
  {
   "cell_type": "code",
   "execution_count": 354,
   "metadata": {},
   "outputs": [
    {
     "data": {
      "text/html": [
       "<div>\n",
       "<style scoped>\n",
       "    .dataframe tbody tr th:only-of-type {\n",
       "        vertical-align: middle;\n",
       "    }\n",
       "\n",
       "    .dataframe tbody tr th {\n",
       "        vertical-align: top;\n",
       "    }\n",
       "\n",
       "    .dataframe thead th {\n",
       "        text-align: right;\n",
       "    }\n",
       "</style>\n",
       "<table border=\"1\" class=\"dataframe\">\n",
       "  <thead>\n",
       "    <tr style=\"text-align: right;\">\n",
       "      <th></th>\n",
       "      <th>CareerSatisfaction</th>\n",
       "      <th>HaveWorkedLanguage</th>\n",
       "      <th>Salary</th>\n",
       "    </tr>\n",
       "  </thead>\n",
       "  <tbody>\n",
       "    <tr>\n",
       "      <th>0</th>\n",
       "      <td>NaN</td>\n",
       "      <td>Swift</td>\n",
       "      <td>NaN</td>\n",
       "    </tr>\n",
       "    <tr>\n",
       "      <th>1</th>\n",
       "      <td>NaN</td>\n",
       "      <td>JavaScript; Python; Ruby; SQL</td>\n",
       "      <td>NaN</td>\n",
       "    </tr>\n",
       "    <tr>\n",
       "      <th>2</th>\n",
       "      <td>8.0</td>\n",
       "      <td>Java; PHP; Python</td>\n",
       "      <td>113750.0</td>\n",
       "    </tr>\n",
       "  </tbody>\n",
       "</table>\n",
       "</div>"
      ],
      "text/plain": [
       "   CareerSatisfaction             HaveWorkedLanguage    Salary\n",
       "0                 NaN                          Swift       NaN\n",
       "1                 NaN  JavaScript; Python; Ruby; SQL       NaN\n",
       "2                 8.0              Java; PHP; Python  113750.0"
      ]
     },
     "execution_count": 354,
     "metadata": {},
     "output_type": "execute_result"
    }
   ],
   "source": [
    "data2017.iloc[:, [18, 88, 152]].head(3)"
   ]
  },
  {
   "cell_type": "code",
   "execution_count": 355,
   "metadata": {},
   "outputs": [],
   "source": [
    "languages_to_columns(data2017, 'HaveWorkedLanguage')"
   ]
  },
  {
   "cell_type": "code",
   "execution_count": 356,
   "metadata": {},
   "outputs": [
    {
     "name": "stderr",
     "output_type": "stream",
     "text": [
      "C:\\ProgramData\\Anaconda3\\lib\\site-packages\\ipykernel_launcher.py:2: SettingWithCopyWarning: \n",
      "A value is trying to be set on a copy of a slice from a DataFrame.\n",
      "Try using .loc[row_indexer,col_indexer] = value instead\n",
      "\n",
      "See the caveats in the documentation: http://pandas.pydata.org/pandas-docs/stable/indexing.html#indexing-view-versus-copy\n",
      "  \n",
      "C:\\ProgramData\\Anaconda3\\lib\\site-packages\\ipykernel_launcher.py:3: SettingWithCopyWarning: \n",
      "A value is trying to be set on a copy of a slice from a DataFrame.\n",
      "Try using .loc[row_indexer,col_indexer] = value instead\n",
      "\n",
      "See the caveats in the documentation: http://pandas.pydata.org/pandas-docs/stable/indexing.html#indexing-view-versus-copy\n",
      "  This is separate from the ipykernel package so we can avoid doing imports until\n"
     ]
    }
   ],
   "source": [
    "subset2017 = data2017.iloc[:, [18, 152, 154, 155]]\n",
    "subset2017['year'] = 2017\n",
    "subset2017['age'] = np.nan"
   ]
  },
  {
   "cell_type": "code",
   "execution_count": 357,
   "metadata": {},
   "outputs": [
    {
     "data": {
      "text/html": [
       "<div>\n",
       "<style scoped>\n",
       "    .dataframe tbody tr th:only-of-type {\n",
       "        vertical-align: middle;\n",
       "    }\n",
       "\n",
       "    .dataframe tbody tr th {\n",
       "        vertical-align: top;\n",
       "    }\n",
       "\n",
       "    .dataframe thead th {\n",
       "        text-align: right;\n",
       "    }\n",
       "</style>\n",
       "<table border=\"1\" class=\"dataframe\">\n",
       "  <thead>\n",
       "    <tr style=\"text-align: right;\">\n",
       "      <th></th>\n",
       "      <th>CareerSatisfaction</th>\n",
       "      <th>Salary</th>\n",
       "      <th>C#</th>\n",
       "      <th>Python</th>\n",
       "      <th>year</th>\n",
       "      <th>age</th>\n",
       "    </tr>\n",
       "  </thead>\n",
       "  <tbody>\n",
       "    <tr>\n",
       "      <th>0</th>\n",
       "      <td>NaN</td>\n",
       "      <td>NaN</td>\n",
       "      <td>False</td>\n",
       "      <td>False</td>\n",
       "      <td>2017</td>\n",
       "      <td>NaN</td>\n",
       "    </tr>\n",
       "    <tr>\n",
       "      <th>1</th>\n",
       "      <td>NaN</td>\n",
       "      <td>NaN</td>\n",
       "      <td>False</td>\n",
       "      <td>True</td>\n",
       "      <td>2017</td>\n",
       "      <td>NaN</td>\n",
       "    </tr>\n",
       "    <tr>\n",
       "      <th>2</th>\n",
       "      <td>8.0</td>\n",
       "      <td>113750.0</td>\n",
       "      <td>False</td>\n",
       "      <td>True</td>\n",
       "      <td>2017</td>\n",
       "      <td>NaN</td>\n",
       "    </tr>\n",
       "  </tbody>\n",
       "</table>\n",
       "</div>"
      ],
      "text/plain": [
       "   CareerSatisfaction    Salary     C#  Python  year  age\n",
       "0                 NaN       NaN  False   False  2017  NaN\n",
       "1                 NaN       NaN  False    True  2017  NaN\n",
       "2                 8.0  113750.0  False    True  2017  NaN"
      ]
     },
     "execution_count": 357,
     "metadata": {},
     "output_type": "execute_result"
    }
   ],
   "source": [
    "subset2017.head(3)"
   ]
  },
  {
   "cell_type": "code",
   "execution_count": 358,
   "metadata": {},
   "outputs": [
    {
     "data": {
      "text/plain": [
       "['age', 'job_satisfaction', 'annual_compensation', 'csharp', 'python', 'year']"
      ]
     },
     "execution_count": 358,
     "metadata": {},
     "output_type": "execute_result"
    }
   ],
   "source": [
    "subset_columns"
   ]
  },
  {
   "cell_type": "code",
   "execution_count": 359,
   "metadata": {},
   "outputs": [
    {
     "data": {
      "text/html": [
       "<div>\n",
       "<style scoped>\n",
       "    .dataframe tbody tr th:only-of-type {\n",
       "        vertical-align: middle;\n",
       "    }\n",
       "\n",
       "    .dataframe tbody tr th {\n",
       "        vertical-align: top;\n",
       "    }\n",
       "\n",
       "    .dataframe thead th {\n",
       "        text-align: right;\n",
       "    }\n",
       "</style>\n",
       "<table border=\"1\" class=\"dataframe\">\n",
       "  <thead>\n",
       "    <tr style=\"text-align: right;\">\n",
       "      <th></th>\n",
       "      <th>job_satisfaction</th>\n",
       "      <th>annual_compensation</th>\n",
       "      <th>csharp</th>\n",
       "      <th>python</th>\n",
       "      <th>year</th>\n",
       "      <th>age</th>\n",
       "    </tr>\n",
       "  </thead>\n",
       "  <tbody>\n",
       "    <tr>\n",
       "      <th>0</th>\n",
       "      <td>NaN</td>\n",
       "      <td>NaN</td>\n",
       "      <td>False</td>\n",
       "      <td>False</td>\n",
       "      <td>2017</td>\n",
       "      <td>NaN</td>\n",
       "    </tr>\n",
       "    <tr>\n",
       "      <th>1</th>\n",
       "      <td>NaN</td>\n",
       "      <td>NaN</td>\n",
       "      <td>False</td>\n",
       "      <td>True</td>\n",
       "      <td>2017</td>\n",
       "      <td>NaN</td>\n",
       "    </tr>\n",
       "    <tr>\n",
       "      <th>2</th>\n",
       "      <td>8.0</td>\n",
       "      <td>113750.0</td>\n",
       "      <td>False</td>\n",
       "      <td>True</td>\n",
       "      <td>2017</td>\n",
       "      <td>NaN</td>\n",
       "    </tr>\n",
       "  </tbody>\n",
       "</table>\n",
       "</div>"
      ],
      "text/plain": [
       "   job_satisfaction  annual_compensation  csharp  python  year  age\n",
       "0               NaN                  NaN   False   False  2017  NaN\n",
       "1               NaN                  NaN   False    True  2017  NaN\n",
       "2               8.0             113750.0   False    True  2017  NaN"
      ]
     },
     "execution_count": 359,
     "metadata": {},
     "output_type": "execute_result"
    }
   ],
   "source": [
    "subset2017.columns = ['job_satisfaction', 'annual_compensation', 'csharp', 'python', 'year', 'age']\n",
    "subset2017.head(3)"
   ]
  },
  {
   "cell_type": "code",
   "execution_count": 360,
   "metadata": {},
   "outputs": [
    {
     "name": "stderr",
     "output_type": "stream",
     "text": [
      "C:\\ProgramData\\Anaconda3\\lib\\site-packages\\ipykernel_launcher.py:1: SettingWithCopyWarning: \n",
      "A value is trying to be set on a copy of a slice from a DataFrame.\n",
      "Try using .loc[row_indexer,col_indexer] = value instead\n",
      "\n",
      "See the caveats in the documentation: http://pandas.pydata.org/pandas-docs/stable/indexing.html#indexing-view-versus-copy\n",
      "  \"\"\"Entry point for launching an IPython kernel.\n"
     ]
    }
   ],
   "source": [
    "subset2017['python_and_csharp'] = subset2017['csharp'] & subset2017['python']"
   ]
  },
  {
   "cell_type": "code",
   "execution_count": 361,
   "metadata": {},
   "outputs": [],
   "source": [
    "subset2017 = cleanup_order(subset2017)"
   ]
  },
  {
   "cell_type": "code",
   "execution_count": 362,
   "metadata": {},
   "outputs": [
    {
     "data": {
      "text/html": [
       "<div>\n",
       "<style scoped>\n",
       "    .dataframe tbody tr th:only-of-type {\n",
       "        vertical-align: middle;\n",
       "    }\n",
       "\n",
       "    .dataframe tbody tr th {\n",
       "        vertical-align: top;\n",
       "    }\n",
       "\n",
       "    .dataframe thead th {\n",
       "        text-align: right;\n",
       "    }\n",
       "</style>\n",
       "<table border=\"1\" class=\"dataframe\">\n",
       "  <thead>\n",
       "    <tr style=\"text-align: right;\">\n",
       "      <th></th>\n",
       "      <th>year</th>\n",
       "      <th>age</th>\n",
       "      <th>job_satisfaction</th>\n",
       "      <th>annual_compensation</th>\n",
       "      <th>csharp</th>\n",
       "      <th>python</th>\n",
       "      <th>python_and_csharp</th>\n",
       "    </tr>\n",
       "  </thead>\n",
       "  <tbody>\n",
       "    <tr>\n",
       "      <th>0</th>\n",
       "      <td>2016</td>\n",
       "      <td>20-24</td>\n",
       "      <td>NaN</td>\n",
       "      <td>NaN</td>\n",
       "      <td>False</td>\n",
       "      <td>False</td>\n",
       "      <td>False</td>\n",
       "    </tr>\n",
       "    <tr>\n",
       "      <th>1</th>\n",
       "      <td>2016</td>\n",
       "      <td>30-34</td>\n",
       "      <td>I love my job</td>\n",
       "      <td>$40,000 - $50,000</td>\n",
       "      <td>False</td>\n",
       "      <td>False</td>\n",
       "      <td>False</td>\n",
       "    </tr>\n",
       "  </tbody>\n",
       "</table>\n",
       "</div>"
      ],
      "text/plain": [
       "   year    age job_satisfaction annual_compensation  csharp  python  \\\n",
       "0  2016  20-24              NaN                 NaN   False   False   \n",
       "1  2016  30-34    I love my job   $40,000 - $50,000   False   False   \n",
       "\n",
       "   python_and_csharp  \n",
       "0              False  \n",
       "1              False  "
      ]
     },
     "execution_count": 362,
     "metadata": {},
     "output_type": "execute_result"
    }
   ],
   "source": [
    "subset2016.head(2)"
   ]
  },
  {
   "cell_type": "code",
   "execution_count": 363,
   "metadata": {},
   "outputs": [
    {
     "name": "stdout",
     "output_type": "stream",
     "text": [
      "2011 \t2813 (year/observations)\n",
      "2012 \t6243 (year/observations)\n",
      "2013 \t9742 (year/observations)\n",
      "2014 \t7643 (year/observations)\n",
      "2015 \t26086 (year/observations)\n",
      "2016 \t56030 (year/observations)\n",
      "2017 \t51392 (year/observations)\n",
      "2018 \t98855 (year/observations)\n",
      "8 sets loaded, all columns equal: True\n"
     ]
    }
   ],
   "source": [
    "print_all()"
   ]
  },
  {
   "cell_type": "markdown",
   "metadata": {},
   "source": [
    "####  2018"
   ]
  },
  {
   "cell_type": "code",
   "execution_count": 364,
   "metadata": {},
   "outputs": [
    {
     "name": "stderr",
     "output_type": "stream",
     "text": [
      "C:\\ProgramData\\Anaconda3\\lib\\site-packages\\IPython\\core\\interactiveshell.py:2785: DtypeWarning: Columns (8,12,13,14,15,16,50,51,52,53,55,56,57,58,59,60,61,62,63,64,65,66,67,68,69,70,71,72,73,74,75,76,77,78,79,80,81,82,83,84,85,93,94,95,96,97,98,99,100,101,102,103,104,105,106,107,108,109,110,111,112,113,114,115,116,117,118,119,120,121,122,123,124,125,126,127,128) have mixed types. Specify dtype option on import or set low_memory=False.\n",
      "  interactivity=interactivity, compiler=compiler, result=result)\n"
     ]
    }
   ],
   "source": [
    "data2018 = pd.read_csv('data/2018/survey_results_public.csv', encoding = 'ISO-8859-1', \n",
    "                       delimiter=',')"
   ]
  },
  {
   "cell_type": "code",
   "execution_count": 365,
   "metadata": {},
   "outputs": [
    {
     "name": "stdout",
     "output_type": "stream",
     "text": [
      "[12] JobSatisfaction\n",
      "[13] CareerSatisfaction\n",
      "[65] LanguageWorkedWith\n",
      "[66] LanguageDesireNextYear\n",
      "[124] Age\n"
     ]
    }
   ],
   "source": [
    "find_columns(data2018)"
   ]
  },
  {
   "cell_type": "code",
   "execution_count": 366,
   "metadata": {},
   "outputs": [],
   "source": [
    "languages_to_columns(data2018, 'LanguageWorkedWith')"
   ]
  },
  {
   "cell_type": "code",
   "execution_count": 367,
   "metadata": {},
   "outputs": [
    {
     "data": {
      "text/html": [
       "<div>\n",
       "<style scoped>\n",
       "    .dataframe tbody tr th:only-of-type {\n",
       "        vertical-align: middle;\n",
       "    }\n",
       "\n",
       "    .dataframe tbody tr th {\n",
       "        vertical-align: top;\n",
       "    }\n",
       "\n",
       "    .dataframe thead th {\n",
       "        text-align: right;\n",
       "    }\n",
       "</style>\n",
       "<table border=\"1\" class=\"dataframe\">\n",
       "  <thead>\n",
       "    <tr style=\"text-align: right;\">\n",
       "      <th></th>\n",
       "      <th>Age</th>\n",
       "      <th>JobSatisfaction</th>\n",
       "      <th>ConvertedSalary</th>\n",
       "      <th>C#</th>\n",
       "      <th>Python</th>\n",
       "      <th>year</th>\n",
       "    </tr>\n",
       "  </thead>\n",
       "  <tbody>\n",
       "    <tr>\n",
       "      <th>0</th>\n",
       "      <td>25 - 34 years old</td>\n",
       "      <td>Extremely satisfied</td>\n",
       "      <td>NaN</td>\n",
       "      <td>False</td>\n",
       "      <td>True</td>\n",
       "      <td>2018</td>\n",
       "    </tr>\n",
       "    <tr>\n",
       "      <th>1</th>\n",
       "      <td>35 - 44 years old</td>\n",
       "      <td>Moderately dissatisfied</td>\n",
       "      <td>70841.0</td>\n",
       "      <td>False</td>\n",
       "      <td>True</td>\n",
       "      <td>2018</td>\n",
       "    </tr>\n",
       "    <tr>\n",
       "      <th>2</th>\n",
       "      <td>NaN</td>\n",
       "      <td>Moderately satisfied</td>\n",
       "      <td>NaN</td>\n",
       "      <td>False</td>\n",
       "      <td>False</td>\n",
       "      <td>2018</td>\n",
       "    </tr>\n",
       "    <tr>\n",
       "      <th>3</th>\n",
       "      <td>35 - 44 years old</td>\n",
       "      <td>Neither satisfied nor dissatisfied</td>\n",
       "      <td>NaN</td>\n",
       "      <td>True</td>\n",
       "      <td>False</td>\n",
       "      <td>2018</td>\n",
       "    </tr>\n",
       "    <tr>\n",
       "      <th>4</th>\n",
       "      <td>18 - 24 years old</td>\n",
       "      <td>Slightly satisfied</td>\n",
       "      <td>21426.0</td>\n",
       "      <td>False</td>\n",
       "      <td>False</td>\n",
       "      <td>2018</td>\n",
       "    </tr>\n",
       "  </tbody>\n",
       "</table>\n",
       "</div>"
      ],
      "text/plain": [
       "                 Age                     JobSatisfaction  ConvertedSalary  \\\n",
       "0  25 - 34 years old                 Extremely satisfied              NaN   \n",
       "1  35 - 44 years old             Moderately dissatisfied          70841.0   \n",
       "2                NaN                Moderately satisfied              NaN   \n",
       "3  35 - 44 years old  Neither satisfied nor dissatisfied              NaN   \n",
       "4  18 - 24 years old                  Slightly satisfied          21426.0   \n",
       "\n",
       "      C#  Python  year  \n",
       "0  False    True  2018  \n",
       "1  False    True  2018  \n",
       "2  False   False  2018  \n",
       "3   True   False  2018  \n",
       "4  False   False  2018  "
      ]
     },
     "execution_count": 367,
     "metadata": {},
     "output_type": "execute_result"
    }
   ],
   "source": [
    "data2018['year'] = 2018\n",
    "data2018.iloc[:, [124, 12, 54, 129, 130, 131]].head()"
   ]
  },
  {
   "cell_type": "code",
   "execution_count": 368,
   "metadata": {},
   "outputs": [],
   "source": [
    "subset2018 = data2018.iloc[:, [124, 12, 54, 129, 130, 131]]\n",
    "subset2018.columns = subset_columns"
   ]
  },
  {
   "cell_type": "code",
   "execution_count": 369,
   "metadata": {},
   "outputs": [
    {
     "data": {
      "text/html": [
       "<div>\n",
       "<style scoped>\n",
       "    .dataframe tbody tr th:only-of-type {\n",
       "        vertical-align: middle;\n",
       "    }\n",
       "\n",
       "    .dataframe tbody tr th {\n",
       "        vertical-align: top;\n",
       "    }\n",
       "\n",
       "    .dataframe thead th {\n",
       "        text-align: right;\n",
       "    }\n",
       "</style>\n",
       "<table border=\"1\" class=\"dataframe\">\n",
       "  <thead>\n",
       "    <tr style=\"text-align: right;\">\n",
       "      <th></th>\n",
       "      <th>age</th>\n",
       "      <th>job_satisfaction</th>\n",
       "      <th>annual_compensation</th>\n",
       "      <th>csharp</th>\n",
       "      <th>python</th>\n",
       "      <th>year</th>\n",
       "    </tr>\n",
       "  </thead>\n",
       "  <tbody>\n",
       "    <tr>\n",
       "      <th>0</th>\n",
       "      <td>25 - 34 years old</td>\n",
       "      <td>Extremely satisfied</td>\n",
       "      <td>NaN</td>\n",
       "      <td>False</td>\n",
       "      <td>True</td>\n",
       "      <td>2018</td>\n",
       "    </tr>\n",
       "    <tr>\n",
       "      <th>1</th>\n",
       "      <td>35 - 44 years old</td>\n",
       "      <td>Moderately dissatisfied</td>\n",
       "      <td>70841.0</td>\n",
       "      <td>False</td>\n",
       "      <td>True</td>\n",
       "      <td>2018</td>\n",
       "    </tr>\n",
       "    <tr>\n",
       "      <th>2</th>\n",
       "      <td>NaN</td>\n",
       "      <td>Moderately satisfied</td>\n",
       "      <td>NaN</td>\n",
       "      <td>False</td>\n",
       "      <td>False</td>\n",
       "      <td>2018</td>\n",
       "    </tr>\n",
       "  </tbody>\n",
       "</table>\n",
       "</div>"
      ],
      "text/plain": [
       "                 age         job_satisfaction  annual_compensation  csharp  \\\n",
       "0  25 - 34 years old      Extremely satisfied                  NaN   False   \n",
       "1  35 - 44 years old  Moderately dissatisfied              70841.0   False   \n",
       "2                NaN     Moderately satisfied                  NaN   False   \n",
       "\n",
       "   python  year  \n",
       "0    True  2018  \n",
       "1    True  2018  \n",
       "2   False  2018  "
      ]
     },
     "execution_count": 369,
     "metadata": {},
     "output_type": "execute_result"
    }
   ],
   "source": [
    "subset2018.head(3)"
   ]
  },
  {
   "cell_type": "code",
   "execution_count": 370,
   "metadata": {},
   "outputs": [
    {
     "name": "stderr",
     "output_type": "stream",
     "text": [
      "C:\\ProgramData\\Anaconda3\\lib\\site-packages\\ipykernel_launcher.py:1: SettingWithCopyWarning: \n",
      "A value is trying to be set on a copy of a slice from a DataFrame.\n",
      "Try using .loc[row_indexer,col_indexer] = value instead\n",
      "\n",
      "See the caveats in the documentation: http://pandas.pydata.org/pandas-docs/stable/indexing.html#indexing-view-versus-copy\n",
      "  \"\"\"Entry point for launching an IPython kernel.\n"
     ]
    }
   ],
   "source": [
    "subset2018['python_and_csharp'] = subset2018['csharp'] & subset2018['python']"
   ]
  },
  {
   "cell_type": "code",
   "execution_count": 371,
   "metadata": {},
   "outputs": [],
   "source": [
    "subset2018 = cleanup_order(subset2018)"
   ]
  },
  {
   "cell_type": "code",
   "execution_count": 372,
   "metadata": {},
   "outputs": [
    {
     "name": "stdout",
     "output_type": "stream",
     "text": [
      "2011 \t2813 (year/observations)\n",
      "2012 \t6243 (year/observations)\n",
      "2013 \t9742 (year/observations)\n",
      "2014 \t7643 (year/observations)\n",
      "2015 \t26086 (year/observations)\n",
      "2016 \t56030 (year/observations)\n",
      "2017 \t51392 (year/observations)\n",
      "2018 \t98855 (year/observations)\n",
      "8 sets loaded, all columns equal: True\n"
     ]
    }
   ],
   "source": [
    "print_all()"
   ]
  },
  {
   "cell_type": "markdown",
   "metadata": {},
   "source": [
    "#### Create combined data frame"
   ]
  },
  {
   "cell_type": "code",
   "execution_count": 373,
   "metadata": {},
   "outputs": [],
   "source": [
    "subset_all = pd.concat([subset2011, subset2012, subset2013, subset2014, subset2015, subset2016, subset2017, subset2018])"
   ]
  },
  {
   "cell_type": "code",
   "execution_count": 374,
   "metadata": {},
   "outputs": [],
   "source": [
    "subset_all = subset_all.set_index('year')"
   ]
  },
  {
   "cell_type": "code",
   "execution_count": 375,
   "metadata": {},
   "outputs": [
    {
     "data": {
      "text/html": [
       "<div>\n",
       "<style scoped>\n",
       "    .dataframe tbody tr th:only-of-type {\n",
       "        vertical-align: middle;\n",
       "    }\n",
       "\n",
       "    .dataframe tbody tr th {\n",
       "        vertical-align: top;\n",
       "    }\n",
       "\n",
       "    .dataframe thead th {\n",
       "        text-align: right;\n",
       "    }\n",
       "</style>\n",
       "<table border=\"1\" class=\"dataframe\">\n",
       "  <thead>\n",
       "    <tr style=\"text-align: right;\">\n",
       "      <th></th>\n",
       "      <th>age</th>\n",
       "      <th>job_satisfaction</th>\n",
       "      <th>annual_compensation</th>\n",
       "      <th>csharp</th>\n",
       "      <th>python</th>\n",
       "      <th>python_and_csharp</th>\n",
       "    </tr>\n",
       "    <tr>\n",
       "      <th>year</th>\n",
       "      <th></th>\n",
       "      <th></th>\n",
       "      <th></th>\n",
       "      <th></th>\n",
       "      <th></th>\n",
       "      <th></th>\n",
       "    </tr>\n",
       "  </thead>\n",
       "  <tbody>\n",
       "    <tr>\n",
       "      <th>2011</th>\n",
       "      <td>&lt; 20</td>\n",
       "      <td>FML</td>\n",
       "      <td>Student / Unemployed</td>\n",
       "      <td>False</td>\n",
       "      <td>False</td>\n",
       "      <td>False</td>\n",
       "    </tr>\n",
       "    <tr>\n",
       "      <th>2011</th>\n",
       "      <td>25-29</td>\n",
       "      <td>So happy it hurts</td>\n",
       "      <td>NaN</td>\n",
       "      <td>False</td>\n",
       "      <td>False</td>\n",
       "      <td>False</td>\n",
       "    </tr>\n",
       "    <tr>\n",
       "      <th>2011</th>\n",
       "      <td>25-29</td>\n",
       "      <td>NaN</td>\n",
       "      <td>NaN</td>\n",
       "      <td>False</td>\n",
       "      <td>False</td>\n",
       "      <td>False</td>\n",
       "    </tr>\n",
       "    <tr>\n",
       "      <th>2011</th>\n",
       "      <td>&lt; 20</td>\n",
       "      <td>I enjoy going to work</td>\n",
       "      <td>Student / Unemployed</td>\n",
       "      <td>False</td>\n",
       "      <td>False</td>\n",
       "      <td>False</td>\n",
       "    </tr>\n",
       "    <tr>\n",
       "      <th>2011</th>\n",
       "      <td>35-39</td>\n",
       "      <td>It pays the bills</td>\n",
       "      <td>$80,000 - $100,000</td>\n",
       "      <td>False</td>\n",
       "      <td>False</td>\n",
       "      <td>False</td>\n",
       "    </tr>\n",
       "  </tbody>\n",
       "</table>\n",
       "</div>"
      ],
      "text/plain": [
       "        age       job_satisfaction   annual_compensation  csharp  python  \\\n",
       "year                                                                       \n",
       "2011   < 20                    FML  Student / Unemployed   False   False   \n",
       "2011  25-29      So happy it hurts                   NaN   False   False   \n",
       "2011  25-29                    NaN                   NaN   False   False   \n",
       "2011   < 20  I enjoy going to work  Student / Unemployed   False   False   \n",
       "2011  35-39      It pays the bills    $80,000 - $100,000   False   False   \n",
       "\n",
       "      python_and_csharp  \n",
       "year                     \n",
       "2011              False  \n",
       "2011              False  \n",
       "2011              False  \n",
       "2011              False  \n",
       "2011              False  "
      ]
     },
     "execution_count": 375,
     "metadata": {},
     "output_type": "execute_result"
    }
   ],
   "source": [
    "subset_all.head()"
   ]
  },
  {
   "cell_type": "code",
   "execution_count": 376,
   "metadata": {},
   "outputs": [],
   "source": [
    "subset_all.to_pickle('data/combined_years.pkl')"
   ]
  },
  {
   "cell_type": "code",
   "execution_count": null,
   "metadata": {},
   "outputs": [],
   "source": []
  }
 ],
 "metadata": {
  "kernelspec": {
   "display_name": "Python 3",
   "language": "python",
   "name": "python3"
  },
  "language_info": {
   "codemirror_mode": {
    "name": "ipython",
    "version": 3
   },
   "file_extension": ".py",
   "mimetype": "text/x-python",
   "name": "python",
   "nbconvert_exporter": "python",
   "pygments_lexer": "ipython3",
   "version": "3.7.0"
  }
 },
 "nbformat": 4,
 "nbformat_minor": 2
}
